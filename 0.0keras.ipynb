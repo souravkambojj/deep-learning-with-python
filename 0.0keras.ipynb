{
  "nbformat": 4,
  "nbformat_minor": 0,
  "metadata": {
    "colab": {
      "name": "0.0keras.ipynb",
      "provenance": [],
      "collapsed_sections": []
    },
    "kernelspec": {
      "name": "python3",
      "display_name": "Python 3"
    },
    "language_info": {
      "name": "python"
    }
  },
  "cells": [
    {
      "cell_type": "code",
      "metadata": {
        "colab": {
          "base_uri": "https://localhost:8080/",
          "height": 35
        },
        "id": "nLLTEFwmXITm",
        "outputId": "74b80201-f1b2-476c-a7c2-fe445e8c2777"
      },
      "source": [
        "import keras\n",
        "keras.__version__"
      ],
      "execution_count": 3,
      "outputs": [
        {
          "output_type": "execute_result",
          "data": {
            "application/vnd.google.colaboratory.intrinsic+json": {
              "type": "string"
            },
            "text/plain": [
              "'2.4.3'"
            ]
          },
          "metadata": {
            "tags": []
          },
          "execution_count": 3
        }
      ]
    },
    {
      "cell_type": "code",
      "metadata": {
        "id": "gui_707Fom6h"
      },
      "source": [
        "from keras import backend as k\n",
        "k.clear_session()"
      ],
      "execution_count": 11,
      "outputs": []
    },
    {
      "cell_type": "markdown",
      "metadata": {
        "id": "t0es_YG69dtn"
      },
      "source": [
        "# **Loading Datasets using keras**"
      ]
    },
    {
      "cell_type": "code",
      "metadata": {
        "id": "qKf27Q2_bCmW"
      },
      "source": [
        "from keras.datasets import mnist\n",
        "(x_train,y_train),(x_test,y_test) = mnist.load_data()"
      ],
      "execution_count": 6,
      "outputs": []
    },
    {
      "cell_type": "markdown",
      "metadata": {
        "id": "7vCDz06G9zmv"
      },
      "source": [
        "# **Tokenizer**"
      ]
    },
    {
      "cell_type": "code",
      "metadata": {
        "id": "DRJ6CHUSbFG0"
      },
      "source": [
        "from keras.preprocessing.text import Tokenizer     #if we hv very basic text then Keras might be the simplest choice.\n",
        "from nltk import sent_tokenize, wordpunct_tokenize  #if we hv too many punctuations in the text then nltk might be the better choice.\n",
        "\n",
        "#https://stackoverflow.com/questions/50240029/nltk-wordpunct-tokenize-vs-word-tokenize#:~:text=As%20we%20can%20see%2C%20wordpunct_tokenize,single%20quote%20from%20'Hey'%20."
      ],
      "execution_count": 24,
      "outputs": []
    },
    {
      "cell_type": "markdown",
      "metadata": {
        "id": "I4BhOrn8TzZ0"
      },
      "source": [
        "# **Padding sequences to the same length.**"
      ]
    },
    {
      "cell_type": "code",
      "metadata": {
        "id": "QwB_jxQorLS8"
      },
      "source": [
        "from keras.preprocessing.sequence import pad_sequences"
      ],
      "execution_count": 22,
      "outputs": []
    },
    {
      "cell_type": "markdown",
      "metadata": {
        "id": "wBlcfQSo_SWK"
      },
      "source": [
        "# **Feature Scaling**"
      ]
    },
    {
      "cell_type": "code",
      "metadata": {
        "id": "8pbDYj0jnGy0"
      },
      "source": [
        "from sklearn.preprocessing import MinMaxScaler, StandardScaler, RobustScaler"
      ],
      "execution_count": 10,
      "outputs": []
    },
    {
      "cell_type": "markdown",
      "metadata": {
        "id": "-27qMsZyRY60"
      },
      "source": [
        "# **Label Encoding**"
      ]
    },
    {
      "cell_type": "code",
      "metadata": {
        "id": "Kmfx5As8nIgU"
      },
      "source": [
        "from sklearn.preprocessing import LabelEncoder, OneHotEncoder, MultiLabelBinarizer"
      ],
      "execution_count": 12,
      "outputs": []
    },
    {
      "cell_type": "code",
      "metadata": {
        "id": "vZTUlcA3p9MK"
      },
      "source": [
        "from keras.utils import to_categorical"
      ],
      "execution_count": 17,
      "outputs": []
    },
    {
      "cell_type": "markdown",
      "metadata": {
        "id": "bDIc7ubnR20g"
      },
      "source": [
        "## **Data Splitting**"
      ]
    },
    {
      "cell_type": "code",
      "metadata": {
        "id": "8cnpi4okpbi2"
      },
      "source": [
        "from sklearn.model_selection import train_test_split"
      ],
      "execution_count": 13,
      "outputs": []
    },
    {
      "cell_type": "markdown",
      "metadata": {
        "id": "4QoDNfsaShNY"
      },
      "source": [
        "## **Loading Pre-trained Models**"
      ]
    },
    {
      "cell_type": "code",
      "metadata": {
        "id": "hSyllPVHqKhf"
      },
      "source": [
        "from keras.applications import VGG16,VGG19"
      ],
      "execution_count": 18,
      "outputs": []
    },
    {
      "cell_type": "markdown",
      "metadata": {
        "id": "5BWeuMnFTB1N"
      },
      "source": [
        "## **Keras Models**"
      ]
    },
    {
      "cell_type": "code",
      "metadata": {
        "id": "z9TlTqQeqW5v"
      },
      "source": [
        "from keras.models import Model, load_model, Sequential"
      ],
      "execution_count": 19,
      "outputs": []
    },
    {
      "cell_type": "markdown",
      "metadata": {
        "id": "8AsSw_O-TLZG"
      },
      "source": [
        "# **Keras Layers**"
      ]
    },
    {
      "cell_type": "code",
      "metadata": {
        "id": "DBhkUeyhqpM9"
      },
      "source": [
        "from keras.layers import Dense, Flatten, Dropout, Conv2D, MaxPool2D, Embedding"
      ],
      "execution_count": 20,
      "outputs": []
    },
    {
      "cell_type": "markdown",
      "metadata": {
        "id": "YsleiKR6TOWA"
      },
      "source": [
        "## **Image Pre-processing**"
      ]
    },
    {
      "cell_type": "code",
      "metadata": {
        "id": "i1t91TRiq_zC"
      },
      "source": [
        "from keras.preprocessing.image import ImageDataGenerator, load_img, img_to_array"
      ],
      "execution_count": 21,
      "outputs": []
    }
  ]
}
