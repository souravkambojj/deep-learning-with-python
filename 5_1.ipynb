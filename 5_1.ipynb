{
  "nbformat": 4,
  "nbformat_minor": 0,
  "metadata": {
    "colab": {
      "name": "5.1.ipynb",
      "provenance": [],
      "collapsed_sections": []
    },
    "kernelspec": {
      "name": "python3",
      "display_name": "Python 3"
    },
    "language_info": {
      "name": "python"
    }
  },
  "cells": [
    {
      "cell_type": "code",
      "metadata": {
        "id": "0KaT-b8xvK5H"
      },
      "source": [
        "import numpy as np\n",
        "from keras.datasets import mnist\n",
        "from keras.preprocessing.text import Tokenizer"
      ],
      "execution_count": 8,
      "outputs": []
    },
    {
      "cell_type": "code",
      "metadata": {
        "id": "ERgpVENJzXVj"
      },
      "source": [
        "(train_data,train_lab),(test_data,test_lab) = mnist.load_data()"
      ],
      "execution_count": 9,
      "outputs": []
    },
    {
      "cell_type": "markdown",
      "metadata": {
        "id": "UNco4v3TzpZt"
      },
      "source": [
        "# **One-hot-Encoding of Text-of-words**"
      ]
    },
    {
      "cell_type": "code",
      "metadata": {
        "id": "11iUQJM2zgZf"
      },
      "source": [
        "#here sequences are just a sentence, but it could be an entire document.\n",
        "sequences  = ['The cat sat on the mat.', 'The dog ate my homework', 'i love food', 'i hate instagram']\n",
        "\n",
        "# We create a tokenizer, configured to only take into account the top-1000 most common words\n",
        "tokenizer = Tokenizer(num_words=1000, oov_token='oov')\n",
        "tokenizer.fit_on_texts(sequences)"
      ],
      "execution_count": 10,
      "outputs": []
    },
    {
      "cell_type": "code",
      "metadata": {
        "colab": {
          "base_uri": "https://localhost:8080/"
        },
        "id": "00mrvtz2OIaw",
        "outputId": "c80de6db-60e0-47ff-fbd6-a640d3c172a5"
      },
      "source": [
        "word_index = tokenizer.word_index\n",
        "print(word_index)"
      ],
      "execution_count": 11,
      "outputs": [
        {
          "output_type": "stream",
          "text": [
            "{'oov': 1, 'the': 2, 'i': 3, 'cat': 4, 'sat': 5, 'on': 6, 'mat': 7, 'dog': 8, 'ate': 9, 'my': 10, 'homework': 11, 'love': 12, 'food': 13, 'hate': 14, 'instagram': 15}\n"
          ],
          "name": "stdout"
        }
      ]
    },
    {
      "cell_type": "code",
      "metadata": {
        "colab": {
          "base_uri": "https://localhost:8080/"
        },
        "id": "V2cgcT4uOZcX",
        "outputId": "9c8f2071-4f94-4a72-8fb2-d15b8af1d376"
      },
      "source": [
        "#turning strings into lists of integer indices.\n",
        "int_sequences = tokenizer.texts_to_sequences(['i am passionate abt my work','''don't mess with my dog'''])\n",
        "int_sequences"
      ],
      "execution_count": 12,
      "outputs": [
        {
          "output_type": "execute_result",
          "data": {
            "text/plain": [
              "[[3, 1, 1, 1, 10, 1], [1, 1, 1, 10, 8]]"
            ]
          },
          "metadata": {
            "tags": []
          },
          "execution_count": 12
        }
      ]
    },
    {
      "cell_type": "code",
      "metadata": {
        "colab": {
          "base_uri": "https://localhost:8080/"
        },
        "id": "GXSWq5MJpNR2",
        "outputId": "97fe5ac1-cc28-49e9-c7d7-8fcacec8c2cf"
      },
      "source": [
        "tokenizer.word_index.get('oov')"
      ],
      "execution_count": 13,
      "outputs": [
        {
          "output_type": "execute_result",
          "data": {
            "text/plain": [
              "1"
            ]
          },
          "metadata": {
            "tags": []
          },
          "execution_count": 13
        }
      ]
    },
    {
      "cell_type": "markdown",
      "metadata": {
        "id": "OT-HqcxIlz2q"
      },
      "source": [
        "**Converting lists of integer indices to one-hotted array**"
      ]
    },
    {
      "cell_type": "markdown",
      "metadata": {
        "id": "T6SraqsmmDzj"
      },
      "source": [
        "**mtd-1**"
      ]
    },
    {
      "cell_type": "code",
      "metadata": {
        "colab": {
          "base_uri": "https://localhost:8080/"
        },
        "id": "xYR8FOJOPLqM",
        "outputId": "bdef5a93-03c4-468d-ece1-3c33c659a8ce"
      },
      "source": [
        "#This turns strings into one-hot binary representations.\n",
        "encoded_array = tokenizer.texts_to_matrix(['i am passionate abt my work','i do not hate instagram','the cat sat on the mat'])\n",
        "print(encoded_array)\n",
        "\n",
        "#since, num_words = 1000. so each array will be 1000-dim.\n",
        "print('\\n size: ',encoded_array[0].shape[0])"
      ],
      "execution_count": 14,
      "outputs": [
        {
          "output_type": "stream",
          "text": [
            "[[0. 1. 0. ... 0. 0. 0.]\n",
            " [0. 1. 0. ... 0. 0. 0.]\n",
            " [0. 0. 1. ... 0. 0. 0.]]\n",
            "\n",
            " size:  1000\n"
          ],
          "name": "stdout"
        }
      ]
    },
    {
      "cell_type": "markdown",
      "metadata": {
        "id": "O7nsSVdZoH2z"
      },
      "source": [
        "**mtd-2**"
      ]
    },
    {
      "cell_type": "code",
      "metadata": {
        "colab": {
          "base_uri": "https://localhost:8080/"
        },
        "id": "DPJ2DnEcnY_8",
        "outputId": "2a95f84c-f089-4cd0-d677-0fc744c23b2b"
      },
      "source": [
        "data = np.zeros((len(int_sequences),1000))\n",
        "\n",
        "for i, sen in enumerate(int_sequences):\n",
        "  data[i,sen] = 1\n",
        "\n",
        "data"
      ],
      "execution_count": 15,
      "outputs": [
        {
          "output_type": "execute_result",
          "data": {
            "text/plain": [
              "array([[0., 1., 0., ..., 0., 0., 0.],\n",
              "       [0., 1., 0., ..., 0., 0., 0.]])"
            ]
          },
          "metadata": {
            "tags": []
          },
          "execution_count": 15
        }
      ]
    },
    {
      "cell_type": "markdown",
      "metadata": {
        "id": "f2JRb7XDpzya"
      },
      "source": [
        "# **Encoding Labels**"
      ]
    },
    {
      "cell_type": "markdown",
      "metadata": {
        "id": "u24vyoDssPQR"
      },
      "source": [
        "**Encoding integer labels**"
      ]
    },
    {
      "cell_type": "code",
      "metadata": {
        "id": "bHBvXZFOoj4o"
      },
      "source": [
        "from keras.utils import to_categorical"
      ],
      "execution_count": 16,
      "outputs": []
    },
    {
      "cell_type": "code",
      "metadata": {
        "colab": {
          "base_uri": "https://localhost:8080/"
        },
        "id": "y5_x0Xc7sZvb",
        "outputId": "3bd16f80-72f0-43da-a79e-44ba2afd7408"
      },
      "source": [
        "encoded_labels = to_categorical(test_lab[:100])\n",
        "print('Encoded Labels: ',encoded_labels[:3])\n",
        "print('\\n shape: ',encoded_labels[5].shape)"
      ],
      "execution_count": 17,
      "outputs": [
        {
          "output_type": "stream",
          "text": [
            "Encoded Labels:  [[0. 0. 0. 0. 0. 0. 0. 1. 0. 0.]\n",
            " [0. 0. 1. 0. 0. 0. 0. 0. 0. 0.]\n",
            " [0. 1. 0. 0. 0. 0. 0. 0. 0. 0.]]\n",
            "\n",
            " shape:  (10,)\n"
          ],
          "name": "stdout"
        }
      ]
    },
    {
      "cell_type": "markdown",
      "metadata": {
        "id": "6EwT9WHOtDBV"
      },
      "source": [
        "**Encoding categorical labels**"
      ]
    },
    {
      "cell_type": "code",
      "metadata": {
        "id": "jLb66QRws4HJ"
      },
      "source": [
        "from sklearn.preprocessing import LabelEncoder"
      ],
      "execution_count": 18,
      "outputs": []
    },
    {
      "cell_type": "code",
      "metadata": {
        "id": "LmSpS1DDULt4"
      },
      "source": [
        "test_lab2 = ['HR','HR','HR','HR','HR','HR','Design','Design','Design','Design','Design','Design','Design','Design','Design','Design','Design','Design','Design','Design',\n",
        "             'Design','Design','Design','Design','Design','HR','HR','HR','HR','HR','HR','HR','HR','HR','HR','HR','HR','Management','Management','Management',\n",
        "             'Management','Management','Management','Management','Management','Management','Management','Management','Management','Management','Management',\n",
        "             'Design','Design','Design','Design','Design','HR','HR','HR','HR','HR',]"
      ],
      "execution_count": 19,
      "outputs": []
    },
    {
      "cell_type": "code",
      "metadata": {
        "colab": {
          "base_uri": "https://localhost:8080/"
        },
        "id": "2h6y2wf8UwD4",
        "outputId": "cb927bef-5571-4ddc-fb71-1abe87ef1a62"
      },
      "source": [
        "le = LabelEncoder()\n",
        "int_labels = le.fit_transform(test_lab2)\n",
        "int_labels"
      ],
      "execution_count": 23,
      "outputs": [
        {
          "output_type": "execute_result",
          "data": {
            "text/plain": [
              "array([1, 1, 1, 1, 1, 1, 0, 0, 0, 0, 0, 0, 0, 0, 0, 0, 0, 0, 0, 0, 0, 0,\n",
              "       0, 0, 0, 1, 1, 1, 1, 1, 1, 1, 1, 1, 1, 1, 1, 2, 2, 2, 2, 2, 2, 2,\n",
              "       2, 2, 2, 2, 2, 2, 2, 0, 0, 0, 0, 0, 1, 1, 1, 1, 1])"
            ]
          },
          "metadata": {
            "tags": []
          },
          "execution_count": 23
        }
      ]
    },
    {
      "cell_type": "markdown",
      "metadata": {
        "id": "fCvWzmlZVPL_"
      },
      "source": [
        "**At this point we have two options**"
      ]
    },
    {
      "cell_type": "markdown",
      "metadata": {
        "id": "QWvns0N8VUJO"
      },
      "source": [
        "**mtd-1**"
      ]
    },
    {
      "cell_type": "code",
      "metadata": {
        "colab": {
          "base_uri": "https://localhost:8080/"
        },
        "id": "M9vLyJDnUztg",
        "outputId": "f46e647f-e480-45c4-e053-28ea4ee5f28f"
      },
      "source": [
        "from keras.utils import to_categorical\n",
        "ohe_cat_en_labels = to_categorical(int_labels)\n",
        "ohe_cat_en_labels[-15:]"
      ],
      "execution_count": 32,
      "outputs": [
        {
          "output_type": "execute_result",
          "data": {
            "text/plain": [
              "array([[0., 0., 1.],\n",
              "       [0., 0., 1.],\n",
              "       [0., 0., 1.],\n",
              "       [0., 0., 1.],\n",
              "       [0., 0., 1.],\n",
              "       [1., 0., 0.],\n",
              "       [1., 0., 0.],\n",
              "       [1., 0., 0.],\n",
              "       [1., 0., 0.],\n",
              "       [1., 0., 0.],\n",
              "       [0., 1., 0.],\n",
              "       [0., 1., 0.],\n",
              "       [0., 1., 0.],\n",
              "       [0., 1., 0.],\n",
              "       [0., 1., 0.]], dtype=float32)"
            ]
          },
          "metadata": {
            "tags": []
          },
          "execution_count": 32
        }
      ]
    },
    {
      "cell_type": "markdown",
      "metadata": {
        "id": "0rmB4zVDV9jR"
      },
      "source": [
        "**mtd-2**"
      ]
    },
    {
      "cell_type": "code",
      "metadata": {
        "id": "Qft6Yh22Vem8"
      },
      "source": [
        "from sklearn.preprocessing import OneHotEncoder"
      ],
      "execution_count": 29,
      "outputs": []
    },
    {
      "cell_type": "code",
      "metadata": {
        "colab": {
          "base_uri": "https://localhost:8080/"
        },
        "id": "267qXTEkWKGz",
        "outputId": "c6221c6d-f4bf-48e1-d3e5-6838771509fb"
      },
      "source": [
        "ohe = OneHotEncoder()                                     \n",
        "ohe_cat_en_labels2 = np.array(ohe.fit_transform(int_labels.reshape(-1,1)).todense())\n",
        "ohe_cat_en_labels2[-15:]"
      ],
      "execution_count": 38,
      "outputs": [
        {
          "output_type": "execute_result",
          "data": {
            "text/plain": [
              "array([[0., 0., 1.],\n",
              "       [0., 0., 1.],\n",
              "       [0., 0., 1.],\n",
              "       [0., 0., 1.],\n",
              "       [0., 0., 1.],\n",
              "       [1., 0., 0.],\n",
              "       [1., 0., 0.],\n",
              "       [1., 0., 0.],\n",
              "       [1., 0., 0.],\n",
              "       [1., 0., 0.],\n",
              "       [0., 1., 0.],\n",
              "       [0., 1., 0.],\n",
              "       [0., 1., 0.],\n",
              "       [0., 1., 0.],\n",
              "       [0., 1., 0.]])"
            ]
          },
          "metadata": {
            "tags": []
          },
          "execution_count": 38
        }
      ]
    },
    {
      "cell_type": "markdown",
      "metadata": {
        "id": "gGb_XGIdel8l"
      },
      "source": [
        "**Encoding Multi-labels**"
      ]
    },
    {
      "cell_type": "code",
      "metadata": {
        "id": "ER-1OnFrWL_1"
      },
      "source": [
        "m_lab = [['Engineering','HR'],\n",
        "         ['Apparel','Design'],\n",
        "         ['Apparel','Design'],\n",
        "         ['Apparel','Design'],\n",
        "         ['Apparel','Design'],\n",
        "         ['Design','IT','HR'],\n",
        "         ['Design','IT'],\n",
        "         ['Engineering','IT']]"
      ],
      "execution_count": 39,
      "outputs": []
    },
    {
      "cell_type": "code",
      "metadata": {
        "colab": {
          "base_uri": "https://localhost:8080/"
        },
        "id": "5-KyR0w4fGOP",
        "outputId": "e30d2123-bdc1-43cf-bab3-7852b00bb106"
      },
      "source": [
        "from sklearn.preprocessing import MultiLabelBinarizer\n",
        "mlb = MultiLabelBinarizer()\n",
        "\n",
        "en_multi_label = mlb.fit_transform(m_lab)\n",
        "en_multi_label,en_multi_label.shape"
      ],
      "execution_count": 40,
      "outputs": [
        {
          "output_type": "execute_result",
          "data": {
            "text/plain": [
              "(array([[0, 0, 1, 1, 0],\n",
              "        [1, 1, 0, 0, 0],\n",
              "        [1, 1, 0, 0, 0],\n",
              "        [1, 1, 0, 0, 0],\n",
              "        [1, 1, 0, 0, 0],\n",
              "        [0, 1, 0, 1, 1],\n",
              "        [0, 1, 0, 0, 1],\n",
              "        [0, 0, 1, 0, 1]]), (8, 5))"
            ]
          },
          "metadata": {
            "tags": []
          },
          "execution_count": 40
        }
      ]
    },
    {
      "cell_type": "code",
      "metadata": {
        "id": "NvnT3YLJff1M"
      },
      "source": [
        ""
      ],
      "execution_count": null,
      "outputs": []
    }
  ]
}