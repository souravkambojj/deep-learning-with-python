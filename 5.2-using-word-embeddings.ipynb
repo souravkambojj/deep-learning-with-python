{
  "nbformat": 4,
  "nbformat_minor": 0,
  "metadata": {
    "colab": {
      "name": "5.2.ipynb",
      "provenance": [],
      "collapsed_sections": []
    },
    "kernelspec": {
      "name": "python3",
      "display_name": "Python 3"
    },
    "language_info": {
      "name": "python"
    }
  },
  "cells": [
    {
      "cell_type": "code",
      "metadata": {
        "id": "W_q7tlszHSm6"
      },
      "source": [
        "import numpy as np\n",
        "import pandas as pd\n",
        "import matplotlib.pyplot as plt\n",
        "import seaborn as sns"
      ],
      "execution_count": 1,
      "outputs": []
    },
    {
      "cell_type": "code",
      "metadata": {
        "id": "Zh8zas45KCoY"
      },
      "source": [
        "#one-hot word vectors              word embeddings\n",
        "\n",
        "#Sparse                           #Dense\n",
        "#High-dimensional                 #Low-dimensional\n",
        "#Hard-coded                       #Learned from data"
      ],
      "execution_count": 2,
      "outputs": []
    },
    {
      "cell_type": "code",
      "metadata": {
        "id": "-rzhXdDwJgku"
      },
      "source": [
        "#There are two ways to obtain word embeddings:\n",
        "#1. Learn word embeddings jointly with the main task\n",
        "#2. Loading pre-trained-word-embeddings"
      ],
      "execution_count": 3,
      "outputs": []
    },
    {
      "cell_type": "markdown",
      "metadata": {
        "id": "FN39tAwHK32o"
      },
      "source": [
        "**1. Learning word embeddings with the Embedding layer**"
      ]
    },
    {
      "cell_type": "code",
      "metadata": {
        "id": "xV0Bq9dfQoR_"
      },
      "source": [
        "#We will restrict the movie reviews to the top 10,000 most common words, and cut the reviews after only 20 words. \n",
        "#Our network will simply learn 8-dimensional embeddings for each of the 10,000 words, turn the input integer sequences (2D integer tensor) \n",
        "#into embedded sequences (3D float tensor), flatten the tensor to 2D, and train a single Dense layer on top for classification."
      ],
      "execution_count": 2,
      "outputs": []
    },
    {
      "cell_type": "markdown",
      "metadata": {
        "id": "WPDe7WERFR2d"
      },
      "source": [
        "**Preparing Data**"
      ]
    },
    {
      "cell_type": "code",
      "metadata": {
        "colab": {
          "base_uri": "https://localhost:8080/"
        },
        "id": "AK-DYjWqK0FS",
        "outputId": "7f4edf0d-5498-486d-fda6-269e63cff87e"
      },
      "source": [
        "from keras.datasets import imdb\n",
        "from keras.preprocessing.sequence import  pad_sequences\n",
        "\n",
        "# Number of words to consider as features\n",
        "max_features = 10000\n",
        "(train_data,train_lab),(test_data,test_lab) = imdb.load_data(num_words = max_features)"
      ],
      "execution_count": 3,
      "outputs": [
        {
          "output_type": "stream",
          "text": [
            "<string>:6: VisibleDeprecationWarning: Creating an ndarray from ragged nested sequences (which is a list-or-tuple of lists-or-tuples-or ndarrays with different lengths or shapes) is deprecated. If you meant to do this, you must specify 'dtype=object' when creating the ndarray\n",
            "/usr/local/lib/python3.7/dist-packages/tensorflow/python/keras/datasets/imdb.py:159: VisibleDeprecationWarning: Creating an ndarray from ragged nested sequences (which is a list-or-tuple of lists-or-tuples-or ndarrays with different lengths or shapes) is deprecated. If you meant to do this, you must specify 'dtype=object' when creating the ndarray\n",
            "  x_train, y_train = np.array(xs[:idx]), np.array(labels[:idx])\n",
            "/usr/local/lib/python3.7/dist-packages/tensorflow/python/keras/datasets/imdb.py:160: VisibleDeprecationWarning: Creating an ndarray from ragged nested sequences (which is a list-or-tuple of lists-or-tuples-or ndarrays with different lengths or shapes) is deprecated. If you meant to do this, you must specify 'dtype=object' when creating the ndarray\n",
            "  x_test, y_test = np.array(xs[idx:]), np.array(labels[idx:])\n"
          ],
          "name": "stderr"
        }
      ]
    },
    {
      "cell_type": "code",
      "metadata": {
        "colab": {
          "base_uri": "https://localhost:8080/"
        },
        "id": "xtSrEJOOEF7Z",
        "outputId": "8c24738b-f9e7-4741-ac48-46c5135714b7"
      },
      "source": [
        "len(train_data[0]),len(train_data[1]),len(train_data[2]),len(train_data[3])"
      ],
      "execution_count": 4,
      "outputs": [
        {
          "output_type": "execute_result",
          "data": {
            "text/plain": [
              "(218, 189, 141, 550)"
            ]
          },
          "metadata": {
            "tags": []
          },
          "execution_count": 4
        }
      ]
    },
    {
      "cell_type": "code",
      "metadata": {
        "id": "Nk6o-js2ENil"
      },
      "source": [
        "# Cut texts after these many number of words \n",
        "maxlen = 20\n",
        "\n",
        "\n",
        "#All sequences in a batch must have the same length, though (since we need to pack them into a single tensor),\n",
        "#so sequences that are shorter than maxlen will be padded with zeros, and sequences that are longer than maxlen will be truncated.\n",
        "## This turns our lists of integers   into a 2D integer tensor of shape  (samples, maxlen)\n",
        "x_train = pad_sequences(train_data,  maxlen=maxlen,  padding='post')\n",
        "x_test = pad_sequences(test_data,  maxlen=maxlen,  padding='post')"
      ],
      "execution_count": 5,
      "outputs": []
    },
    {
      "cell_type": "markdown",
      "metadata": {
        "id": "JHznYiw7FZkU"
      },
      "source": [
        "**Network Building**"
      ]
    },
    {
      "cell_type": "code",
      "metadata": {
        "id": "XWN1s3P_E9xb"
      },
      "source": [
        "from keras.layers import Embedding\n",
        " # The Embedding layer takes at least two arguments:\n",
        "      # the number of possible tokens, here 10000 (1 + maximum word index),\n",
        "            # and the dimensionality of the embeddings, here 64.\n",
        "\n",
        " #here, input_length is optional which is input_seqeunce_length, here 20.\n",
        "embedding_layer = Embedding(input_dim = 10000, output_dim = 64, input_length=20)"
      ],
      "execution_count": 6,
      "outputs": []
    },
    {
      "cell_type": "code",
      "metadata": {
        "id": "oHpQxikfICWw"
      },
      "source": [
        "#The Embedding layer takes as input a 2D tensor of integers, of shape (samples, input_sequence_length)\n",
        "#And returns a 3D floating point tensor, of shape (samples, sequence_length, embedding_dimensionality). \n",
        "#Such a 3D tensor can then be processed by a RNN layer or a 1D convolution layer. "
      ],
      "execution_count": 7,
      "outputs": []
    },
    {
      "cell_type": "code",
      "metadata": {
        "colab": {
          "base_uri": "https://localhost:8080/"
        },
        "id": "dBmCLaX_FoXT",
        "outputId": "24780512-3f2e-4835-ecf0-d3cdd06c172e"
      },
      "source": [
        "from keras.models import Sequential\n",
        "from keras.layers import Dense, Flatten\n",
        "from keras import optimizers\n",
        "model = Sequential()\n",
        "model.add(Embedding(input_dim = max_features, output_dim = 8, input_length=maxlen)) # After the Embedding layer,our activations have shape (samples, maxlen, 8).\n",
        "model.add(Flatten()) # We flatten the 3D tensor of embeddings into a 2D tensor of shape (samples, maxlen * 8)\n",
        "model.add(Dense(1,activation='sigmoid'))\n",
        "\n",
        "model.compile(optimizer=optimizers.RMSprop(learning_rate=1e-4),loss='binary_crossentropy',metrics=['acc'])\n",
        "model.fit(x_train,train_lab,epochs=10,batch_size=32,validation_split=0.2)"
      ],
      "execution_count": 8,
      "outputs": [
        {
          "output_type": "stream",
          "text": [
            "Epoch 1/10\n",
            "625/625 [==============================] - 2s 2ms/step - loss: 0.6930 - acc: 0.5073 - val_loss: 0.6930 - val_acc: 0.5070\n",
            "Epoch 2/10\n",
            "625/625 [==============================] - 1s 2ms/step - loss: 0.6913 - acc: 0.5408 - val_loss: 0.6924 - val_acc: 0.5208\n",
            "Epoch 3/10\n",
            "625/625 [==============================] - 1s 2ms/step - loss: 0.6897 - acc: 0.5632 - val_loss: 0.6915 - val_acc: 0.5348\n",
            "Epoch 4/10\n",
            "625/625 [==============================] - 1s 2ms/step - loss: 0.6873 - acc: 0.5955 - val_loss: 0.6899 - val_acc: 0.5512\n",
            "Epoch 5/10\n",
            "625/625 [==============================] - 1s 2ms/step - loss: 0.6843 - acc: 0.6251 - val_loss: 0.6874 - val_acc: 0.5722\n",
            "Epoch 6/10\n",
            "625/625 [==============================] - 1s 2ms/step - loss: 0.6800 - acc: 0.6597 - val_loss: 0.6839 - val_acc: 0.5914\n",
            "Epoch 7/10\n",
            "625/625 [==============================] - 1s 2ms/step - loss: 0.6745 - acc: 0.6831 - val_loss: 0.6790 - val_acc: 0.6118\n",
            "Epoch 8/10\n",
            "625/625 [==============================] - 1s 2ms/step - loss: 0.6676 - acc: 0.7033 - val_loss: 0.6728 - val_acc: 0.6312\n",
            "Epoch 9/10\n",
            "625/625 [==============================] - 1s 2ms/step - loss: 0.6587 - acc: 0.7209 - val_loss: 0.6650 - val_acc: 0.6482\n",
            "Epoch 10/10\n",
            "625/625 [==============================] - 1s 2ms/step - loss: 0.6480 - acc: 0.7396 - val_loss: 0.6559 - val_acc: 0.6632\n"
          ],
          "name": "stdout"
        },
        {
          "output_type": "execute_result",
          "data": {
            "text/plain": [
              "<tensorflow.python.keras.callbacks.History at 0x7fc256d1b8d0>"
            ]
          },
          "metadata": {
            "tags": []
          },
          "execution_count": 8
        }
      ]
    },
    {
      "cell_type": "markdown",
      "metadata": {
        "id": "Hk2JJjaFWmV5"
      },
      "source": [
        "**2. Using pre-trained word embeddings**"
      ]
    },
    {
      "cell_type": "code",
      "metadata": {
        "id": "6wtiS0BcFrmt"
      },
      "source": [
        "#http://ai.stanford.edu/~amaas/data/sentiment/\n",
        "#wget http://ai.stanford.edu/~amaas/data/sentiment/aclImdb_v1.tar\n",
        "\n",
        "\n",
        "#https://nlp.stanford.edu/projects/glove/"
      ],
      "execution_count": 9,
      "outputs": []
    },
    {
      "cell_type": "code",
      "metadata": {
        "id": "SNC9WWRZIPfT"
      },
      "source": [
        "import os\n",
        "path = '/content/drive/MyDrive/jupyter_notebooks/deep_learning_fc/data/aclImdb'\n",
        "train_dir = os.path.join(path,'train')\n",
        "\n",
        "texts = []\n",
        "labels = []\n",
        "\n",
        "for label_type in ['pos','neg']:\n",
        "  dir_ = os.path.join(train_dir,label_type)\n",
        "  c=0\n",
        "  for fname in os.listdir(dir_):\n",
        "    print(c)\n",
        "    c+=1\n",
        "    if fname[-4:]=='.txt':\n",
        "      f = open(os.path.join(dir_,fname))\n",
        "      texts.append(f.read())\n",
        "      f.close()\n",
        "      if label_type=='pos':\n",
        "        labels.append(1)\n",
        "      else:\n",
        "        labels.append(0)"
      ],
      "execution_count": 47,
      "outputs": []
    },
    {
      "cell_type": "code",
      "metadata": {
        "id": "kO3vDLBors2W",
        "colab": {
          "base_uri": "https://localhost:8080/",
          "height": 137
        },
        "outputId": "9469ab9f-3522-4bc0-f916-76669cbfaf39"
      },
      "source": [
        "texts[0]"
      ],
      "execution_count": 11,
      "outputs": [
        {
          "output_type": "execute_result",
          "data": {
            "application/vnd.google.colaboratory.intrinsic+json": {
              "type": "string"
            },
            "text/plain": [
              "'\"Sasquatch Hunters\" actually wasn\\'t as bad as I thought.<br /><br />**SPOILERS**<br /><br />Traveling into the woods, Park Rangers Charles Landon, (Kevin O\\'Connor) Roger Gordon, (Matt Latimore) Brian Stratton (David Zelina) Spencer Combs, (Rick Holland) and his sister Janet, (Stacey Branscombe) escort Dr. Helen Gilbert, (Amy Shelton-White) her boss Dr. Ethan Edwards, (Gary Sturm) and assistant Louise Keaton, (Juliana Dever) to find the site of some reputed bones found in the area. When they make camp, the team discovers a giant burial ground and more strange bones littering the area. When members of the group start to disappear, they start to wander through the woods to safety. It\\'s discovered that a Sasquatch is behind the killings, and the team band together to survive.<br /><br />The Good News: This wasn\\'t as bad as I thought it would be. The movie really starts to pick up some steam at around the half-way point, when the creature attacks. That is a masterful series of scenes, as the whole group is subjected to attacks by the creature, and the suspense throughout the entire play-out is extremely high. The wooded area is most appropriately milked during these parts, heightening the tension and wondering when a single person wandering around in the forest will get their comeuppance. Also spread quite liberally through the movie is the effective use of off-screen growls and roars that are truly unworldly. They really do add much to make this part so creepy, as well as the other times the growling shriek is heard. It\\'s quite effective, and works well. It\\'s quite nice that the later part of the film picks up the pace, as it goes out pretty well on a high note of action. One scene especially I feel must point out as being a special scene on first viewing. As a man is running through the forest from the creature, he spots the expedition that has gone on looking for it. Raising his hands to holler to them for help, the second he goes to announce his presence is he attacked from out of nowhere and killed quite hastily. It caught me by surprise and actually gave me a little jump on first viewing.<br /><br />The Bad News: There was only a couple things to complain about here, and one is a usual complaint. The creature here is mostly rendered by horrible CGI, which made him look totally ridiculous and destroys any credibility it might\\'ve had. The air of menace conjured up by the opening of the film is almost shot out the window when the creature appears on screen. It\\'s so distracting that it\\'s a shame a little more work wasn\\'t put into it. I\\'ve complained about this one a lot, and is something that really should be done away with, as it doesn\\'t look that realistic and is quite fake. Another big one is the off-screen kills in here. Very often in the film is a person grabbed and then yanked away, and then finding the bloody body afterward. It\\'s quite aggravating when the kills look nice and juicy afterward. Otherwise, I don\\'t really have much of a problem with this one, as everything else that\\'s usually critiqued about this one didn\\'t really bother me, but it is called on for others beyond this stuff.<br /><br />The Final Verdict: I kinda liked this one, but it\\'s still not the best Sasquatch movie ever. It\\'s not supposed to be taken seriously, and if viewed that way, it\\'s actually quoit enjoyable. Fans of these films should give this one a look, and those that like the Sci-Fi Creature Features might find some nice things in here as well.<br /><br />Rated R: Graphic Language, Violence and some graphic carcasses'"
            ]
          },
          "metadata": {
            "tags": []
          },
          "execution_count": 11
        }
      ]
    },
    {
      "cell_type": "markdown",
      "metadata": {
        "id": "cVrHMXhw-zqu"
      },
      "source": [
        "# **Preparing Data**"
      ]
    },
    {
      "cell_type": "code",
      "metadata": {
        "id": "disEJnae-b1A"
      },
      "source": [
        "from keras.preprocessing.text import Tokenizer\n",
        "from keras.preprocessing.sequence import pad_sequences"
      ],
      "execution_count": 16,
      "outputs": []
    },
    {
      "cell_type": "code",
      "metadata": {
        "id": "zniAUpH7BN32"
      },
      "source": [
        "#Because pre-trained word embeddings are meant to be particularly useful on problems where little training data is \n",
        "#available (otherwise, task-specific embeddings are likely to outperform them), we will add the following twist: \n",
        "#we restrict the training data to its first 200 samples. So we will be learning to classify movie reviews after \n",
        "#looking at just 200 examples..."
      ],
      "execution_count": 17,
      "outputs": []
    },
    {
      "cell_type": "code",
      "metadata": {
        "id": "xUJuOGJ2_NL2",
        "colab": {
          "base_uri": "https://localhost:8080/"
        },
        "outputId": "b7f90ff4-572e-47b9-e23e-b19aed36c4f1"
      },
      "source": [
        "max_len = 100 #will cut reviews after 100 words\n",
        "max_words =10000 #will consider the top 10000 words in the dataset\n",
        "\n",
        "training_samples = 200\n",
        "validation_samples = 10000\n",
        "\n",
        "\n",
        "tk = Tokenizer(num_words = max_words,oov_token = 'oov')\n",
        "tk.fit_on_texts(texts)\n",
        "sequences = tk.texts_to_sequences(texts)\n",
        "\n",
        "vocab = tk.word_index\n",
        "print('Found %d unique words'%(len(vocab)))\n",
        "\n",
        "data = pad_sequences(sequences,maxlen=max_len,padding='post')\n",
        "labels = np.array(labels)\n",
        "\n",
        "print('shape of data tensor',data.shape)\n",
        "print('shape of label tensor',labels.shape)"
      ],
      "execution_count": 29,
      "outputs": [
        {
          "output_type": "stream",
          "text": [
            "Found 88583 unique words\n",
            "shape of data tensor (25000, 100)\n",
            "shape of label tensor (25000,)\n"
          ],
          "name": "stdout"
        }
      ]
    },
    {
      "cell_type": "code",
      "metadata": {
        "id": "7ymNGyRqDtul"
      },
      "source": [
        "indices = np.arange(data.shape[0])\n",
        "np.random.shuffle(indices)\n",
        "\n",
        "data = data[indices]\n",
        "labels = labels[indices]\n",
        "\n",
        "x_train = data[:training_samples]\n",
        "y_train = labels[:training_samples]\n",
        "\n",
        "x_val = data[training_samples:validation_samples+training_samples]\n",
        "y_val = labels[training_samples:validation_samples+training_samples]"
      ],
      "execution_count": 30,
      "outputs": []
    },
    {
      "cell_type": "markdown",
      "metadata": {
        "id": "xlF2A1S2FAKk"
      },
      "source": [
        "**pre-processing the embeddings**"
      ]
    },
    {
      "cell_type": "code",
      "metadata": {
        "id": "IaMPSeIIEsU8"
      },
      "source": [
        "def get_glove_model(glove_dir):\n",
        "  embeddings_index = {}\n",
        "  f = open(glove_dir)\n",
        "\n",
        "  for line in f:\n",
        "    values = line.split()\n",
        "    word = values[0]\n",
        "    coefs = np.asarray(values[1:],dtype='float32')\n",
        "    embeddings_index[word] = coefs\n",
        "  f.close()\n",
        "  print('Total %s word vectors: '%len(embeddings_index))\n",
        "  return embeddings_index"
      ],
      "execution_count": 31,
      "outputs": []
    },
    {
      "cell_type": "markdown",
      "metadata": {
        "id": "9rtmjS-3GBXc"
      },
      "source": [
        "**Building Embedding Matrix**"
      ]
    },
    {
      "cell_type": "code",
      "metadata": {
        "id": "JZ_3RpctGATE"
      },
      "source": [
        "def embedding_matrix(tk_vocab,glove_vocab,embed_size):\n",
        "  matrix = np.zeros((len(tk_vocab)+1,embed_size))   #tokenizer vocab starts from index 1\n",
        "                                                    #len(vocab)+1 --->>  index 0 will be stored for paddings\n",
        "  c = 0\n",
        "  for word,i in tk_vocab.items():\n",
        "    embedding_vector = glove_vocab.get(word)\n",
        "    if embedding_vector is not None:\n",
        "      matrix[i] = embedding_vector\n",
        "      c+=1\n",
        "  print('Found {} embeddings '.format(c))\n",
        "  print('Missed {} embeddings '.format(len(tk_vocab) - c))\n",
        "\n",
        "  return matrix\n"
      ],
      "execution_count": 32,
      "outputs": []
    },
    {
      "cell_type": "code",
      "metadata": {
        "id": "GSNsGG4ZI6P6",
        "colab": {
          "base_uri": "https://localhost:8080/"
        },
        "outputId": "2577fe0c-2f1c-42a0-8819-e8a99b23556f"
      },
      "source": [
        "glove_vocab = get_glove_model('/content/drive/MyDrive/jupyter_notebooks/deep_learning_fc/data/glove.6B.100d.txt')"
      ],
      "execution_count": 33,
      "outputs": [
        {
          "output_type": "stream",
          "text": [
            "Total 400000 word vectors: \n"
          ],
          "name": "stdout"
        }
      ]
    },
    {
      "cell_type": "code",
      "metadata": {
        "id": "ZwRBbAhGJSTf",
        "colab": {
          "base_uri": "https://localhost:8080/"
        },
        "outputId": "b5f9853f-30e8-4e67-d5f3-be69e1cc9808"
      },
      "source": [
        "embedding_matrix =  embedding_matrix(tk.word_index,glove_vocab,100)"
      ],
      "execution_count": 34,
      "outputs": [
        {
          "output_type": "stream",
          "text": [
            "Found 60159 embeddings \n",
            "Missed 28424 embeddings \n"
          ],
          "name": "stdout"
        }
      ]
    },
    {
      "cell_type": "markdown",
      "metadata": {
        "id": "o2bNQ3RoJsN_"
      },
      "source": [
        "# **Network Building**"
      ]
    },
    {
      "cell_type": "code",
      "metadata": {
        "id": "UfvYI8JDJgSB",
        "colab": {
          "base_uri": "https://localhost:8080/"
        },
        "outputId": "86fa0780-c70f-42a0-cf4c-365f1086528e"
      },
      "source": [
        "from keras.models import Sequential\n",
        "from keras.layers import Dense, Flatten,Embedding\n",
        "\n",
        "model = Sequential()\n",
        "\n",
        "model.add(Embedding(input_dim =len(tk.word_index)+1,  \n",
        "                    output_dim = 100,\n",
        "                    input_length = max_len,\n",
        "                    weights = [embedding_matrix],\n",
        "                    trainable = False))\n",
        "model.add(Flatten())\n",
        "model.add(Dense(32,activation='relu'))\n",
        "model.add(Dense(1,activation='sigmoid'))\n",
        "\n",
        "model.compile(optimizer='rmsprop',loss='binary_crossentropy',metrics=['acc'])\n",
        "model.fit(x_train,y_train,epochs=10,batch_size=32,validation_data=(x_val,y_val))"
      ],
      "execution_count": 35,
      "outputs": [
        {
          "output_type": "stream",
          "text": [
            "Epoch 1/10\n",
            "7/7 [==============================] - 1s 119ms/step - loss: 2.8146 - acc: 0.5038 - val_loss: 1.6027 - val_acc: 0.4995\n",
            "Epoch 2/10\n",
            "7/7 [==============================] - 1s 104ms/step - loss: 0.7371 - acc: 0.6180 - val_loss: 0.8426 - val_acc: 0.5068\n",
            "Epoch 3/10\n",
            "7/7 [==============================] - 1s 99ms/step - loss: 0.2947 - acc: 0.8670 - val_loss: 0.7867 - val_acc: 0.5218\n",
            "Epoch 4/10\n",
            "7/7 [==============================] - 1s 105ms/step - loss: 0.1801 - acc: 0.9615 - val_loss: 1.1349 - val_acc: 0.5027\n",
            "Epoch 5/10\n",
            "7/7 [==============================] - 1s 98ms/step - loss: 0.4252 - acc: 0.7409 - val_loss: 1.2669 - val_acc: 0.5009\n",
            "Epoch 6/10\n",
            "7/7 [==============================] - 1s 99ms/step - loss: 0.0958 - acc: 0.9973 - val_loss: 0.7733 - val_acc: 0.5384\n",
            "Epoch 7/10\n",
            "7/7 [==============================] - 1s 103ms/step - loss: 0.0392 - acc: 1.0000 - val_loss: 1.0541 - val_acc: 0.5165\n",
            "Epoch 8/10\n",
            "7/7 [==============================] - 1s 98ms/step - loss: 0.0276 - acc: 1.0000 - val_loss: 2.1501 - val_acc: 0.4999\n",
            "Epoch 9/10\n",
            "7/7 [==============================] - 1s 100ms/step - loss: 0.4368 - acc: 0.7603 - val_loss: 0.8158 - val_acc: 0.5414\n",
            "Epoch 10/10\n",
            "7/7 [==============================] - 1s 99ms/step - loss: 0.0168 - acc: 1.0000 - val_loss: 0.9235 - val_acc: 0.5391\n"
          ],
          "name": "stdout"
        },
        {
          "output_type": "execute_result",
          "data": {
            "text/plain": [
              "<tensorflow.python.keras.callbacks.History at 0x7fc25198cfd0>"
            ]
          },
          "metadata": {
            "tags": []
          },
          "execution_count": 35
        }
      ]
    },
    {
      "cell_type": "markdown",
      "metadata": {
        "id": "JYKu6OWWO7pU"
      },
      "source": [
        "# **Model Evaluation**"
      ]
    },
    {
      "cell_type": "code",
      "metadata": {
        "id": "ddr-X4tEOtCm",
        "colab": {
          "base_uri": "https://localhost:8080/"
        },
        "outputId": "24e4322b-2102-457f-e245-20c6c2a831fd"
      },
      "source": [
        "dict_ = model.history.history\n",
        "dict_.keys()"
      ],
      "execution_count": 36,
      "outputs": [
        {
          "output_type": "execute_result",
          "data": {
            "text/plain": [
              "dict_keys(['loss', 'acc', 'val_loss', 'val_acc'])"
            ]
          },
          "metadata": {
            "tags": []
          },
          "execution_count": 36
        }
      ]
    },
    {
      "cell_type": "code",
      "metadata": {
        "id": "50RM6L6aPAJO"
      },
      "source": [
        "train_acc = dict_['acc']\n",
        "train_loss = dict_['loss']\n",
        "val_acc = dict_['val_acc']\n",
        "val_loss = dict_['val_loss']\n",
        "epochs = range(1,len(train_acc)+1)"
      ],
      "execution_count": 37,
      "outputs": []
    },
    {
      "cell_type": "markdown",
      "metadata": {
        "id": "FrvTIIMBPCb5"
      },
      "source": [
        "**Training v/s Validation**"
      ]
    },
    {
      "cell_type": "code",
      "metadata": {
        "id": "cwFFVV2yPBip",
        "colab": {
          "base_uri": "https://localhost:8080/",
          "height": 312
        },
        "outputId": "cfd039b1-15f2-4528-a1a6-a05b68f7197e"
      },
      "source": [
        "import matplotlib.pyplot as plt\n",
        "\n",
        "plt.plot(epochs,train_acc,ls=':',label='Training_acc')\n",
        "plt.plot(epochs,val_acc,ls='-.',color='green',label='Validation_acc')\n",
        "plt.xlabel('Epochs')\n",
        "plt.ylabel('Accuracy')\n",
        "plt.title('training v/s validation acc')\n",
        "plt.legend()"
      ],
      "execution_count": 38,
      "outputs": [
        {
          "output_type": "execute_result",
          "data": {
            "text/plain": [
              "<matplotlib.legend.Legend at 0x7fc2558c3b50>"
            ]
          },
          "metadata": {
            "tags": []
          },
          "execution_count": 38
        },
        {
          "output_type": "display_data",
          "data": {
            "image/png": "[encoded data removed]",
            "text/plain": [
              "<Figure size 432x288 with 1 Axes>"
            ]
          },
          "metadata": {
            "tags": [],
            "needs_background": "light"
          }
        }
      ]
    },
    {
      "cell_type": "code",
      "metadata": {
        "id": "KEbZLhJyPKXN",
        "colab": {
          "base_uri": "https://localhost:8080/",
          "height": 312
        },
        "outputId": "08702beb-9002-4c90-9ce3-2048f41bae3c"
      },
      "source": [
        "plt.plot(epochs,train_loss,ls=':',label='Training_loss')\n",
        "plt.plot(epochs,val_loss,ls='-.',color='green',label='Validation_loss')\n",
        "plt.xlabel('Epochs')\n",
        "plt.ylabel('Accuracy')\n",
        "plt.title('training v/s validation loss')\n",
        "plt.legend()"
      ],
      "execution_count": 39,
      "outputs": [
        {
          "output_type": "execute_result",
          "data": {
            "text/plain": [
              "<matplotlib.legend.Legend at 0x7fc246256ad0>"
            ]
          },
          "metadata": {
            "tags": []
          },
          "execution_count": 39
        },
        {
          "output_type": "display_data",
          "data": {
            "image/png": "[encoded data removed]",
            "text/plain": [
              "<Figure size 432x288 with 1 Axes>"
            ]
          },
          "metadata": {
            "tags": [],
            "needs_background": "light"
          }
        }
      ]
    },
    {
      "cell_type": "markdown",
      "metadata": {
        "id": "iZPDPZzTPRBf"
      },
      "source": [
        "**results on test data**"
      ]
    },
    {
      "cell_type": "code",
      "metadata": {
        "id": "2_6rIyw6IFZb"
      },
      "source": [
        "test_dir = os.path.join(path,'test')\n",
        "\n",
        "texts = []\n",
        "labels = []\n",
        "for label_type in ['pos','neg']:\n",
        "  c=0\n",
        "  dir_= os.path.join(test_dir,label_type)\n",
        "  for fname in os.listdir(dir_):\n",
        "    print(c)\n",
        "    c+=1\n",
        "    if fname[-4:]=='.txt':\n",
        "      f = open(os.path.join(dir_,fname))\n",
        "      texts.append(f.read())\n",
        "      f.close()\n",
        "\n",
        "      if label_type=='pos':\n",
        "        labels.append(1)\n",
        "      else:\n",
        "        labels.append(0)\n",
        "\n"
      ],
      "execution_count": 46,
      "outputs": []
    },
    {
      "cell_type": "code",
      "metadata": {
        "id": "59b2_0yoRVrr",
        "colab": {
          "base_uri": "https://localhost:8080/"
        },
        "outputId": "f6728378-8571-47c9-a3f2-3b197a3ffe40"
      },
      "source": [
        "sequences = tk.texts_to_sequences(texts)\n",
        "x_test = pad_sequences(sequences,maxlen=100,padding='post')\n",
        "y_test = np.asarray(labels)\n",
        "model.evaluate(x_test,y_test)"
      ],
      "execution_count": 45,
      "outputs": [
        {
          "output_type": "stream",
          "text": [
            "782/782 [==============================] - 2s 2ms/step - loss: 0.9145 - acc: 0.5412\n"
          ],
          "name": "stdout"
        },
        {
          "output_type": "execute_result",
          "data": {
            "text/plain": [
              "[0.9145122766494751, 0.5412399768829346]"
            ]
          },
          "metadata": {
            "tags": []
          },
          "execution_count": 45
        }
      ]
    }
  ]
}
