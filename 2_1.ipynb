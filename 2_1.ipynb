{
  "nbformat": 4,
  "nbformat_minor": 0,
  "metadata": {
    "colab": {
      "name": "2.1.ipynb",
      "provenance": [],
      "collapsed_sections": []
    },
    "kernelspec": {
      "name": "python3",
      "display_name": "Python 3"
    },
    "language_info": {
      "name": "python"
    }
  },
  "cells": [
    {
      "cell_type": "markdown",
      "metadata": {
        "id": "L74SSFpl3_2T"
      },
      "source": [
        "# **Classify Movie reviews: Binary Classification problem**"
      ]
    },
    {
      "cell_type": "markdown",
      "metadata": {
        "id": "nizy-jFh32AA"
      },
      "source": [
        "# **The IMDB dataset**"
      ]
    },
    {
      "cell_type": "code",
      "metadata": {
        "colab": {
          "base_uri": "https://localhost:8080/"
        },
        "id": "hnxs0bWe2f4n",
        "outputId": "c8d033b8-b04b-4314-950a-35d0939e49da"
      },
      "source": [
        "from keras.datasets import imdb\n",
        "(train_data, train_lab),(test_data,test_lab) = imdb.load_data(num_words=10000)"
      ],
      "execution_count": 22,
      "outputs": [
        {
          "output_type": "stream",
          "text": [
            "<string>:6: VisibleDeprecationWarning: Creating an ndarray from ragged nested sequences (which is a list-or-tuple of lists-or-tuples-or ndarrays with different lengths or shapes) is deprecated. If you meant to do this, you must specify 'dtype=object' when creating the ndarray\n",
            "/usr/local/lib/python3.7/dist-packages/tensorflow/python/keras/datasets/imdb.py:159: VisibleDeprecationWarning: Creating an ndarray from ragged nested sequences (which is a list-or-tuple of lists-or-tuples-or ndarrays with different lengths or shapes) is deprecated. If you meant to do this, you must specify 'dtype=object' when creating the ndarray\n",
            "  x_train, y_train = np.array(xs[:idx]), np.array(labels[:idx])\n",
            "/usr/local/lib/python3.7/dist-packages/tensorflow/python/keras/datasets/imdb.py:160: VisibleDeprecationWarning: Creating an ndarray from ragged nested sequences (which is a list-or-tuple of lists-or-tuples-or ndarrays with different lengths or shapes) is deprecated. If you meant to do this, you must specify 'dtype=object' when creating the ndarray\n",
            "  x_test, y_test = np.array(xs[idx:]), np.array(labels[idx:])\n"
          ],
          "name": "stderr"
        }
      ]
    },
    {
      "cell_type": "code",
      "metadata": {
        "colab": {
          "base_uri": "https://localhost:8080/"
        },
        "id": "VedGLoJ73TvI",
        "outputId": "00090555-0ad9-40c4-947c-c7c3a5b733c8"
      },
      "source": [
        "train_data.shape,train_lab.shape,test_data.shape,test_lab.shape"
      ],
      "execution_count": 23,
      "outputs": [
        {
          "output_type": "execute_result",
          "data": {
            "text/plain": [
              "((25000,), (25000,), (25000,), (25000,))"
            ]
          },
          "metadata": {
            "tags": []
          },
          "execution_count": 23
        }
      ]
    },
    {
      "cell_type": "code",
      "metadata": {
        "id": "NrFrBJBbM98m"
      },
      "source": [
        "word_index = imdb.get_word_index()\n",
        "index_word = {v:k for k,v in word_index.items()}"
      ],
      "execution_count": 24,
      "outputs": []
    },
    {
      "cell_type": "code",
      "metadata": {
        "colab": {
          "base_uri": "https://localhost:8080/"
        },
        "id": "zjdNiQhIvMYs",
        "outputId": "01e7380e-17df-487a-d90c-265a32d57d64"
      },
      "source": [
        "train_lab[0],train_lab[1]"
      ],
      "execution_count": 27,
      "outputs": [
        {
          "output_type": "execute_result",
          "data": {
            "text/plain": [
              "(1, 0)"
            ]
          },
          "metadata": {
            "tags": []
          },
          "execution_count": 27
        }
      ]
    },
    {
      "cell_type": "code",
      "metadata": {
        "id": "OYt1yGUEooSV",
        "colab": {
          "base_uri": "https://localhost:8080/"
        },
        "outputId": "a8d6ed6a-0bbc-403e-ad1a-510bbcea29f4"
      },
      "source": [
        "#print(train_data[0])   #when all words are considered"
      ],
      "execution_count": 21,
      "outputs": [
        {
          "output_type": "stream",
          "text": [
            "[1, 14, 22, 16, 43, 530, 973, 1622, 1385, 65, 458, 4468, 66, 3941, 4, 173, 36, 256, 5, 25, 100, 43, 838, 112, 50, 670, 22665, 9, 35, 480, 284, 5, 150, 4, 172, 112, 167, 21631, 336, 385, 39, 4, 172, 4536, 1111, 17, 546, 38, 13, 447, 4, 192, 50, 16, 6, 147, 2025, 19, 14, 22, 4, 1920, 4613, 469, 4, 22, 71, 87, 12, 16, 43, 530, 38, 76, 15, 13, 1247, 4, 22, 17, 515, 17, 12, 16, 626, 18, 19193, 5, 62, 386, 12, 8, 316, 8, 106, 5, 4, 2223, 5244, 16, 480, 66, 3785, 33, 4, 130, 12, 16, 38, 619, 5, 25, 124, 51, 36, 135, 48, 25, 1415, 33, 6, 22, 12, 215, 28, 77, 52, 5, 14, 407, 16, 82, 10311, 8, 4, 107, 117, 5952, 15, 256, 4, 31050, 7, 3766, 5, 723, 36, 71, 43, 530, 476, 26, 400, 317, 46, 7, 4, 12118, 1029, 13, 104, 88, 4, 381, 15, 297, 98, 32, 2071, 56, 26, 141, 6, 194, 7486, 18, 4, 226, 22, 21, 134, 476, 26, 480, 5, 144, 30, 5535, 18, 51, 36, 28, 224, 92, 25, 104, 4, 226, 65, 16, 38, 1334, 88, 12, 16, 283, 5, 16, 4472, 113, 103, 32, 15, 16, 5345, 19, 178, 32]\n"
          ],
          "name": "stdout"
        }
      ]
    },
    {
      "cell_type": "code",
      "metadata": {
        "colab": {
          "base_uri": "https://localhost:8080/"
        },
        "id": "h_2udgGouZ0-",
        "outputId": "5c5b9088-e9d9-4e16-e383-44d56acd98b1"
      },
      "source": [
        "print(train_data[0])   #when top 10000 most-frequent words are considered"
      ],
      "execution_count": 25,
      "outputs": [
        {
          "output_type": "stream",
          "text": [
            "[1, 14, 22, 16, 43, 530, 973, 1622, 1385, 65, 458, 4468, 66, 3941, 4, 173, 36, 256, 5, 25, 100, 43, 838, 112, 50, 670, 2, 9, 35, 480, 284, 5, 150, 4, 172, 112, 167, 2, 336, 385, 39, 4, 172, 4536, 1111, 17, 546, 38, 13, 447, 4, 192, 50, 16, 6, 147, 2025, 19, 14, 22, 4, 1920, 4613, 469, 4, 22, 71, 87, 12, 16, 43, 530, 38, 76, 15, 13, 1247, 4, 22, 17, 515, 17, 12, 16, 626, 18, 2, 5, 62, 386, 12, 8, 316, 8, 106, 5, 4, 2223, 5244, 16, 480, 66, 3785, 33, 4, 130, 12, 16, 38, 619, 5, 25, 124, 51, 36, 135, 48, 25, 1415, 33, 6, 22, 12, 215, 28, 77, 52, 5, 14, 407, 16, 82, 2, 8, 4, 107, 117, 5952, 15, 256, 4, 2, 7, 3766, 5, 723, 36, 71, 43, 530, 476, 26, 400, 317, 46, 7, 4, 2, 1029, 13, 104, 88, 4, 381, 15, 297, 98, 32, 2071, 56, 26, 141, 6, 194, 7486, 18, 4, 226, 22, 21, 134, 476, 26, 480, 5, 144, 30, 5535, 18, 51, 36, 28, 224, 92, 25, 104, 4, 226, 65, 16, 38, 1334, 88, 12, 16, 283, 5, 16, 4472, 113, 103, 32, 15, 16, 5345, 19, 178, 32]\n"
          ],
          "name": "stdout"
        }
      ]
    },
    {
      "cell_type": "code",
      "metadata": {
        "id": "aBMPQOYJvKar"
      },
      "source": [
        "#As we can see values 22665, 21631 in 1st case are converted to 2 when only 10,000 words are considered\n",
        "#0,1,2 are reserved for indices for \"padding\", \"start of sequence\" and \"unknown\".\n",
        "#This means dataset is loaded with a condition\n",
        "#that any index > num_words is set to 2."
      ],
      "execution_count": 28,
      "outputs": []
    },
    {
      "cell_type": "code",
      "metadata": {
        "id": "V8hYg2w_wPWS"
      },
      "source": [
        "#Here, 10000 words are most freq, this is because their indexing has been done in an order that\n",
        "#more the frequent the word is, smaller will be its index\n",
        "\n",
        "#eg. {word:freq:index}  {'a':1000:3, 'b':990:4, 'c':600:5,..........,'x':12:9999,'y':10:10000}"
      ],
      "execution_count": 29,
      "outputs": []
    },
    {
      "cell_type": "code",
      "metadata": {
        "colab": {
          "base_uri": "https://localhost:8080/",
          "height": 154
        },
        "id": "vcymsHKHxcIp",
        "outputId": "690c8701-c112-4806-e7f6-902975b3e360"
      },
      "source": [
        "' '.join([index_word.get(i-3,'?') for i in train_data[0]])"
      ],
      "execution_count": 30,
      "outputs": [
        {
          "output_type": "execute_result",
          "data": {
            "application/vnd.google.colaboratory.intrinsic+json": {
              "type": "string"
            },
            "text/plain": [
              "\"? this film was just brilliant casting location scenery story direction everyone's really suited the part they played and you could just imagine being there robert ? is an amazing actor and now the same being director ? father came from the same scottish island as myself so i loved the fact there was a real connection with this film the witty remarks throughout the film were great it was just brilliant so much that i bought the film as soon as it was released for ? and would recommend it to everyone to watch and the fly fishing was amazing really cried at the end it was so sad and you know what they say if you cry at a film it must have been good and this definitely was also ? to the two little boy's that played the ? of norman and paul they were just brilliant children are often left out of the ? list i think because the stars that play them all grown up are such a big profile for the whole film but these children are amazing and should be praised for what they have done don't you think the whole story was so lovely because it was true and was someone's life after all that was shared with us all\""
            ]
          },
          "metadata": {
            "tags": []
          },
          "execution_count": 30
        }
      ]
    },
    {
      "cell_type": "markdown",
      "metadata": {
        "id": "W9we9RXAx4t6"
      },
      "source": [
        "## **Preparing Data**"
      ]
    },
    {
      "cell_type": "code",
      "metadata": {
        "id": "sgcywPxvxv21"
      },
      "source": [
        "import numpy as np"
      ],
      "execution_count": 31,
      "outputs": []
    },
    {
      "cell_type": "code",
      "metadata": {
        "id": "BAc91eE1yjYx"
      },
      "source": [
        "def encode_data(data,dim=10000): #since, max_index = 9999\n",
        "  results = np.zeros((data.shape[0],dim))\n",
        "  for i,x in enumerate(data):\n",
        "    results[i,x] = 1\n",
        "  return results"
      ],
      "execution_count": 35,
      "outputs": []
    },
    {
      "cell_type": "code",
      "metadata": {
        "id": "i2yEggyS71_4"
      },
      "source": [
        "x_train = encode_data(train_data)\n",
        "x_test = encode_data(test_data)"
      ],
      "execution_count": 37,
      "outputs": []
    },
    {
      "cell_type": "markdown",
      "metadata": {
        "id": "VQg-4sr88bji"
      },
      "source": [
        "## **Network Building**"
      ]
    },
    {
      "cell_type": "code",
      "metadata": {
        "id": "wAbmP0Mt8AV4"
      },
      "source": [
        "from keras.models import Sequential\n",
        "from keras.layers import Dense"
      ],
      "execution_count": 39,
      "outputs": []
    },
    {
      "cell_type": "code",
      "metadata": {
        "id": "-clYwuxc8jXD"
      },
      "source": [
        "model = Sequential()\n",
        "model.add(Dense(64,activation='relu',input_shape=(10000,))) #since, size of each vector is 10000\n",
        "model.add(Dense(16,activation='relu'))\n",
        "model.add(Dense(1,activation='sigmoid'))"
      ],
      "execution_count": 41,
      "outputs": []
    },
    {
      "cell_type": "code",
      "metadata": {
        "id": "i-RH-Phn8pLm"
      },
      "source": [
        "model.compile(optimizer='rmsprop',loss='binary_crossentropy',metrics=['accuracy'])"
      ],
      "execution_count": 45,
      "outputs": []
    },
    {
      "cell_type": "code",
      "metadata": {
        "colab": {
          "base_uri": "https://localhost:8080/"
        },
        "id": "LCsiF5v2AJ3z",
        "outputId": "1897a804-ee27-42e9-c11f-24d99ab9a80f"
      },
      "source": [
        "model.fit(x_train,train_lab,epochs=20, batch_size=100, validation_split=0.3, verbose=1)"
      ],
      "execution_count": 46,
      "outputs": [
        {
          "output_type": "stream",
          "text": [
            "Epoch 1/20\n",
            "175/175 [==============================] - 4s 18ms/step - loss: 0.4488 - accuracy: 0.7902 - val_loss: 0.2680 - val_accuracy: 0.8925\n",
            "Epoch 2/20\n",
            "175/175 [==============================] - 3s 16ms/step - loss: 0.1791 - accuracy: 0.9354 - val_loss: 0.2767 - val_accuracy: 0.8887\n",
            "Epoch 3/20\n",
            "175/175 [==============================] - 3s 16ms/step - loss: 0.1315 - accuracy: 0.9531 - val_loss: 0.3320 - val_accuracy: 0.8791\n",
            "Epoch 4/20\n",
            "175/175 [==============================] - 3s 16ms/step - loss: 0.0897 - accuracy: 0.9691 - val_loss: 0.3704 - val_accuracy: 0.8816\n",
            "Epoch 5/20\n",
            "175/175 [==============================] - 3s 16ms/step - loss: 0.0594 - accuracy: 0.9793 - val_loss: 0.4569 - val_accuracy: 0.8820\n",
            "Epoch 6/20\n",
            "175/175 [==============================] - 3s 16ms/step - loss: 0.0306 - accuracy: 0.9912 - val_loss: 0.5752 - val_accuracy: 0.8765\n",
            "Epoch 7/20\n",
            "175/175 [==============================] - 3s 16ms/step - loss: 0.0172 - accuracy: 0.9954 - val_loss: 0.6649 - val_accuracy: 0.8752\n",
            "Epoch 8/20\n",
            "175/175 [==============================] - 3s 16ms/step - loss: 0.0079 - accuracy: 0.9983 - val_loss: 0.8328 - val_accuracy: 0.8731\n",
            "Epoch 9/20\n",
            "175/175 [==============================] - 3s 16ms/step - loss: 0.0053 - accuracy: 0.9984 - val_loss: 0.9742 - val_accuracy: 0.8715\n",
            "Epoch 10/20\n",
            "175/175 [==============================] - 3s 16ms/step - loss: 0.0024 - accuracy: 0.9996 - val_loss: 1.1515 - val_accuracy: 0.8707\n",
            "Epoch 11/20\n",
            "175/175 [==============================] - 3s 16ms/step - loss: 0.0010 - accuracy: 0.9998 - val_loss: 1.2365 - val_accuracy: 0.8701\n",
            "Epoch 12/20\n",
            "175/175 [==============================] - 3s 16ms/step - loss: 3.1160e-04 - accuracy: 1.0000 - val_loss: 1.4423 - val_accuracy: 0.8675\n",
            "Epoch 13/20\n",
            "175/175 [==============================] - 3s 16ms/step - loss: 9.2431e-04 - accuracy: 0.9998 - val_loss: 1.6062 - val_accuracy: 0.8597\n",
            "Epoch 14/20\n",
            "175/175 [==============================] - 3s 16ms/step - loss: 7.4274e-05 - accuracy: 1.0000 - val_loss: 1.6352 - val_accuracy: 0.8679\n",
            "Epoch 15/20\n",
            "175/175 [==============================] - 3s 16ms/step - loss: 1.8887e-05 - accuracy: 1.0000 - val_loss: 1.8055 - val_accuracy: 0.8647\n",
            "Epoch 16/20\n",
            "175/175 [==============================] - 3s 16ms/step - loss: 1.4018e-04 - accuracy: 1.0000 - val_loss: 1.8207 - val_accuracy: 0.8681\n",
            "Epoch 17/20\n",
            "175/175 [==============================] - 3s 16ms/step - loss: 3.2930e-06 - accuracy: 1.0000 - val_loss: 1.8994 - val_accuracy: 0.8669\n",
            "Epoch 18/20\n",
            "175/175 [==============================] - 3s 16ms/step - loss: 2.2436e-06 - accuracy: 1.0000 - val_loss: 2.1412 - val_accuracy: 0.8685\n",
            "Epoch 19/20\n",
            "175/175 [==============================] - 3s 16ms/step - loss: 2.5448e-07 - accuracy: 1.0000 - val_loss: 2.2983 - val_accuracy: 0.8677\n",
            "Epoch 20/20\n",
            "175/175 [==============================] - 3s 16ms/step - loss: 5.7653e-08 - accuracy: 1.0000 - val_loss: 2.4266 - val_accuracy: 0.8680\n"
          ],
          "name": "stdout"
        },
        {
          "output_type": "execute_result",
          "data": {
            "text/plain": [
              "<tensorflow.python.keras.callbacks.History at 0x7f47e8c69310>"
            ]
          },
          "metadata": {
            "tags": []
          },
          "execution_count": 46
        }
      ]
    },
    {
      "cell_type": "code",
      "metadata": {
        "id": "zHbTTtxsAmW4"
      },
      "source": [
        "model.save('/content/drive/MyDrive/jupyter_notebooks/deep_learning_fc/models/model2.h5')"
      ],
      "execution_count": 47,
      "outputs": []
    },
    {
      "cell_type": "markdown",
      "metadata": {
        "id": "mxupp4WtBMaI"
      },
      "source": [
        "## **Model Evaluation**"
      ]
    },
    {
      "cell_type": "code",
      "metadata": {
        "colab": {
          "base_uri": "https://localhost:8080/"
        },
        "id": "8O2sPYabBJNU",
        "outputId": "de250dad-5886-423e-add3-6bd030ef6032"
      },
      "source": [
        "dict_ = model.history.history\n",
        "dict_.keys()"
      ],
      "execution_count": 51,
      "outputs": [
        {
          "output_type": "execute_result",
          "data": {
            "text/plain": [
              "dict_keys(['loss', 'accuracy', 'val_loss', 'val_accuracy'])"
            ]
          },
          "metadata": {
            "tags": []
          },
          "execution_count": 51
        }
      ]
    },
    {
      "cell_type": "markdown",
      "metadata": {
        "id": "R3knfP0nBi4N"
      },
      "source": [
        " **Training v/s Validation**"
      ]
    },
    {
      "cell_type": "code",
      "metadata": {
        "id": "2xzfNX1sBUQX"
      },
      "source": [
        "import matplotlib.pyplot as plt\n",
        "\n",
        "train_acc = dict_['accuracy']\n",
        "train_loss = dict_['loss']\n",
        "val_acc = dict_['val_accuracy']\n",
        "val_loss = dict_['val_loss']\n",
        "epochs = range(1,len(train_acc)+1)"
      ],
      "execution_count": 54,
      "outputs": []
    },
    {
      "cell_type": "code",
      "metadata": {
        "colab": {
          "base_uri": "https://localhost:8080/",
          "height": 312
        },
        "id": "bhn2gEaDB7HO",
        "outputId": "785c1bdb-15d5-48b5-9891-72256a065a39"
      },
      "source": [
        "plt.plot(epochs,train_acc,ls=':',label='Training_acc')\n",
        "plt.plot(epochs,val_acc,ls='-.',color='green',label='Validation_acc')\n",
        "plt.xlabel('Epochs')\n",
        "plt.ylabel('Accuracy')\n",
        "plt.title('training v/s validation acc')\n",
        "plt.legend()"
      ],
      "execution_count": 57,
      "outputs": [
        {
          "output_type": "execute_result",
          "data": {
            "text/plain": [
              "<matplotlib.legend.Legend at 0x7f47d02ec150>"
            ]
          },
          "metadata": {
            "tags": []
          },
          "execution_count": 57
        },
        {
          "output_type": "display_data",
          "data": {
            "image/png": "[encoded data removed]",
            "text/plain": [
              "<Figure size 432x288 with 1 Axes>"
            ]
          },
          "metadata": {
            "tags": [],
            "needs_background": "light"
          }
        }
      ]
    },
    {
      "cell_type": "code",
      "metadata": {
        "colab": {
          "base_uri": "https://localhost:8080/",
          "height": 312
        },
        "id": "iRnseLRnItwF",
        "outputId": "66844f59-95f4-45e7-b983-f9962c5698c6"
      },
      "source": [
        "plt.plot(epochs,train_loss,ls=':',label='Training_loss')\n",
        "plt.plot(epochs,val_loss,ls='-.',color='green',label='Validation_loss')\n",
        "plt.xlabel('Epochs')\n",
        "plt.ylabel('Accuracy')\n",
        "plt.title('training v/s validation loss')\n",
        "plt.legend()"
      ],
      "execution_count": 58,
      "outputs": [
        {
          "output_type": "execute_result",
          "data": {
            "text/plain": [
              "<matplotlib.legend.Legend at 0x7f47d8d23990>"
            ]
          },
          "metadata": {
            "tags": []
          },
          "execution_count": 58
        },
        {
          "output_type": "display_data",
          "data": {
            "image/png": "[encoded data removed]",
            "text/plain": [
              "<Figure size 432x288 with 1 Axes>"
            ]
          },
          "metadata": {
            "tags": [],
            "needs_background": "light"
          }
        }
      ]
    },
    {
      "cell_type": "markdown",
      "metadata": {
        "id": "Nd_KCqJGJCWw"
      },
      "source": [
        "**Results on test data**"
      ]
    },
    {
      "cell_type": "markdown",
      "metadata": {
        "id": "6E6MiwZDJJ0R"
      },
      "source": [
        "**Overall loss nd accuracy**"
      ]
    },
    {
      "cell_type": "code",
      "metadata": {
        "colab": {
          "base_uri": "https://localhost:8080/"
        },
        "id": "8nas2yx0I2eF",
        "outputId": "c5d24c0e-240c-42cb-b459-e08fae9d9630"
      },
      "source": [
        "loss,acc = model.evaluate(x_test,test_lab)"
      ],
      "execution_count": 59,
      "outputs": [
        {
          "output_type": "stream",
          "text": [
            "782/782 [==============================] - 2s 3ms/step - loss: 2.6479 - accuracy: 0.8518\n"
          ],
          "name": "stdout"
        }
      ]
    },
    {
      "cell_type": "code",
      "metadata": {
        "colab": {
          "base_uri": "https://localhost:8080/"
        },
        "id": "M0h-15ETJaX6",
        "outputId": "b7a19a99-2942-47a2-da6a-608daef70aa6"
      },
      "source": [
        "print('Loss: ',loss)\n",
        "print('Acc: ',acc)"
      ],
      "execution_count": 60,
      "outputs": [
        {
          "output_type": "stream",
          "text": [
            "Loss:  2.6479454040527344\n",
            "Acc:  0.8518400192260742\n"
          ],
          "name": "stdout"
        }
      ]
    },
    {
      "cell_type": "markdown",
      "metadata": {
        "id": "Y6NlaxGsJeu2"
      },
      "source": [
        "**precision, recall and f1-score on a per-class basis**"
      ]
    },
    {
      "cell_type": "code",
      "metadata": {
        "id": "acVbSfwqJdC7"
      },
      "source": [
        "from sklearn.metrics import classification_report,accuracy_score"
      ],
      "execution_count": 61,
      "outputs": []
    },
    {
      "cell_type": "code",
      "metadata": {
        "id": "xPZBmLcjJvPZ"
      },
      "source": [
        "preds = model.predict(x_test)"
      ],
      "execution_count": 76,
      "outputs": []
    },
    {
      "cell_type": "code",
      "metadata": {
        "colab": {
          "base_uri": "https://localhost:8080/"
        },
        "id": "HJxF0LgZLIZW",
        "outputId": "e241013a-0c26-4874-fc05-999aaaaf96a6"
      },
      "source": [
        "preds[0],preds[1],preds[2],preds[3]"
      ],
      "execution_count": 77,
      "outputs": [
        {
          "output_type": "execute_result",
          "data": {
            "text/plain": [
              "(array([0.00118604], dtype=float32),\n",
              " array([1.], dtype=float32),\n",
              " array([0.1254977], dtype=float32),\n",
              " array([0.9999919], dtype=float32))"
            ]
          },
          "metadata": {
            "tags": []
          },
          "execution_count": 77
        }
      ]
    },
    {
      "cell_type": "code",
      "metadata": {
        "colab": {
          "base_uri": "https://localhost:8080/"
        },
        "id": "7RdgtXxRLSH2",
        "outputId": "c5eebf7c-bd03-4367-93ce-56f91149383b"
      },
      "source": [
        "test_lab[:4]"
      ],
      "execution_count": 78,
      "outputs": [
        {
          "output_type": "execute_result",
          "data": {
            "text/plain": [
              "array([0, 1, 1, 0])"
            ]
          },
          "metadata": {
            "tags": []
          },
          "execution_count": 78
        }
      ]
    },
    {
      "cell_type": "code",
      "metadata": {
        "id": "yIt1UkD1LcFO"
      },
      "source": [
        "pred_lab = np.round(preds)"
      ],
      "execution_count": 79,
      "outputs": []
    },
    {
      "cell_type": "code",
      "metadata": {
        "colab": {
          "base_uri": "https://localhost:8080/"
        },
        "id": "JYDJ1EtTJ5JA",
        "outputId": "5accf5bf-5fb8-4f43-c95f-143e402c69ef"
      },
      "source": [
        "print(classification_report(pred_lab, test_lab))"
      ],
      "execution_count": 80,
      "outputs": [
        {
          "output_type": "stream",
          "text": [
            "              precision    recall  f1-score   support\n",
            "\n",
            "         0.0       0.86      0.85      0.85     12698\n",
            "         1.0       0.84      0.86      0.85     12302\n",
            "\n",
            "    accuracy                           0.85     25000\n",
            "   macro avg       0.85      0.85      0.85     25000\n",
            "weighted avg       0.85      0.85      0.85     25000\n",
            "\n"
          ],
          "name": "stdout"
        }
      ]
    },
    {
      "cell_type": "code",
      "metadata": {
        "colab": {
          "base_uri": "https://localhost:8080/"
        },
        "id": "RnEpNwOKK2P4",
        "outputId": "1a8cfb8b-c34c-4ee7-dcaa-5f2a163f429b"
      },
      "source": [
        "accuracy_score(pred_lab,test_lab) #same as we got usinh model.evaluate"
      ],
      "execution_count": 81,
      "outputs": [
        {
          "output_type": "execute_result",
          "data": {
            "text/plain": [
              "0.85184"
            ]
          },
          "metadata": {
            "tags": []
          },
          "execution_count": 81
        }
      ]
    },
    {
      "cell_type": "code",
      "metadata": {
        "id": "9KMK115aM4tL"
      },
      "source": [
        ""
      ],
      "execution_count": null,
      "outputs": []
    }
  ]
}