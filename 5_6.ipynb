{
  "nbformat": 4,
  "nbformat_minor": 0,
  "metadata": {
    "colab": {
      "name": "5.6.ipynb",
      "provenance": [],
      "collapsed_sections": []
    },
    "kernelspec": {
      "name": "python3",
      "display_name": "Python 3"
    },
    "language_info": {
      "name": "python"
    }
  },
  "cells": [
    {
      "cell_type": "markdown",
      "metadata": {
        "id": "c0JMi06R9EYQ"
      },
      "source": [
        "## **Implementing a 1D Convet**"
      ]
    },
    {
      "cell_type": "code",
      "metadata": {
        "id": "zVVTA_Af9OpY"
      },
      "source": [
        "from keras.models import Model\n",
        "from keras.layers import Conv1D, MaxPool1D, GlobalMaxPooling1D, Input, Embedding, Dense\n",
        "from keras.optimizers import RMSprop\n",
        "import matplotlib.pyplot as plt"
      ],
      "execution_count": 1,
      "outputs": []
    },
    {
      "cell_type": "markdown",
      "metadata": {
        "id": "cNDHkCZP8QUF"
      },
      "source": [
        "# **Preparing Data**"
      ]
    },
    {
      "cell_type": "code",
      "metadata": {
        "colab": {
          "base_uri": "https://localhost:8080/"
        },
        "id": "33aIuKBZ3P7k",
        "outputId": "3ab5e59a-f392-4d03-fee4-dd98d297eef3"
      },
      "source": [
        "from keras.datasets import imdb\n",
        "max_features = 10000 # no of words to be considered as features\n",
        "max_len= 500 # cut the texts after these many no of words\n",
        "(train_data,train_lab),(test_data,test_lab) = imdb.load_data(num_words=max_features)"
      ],
      "execution_count": 2,
      "outputs": [
        {
          "output_type": "stream",
          "text": [
            "<string>:6: VisibleDeprecationWarning: Creating an ndarray from ragged nested sequences (which is a list-or-tuple of lists-or-tuples-or ndarrays with different lengths or shapes) is deprecated. If you meant to do this, you must specify 'dtype=object' when creating the ndarray\n",
            "/usr/local/lib/python3.7/dist-packages/tensorflow/python/keras/datasets/imdb.py:159: VisibleDeprecationWarning: Creating an ndarray from ragged nested sequences (which is a list-or-tuple of lists-or-tuples-or ndarrays with different lengths or shapes) is deprecated. If you meant to do this, you must specify 'dtype=object' when creating the ndarray\n",
            "  x_train, y_train = np.array(xs[:idx]), np.array(labels[:idx])\n",
            "/usr/local/lib/python3.7/dist-packages/tensorflow/python/keras/datasets/imdb.py:160: VisibleDeprecationWarning: Creating an ndarray from ragged nested sequences (which is a list-or-tuple of lists-or-tuples-or ndarrays with different lengths or shapes) is deprecated. If you meant to do this, you must specify 'dtype=object' when creating the ndarray\n",
            "  x_test, y_test = np.array(xs[idx:]), np.array(labels[idx:])\n"
          ],
          "name": "stderr"
        }
      ]
    },
    {
      "cell_type": "code",
      "metadata": {
        "id": "cQ1kIzV88S0-"
      },
      "source": [
        "from keras.preprocessing.sequence import pad_sequences\n",
        "\n",
        "x_train = pad_sequences(train_data, maxlen=max_len, padding='post')\n",
        "x_test = pad_sequences(test_data, maxlen=max_len, padding='post')"
      ],
      "execution_count": 3,
      "outputs": []
    },
    {
      "cell_type": "code",
      "metadata": {
        "id": "g7QmhcZk9JfU"
      },
      "source": [
        "vocab = imdb.get_word_index()"
      ],
      "execution_count": 4,
      "outputs": []
    },
    {
      "cell_type": "markdown",
      "metadata": {
        "id": "0fele6XF-wkd"
      },
      "source": [
        "**pre-processing the embeddings**"
      ]
    },
    {
      "cell_type": "code",
      "metadata": {
        "id": "cSxDH_BZ-pyZ"
      },
      "source": [
        "import numpy as np\n",
        "\n",
        "def get_glove_model(glove_dir):\n",
        "  embeddings_index = {}\n",
        "  f = open(glove_dir)\n",
        "\n",
        "  for line in f:\n",
        "    values = line.split()\n",
        "    word = values[0]\n",
        "    coefs = np.asarray(values[1:],dtype='float32')\n",
        "    embeddings_index[word] = coefs\n",
        "  f.close()\n",
        "  print('Total %s word vectors: '%len(embeddings_index))\n",
        "  return embeddings_index"
      ],
      "execution_count": 5,
      "outputs": []
    },
    {
      "cell_type": "markdown",
      "metadata": {
        "id": "4swLAC-i--f8"
      },
      "source": [
        "**Building Embedding Matrix**"
      ]
    },
    {
      "cell_type": "code",
      "metadata": {
        "id": "zJph397M-5xJ"
      },
      "source": [
        "def embedding_matrix(tk_vocab,glove_vocab,embed_size):\n",
        "  matrix = np.zeros((len(tk_vocab)+1,embed_size))   #tokenizer vocab starts from index 1\n",
        "                                                    #len(vocab)+1 --->>  index 0 will be stored for paddings\n",
        "  c = 0\n",
        "  for word,i in tk_vocab.items():\n",
        "    embedding_vector = glove_vocab.get(word)\n",
        "    if embedding_vector is not None:\n",
        "      matrix[i] = embedding_vector\n",
        "      c+=1\n",
        "  print('Found {} embeddings '.format(c))\n",
        "  print('Missed {} embeddings '.format(len(tk_vocab) - c))\n",
        "\n",
        "  return matrix"
      ],
      "execution_count": 6,
      "outputs": []
    },
    {
      "cell_type": "code",
      "metadata": {
        "colab": {
          "base_uri": "https://localhost:8080/"
        },
        "id": "Fu28ePlsAksQ",
        "outputId": "f628a33f-9a49-4f5d-879f-50a188bcbd53"
      },
      "source": [
        "glove_vocab = get_glove_model('/content/drive/MyDrive/jupyter_notebooks/deep_learning_fc/data/glove.6B.100d.txt')"
      ],
      "execution_count": 7,
      "outputs": [
        {
          "output_type": "stream",
          "text": [
            "Total 400000 word vectors: \n"
          ],
          "name": "stdout"
        }
      ]
    },
    {
      "cell_type": "code",
      "metadata": {
        "colab": {
          "base_uri": "https://localhost:8080/"
        },
        "id": "0AM8nhZwAnUZ",
        "outputId": "9017ccce-1f10-4cb2-9361-91cd8261d7d4"
      },
      "source": [
        "embedding_matrix =  embedding_matrix(vocab,glove_vocab,100)"
      ],
      "execution_count": 8,
      "outputs": [
        {
          "output_type": "stream",
          "text": [
            "Found 60150 embeddings \n",
            "Missed 28434 embeddings \n"
          ],
          "name": "stdout"
        }
      ]
    },
    {
      "cell_type": "markdown",
      "metadata": {
        "id": "BfHHGxUOA9ea"
      },
      "source": [
        "# **Network Building**"
      ]
    },
    {
      "cell_type": "code",
      "metadata": {
        "colab": {
          "base_uri": "https://localhost:8080/"
        },
        "id": "ZBq6lPycA1af",
        "outputId": "1980aaa5-037e-4b4e-d674-871ef7953cff"
      },
      "source": [
        "input = Input(shape=(max_len,))\n",
        "embedding = Embedding(input_dim=len(vocab)+1, output_dim= 100, input_length=max_len, weights=[embedding_matrix],trainable=False)(input)\n",
        "\n",
        "output = Conv1D(32,7,activation='relu')(embedding)\n",
        "output = MaxPool1D(5)(output)\n",
        "output = Conv1D(32,7,activation='relu')(output)\n",
        "output = GlobalMaxPooling1D()(output)\n",
        "output = Dense(1,activation='sigmoid')(output)\n",
        "\n",
        "model = Model(inputs=input, outputs=output)\n",
        "model.compile(optimizer=RMSprop(learning_rate=1e-4),loss='binary_crossentropy',metrics=['acc'])\n",
        "model.fit(x_train, train_lab, epochs=10, batch_size=128, validation_split=0.2)"
      ],
      "execution_count": 9,
      "outputs": [
        {
          "output_type": "stream",
          "text": [
            "Epoch 1/10\n",
            "157/157 [==============================] - 53s 333ms/step - loss: 0.7024 - acc: 0.5126 - val_loss: 0.7034 - val_acc: 0.5054\n",
            "Epoch 2/10\n",
            "157/157 [==============================] - 51s 325ms/step - loss: 0.6862 - acc: 0.5497 - val_loss: 0.6859 - val_acc: 0.5502\n",
            "Epoch 3/10\n",
            "157/157 [==============================] - 50s 321ms/step - loss: 0.6741 - acc: 0.5867 - val_loss: 0.6969 - val_acc: 0.5214\n",
            "Epoch 4/10\n",
            "157/157 [==============================] - 54s 346ms/step - loss: 0.6661 - acc: 0.5980 - val_loss: 0.6926 - val_acc: 0.5324\n",
            "Epoch 5/10\n",
            "157/157 [==============================] - 52s 334ms/step - loss: 0.6585 - acc: 0.6186 - val_loss: 0.6741 - val_acc: 0.5742\n",
            "Epoch 6/10\n",
            "157/157 [==============================] - 66s 420ms/step - loss: 0.6503 - acc: 0.6347 - val_loss: 0.6872 - val_acc: 0.5454\n",
            "Epoch 7/10\n",
            "157/157 [==============================] - 61s 386ms/step - loss: 0.6419 - acc: 0.6465 - val_loss: 0.6661 - val_acc: 0.5920\n",
            "Epoch 8/10\n",
            "157/157 [==============================] - 56s 354ms/step - loss: 0.6331 - acc: 0.6610 - val_loss: 0.6669 - val_acc: 0.5920\n",
            "Epoch 9/10\n",
            "157/157 [==============================] - 52s 331ms/step - loss: 0.6278 - acc: 0.6654 - val_loss: 0.6593 - val_acc: 0.6036\n",
            "Epoch 10/10\n",
            "157/157 [==============================] - 52s 329ms/step - loss: 0.6190 - acc: 0.6750 - val_loss: 0.6576 - val_acc: 0.6078\n"
          ],
          "name": "stdout"
        },
        {
          "output_type": "execute_result",
          "data": {
            "text/plain": [
              "<tensorflow.python.keras.callbacks.History at 0x7f6fea6d2c10>"
            ]
          },
          "metadata": {
            "tags": []
          },
          "execution_count": 9
        }
      ]
    },
    {
      "cell_type": "markdown",
      "metadata": {
        "id": "vCQ3JV0KKDxX"
      },
      "source": [
        "**Training v/s Validation Results**"
      ]
    },
    {
      "cell_type": "code",
      "metadata": {
        "colab": {
          "base_uri": "https://localhost:8080/"
        },
        "id": "-FDFpmgfJwl4",
        "outputId": "f1fefb8f-7460-4bd0-eaa6-334bf5b97852"
      },
      "source": [
        "dict_ = model.history.history\n",
        "dict_.keys()"
      ],
      "execution_count": 10,
      "outputs": [
        {
          "output_type": "execute_result",
          "data": {
            "text/plain": [
              "dict_keys(['loss', 'acc', 'val_loss', 'val_acc'])"
            ]
          },
          "metadata": {
            "tags": []
          },
          "execution_count": 10
        }
      ]
    },
    {
      "cell_type": "code",
      "metadata": {
        "id": "kwa0ahOxKLLq"
      },
      "source": [
        "train_acc = dict_['acc']\n",
        "train_loss = dict_['loss']\n",
        "val_acc = dict_['val_acc']\n",
        "val_loss = dict_['val_loss']\n",
        "epochs = range(1,len(train_acc)+1)"
      ],
      "execution_count": 11,
      "outputs": []
    },
    {
      "cell_type": "code",
      "metadata": {
        "colab": {
          "base_uri": "https://localhost:8080/",
          "height": 312
        },
        "id": "CfYB9x5GKNFa",
        "outputId": "6828389e-6ee9-47c4-aa69-94ac68f5c949"
      },
      "source": [
        "plt.plot(epochs,train_acc,ls=':',label='Training_acc')\n",
        "plt.plot(epochs,val_acc,ls='-.',color='green',label='Validation_acc')\n",
        "plt.xlabel('Epochs')\n",
        "plt.ylabel('Accuracy')\n",
        "plt.title('training v/s validation acc')\n",
        "plt.legend()"
      ],
      "execution_count": 12,
      "outputs": [
        {
          "output_type": "execute_result",
          "data": {
            "text/plain": [
              "<matplotlib.legend.Legend at 0x7f6fdd715510>"
            ]
          },
          "metadata": {
            "tags": []
          },
          "execution_count": 12
        },
        {
          "output_type": "display_data",
          "data": {
            "image/png": "[encoded data removed]",
            "text/plain": [
              "<Figure size 432x288 with 1 Axes>"
            ]
          },
          "metadata": {
            "tags": [],
            "needs_background": "light"
          }
        }
      ]
    },
    {
      "cell_type": "code",
      "metadata": {
        "colab": {
          "base_uri": "https://localhost:8080/",
          "height": 312
        },
        "id": "ivNWJnRxKRVz",
        "outputId": "704b2dff-ed90-4680-91b4-f575458ee7e3"
      },
      "source": [
        "plt.plot(epochs,train_loss,ls=':',label='Training_loss')\n",
        "plt.plot(epochs,val_loss,ls='-.',color='green',label='Validation_loss')\n",
        "plt.xlabel('Epochs')\n",
        "plt.ylabel('Loss')\n",
        "plt.title('training v/s validation loss')\n",
        "plt.legend()"
      ],
      "execution_count": 13,
      "outputs": [
        {
          "output_type": "execute_result",
          "data": {
            "text/plain": [
              "<matplotlib.legend.Legend at 0x7f6fde735150>"
            ]
          },
          "metadata": {
            "tags": []
          },
          "execution_count": 13
        },
        {
          "output_type": "display_data",
          "data": {
            "image/png": "[encoded data removed]",
            "text/plain": [
              "<Figure size 432x288 with 1 Axes>"
            ]
          },
          "metadata": {
            "tags": [],
            "needs_background": "light"
          }
        }
      ]
    },
    {
      "cell_type": "code",
      "metadata": {
        "id": "w9WYtAu2KZ9P"
      },
      "source": [
        "# validation accuracy is somewhat lower than that of the LSTM we used two sections ago, but runtime is faster, both on CPU and GPU\n",
        "# This is a convincing demonstration that a 1D convnet can offer a fast, cheap alternative to a recurrent network on a word-level sentiment classification task."
      ],
      "execution_count": 14,
      "outputs": []
    },
    {
      "cell_type": "markdown",
      "metadata": {
        "id": "5-ugDUSBNbnW"
      },
      "source": [
        "# **Implementing a 1D Convet on Time Series Data**"
      ]
    },
    {
      "cell_type": "code",
      "metadata": {
        "id": "-huCn8yaeuab"
      },
      "source": [
        "#Because 1D convnets process input patches independently, they are not sensitive to the order of the timesteps unlike RNN's\n",
        "#One way to evidence this weakness is to try 1D convnets on the temperature forecasting problem from the previous section,\n",
        "# where order-sensitivity was key to produce good predictions. let's see...!!"
      ],
      "execution_count": 15,
      "outputs": []
    },
    {
      "cell_type": "code",
      "metadata": {
        "id": "UJ5OYXOZMCM-"
      },
      "source": [
        "import os\n",
        "import numpy as np\n",
        "import glob\n",
        "import pandas as pd\n",
        "base_path = '/content/drive/MyDrive/jupyter_notebooks/deep_learning_fc/data/time_series_data/'\n",
        "files = glob.glob(os.path.join(base_path,'*.csv'))"
      ],
      "execution_count": 16,
      "outputs": []
    },
    {
      "cell_type": "markdown",
      "metadata": {
        "id": "hslkyDi4Oswp"
      },
      "source": [
        "**Preparing Data**"
      ]
    },
    {
      "cell_type": "code",
      "metadata": {
        "colab": {
          "base_uri": "https://localhost:8080/"
        },
        "id": "IIns6jKlOFRn",
        "outputId": "acde26b9-d5ea-4835-f942-e4d2584750b3"
      },
      "source": [
        "dfs = []\n",
        "for file in files:\n",
        "  df = pd.read_csv(file,encoding='latin1')\n",
        "  dfs.append(df)\n",
        "data = pd.concat(dfs,axis=0,ignore_index=True)\n",
        "data.shape"
      ],
      "execution_count": 17,
      "outputs": [
        {
          "output_type": "execute_result",
          "data": {
            "text/plain": [
              "(420551, 22)"
            ]
          },
          "metadata": {
            "tags": []
          },
          "execution_count": 17
        }
      ]
    },
    {
      "cell_type": "code",
      "metadata": {
        "colab": {
          "base_uri": "https://localhost:8080/"
        },
        "id": "L0DJGpi9fqfr",
        "outputId": "221804d1-ce65-4ba0-8df8-1a30efda725c"
      },
      "source": [
        "data.columns"
      ],
      "execution_count": 18,
      "outputs": [
        {
          "output_type": "execute_result",
          "data": {
            "text/plain": [
              "Index(['Date Time', 'p (mbar)', 'T (degC)', 'Tpot (K)', 'Tdew (degC)',\n",
              "       'rh (%)', 'VPmax (mbar)', 'VPact (mbar)', 'VPdef (mbar)', 'sh (g/kg)',\n",
              "       'H2OC (mmol/mol)', 'rho (g/m**3)', 'wv (m/s)', 'max. wv (m/s)',\n",
              "       'wd (deg)', 'rain (mm)', 'raining (s)', 'SWDR (W/m²)',\n",
              "       'PAR (µmol/m²/s)', 'max. PAR (µmol/m²/s)', 'Tlog (degC)', 'CO2 (ppm)'],\n",
              "      dtype='object')"
            ]
          },
          "metadata": {
            "tags": []
          },
          "execution_count": 18
        }
      ]
    },
    {
      "cell_type": "code",
      "metadata": {
        "id": "bdb-_pcHf5Oh"
      },
      "source": [
        "data = data[['Date Time', 'p (mbar)', 'T (degC)', 'Tpot (K)', 'Tdew (degC)',\n",
        "       'rh (%)', 'VPmax (mbar)', 'VPact (mbar)', 'VPdef (mbar)', 'sh (g/kg)',\n",
        "       'H2OC (mmol/mol)', 'rho (g/m**3)', 'wv (m/s)', 'max. wv (m/s)',\n",
        "       'wd (deg)']]"
      ],
      "execution_count": 19,
      "outputs": []
    },
    {
      "cell_type": "code",
      "metadata": {
        "id": "cCLGRcpqOQPf"
      },
      "source": [
        "cols = data.select_dtypes(np.number).columns\n",
        "data_n = data[cols]\n",
        "\n",
        "float_data = data_n.to_numpy('float32')"
      ],
      "execution_count": 20,
      "outputs": []
    },
    {
      "cell_type": "code",
      "metadata": {
        "id": "VzFUbpr4PByt"
      },
      "source": [
        "mean = float_data[:200000].mean(axis=0)\n",
        "std = float_data[:200000].std(axis=0)\n",
        "\n",
        "float_data-=mean\n",
        "float_data/=std"
      ],
      "execution_count": 21,
      "outputs": []
    },
    {
      "cell_type": "code",
      "metadata": {
        "id": "rheO_ki5PcJj"
      },
      "source": [
        "def  generator(data,  lookback,  delay,  min_index,  max_index,  shuffle=False,  batch_size=128,  step=6):\n",
        "  if max_index is None:\n",
        "    max_index = len(data) - delay -1\n",
        "  \n",
        "  i = min_index + lookback\n",
        "\n",
        "  while 1:\n",
        "    \n",
        "    if shuffle:\n",
        "      rows = np.random.randint(min_index + lookback, max_index, batch_size)\n",
        "\n",
        "    else:\n",
        "      if i+batch_size>= max_index:\n",
        "        i = min_index + lookback\n",
        "\n",
        "      rows = np.arange(i,min(i+batch_size,max_index))\n",
        "      i+= len(rows)\n",
        "                               #samples in batch  #data pts in single sample   #columns in a data pt\n",
        "    samples_in_batch = np.zeros((   len(rows),      lookback//step,             data.shape[-1]  )) \n",
        "    targets = np.zeros((len(rows),))\n",
        "\n",
        "    for j , row in enumerate(rows):\n",
        "      indices = np.arange(rows[j]-lookback,rows[j], step)\n",
        "      samples_in_batch[j] = data[indices]\n",
        "      targets[j] = data[rows[j] + delay][1]   #here target is temp only\n",
        "\n",
        "    yield samples_in_batch, targets"
      ],
      "execution_count": 22,
      "outputs": []
    },
    {
      "cell_type": "code",
      "metadata": {
        "id": "uULlNDPBSJYj"
      },
      "source": [
        "lookback = 1440\n",
        "delay = 144\n",
        "batch_size=128\n",
        "step=6\n",
        "\n",
        "\n",
        "train_gen = generator(float_data,lookback,delay, min_index=0, max_index=200000,shuffle=True)\n",
        "val_gen = generator(float_data,lookback,delay, min_index=200001, max_index=300000)\n",
        "test_gen = generator(float_data,lookback,delay, min_index=300001, max_index=None)\n",
        "\n",
        "\n",
        "#this is how many steps to draw from 'val_gen' in order to see the whole validation set:\n",
        "val_steps = (300000-200001)//batch_size\n",
        "#this is how many steps to draw from 'test_gen' in order to see the whole test set:\n",
        "test_steps = (len(float_data)-300001)//batch_size"
      ],
      "execution_count": 23,
      "outputs": []
    },
    {
      "cell_type": "markdown",
      "metadata": {
        "id": "9mIK8l-InLZF"
      },
      "source": [
        "# **Network Building**"
      ]
    },
    {
      "cell_type": "code",
      "metadata": {
        "colab": {
          "base_uri": "https://localhost:8080/"
        },
        "id": "1sl6cxO7k31t",
        "outputId": "3fce7260-8aa1-4c9e-be9d-d5ee5630c0e6"
      },
      "source": [
        "input = Input(shape=(lookback//step, float_data.shape[-1]))\n",
        "\n",
        "output = Conv1D(32,7,activation='relu')(input)\n",
        "output = MaxPool1D(5)(output)\n",
        "output = Conv1D(32,7,activation='relu')(output)\n",
        "output = MaxPool1D(5)(output)\n",
        "output = Conv1D(32,7,activation='relu')(output)\n",
        "output = GlobalMaxPooling1D()(output)\n",
        "output = Dense(1)(output)\n",
        "\n",
        "model = Model(inputs=input, outputs=output)\n",
        "model.compile(optimizer=RMSprop(learning_rate=1e-4),loss='mae')\n",
        "model.fit_generator(train_gen,steps_per_epoch=500, epochs=20, validation_data=val_gen, validation_steps=val_steps)"
      ],
      "execution_count": 24,
      "outputs": [
        {
          "output_type": "stream",
          "text": [
            "/usr/local/lib/python3.7/dist-packages/tensorflow/python/keras/engine/training.py:1844: UserWarning: `Model.fit_generator` is deprecated and will be removed in a future version. Please use `Model.fit`, which supports generators.\n",
            "  warnings.warn('`Model.fit_generator` is deprecated and '\n"
          ],
          "name": "stderr"
        },
        {
          "output_type": "stream",
          "text": [
            "Epoch 1/20\n",
            "500/500 [==============================] - 37s 72ms/step - loss: 0.5067 - val_loss: 0.4220\n",
            "Epoch 2/20\n",
            "500/500 [==============================] - 34s 69ms/step - loss: 0.3873 - val_loss: 0.4022\n",
            "Epoch 3/20\n",
            "500/500 [==============================] - 35s 70ms/step - loss: 0.3471 - val_loss: 0.3991\n",
            "Epoch 4/20\n",
            "500/500 [==============================] - 35s 70ms/step - loss: 0.3234 - val_loss: 0.3912\n",
            "Epoch 5/20\n",
            "500/500 [==============================] - 35s 70ms/step - loss: 0.3055 - val_loss: 0.3940\n",
            "Epoch 6/20\n",
            "500/500 [==============================] - 35s 70ms/step - loss: 0.2942 - val_loss: 0.3917\n",
            "Epoch 7/20\n",
            "500/500 [==============================] - 35s 70ms/step - loss: 0.2843 - val_loss: 0.3997\n",
            "Epoch 8/20\n",
            "500/500 [==============================] - 35s 70ms/step - loss: 0.2749 - val_loss: 0.4016\n",
            "Epoch 9/20\n",
            "500/500 [==============================] - 35s 70ms/step - loss: 0.2690 - val_loss: 0.4026\n",
            "Epoch 10/20\n",
            "500/500 [==============================] - 35s 70ms/step - loss: 0.2604 - val_loss: 0.3891\n",
            "Epoch 11/20\n",
            "500/500 [==============================] - 35s 70ms/step - loss: 0.2547 - val_loss: 0.4048\n",
            "Epoch 12/20\n",
            "500/500 [==============================] - 35s 70ms/step - loss: 0.2476 - val_loss: 0.4045\n",
            "Epoch 13/20\n",
            "500/500 [==============================] - 35s 70ms/step - loss: 0.2465 - val_loss: 0.3996\n",
            "Epoch 14/20\n",
            "500/500 [==============================] - 35s 70ms/step - loss: 0.2394 - val_loss: 0.4000\n",
            "Epoch 15/20\n",
            "500/500 [==============================] - 35s 70ms/step - loss: 0.2383 - val_loss: 0.4113\n",
            "Epoch 16/20\n",
            "500/500 [==============================] - 35s 71ms/step - loss: 0.2342 - val_loss: 0.4138\n",
            "Epoch 17/20\n",
            "500/500 [==============================] - 35s 70ms/step - loss: 0.2282 - val_loss: 0.4160\n",
            "Epoch 18/20\n",
            "500/500 [==============================] - 35s 70ms/step - loss: 0.2264 - val_loss: 0.4117\n",
            "Epoch 19/20\n",
            "500/500 [==============================] - 35s 70ms/step - loss: 0.2209 - val_loss: 0.4121\n",
            "Epoch 20/20\n",
            "500/500 [==============================] - 35s 70ms/step - loss: 0.2191 - val_loss: 0.4082\n"
          ],
          "name": "stdout"
        },
        {
          "output_type": "execute_result",
          "data": {
            "text/plain": [
              "<tensorflow.python.keras.callbacks.History at 0x7f6fdc064090>"
            ]
          },
          "metadata": {
            "tags": []
          },
          "execution_count": 24
        }
      ]
    },
    {
      "cell_type": "markdown",
      "metadata": {
        "id": "OPnoj-Kom93R"
      },
      "source": [
        "**Training and validation Mean Absolute Errors:**"
      ]
    },
    {
      "cell_type": "code",
      "metadata": {
        "id": "ZOzImPUxmr-H"
      },
      "source": [
        "dict_ = model.history.history\n",
        "dict_.keys()\n",
        "\n",
        "train_loss = dict_['loss']\n",
        "val_loss = dict_['val_loss']\n",
        "epochs = range(1,len(train_loss)+1)"
      ],
      "execution_count": 25,
      "outputs": []
    },
    {
      "cell_type": "code",
      "metadata": {
        "colab": {
          "base_uri": "https://localhost:8080/",
          "height": 312
        },
        "id": "G8kA1D2RnqfO",
        "outputId": "c5b86fec-084b-4456-c88b-33db2d310f46"
      },
      "source": [
        "plt.plot(epochs,train_loss,ls=':',label='Training_loss')\n",
        "plt.plot(epochs,val_loss,ls='-.',color='green',label='Validation_loss')\n",
        "plt.xlabel('Epochs')\n",
        "plt.ylabel('Loss')\n",
        "plt.title('training v/s validation loss')\n",
        "plt.legend()"
      ],
      "execution_count": 26,
      "outputs": [
        {
          "output_type": "execute_result",
          "data": {
            "text/plain": [
              "<matplotlib.legend.Legend at 0x7f6fea2ff750>"
            ]
          },
          "metadata": {
            "tags": []
          },
          "execution_count": 26
        },
        {
          "output_type": "display_data",
          "data": {
            "image/png": "[encoded data removed]",
            "text/plain": [
              "<Figure size 432x288 with 1 Axes>"
            ]
          },
          "metadata": {
            "tags": [],
            "needs_background": "light"
          }
        }
      ]
    },
    {
      "cell_type": "code",
      "metadata": {
        "id": "thkqViuJn6HU"
      },
      "source": [
        "#The validation MAE stays in the low 0.40s: we cannot even beat our baseline model using the small convnet. Again, this is because our convnet looks for \n",
        "#patterns anywhere in the input timeseries, and has no knowledge of the temporal position of a pattern it sees\n",
        "#Since more recent datapoints should be interpreted differently from older datapoints in the case of this specific forecasting problem,\n",
        "# the convnet fails at producing meaningful results here.\n",
        "\n",
        "\n",
        "#This limitation of convnets was not an issue on IMDB, because patterns of keywords that are associated with a positive or a negative sentiment will be \n",
        "#informative independently of where they are found in the input sentences."
      ],
      "execution_count": 27,
      "outputs": []
    },
    {
      "cell_type": "markdown",
      "metadata": {
        "id": "S4-Ogy8_xFrx"
      },
      "source": [
        "# **Combining CNNs and RNNs to process long sequences**"
      ]
    },
    {
      "cell_type": "code",
      "metadata": {
        "id": "WK54pHTzt-23"
      },
      "source": [
        "#One strategy to combine the speed and lightness of convnets with the order-sensitivity of RNNs is to use a 1D convnet as a preprocessing step before a RNN.\n",
        "#This is especially beneficial when dealing with sequences that are so long that they couldn't realistically be processed with RNNs,\n",
        "# The convnet will turn the long input sequence into much shorter (downsampled) sequences of higher-level features.\n",
        "#This sequence of extracted features then becomes the input to the RNN part of the network."
      ],
      "execution_count": 28,
      "outputs": []
    },
    {
      "cell_type": "code",
      "metadata": {
        "id": "7tEAHGWlxe2c"
      },
      "source": [
        "#Because this strategy allows us to manipulate much longer sequences, we could either look at data from further back (by increasing the lookback parameter of\n",
        "# the data generator), or look at high-resolution timeseries (by decreasing the step parameter of the generator). "
      ],
      "execution_count": 29,
      "outputs": []
    },
    {
      "cell_type": "code",
      "metadata": {
        "id": "OU58ZNqKx3x0"
      },
      "source": [
        "# This was previously set to 6 (one point per hour).\n",
        "# Now 3 (one point per 30 min).\n",
        "step = 3\n",
        "lookback = 1440  # Unchanged\n",
        "delay = 144 # Unchanged\n",
        "\n",
        "train_gen = generator(data=float_data,lookback=lookback,delay=delay, min_index=0, max_index=200000,shuffle=True,step=step)\n",
        "val_gen = generator(data=float_data,lookback=lookback,delay=delay, min_index=200001, max_index=300000,step=step)\n",
        "test_gen = generator(data=float_data,lookback=lookback,delay=delay, min_index=300001, max_index=None,step=step)\n",
        "\n",
        "\n",
        "#this is how many steps to draw from 'val_gen' in order to see the whole validation set:\n",
        "val_steps = (300000-200001)//batch_size\n",
        "#this is how many steps to draw from 'test_gen' in order to see the whole test set:\n",
        "test_steps = (len(float_data)-300001)//batch_size"
      ],
      "execution_count": 38,
      "outputs": []
    },
    {
      "cell_type": "markdown",
      "metadata": {
        "id": "vM82l7Kuy_s1"
      },
      "source": [
        "# **Network Building**"
      ]
    },
    {
      "cell_type": "code",
      "metadata": {
        "colab": {
          "base_uri": "https://localhost:8080/"
        },
        "id": "f2SAYI2oyJJ8",
        "outputId": "10c336a8-1601-43bb-9f15-73ea64b7dd7f"
      },
      "source": [
        "from keras.layers import GRU\n",
        "\n",
        "input = Input(shape=(lookback//step,float_data.shape[-1]))\n",
        "output = Conv1D(32,5,activation='relu')(input)\n",
        "output = MaxPool1D(3)(output)\n",
        "output = Conv1D(32,5,activation='relu')(output)\n",
        "output = GRU(32,dropout=0.2,recurrent_dropout=0.5)(output)\n",
        "output = Dense(1)(output)\n",
        "\n",
        "model = Model(inputs=input, outputs=output)\n",
        "model.compile(optimizer = RMSprop(learning_rate=1e-4),loss='mae')\n",
        "model.fit_generator(train_gen,steps_per_epoch=500, epochs=20,validation_data=val_gen, validation_steps=val_steps)"
      ],
      "execution_count": 40,
      "outputs": [
        {
          "output_type": "stream",
          "text": [
            "/usr/local/lib/python3.7/dist-packages/tensorflow/python/keras/engine/training.py:1844: UserWarning: `Model.fit_generator` is deprecated and will be removed in a future version. Please use `Model.fit`, which supports generators.\n",
            "  warnings.warn('`Model.fit_generator` is deprecated and '\n"
          ],
          "name": "stderr"
        },
        {
          "output_type": "stream",
          "text": [
            "Epoch 1/20\n",
            "500/500 [==============================] - 191s 377ms/step - loss: 0.4303 - val_loss: 0.3241\n",
            "Epoch 2/20\n",
            "500/500 [==============================] - 188s 376ms/step - loss: 0.3502 - val_loss: 0.3060\n",
            "Epoch 3/20\n",
            "500/500 [==============================] - 187s 375ms/step - loss: 0.3299 - val_loss: 0.2958\n",
            "Epoch 4/20\n",
            "500/500 [==============================] - 185s 370ms/step - loss: 0.3194 - val_loss: 0.2915\n",
            "Epoch 5/20\n",
            "500/500 [==============================] - 185s 370ms/step - loss: 0.3126 - val_loss: 0.2883\n",
            "Epoch 6/20\n",
            "500/500 [==============================] - 185s 370ms/step - loss: 0.3059 - val_loss: 0.2813\n",
            "Epoch 7/20\n",
            "500/500 [==============================] - 187s 374ms/step - loss: 0.3022 - val_loss: 0.2784\n",
            "Epoch 8/20\n",
            "500/500 [==============================] - 185s 371ms/step - loss: 0.2967 - val_loss: 0.2786\n",
            "Epoch 9/20\n",
            "500/500 [==============================] - 186s 372ms/step - loss: 0.2944 - val_loss: 0.2736\n",
            "Epoch 10/20\n",
            "500/500 [==============================] - 186s 371ms/step - loss: 0.2915 - val_loss: 0.2846\n",
            "Epoch 11/20\n",
            "500/500 [==============================] - 185s 370ms/step - loss: 0.2876 - val_loss: 0.2768\n",
            "Epoch 12/20\n",
            "500/500 [==============================] - 185s 371ms/step - loss: 0.2873 - val_loss: 0.2833\n",
            "Epoch 13/20\n",
            "500/500 [==============================] - 184s 368ms/step - loss: 0.2852 - val_loss: 0.2778\n",
            "Epoch 14/20\n",
            "500/500 [==============================] - 185s 370ms/step - loss: 0.2809 - val_loss: 0.2717\n",
            "Epoch 15/20\n",
            "500/500 [==============================] - 184s 369ms/step - loss: 0.2823 - val_loss: 0.2733\n",
            "Epoch 16/20\n",
            "500/500 [==============================] - 184s 369ms/step - loss: 0.2770 - val_loss: 0.2745\n",
            "Epoch 17/20\n",
            "500/500 [==============================] - 184s 369ms/step - loss: 0.2748 - val_loss: 0.2727\n",
            "Epoch 18/20\n",
            "500/500 [==============================] - 183s 366ms/step - loss: 0.2758 - val_loss: 0.2747\n",
            "Epoch 19/20\n",
            "500/500 [==============================] - 182s 365ms/step - loss: 0.2733 - val_loss: 0.2707\n",
            "Epoch 20/20\n",
            "500/500 [==============================] - 185s 369ms/step - loss: 0.2706 - val_loss: 0.2745\n"
          ],
          "name": "stdout"
        },
        {
          "output_type": "execute_result",
          "data": {
            "text/plain": [
              "<tensorflow.python.keras.callbacks.History at 0x7f6fd87f3b10>"
            ]
          },
          "metadata": {
            "tags": []
          },
          "execution_count": 40
        }
      ]
    },
    {
      "cell_type": "markdown",
      "metadata": {
        "id": "ETtYLkoF2nZ0"
      },
      "source": [
        "**Training and validation Mean Absolute Errors:**"
      ]
    },
    {
      "cell_type": "code",
      "metadata": {
        "id": "mPaoXpxCzmso"
      },
      "source": [
        "dict_ = model.history.history\n",
        "dict_.keys()\n",
        "\n",
        "train_loss = dict_['loss']\n",
        "val_loss = dict_['val_loss']\n",
        "epochs = range(1,len(train_loss)+1)"
      ],
      "execution_count": 41,
      "outputs": []
    },
    {
      "cell_type": "code",
      "metadata": {
        "colab": {
          "base_uri": "https://localhost:8080/",
          "height": 312
        },
        "id": "VrtJAKKo2t73",
        "outputId": "17b478e6-e6f7-43bc-ba99-c4aee10ce898"
      },
      "source": [
        "plt.plot(epochs,train_loss,ls=':',label='Training_loss')\n",
        "plt.plot(epochs,val_loss,ls='-.',color='green',label='Validation_loss')\n",
        "plt.xlabel('Epochs')\n",
        "plt.ylabel('Loss')\n",
        "plt.title('training v/s validation loss')\n",
        "plt.legend()"
      ],
      "execution_count": 42,
      "outputs": [
        {
          "output_type": "execute_result",
          "data": {
            "text/plain": [
              "<matplotlib.legend.Legend at 0x7f6fd68fee90>"
            ]
          },
          "metadata": {
            "tags": []
          },
          "execution_count": 42
        },
        {
          "output_type": "display_data",
          "data": {
            "image/png": "[encoded data removed]",
            "text/plain": [
              "<Figure size 432x288 with 1 Axes>"
            ]
          },
          "metadata": {
            "tags": [],
            "needs_background": "light"
          }
        }
      ]
    },
    {
      "cell_type": "code",
      "metadata": {
        "id": "ruzqhzcP20B9"
      },
      "source": [
        "#Judging from the validation loss, this setup is not quite as good as the regularized GRU alone, but it's significantly faster.\n",
        "#It is looking at twice more data, which in this case doesn't appear to be hugely helpful, but may be important for other datasets."
      ],
      "execution_count": 43,
      "outputs": []
    },
    {
      "cell_type": "code",
      "metadata": {
        "id": "1qpWhbfi3HDf"
      },
      "source": [
        ""
      ],
      "execution_count": null,
      "outputs": []
    }
  ]
}