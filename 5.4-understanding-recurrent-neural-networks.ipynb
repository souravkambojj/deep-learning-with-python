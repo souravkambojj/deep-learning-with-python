{
  "nbformat": 4,
  "nbformat_minor": 0,
  "metadata": {
    "colab": {
      "name": "5.4.ipynb",
      "provenance": [],
      "collapsed_sections": []
    },
    "kernelspec": {
      "name": "python3",
      "display_name": "Python 3"
    },
    "language_info": {
      "name": "python"
    }
  },
  "cells": [
    {
      "cell_type": "code",
      "metadata": {
        "id": "8hZNtOSoYktr"
      },
      "source": [
        "from keras.layers import SimpleRNN,LSTM, Embedding, Dense, Input\n",
        "from keras.models import Model\n",
        "from keras.preprocessing.sequence import pad_sequences\n",
        "import numpy as np"
      ],
      "execution_count": 1,
      "outputs": []
    },
    {
      "cell_type": "markdown",
      "metadata": {
        "id": "LSBX2jFyiJNh"
      },
      "source": [
        "# **Preparing Data**"
      ]
    },
    {
      "cell_type": "code",
      "metadata": {
        "colab": {
          "base_uri": "https://localhost:8080/"
        },
        "id": "Z8BeVyhDhbA3",
        "outputId": "1b7f1442-f6af-4ce7-bb6d-3f305414a318"
      },
      "source": [
        "from keras.datasets import imdb\n",
        "max_features = 10000 # no of words to be considered as features\n",
        "max_len= 500 # cut the texts after these many no of words\n",
        "(train_data,train_lab),(test_data,test_lab) = imdb.load_data(num_words=max_features)\n"
      ],
      "execution_count": 2,
      "outputs": [
        {
          "output_type": "stream",
          "text": [
            "Downloading data from https://storage.googleapis.com/tensorflow/tf-keras-datasets/imdb.npz\n",
            "17465344/17464789 [==============================] - 0s 0us/step\n"
          ],
          "name": "stdout"
        },
        {
          "output_type": "stream",
          "text": [
            "<string>:6: VisibleDeprecationWarning: Creating an ndarray from ragged nested sequences (which is a list-or-tuple of lists-or-tuples-or ndarrays with different lengths or shapes) is deprecated. If you meant to do this, you must specify 'dtype=object' when creating the ndarray\n",
            "/usr/local/lib/python3.7/dist-packages/tensorflow/python/keras/datasets/imdb.py:159: VisibleDeprecationWarning: Creating an ndarray from ragged nested sequences (which is a list-or-tuple of lists-or-tuples-or ndarrays with different lengths or shapes) is deprecated. If you meant to do this, you must specify 'dtype=object' when creating the ndarray\n",
            "  x_train, y_train = np.array(xs[:idx]), np.array(labels[:idx])\n",
            "/usr/local/lib/python3.7/dist-packages/tensorflow/python/keras/datasets/imdb.py:160: VisibleDeprecationWarning: Creating an ndarray from ragged nested sequences (which is a list-or-tuple of lists-or-tuples-or ndarrays with different lengths or shapes) is deprecated. If you meant to do this, you must specify 'dtype=object' when creating the ndarray\n",
            "  x_test, y_test = np.array(xs[idx:]), np.array(labels[idx:])\n"
          ],
          "name": "stderr"
        }
      ]
    },
    {
      "cell_type": "code",
      "metadata": {
        "id": "9N3upehWiXcz"
      },
      "source": [
        "x_train = pad_sequences(train_data,maxlen=max_len,padding='post')\n",
        "x_test = pad_sequences(test_data,maxlen=max_len,padding='post')"
      ],
      "execution_count": 3,
      "outputs": []
    },
    {
      "cell_type": "code",
      "metadata": {
        "colab": {
          "base_uri": "https://localhost:8080/"
        },
        "id": "fDkjpfCslxU4",
        "outputId": "02733f91-20a5-470e-f94a-b76a7cdf9cf7"
      },
      "source": [
        "vocab = imdb.get_word_index()"
      ],
      "execution_count": 4,
      "outputs": [
        {
          "output_type": "stream",
          "text": [
            "Downloading data from https://storage.googleapis.com/tensorflow/tf-keras-datasets/imdb_word_index.json\n",
            "1646592/1641221 [==============================] - 0s 0us/step\n"
          ],
          "name": "stdout"
        }
      ]
    },
    {
      "cell_type": "markdown",
      "metadata": {
        "id": "4AZgV4juolFG"
      },
      "source": [
        "**pre-processing the embeddings**"
      ]
    },
    {
      "cell_type": "code",
      "metadata": {
        "id": "73uoAmgWoQoN"
      },
      "source": [
        "def get_glove_model(glove_dir):\n",
        "  embeddings_index = {}\n",
        "  f = open(glove_dir)\n",
        "\n",
        "  for line in f:\n",
        "    values = line.split()\n",
        "    word = values[0]\n",
        "    coefs = np.asarray(values[1:],dtype='float32')\n",
        "    embeddings_index[word] = coefs\n",
        "  f.close()\n",
        "  print('Total %s word vectors: '%len(embeddings_index))\n",
        "  return embeddings_index"
      ],
      "execution_count": 5,
      "outputs": []
    },
    {
      "cell_type": "markdown",
      "metadata": {
        "id": "fFUb0lMoqBXn"
      },
      "source": [
        "**Building Embedding Matrix**"
      ]
    },
    {
      "cell_type": "code",
      "metadata": {
        "id": "SWsKNxmUosRY"
      },
      "source": [
        "def embedding_matrix(tk_vocab,glove_vocab,embed_size):\n",
        "  matrix = np.zeros((len(tk_vocab)+1,embed_size))   #tokenizer vocab starts from index 1\n",
        "                                                    #len(vocab)+1 --->>  index 0 will be stored for paddings\n",
        "  c = 0\n",
        "  for word,i in tk_vocab.items():\n",
        "    embedding_vector = glove_vocab.get(word)\n",
        "    if embedding_vector is not None:\n",
        "      matrix[i] = embedding_vector\n",
        "      c+=1\n",
        "  print('Found {} embeddings '.format(c))\n",
        "  print('Missed {} embeddings '.format(len(tk_vocab) - c))\n",
        "\n",
        "  return matrix"
      ],
      "execution_count": 6,
      "outputs": []
    },
    {
      "cell_type": "code",
      "metadata": {
        "colab": {
          "base_uri": "https://localhost:8080/"
        },
        "id": "lDyAISunp-gI",
        "outputId": "c87f4317-c4c3-4d3d-b462-db3372b7af2e"
      },
      "source": [
        "glove_vocab = get_glove_model('/content/drive/MyDrive/jupyter_notebooks/deep_learning_fc/data/glove.6B.100d.txt')"
      ],
      "execution_count": 7,
      "outputs": [
        {
          "output_type": "stream",
          "text": [
            "Total 400000 word vectors: \n"
          ],
          "name": "stdout"
        }
      ]
    },
    {
      "cell_type": "code",
      "metadata": {
        "colab": {
          "base_uri": "https://localhost:8080/"
        },
        "id": "9eTri4zzqNoF",
        "outputId": "53624178-4601-496d-c5f8-210e5eb6976e"
      },
      "source": [
        "embedding_matrix =  embedding_matrix(vocab,glove_vocab,100)"
      ],
      "execution_count": 8,
      "outputs": [
        {
          "output_type": "stream",
          "text": [
            "Found 60150 embeddings \n",
            "Missed 28434 embeddings \n"
          ],
          "name": "stdout"
        }
      ]
    },
    {
      "cell_type": "markdown",
      "metadata": {
        "id": "dwkwVjbx87BY"
      },
      "source": [
        "# **Network Building**"
      ]
    },
    {
      "cell_type": "code",
      "metadata": {
        "id": "YGnh2hZaqp3X",
        "colab": {
          "base_uri": "https://localhost:8080/"
        },
        "outputId": "71e47e74-0525-437a-b1b1-fa11f264b835"
      },
      "source": [
        "input = Input(shape=(max_len,))\n",
        "embeddings = Embedding(input_dim=len(vocab)+1,\n",
        "                            output_dim=100,\n",
        "                            input_length=max_len,\n",
        "                            weights=[embedding_matrix],\n",
        "                            trainable=False)(input)\n",
        "output = SimpleRNN(32,return_sequences=True)(embeddings)\n",
        "output = SimpleRNN(32)(output)\n",
        "output = Dense(1,activation='sigmoid')(output)\n",
        "\n",
        "model = Model(inputs=input,outputs=output)\n",
        "model.compile(optimizer='rmsprop',loss='binary_crossentropy',metrics=['acc'])\n",
        "model.fit(x_train,train_lab,epochs=10,batch_size=64,validation_split=0.2)"
      ],
      "execution_count": 11,
      "outputs": [
        {
          "output_type": "stream",
          "text": [
            "Epoch 1/10\n",
            "313/313 [==============================] - 67s 208ms/step - loss: 0.7002 - acc: 0.5013 - val_loss: 0.6964 - val_acc: 0.5064\n",
            "Epoch 2/10\n",
            "313/313 [==============================] - 65s 207ms/step - loss: 0.6931 - acc: 0.5082 - val_loss: 0.6951 - val_acc: 0.5056\n",
            "Epoch 3/10\n",
            "313/313 [==============================] - 65s 208ms/step - loss: 0.6904 - acc: 0.5024 - val_loss: 0.6974 - val_acc: 0.4990\n",
            "Epoch 4/10\n",
            "313/313 [==============================] - 65s 208ms/step - loss: 0.6873 - acc: 0.5218 - val_loss: 0.6965 - val_acc: 0.5062\n",
            "Epoch 5/10\n",
            "313/313 [==============================] - 65s 209ms/step - loss: 0.6836 - acc: 0.5167 - val_loss: 0.6978 - val_acc: 0.5072\n",
            "Epoch 6/10\n",
            "313/313 [==============================] - 65s 206ms/step - loss: 0.6823 - acc: 0.5227 - val_loss: 0.7033 - val_acc: 0.4966\n",
            "Epoch 7/10\n",
            "313/313 [==============================] - 65s 207ms/step - loss: 0.6776 - acc: 0.5307 - val_loss: 0.7079 - val_acc: 0.4928\n",
            "Epoch 8/10\n",
            "313/313 [==============================] - 65s 209ms/step - loss: 0.6723 - acc: 0.5278 - val_loss: 0.7078 - val_acc: 0.4972\n",
            "Epoch 9/10\n",
            "313/313 [==============================] - 65s 208ms/step - loss: 0.6707 - acc: 0.5315 - val_loss: 0.7158 - val_acc: 0.5056\n",
            "Epoch 10/10\n",
            "313/313 [==============================] - 65s 208ms/step - loss: 0.6673 - acc: 0.5310 - val_loss: 0.7154 - val_acc: 0.4950\n"
          ],
          "name": "stdout"
        },
        {
          "output_type": "execute_result",
          "data": {
            "text/plain": [
              "<tensorflow.python.keras.callbacks.History at 0x7f5264f5ae90>"
            ]
          },
          "metadata": {
            "tags": []
          },
          "execution_count": 11
        }
      ]
    },
    {
      "cell_type": "markdown",
      "metadata": {
        "id": "5e09YiazUnzP"
      },
      "source": [
        "# **Model Evaluation**"
      ]
    },
    {
      "cell_type": "code",
      "metadata": {
        "colab": {
          "base_uri": "https://localhost:8080/"
        },
        "id": "RIJRx4rPF5uK",
        "outputId": "5ac0e91a-572a-4b1f-cdcb-e4b3fad5bf5a"
      },
      "source": [
        "dict_ = model.history.history\n",
        "dict_.keys()"
      ],
      "execution_count": 12,
      "outputs": [
        {
          "output_type": "execute_result",
          "data": {
            "text/plain": [
              "dict_keys(['loss', 'acc', 'val_loss', 'val_acc'])"
            ]
          },
          "metadata": {
            "tags": []
          },
          "execution_count": 12
        }
      ]
    },
    {
      "cell_type": "code",
      "metadata": {
        "id": "q0Qwo6U-UrRt"
      },
      "source": [
        "train_acc = dict_['acc']\n",
        "train_loss = dict_['loss']\n",
        "val_acc = dict_['val_acc']\n",
        "val_loss = dict_['val_loss']\n",
        "epochs = range(1,len(train_acc)+1)"
      ],
      "execution_count": 13,
      "outputs": []
    },
    {
      "cell_type": "code",
      "metadata": {
        "colab": {
          "base_uri": "https://localhost:8080/",
          "height": 312
        },
        "id": "yC-GfMjWUuND",
        "outputId": "d4f9aee3-1490-4bc5-a3ab-e3d999477272"
      },
      "source": [
        "import matplotlib.pyplot as plt\n",
        "\n",
        "plt.plot(epochs,train_acc,ls=':',label='Training_acc')\n",
        "plt.plot(epochs,val_acc,ls='-.',color='green',label='Validation_acc')\n",
        "plt.xlabel('Epochs')\n",
        "plt.ylabel('Accuracy')\n",
        "plt.title('training v/s validation acc')\n",
        "plt.legend()"
      ],
      "execution_count": 14,
      "outputs": [
        {
          "output_type": "execute_result",
          "data": {
            "text/plain": [
              "<matplotlib.legend.Legend at 0x7f5264eb6ed0>"
            ]
          },
          "metadata": {
            "tags": []
          },
          "execution_count": 14
        },
        {
          "output_type": "display_data",
          "data": {
            "image/png": "[encoded data removed]",
            "text/plain": [
              "<Figure size 432x288 with 1 Axes>"
            ]
          },
          "metadata": {
            "tags": [],
            "needs_background": "light"
          }
        }
      ]
    },
    {
      "cell_type": "code",
      "metadata": {
        "colab": {
          "base_uri": "https://localhost:8080/",
          "height": 312
        },
        "id": "GQ4-7cy0UxbZ",
        "outputId": "f238d058-b16f-4d88-dd9a-1c84d7485920"
      },
      "source": [
        "plt.plot(epochs,train_loss,ls=':',label='Training_loss')\n",
        "plt.plot(epochs,val_loss,ls='-.',color='green',label='Validation_loss')\n",
        "plt.xlabel('Epochs')\n",
        "plt.ylabel('Accuracy')\n",
        "plt.title('training v/s validation loss')\n",
        "plt.legend()"
      ],
      "execution_count": 15,
      "outputs": [
        {
          "output_type": "execute_result",
          "data": {
            "text/plain": [
              "<matplotlib.legend.Legend at 0x7f52612585d0>"
            ]
          },
          "metadata": {
            "tags": []
          },
          "execution_count": 15
        },
        {
          "output_type": "display_data",
          "data": {
            "image/png": "[encoded data removed]",
            "text/plain": [
              "<Figure size 432x288 with 1 Axes>"
            ]
          },
          "metadata": {
            "tags": [],
            "needs_background": "light"
          }
        }
      ]
    },
    {
      "cell_type": "markdown",
      "metadata": {
        "id": "sj-6_me4VCAB"
      },
      "source": [
        "# **LSTM**"
      ]
    },
    {
      "cell_type": "code",
      "metadata": {
        "id": "yLl8lEDrU0qn"
      },
      "source": [
        "from keras.layers import LSTM, Bidirectional,TimeDistributed"
      ],
      "execution_count": 18,
      "outputs": []
    },
    {
      "cell_type": "markdown",
      "metadata": {
        "id": "ma_yVyB1i1ed"
      },
      "source": [
        "**Time Distributed**"
      ]
    },
    {
      "cell_type": "code",
      "metadata": {
        "id": "z4QQ44p4heFA"
      },
      "source": [
        "#It allows to apply same layer to every time step during LSTM/GRU Cell unrolling."
      ],
      "execution_count": null,
      "outputs": []
    },
    {
      "cell_type": "code",
      "metadata": {
        "colab": {
          "base_uri": "https://localhost:8080/"
        },
        "id": "oBycAzI5VKzC",
        "outputId": "7b530b98-7381-4083-e529-5a27af9e3fbe"
      },
      "source": [
        "input = Input(shape=(max_len,))\n",
        "embeddings = Embedding(input_dim=len(vocab)+1,\n",
        "                            output_dim=100,\n",
        "                            input_length=max_len,\n",
        "                            weights=[embedding_matrix],\n",
        "                            trainable=False)(input)\n",
        "output = LSTM(64,return_sequences=True)(embeddings)\n",
        "output = TimeDistributed(Dense(1,activation='sigmoid'))(output)\n",
        "\n",
        "model2 = Model(inputs=input,outputs=output)\n",
        "model2.compile(optimizer='rmsprop',loss='binary_crossentropy',metrics=['acc'])\n",
        "model2.fit(x_train,train_lab,epochs=10,batch_size=64,validation_split=0.2)"
      ],
      "execution_count": 21,
      "outputs": [
        {
          "output_type": "stream",
          "text": [
            "Epoch 1/10\n",
            "313/313 [==============================] - 101s 316ms/step - loss: 0.6944 - acc: 0.5029 - val_loss: 0.6933 - val_acc: 0.5135\n",
            "Epoch 2/10\n",
            "313/313 [==============================] - 100s 321ms/step - loss: 0.6893 - acc: 0.5387 - val_loss: 0.6878 - val_acc: 0.5322\n",
            "Epoch 3/10\n",
            "313/313 [==============================] - 99s 317ms/step - loss: 0.6842 - acc: 0.5541 - val_loss: 0.6943 - val_acc: 0.5145\n",
            "Epoch 4/10\n",
            "313/313 [==============================] - 99s 318ms/step - loss: 0.6753 - acc: 0.5862 - val_loss: 0.6591 - val_acc: 0.6158\n",
            "Epoch 5/10\n",
            "313/313 [==============================] - 100s 318ms/step - loss: 0.6678 - acc: 0.6002 - val_loss: 0.6515 - val_acc: 0.6336\n",
            "Epoch 6/10\n",
            "313/313 [==============================] - 99s 317ms/step - loss: 0.6665 - acc: 0.6018 - val_loss: 0.6492 - val_acc: 0.6487\n",
            "Epoch 7/10\n",
            "313/313 [==============================] - 100s 318ms/step - loss: 0.6657 - acc: 0.6000 - val_loss: 0.6827 - val_acc: 0.5120\n",
            "Epoch 8/10\n",
            "313/313 [==============================] - 99s 317ms/step - loss: 0.6527 - acc: 0.6086 - val_loss: 0.6804 - val_acc: 0.5343\n",
            "Epoch 9/10\n",
            "313/313 [==============================] - 100s 318ms/step - loss: 0.6596 - acc: 0.6179 - val_loss: 0.6329 - val_acc: 0.6677\n",
            "Epoch 10/10\n",
            "313/313 [==============================] - 100s 318ms/step - loss: 0.6412 - acc: 0.6429 - val_loss: 0.6204 - val_acc: 0.6761\n"
          ],
          "name": "stdout"
        },
        {
          "output_type": "execute_result",
          "data": {
            "text/plain": [
              "<tensorflow.python.keras.callbacks.History at 0x7f525e517210>"
            ]
          },
          "metadata": {
            "tags": []
          },
          "execution_count": 21
        }
      ]
    },
    {
      "cell_type": "markdown",
      "metadata": {
        "id": "WW2RPDc7V5Jw"
      },
      "source": [
        "# **Bidirectional LSTM**"
      ]
    },
    {
      "cell_type": "code",
      "metadata": {
        "colab": {
          "base_uri": "https://localhost:8080/"
        },
        "id": "vL1iFt_MVicS",
        "outputId": "4fd35d55-f63e-4c00-e45c-07998d4ea4e6"
      },
      "source": [
        "input = Input(shape=(max_len,))\n",
        "embeddings = Embedding(input_dim=len(vocab)+1,\n",
        "                            output_dim=100,\n",
        "                            input_length=max_len,\n",
        "                            weights=[embedding_matrix],\n",
        "                            trainable=False)(input)\n",
        "output = Bidirectional(LSTM(64,return_sequences=True))(embeddings)\n",
        "output = TimeDistributed(Dense(1,activation='sigmoid'))(output)\n",
        "\n",
        "model3 = Model(inputs=input,outputs=output)\n",
        "model3.compile(optimizer='rmsprop',loss='binary_crossentropy',metrics=['acc'])\n",
        "model3.fit(x_train,train_lab,epochs=10,batch_size=64,validation_split=0.2)"
      ],
      "execution_count": 24,
      "outputs": [
        {
          "output_type": "stream",
          "text": [
            "Epoch 1/10\n",
            "313/313 [==============================] - 195s 615ms/step - loss: 0.6963 - acc: 0.5040 - val_loss: 0.6963 - val_acc: 0.5060\n",
            "Epoch 2/10\n",
            "313/313 [==============================] - 191s 610ms/step - loss: 0.6871 - acc: 0.5399 - val_loss: 0.6820 - val_acc: 0.5554\n",
            "Epoch 3/10\n",
            "313/313 [==============================] - 191s 611ms/step - loss: 0.6835 - acc: 0.5521 - val_loss: 0.6832 - val_acc: 0.5459\n",
            "Epoch 4/10\n",
            "313/313 [==============================] - 191s 610ms/step - loss: 0.6755 - acc: 0.5696 - val_loss: 0.6762 - val_acc: 0.5729\n",
            "Epoch 5/10\n",
            "313/313 [==============================] - 191s 609ms/step - loss: 0.6676 - acc: 0.5908 - val_loss: 0.6448 - val_acc: 0.6350\n",
            "Epoch 6/10\n",
            "313/313 [==============================] - 190s 608ms/step - loss: 0.6520 - acc: 0.6191 - val_loss: 0.6789 - val_acc: 0.5599\n",
            "Epoch 7/10\n",
            "313/313 [==============================] - 191s 610ms/step - loss: 0.6438 - acc: 0.6274 - val_loss: 0.6430 - val_acc: 0.6206\n",
            "Epoch 8/10\n",
            "313/313 [==============================] - 191s 610ms/step - loss: 0.6310 - acc: 0.6408 - val_loss: 0.6153 - val_acc: 0.6537\n",
            "Epoch 9/10\n",
            "313/313 [==============================] - 191s 609ms/step - loss: 0.6182 - acc: 0.6589 - val_loss: 0.6023 - val_acc: 0.6931\n",
            "Epoch 10/10\n",
            "313/313 [==============================] - 191s 609ms/step - loss: 0.6102 - acc: 0.6618 - val_loss: 0.6145 - val_acc: 0.6443\n"
          ],
          "name": "stdout"
        },
        {
          "output_type": "execute_result",
          "data": {
            "text/plain": [
              "<tensorflow.python.keras.callbacks.History at 0x7f5260b26350>"
            ]
          },
          "metadata": {
            "tags": []
          },
          "execution_count": 24
        }
      ]
    },
    {
      "cell_type": "markdown",
      "metadata": {
        "id": "jP1UqGKYdQx4"
      },
      "source": [
        "# **Model Evaluation**"
      ]
    },
    {
      "cell_type": "code",
      "metadata": {
        "colab": {
          "base_uri": "https://localhost:8080/"
        },
        "id": "e1yRHXeIdUw6",
        "outputId": "0898b524-1065-4874-c71e-7b2da8ed8fb4"
      },
      "source": [
        "dict_ = model3.history.history\n",
        "dict_.keys()"
      ],
      "execution_count": 29,
      "outputs": [
        {
          "output_type": "execute_result",
          "data": {
            "text/plain": [
              "dict_keys(['loss', 'acc', 'val_loss', 'val_acc'])"
            ]
          },
          "metadata": {
            "tags": []
          },
          "execution_count": 29
        }
      ]
    },
    {
      "cell_type": "code",
      "metadata": {
        "id": "PChLZhOGdVK-"
      },
      "source": [
        "train_acc = dict_['acc']\n",
        "train_loss = dict_['loss']\n",
        "val_acc = dict_['val_acc']\n",
        "val_loss = dict_['val_loss']\n",
        "epochs = range(1,len(train_acc)+1)"
      ],
      "execution_count": 30,
      "outputs": []
    },
    {
      "cell_type": "code",
      "metadata": {
        "colab": {
          "base_uri": "https://localhost:8080/",
          "height": 312
        },
        "id": "GTDw2O9ldZXk",
        "outputId": "3d403fb8-af26-4a06-d48c-841d299fbe94"
      },
      "source": [
        "import matplotlib.pyplot as plt\n",
        "\n",
        "plt.plot(epochs,train_acc,ls=':',label='Training_acc')\n",
        "plt.plot(epochs,val_acc,ls='-.',color='green',label='Validation_acc')\n",
        "plt.xlabel('Epochs')\n",
        "plt.ylabel('Accuracy')\n",
        "plt.title('training v/s validation acc')\n",
        "plt.legend()"
      ],
      "execution_count": 31,
      "outputs": [
        {
          "output_type": "execute_result",
          "data": {
            "text/plain": [
              "<matplotlib.legend.Legend at 0x7f525d870350>"
            ]
          },
          "metadata": {
            "tags": []
          },
          "execution_count": 31
        },
        {
          "output_type": "display_data",
          "data": {
            "image/png": "[encoded data removed]",
            "text/plain": [
              "<Figure size 432x288 with 1 Axes>"
            ]
          },
          "metadata": {
            "tags": [],
            "needs_background": "light"
          }
        }
      ]
    },
    {
      "cell_type": "code",
      "metadata": {
        "colab": {
          "base_uri": "https://localhost:8080/",
          "height": 312
        },
        "id": "CFuMcBa5dcTU",
        "outputId": "33053079-a5d0-4f9a-f7ef-29c6846d0ccc"
      },
      "source": [
        "plt.plot(epochs,train_loss,ls=':',label='Training_loss')\n",
        "plt.plot(epochs,val_loss,ls='-.',color='green',label='Validation_loss')\n",
        "plt.xlabel('Epochs')\n",
        "plt.ylabel('Accuracy')\n",
        "plt.title('training v/s validation loss')\n",
        "plt.legend()"
      ],
      "execution_count": 32,
      "outputs": [
        {
          "output_type": "execute_result",
          "data": {
            "text/plain": [
              "<matplotlib.legend.Legend at 0x7f52594be2d0>"
            ]
          },
          "metadata": {
            "tags": []
          },
          "execution_count": 32
        },
        {
          "output_type": "display_data",
          "data": {
            "image/png": "[encoded data removed]",
            "text/plain": [
              "<Figure size 432x288 with 1 Axes>"
            ]
          },
          "metadata": {
            "tags": [],
            "needs_background": "light"
          }
        }
      ]
    }
  ]
}
