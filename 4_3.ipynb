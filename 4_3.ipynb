{
  "nbformat": 4,
  "nbformat_minor": 0,
  "metadata": {
    "colab": {
      "name": "4.3.ipynb",
      "provenance": [],
      "collapsed_sections": []
    },
    "kernelspec": {
      "name": "python3",
      "display_name": "Python 3"
    },
    "language_info": {
      "name": "python"
    }
  },
  "cells": [
    {
      "cell_type": "code",
      "metadata": {
        "id": "O-SrvUWtN06H"
      },
      "source": [
        "from keras.applications import VGG16\n",
        "from keras.models import  Sequential\n",
        "from keras.layers import Dense, Flatten, Dropout"
      ],
      "execution_count": null,
      "outputs": []
    },
    {
      "cell_type": "code",
      "metadata": {
        "colab": {
          "base_uri": "https://localhost:8080/"
        },
        "id": "BpF9eugtOFr0",
        "outputId": "ccc58815-02d4-4a17-8152-98189bfde017"
      },
      "source": [
        "base_model = VGG16(include_top=False,input_shape=(150,150,3),weights='imagenet')\n",
        "base_model.summary()"
      ],
      "execution_count": null,
      "outputs": [
        {
          "output_type": "stream",
          "text": [
            "Downloading data from https://storage.googleapis.com/tensorflow/keras-applications/vgg16/vgg16_weights_tf_dim_ordering_tf_kernels_notop.h5\n",
            "58892288/58889256 [==============================] - 2s 0us/step\n",
            "Model: \"vgg16\"\n",
            "_________________________________________________________________\n",
            "Layer (type)                 Output Shape              Param #   \n",
            "=================================================================\n",
            "input_1 (InputLayer)         [(None, 150, 150, 3)]     0         \n",
            "_________________________________________________________________\n",
            "block1_conv1 (Conv2D)        (None, 150, 150, 64)      1792      \n",
            "_________________________________________________________________\n",
            "block1_conv2 (Conv2D)        (None, 150, 150, 64)      36928     \n",
            "_________________________________________________________________\n",
            "block1_pool (MaxPooling2D)   (None, 75, 75, 64)        0         \n",
            "_________________________________________________________________\n",
            "block2_conv1 (Conv2D)        (None, 75, 75, 128)       73856     \n",
            "_________________________________________________________________\n",
            "block2_conv2 (Conv2D)        (None, 75, 75, 128)       147584    \n",
            "_________________________________________________________________\n",
            "block2_pool (MaxPooling2D)   (None, 37, 37, 128)       0         \n",
            "_________________________________________________________________\n",
            "block3_conv1 (Conv2D)        (None, 37, 37, 256)       295168    \n",
            "_________________________________________________________________\n",
            "block3_conv2 (Conv2D)        (None, 37, 37, 256)       590080    \n",
            "_________________________________________________________________\n",
            "block3_conv3 (Conv2D)        (None, 37, 37, 256)       590080    \n",
            "_________________________________________________________________\n",
            "block3_pool (MaxPooling2D)   (None, 18, 18, 256)       0         \n",
            "_________________________________________________________________\n",
            "block4_conv1 (Conv2D)        (None, 18, 18, 512)       1180160   \n",
            "_________________________________________________________________\n",
            "block4_conv2 (Conv2D)        (None, 18, 18, 512)       2359808   \n",
            "_________________________________________________________________\n",
            "block4_conv3 (Conv2D)        (None, 18, 18, 512)       2359808   \n",
            "_________________________________________________________________\n",
            "block4_pool (MaxPooling2D)   (None, 9, 9, 512)         0         \n",
            "_________________________________________________________________\n",
            "block5_conv1 (Conv2D)        (None, 9, 9, 512)         2359808   \n",
            "_________________________________________________________________\n",
            "block5_conv2 (Conv2D)        (None, 9, 9, 512)         2359808   \n",
            "_________________________________________________________________\n",
            "block5_conv3 (Conv2D)        (None, 9, 9, 512)         2359808   \n",
            "_________________________________________________________________\n",
            "block5_pool (MaxPooling2D)   (None, 4, 4, 512)         0         \n",
            "=================================================================\n",
            "Total params: 14,714,688\n",
            "Trainable params: 14,714,688\n",
            "Non-trainable params: 0\n",
            "_________________________________________________________________\n"
          ],
          "name": "stdout"
        }
      ]
    },
    {
      "cell_type": "code",
      "metadata": {
        "id": "ugvarWZmOcjO"
      },
      "source": [
        "from keras.preprocessing.image import ImageDataGenerator\n",
        "import os\n",
        "import  numpy as np"
      ],
      "execution_count": null,
      "outputs": []
    },
    {
      "cell_type": "code",
      "metadata": {
        "id": "k-iXW0c6Okm3"
      },
      "source": [
        "base_dir = '/content/drive/MyDrive/jupyter_notebooks/deep_learning_fc/data/cats-dogs-dataset'"
      ],
      "execution_count": null,
      "outputs": []
    },
    {
      "cell_type": "code",
      "metadata": {
        "id": "4c7Bz7mzO0WC"
      },
      "source": [
        "train_dir = os.path.join(base_dir,'train')\n",
        "val_dir = os.path.join(base_dir,'validation')\n",
        "test_dir = os.path.join(base_dir,'test')"
      ],
      "execution_count": null,
      "outputs": []
    },
    {
      "cell_type": "code",
      "metadata": {
        "colab": {
          "base_uri": "https://localhost:8080/"
        },
        "id": "TvotT7hbPF6G",
        "outputId": "24488763-c4bf-43bc-a002-e5b505cec606"
      },
      "source": [
        "print(len(os.listdir(os.path.join(train_dir,'cats'))),len(os.listdir(os.path.join(train_dir,'dogs'))))\n",
        "print(len(os.listdir(os.path.join(val_dir,'cats'))),len(os.listdir(os.path.join(val_dir,'dogs'))))\n",
        "print(len(os.listdir(os.path.join(test_dir,'cats'))),len(os.listdir(os.path.join(test_dir,'dogs'))))"
      ],
      "execution_count": null,
      "outputs": [
        {
          "output_type": "stream",
          "text": [
            "1000 1000\n",
            "500 500\n",
            "500 500\n"
          ],
          "name": "stdout"
        }
      ]
    },
    {
      "cell_type": "markdown",
      "metadata": {
        "id": "bhsSpzZglhi9"
      },
      "source": [
        "# **mtd-1**"
      ]
    },
    {
      "cell_type": "code",
      "metadata": {
        "id": "A5zpX7qsPtmw"
      },
      "source": [
        "#Running the convolutional base over our dataset, recording its output to a Numpy array on disk, \n",
        "#then using this data as input to a standalone densely-connected classifier. \n",
        "#This solution is very fast and cheap to run, because it only requires running the convolutional base once for every input image, \n",
        "#and the convolutional base is by far the most expensive part of the pipeline.\n",
        "# However, for the exact same reason, this technique would not allow us to leverage data augmentation at all."
      ],
      "execution_count": null,
      "outputs": []
    },
    {
      "cell_type": "code",
      "metadata": {
        "colab": {
          "base_uri": "https://localhost:8080/"
        },
        "id": "Bp-LFJ6CnTAg",
        "outputId": "42391310-d11f-40b4-8c3d-217f3e9dbdd3"
      },
      "source": [
        "data_gen = ImageDataGenerator(rescale=1./255)\n",
        "batch_size=20\n",
        "\n",
        "def get_features(n_samples, dir):\n",
        "  data = np.zeros((n_samples,4,4,512))\n",
        "  labels = np.zeros(n_samples)\n",
        "  gen = data_gen.flow_from_directory(dir,target_size=(150,150),class_mode='binary',batch_size = batch_size)\n",
        "  \n",
        "  i=0\n",
        "  for data_batch,label_batch in gen:\n",
        "    feature_batch = base_model.predict(data_batch)\n",
        "    data[i*batch_size:(i+1)*batch_size] = feature_batch\n",
        "    labels[i*batch_size:(i+1)*batch_size] = label_batch\n",
        "\n",
        "    i+=1\n",
        "\n",
        "    if batch_size*i >= n_samples:\n",
        "      break\n",
        "  return data, labels\n",
        "     \n",
        "\n",
        "train_data,train_lab = get_features(2000,train_dir)\n",
        "val_data, val_lab = get_features(1000,val_dir)\n",
        "test_data, test_lab = get_features(1000,test_dir)"
      ],
      "execution_count": null,
      "outputs": [
        {
          "output_type": "stream",
          "text": [
            "Found 2000 images belonging to 2 classes.\n",
            "Found 1000 images belonging to 2 classes.\n",
            "Found 1000 images belonging to 2 classes.\n"
          ],
          "name": "stdout"
        }
      ]
    },
    {
      "cell_type": "code",
      "metadata": {
        "id": "pzj0hWxxpBWZ"
      },
      "source": [
        "x_train = train_data.reshape(-1,(4*4*512))\n",
        "x_test = test_data.reshape(-1,(4*4*512))\n",
        "x_val = val_data.reshape(-1,(4*4*512))"
      ],
      "execution_count": null,
      "outputs": []
    },
    {
      "cell_type": "code",
      "metadata": {
        "id": "heVFXk3CtfmL"
      },
      "source": [
        "from keras import optimizers \n",
        "classifier = Sequential()\n",
        "classifier.add(Dense(256,activation='relu',input_shape=(4*4*512,)))\n",
        "classifier.add(Dropout(0.3))\n",
        "classifier.add(Dense(1,activation = 'sigmoid'))\n",
        "classifier.compile(optimizer = optimizers.RMSprop(learning_rate=1e-4),loss='binary_crossentropy',metrics=['acc'])"
      ],
      "execution_count": null,
      "outputs": []
    },
    {
      "cell_type": "code",
      "metadata": {
        "id": "LXAA-58-t1oo",
        "colab": {
          "base_uri": "https://localhost:8080/"
        },
        "outputId": "c282681c-52c3-4d09-bdcf-80d187e62c54"
      },
      "source": [
        "classifier.fit(x_train,train_lab,epochs=30,batch_size=32,validation_data=(x_val,val_lab))"
      ],
      "execution_count": null,
      "outputs": [
        {
          "output_type": "stream",
          "text": [
            "Epoch 1/30\n",
            "63/63 [==============================] - 3s 35ms/step - loss: 0.5648 - acc: 0.7127 - val_loss: 0.3142 - val_acc: 0.8510\n",
            "Epoch 2/30\n",
            "63/63 [==============================] - 2s 27ms/step - loss: 0.2878 - acc: 0.8822 - val_loss: 0.2886 - val_acc: 0.8740\n",
            "Epoch 3/30\n",
            "63/63 [==============================] - 2s 27ms/step - loss: 0.2190 - acc: 0.9169 - val_loss: 0.2660 - val_acc: 0.8770\n",
            "Epoch 4/30\n",
            "63/63 [==============================] - 2s 27ms/step - loss: 0.1904 - acc: 0.9346 - val_loss: 0.2769 - val_acc: 0.8710\n",
            "Epoch 5/30\n",
            "63/63 [==============================] - 2s 27ms/step - loss: 0.1508 - acc: 0.9404 - val_loss: 0.2759 - val_acc: 0.8780\n",
            "Epoch 6/30\n",
            "63/63 [==============================] - 2s 27ms/step - loss: 0.1454 - acc: 0.9417 - val_loss: 0.2536 - val_acc: 0.8890\n",
            "Epoch 7/30\n",
            "63/63 [==============================] - 2s 27ms/step - loss: 0.1121 - acc: 0.9676 - val_loss: 0.2752 - val_acc: 0.8840\n",
            "Epoch 8/30\n",
            "63/63 [==============================] - 2s 27ms/step - loss: 0.0928 - acc: 0.9742 - val_loss: 0.2798 - val_acc: 0.8700\n",
            "Epoch 9/30\n",
            "63/63 [==============================] - 2s 27ms/step - loss: 0.0772 - acc: 0.9747 - val_loss: 0.2724 - val_acc: 0.8800\n",
            "Epoch 10/30\n",
            "63/63 [==============================] - 2s 27ms/step - loss: 0.0653 - acc: 0.9824 - val_loss: 0.2682 - val_acc: 0.8850\n",
            "Epoch 11/30\n",
            "63/63 [==============================] - 2s 27ms/step - loss: 0.0616 - acc: 0.9806 - val_loss: 0.2821 - val_acc: 0.8870\n",
            "Epoch 12/30\n",
            "63/63 [==============================] - 2s 27ms/step - loss: 0.0602 - acc: 0.9812 - val_loss: 0.2711 - val_acc: 0.8870\n",
            "Epoch 13/30\n",
            "63/63 [==============================] - 2s 27ms/step - loss: 0.0460 - acc: 0.9938 - val_loss: 0.2875 - val_acc: 0.8800\n",
            "Epoch 14/30\n",
            "63/63 [==============================] - 2s 27ms/step - loss: 0.0361 - acc: 0.9911 - val_loss: 0.3301 - val_acc: 0.8840\n",
            "Epoch 15/30\n",
            "63/63 [==============================] - 2s 26ms/step - loss: 0.0346 - acc: 0.9930 - val_loss: 0.2972 - val_acc: 0.8820\n",
            "Epoch 16/30\n",
            "63/63 [==============================] - 2s 27ms/step - loss: 0.0241 - acc: 0.9984 - val_loss: 0.3322 - val_acc: 0.8720\n",
            "Epoch 17/30\n",
            "63/63 [==============================] - 2s 27ms/step - loss: 0.0262 - acc: 0.9964 - val_loss: 0.3167 - val_acc: 0.8800\n",
            "Epoch 18/30\n",
            "63/63 [==============================] - 2s 27ms/step - loss: 0.0185 - acc: 0.9990 - val_loss: 0.3197 - val_acc: 0.8790\n",
            "Epoch 19/30\n",
            "63/63 [==============================] - 2s 27ms/step - loss: 0.0178 - acc: 0.9978 - val_loss: 0.4556 - val_acc: 0.8690\n",
            "Epoch 20/30\n",
            "63/63 [==============================] - 2s 27ms/step - loss: 0.0154 - acc: 0.9963 - val_loss: 0.3943 - val_acc: 0.8780\n",
            "Epoch 21/30\n",
            "63/63 [==============================] - 2s 27ms/step - loss: 0.0122 - acc: 0.9994 - val_loss: 0.3498 - val_acc: 0.8830\n",
            "Epoch 22/30\n",
            "63/63 [==============================] - 2s 27ms/step - loss: 0.0085 - acc: 1.0000 - val_loss: 0.3577 - val_acc: 0.8820\n",
            "Epoch 23/30\n",
            "63/63 [==============================] - 2s 27ms/step - loss: 0.0082 - acc: 0.9999 - val_loss: 0.3699 - val_acc: 0.8810\n",
            "Epoch 24/30\n",
            "63/63 [==============================] - 2s 27ms/step - loss: 0.0085 - acc: 1.0000 - val_loss: 0.3988 - val_acc: 0.8730\n",
            "Epoch 25/30\n",
            "63/63 [==============================] - 2s 27ms/step - loss: 0.0064 - acc: 1.0000 - val_loss: 0.3825 - val_acc: 0.8740\n",
            "Epoch 26/30\n",
            "63/63 [==============================] - 2s 28ms/step - loss: 0.0056 - acc: 0.9999 - val_loss: 0.3811 - val_acc: 0.8830\n",
            "Epoch 27/30\n",
            "63/63 [==============================] - 2s 27ms/step - loss: 0.0033 - acc: 1.0000 - val_loss: 0.4096 - val_acc: 0.8720\n",
            "Epoch 28/30\n",
            "63/63 [==============================] - 2s 27ms/step - loss: 0.0032 - acc: 1.0000 - val_loss: 0.4121 - val_acc: 0.8780\n",
            "Epoch 29/30\n",
            "63/63 [==============================] - 2s 28ms/step - loss: 0.0037 - acc: 1.0000 - val_loss: 0.4262 - val_acc: 0.8830\n",
            "Epoch 30/30\n",
            "63/63 [==============================] - 2s 27ms/step - loss: 0.0029 - acc: 1.0000 - val_loss: 0.4555 - val_acc: 0.8810\n"
          ],
          "name": "stdout"
        },
        {
          "output_type": "execute_result",
          "data": {
            "text/plain": [
              "<tensorflow.python.keras.callbacks.History at 0x7fa430c97850>"
            ]
          },
          "metadata": {
            "tags": []
          },
          "execution_count": 11
        }
      ]
    },
    {
      "cell_type": "code",
      "metadata": {
        "id": "-f5q-0uHxiC-"
      },
      "source": [
        "classifier.save('/content/drive/MyDrive/jupyter_notebooks/deep_learning_fc/models/VGG1.h5')"
      ],
      "execution_count": null,
      "outputs": []
    },
    {
      "cell_type": "markdown",
      "metadata": {
        "id": "7fcvRR6jxnYe"
      },
      "source": [
        "# **Model Evaluation**"
      ]
    },
    {
      "cell_type": "code",
      "metadata": {
        "id": "AvqQ1U7-vdyt",
        "colab": {
          "base_uri": "https://localhost:8080/"
        },
        "outputId": "33592bc4-8155-4aa2-d0c9-196984942bbc"
      },
      "source": [
        "dict_ = classifier.history.history\n",
        "dict_.keys()"
      ],
      "execution_count": null,
      "outputs": [
        {
          "output_type": "execute_result",
          "data": {
            "text/plain": [
              "dict_keys(['loss', 'acc', 'val_loss', 'val_acc'])"
            ]
          },
          "metadata": {
            "tags": []
          },
          "execution_count": 13
        }
      ]
    },
    {
      "cell_type": "code",
      "metadata": {
        "id": "ODmiYVHwxs5p"
      },
      "source": [
        "train_acc = dict_['acc']\n",
        "train_loss = dict_['loss']\n",
        "val_acc = dict_['val_acc']\n",
        "val_loss = dict_['val_loss']\n",
        "epochs = range(1,len(train_acc)+1)"
      ],
      "execution_count": null,
      "outputs": []
    },
    {
      "cell_type": "markdown",
      "metadata": {
        "id": "u9hjBBgnxvIK"
      },
      "source": [
        "**Training v/s Validation**"
      ]
    },
    {
      "cell_type": "code",
      "metadata": {
        "id": "dEMbFSu6xuYg",
        "colab": {
          "base_uri": "https://localhost:8080/",
          "height": 312
        },
        "outputId": "4db439ff-b503-4c2c-d1e0-5f7d58c3ec85"
      },
      "source": [
        "import matplotlib.pyplot as plt\n",
        "\n",
        "plt.plot(epochs,train_acc,ls=':',label='Training_acc')\n",
        "plt.plot(epochs,val_acc,ls='-.',color='green',label='Validation_acc')\n",
        "plt.xlabel('Epochs')\n",
        "plt.ylabel('Accuracy')\n",
        "plt.title('training v/s validation acc')\n",
        "plt.legend()"
      ],
      "execution_count": null,
      "outputs": [
        {
          "output_type": "execute_result",
          "data": {
            "text/plain": [
              "<matplotlib.legend.Legend at 0x7fa4321ef0d0>"
            ]
          },
          "metadata": {
            "tags": []
          },
          "execution_count": 15
        },
        {
          "output_type": "display_data",
          "data": {
            "image/png": "[encoded data removed]",
            "text/plain": [
              "<Figure size 432x288 with 1 Axes>"
            ]
          },
          "metadata": {
            "tags": [],
            "needs_background": "light"
          }
        }
      ]
    },
    {
      "cell_type": "code",
      "metadata": {
        "id": "r_-tFuTvx1gl",
        "colab": {
          "base_uri": "https://localhost:8080/",
          "height": 312
        },
        "outputId": "30a1f982-05c6-4f65-c943-1c767999f8f0"
      },
      "source": [
        "plt.plot(epochs,train_loss,ls=':',label='Training_loss')\n",
        "plt.plot(epochs,val_loss,ls='-.',color='green',label='Validation_loss')\n",
        "plt.xlabel('Epochs')\n",
        "plt.ylabel('Accuracy')\n",
        "plt.title('training v/s validation loss')\n",
        "plt.legend()"
      ],
      "execution_count": null,
      "outputs": [
        {
          "output_type": "execute_result",
          "data": {
            "text/plain": [
              "<matplotlib.legend.Legend at 0x7fa431efbd90>"
            ]
          },
          "metadata": {
            "tags": []
          },
          "execution_count": 16
        },
        {
          "output_type": "display_data",
          "data": {
            "image/png": "[encoded data removed]",
            "text/plain": [
              "<Figure size 432x288 with 1 Axes>"
            ]
          },
          "metadata": {
            "tags": [],
            "needs_background": "light"
          }
        }
      ]
    },
    {
      "cell_type": "markdown",
      "metadata": {
        "id": "9OQz9T-hysDw"
      },
      "source": [
        "# **mtd-2**"
      ]
    },
    {
      "cell_type": "code",
      "metadata": {
        "id": "mOWhUSRSx3Qc"
      },
      "source": [
        "#Extending conv_base by adding Dense layers on top, and running the whole thing end-to-end on the input data.\n",
        "#This allows us to use data augmentation, because every input image is going through the convolutional base every time\n",
        "#it is seen by the model. However, for this same reason, this technique is far more expensive than the first one."
      ],
      "execution_count": null,
      "outputs": []
    },
    {
      "cell_type": "code",
      "metadata": {
        "id": "0ZuB_4a8zB0V"
      },
      "source": [
        "model = Sequential()\n",
        "model.add(base_model)\n",
        "model.add(Flatten())\n",
        "model.add(Dropout(0.3))\n",
        "model.add(Dense(256,activation='relu'))\n",
        "model.add(Dense(1,activation='sigmoid'))"
      ],
      "execution_count": null,
      "outputs": []
    },
    {
      "cell_type": "code",
      "metadata": {
        "id": "1-SMKXMNzeNV"
      },
      "source": [
        "from keras import optimizers \n",
        "model.compile(optimizer = optimizers.RMSprop(learning_rate=1e-4),loss='binary_crossentropy',metrics=['acc'])"
      ],
      "execution_count": null,
      "outputs": []
    },
    {
      "cell_type": "code",
      "metadata": {
        "id": "WIUBHWXwznHP",
        "colab": {
          "base_uri": "https://localhost:8080/"
        },
        "outputId": "40bbcf6d-04d7-43e8-c1d7-70b0cb24ad01"
      },
      "source": [
        "model.summary()"
      ],
      "execution_count": null,
      "outputs": [
        {
          "output_type": "stream",
          "text": [
            "Model: \"sequential\"\n",
            "_________________________________________________________________\n",
            "Layer (type)                 Output Shape              Param #   \n",
            "=================================================================\n",
            "vgg16 (Functional)           (None, 4, 4, 512)         14714688  \n",
            "_________________________________________________________________\n",
            "flatten (Flatten)            (None, 8192)              0         \n",
            "_________________________________________________________________\n",
            "dropout (Dropout)            (None, 8192)              0         \n",
            "_________________________________________________________________\n",
            "dense (Dense)                (None, 256)               2097408   \n",
            "_________________________________________________________________\n",
            "dense_1 (Dense)              (None, 1)                 257       \n",
            "=================================================================\n",
            "Total params: 16,812,353\n",
            "Trainable params: 2,097,665\n",
            "Non-trainable params: 14,714,688\n",
            "_________________________________________________________________\n"
          ],
          "name": "stdout"
        }
      ]
    },
    {
      "cell_type": "markdown",
      "metadata": {
        "id": "AF17oD67zvnd"
      },
      "source": [
        "# **data augmentation**"
      ]
    },
    {
      "cell_type": "code",
      "metadata": {
        "id": "HBYQOSshzs22"
      },
      "source": [
        "train_data_gen = ImageDataGenerator(rescale=1./255, \n",
        "                                    height_shift_range=0.2,\n",
        "                                    width_shift_range=0.2,\n",
        "                                    rotation_range=40,\n",
        "                                    shear_range=0.2,\n",
        "                                    zoom_range = 0.2,\n",
        "                                    horizontal_flip=True,\n",
        "                                    fill_mode='nearest',)\n",
        "\n",
        "#Note that the validation data shouldn't be augmented..!\n",
        "test_data_gen = ImageDataGenerator(rescale=1./255)"
      ],
      "execution_count": null,
      "outputs": []
    },
    {
      "cell_type": "code",
      "metadata": {
        "id": "w0vp2uPq0xY5",
        "colab": {
          "base_uri": "https://localhost:8080/"
        },
        "outputId": "c48d2315-e2ed-4145-9f40-a7dd2c50cbae"
      },
      "source": [
        "train_gen = train_data_gen.flow_from_directory(train_dir,target_size=(150,150),class_mode='binary',batch_size = 20,)\n",
        "test_gen = test_data_gen.flow_from_directory(train_dir,target_size=(150,150),class_mode='binary',batch_size = 20)"
      ],
      "execution_count": null,
      "outputs": [
        {
          "output_type": "stream",
          "text": [
            "Found 2000 images belonging to 2 classes.\n",
            "Found 2000 images belonging to 2 classes.\n"
          ],
          "name": "stdout"
        }
      ]
    },
    {
      "cell_type": "code",
      "metadata": {
        "id": "z5O-5KFr2b47"
      },
      "source": [
        " #Before training our model, a very important thing to do is to freeze the convolutional base. \"Freezing\" a layer \n",
        " #or set of layers means preventing their weights from getting updated during training. If we don't do this, then\n",
        " #the representations that were previously learned by the convolutional base would get modified during training."
      ],
      "execution_count": null,
      "outputs": []
    },
    {
      "cell_type": "code",
      "metadata": {
        "id": "SseJqjQ_4KwS"
      },
      "source": [
        "base_model.trainable = False\n",
        "                             #This step was not required in the last mtd\n",
        "                             #since, we were using  conv_base_model for prediction purpose only.\n",
        "                             #Hence, there was no training of conv_base_model\n",
        "                             #But here, we are training the conv_base_model by ---->> model.fit()\n",
        "                             #that's why this step is required .so that while training learned representations \n",
        "                             #of conv_base_model wouldn't get modified."
      ],
      "execution_count": null,
      "outputs": []
    },
    {
      "cell_type": "code",
      "metadata": {
        "id": "F-YMEuO4tlxC"
      },
      "source": [
        ""
      ],
      "execution_count": null,
      "outputs": []
    },
    {
      "cell_type": "code",
      "metadata": {
        "id": "ZpBsJjcy5exa",
        "colab": {
          "base_uri": "https://localhost:8080/"
        },
        "outputId": "5314097a-c747-4386-a2f1-a278a6eefb24"
      },
      "source": [
        "# base_model.trainable = False is ineffective\n",
        "\n",
        "for layer in base_model.layers:\n",
        "  \n",
        "  print(layer.name,layer.trainable)"
      ],
      "execution_count": null,
      "outputs": [
        {
          "output_type": "stream",
          "text": [
            "input_1 True\n",
            "block1_conv1 True\n",
            "block1_conv2 True\n",
            "block1_pool True\n",
            "block2_conv1 True\n",
            "block2_conv2 True\n",
            "block2_pool True\n",
            "block3_conv1 True\n",
            "block3_conv2 True\n",
            "block3_conv3 True\n",
            "block3_pool True\n",
            "block4_conv1 True\n",
            "block4_conv2 True\n",
            "block4_conv3 True\n",
            "block4_pool True\n",
            "block5_conv1 True\n",
            "block5_conv2 True\n",
            "block5_conv3 True\n",
            "block5_pool True\n"
          ],
          "name": "stdout"
        }
      ]
    },
    {
      "cell_type": "code",
      "metadata": {
        "id": "0N5gDdWs5sdQ"
      },
      "source": [
        "#The workaround is to set all inner layers to conv_base as non-trainable:\n",
        "\n",
        "for layer in base_model.layers:\n",
        "  layer.trainable = False"
      ],
      "execution_count": null,
      "outputs": []
    },
    {
      "cell_type": "code",
      "metadata": {
        "colab": {
          "base_uri": "https://localhost:8080/"
        },
        "id": "0XGfZvuc6TU1",
        "outputId": "4f915581-e075-4074-e106-6a76b3779911"
      },
      "source": [
        "for layer in base_model.layers:\n",
        "  print(layer.name,layer.trainable)"
      ],
      "execution_count": null,
      "outputs": [
        {
          "output_type": "stream",
          "text": [
            "input_1 False\n",
            "block1_conv1 False\n",
            "block1_conv2 False\n",
            "block1_pool False\n",
            "block2_conv1 False\n",
            "block2_conv2 False\n",
            "block2_pool False\n",
            "block3_conv1 False\n",
            "block3_conv2 False\n",
            "block3_conv3 False\n",
            "block3_pool False\n",
            "block4_conv1 False\n",
            "block4_conv2 False\n",
            "block4_conv3 False\n",
            "block4_pool False\n",
            "block5_conv1 False\n",
            "block5_conv2 False\n",
            "block5_conv3 False\n",
            "block5_pool False\n"
          ],
          "name": "stdout"
        }
      ]
    },
    {
      "cell_type": "code",
      "metadata": {
        "colab": {
          "base_uri": "https://localhost:8080/"
        },
        "id": "NaB93yIQ6Wcv",
        "outputId": "65ce3214-f28c-47b7-d14e-46398a113cfa"
      },
      "source": [
        "model.fit_generator(train_gen,epochs=10,steps_per_epoch=100,validation_data=test_gen,validation_steps=50)"
      ],
      "execution_count": null,
      "outputs": [
        {
          "output_type": "stream",
          "text": [
            "/usr/local/lib/python3.7/dist-packages/tensorflow/python/keras/engine/training.py:1844: UserWarning: `Model.fit_generator` is deprecated and will be removed in a future version. Please use `Model.fit`, which supports generators.\n",
            "  warnings.warn('`Model.fit_generator` is deprecated and '\n"
          ],
          "name": "stderr"
        },
        {
          "output_type": "stream",
          "text": [
            "Epoch 1/10\n",
            "100/100 [==============================] - 669s 7s/step - loss: 0.6040 - acc: 0.6678 - val_loss: 0.3282 - val_acc: 0.8640\n",
            "Epoch 2/10\n",
            "100/100 [==============================] - 666s 7s/step - loss: 0.4535 - acc: 0.7778 - val_loss: 0.2855 - val_acc: 0.8860\n",
            "Epoch 3/10\n",
            "100/100 [==============================] - 665s 7s/step - loss: 0.3785 - acc: 0.8231 - val_loss: 0.2739 - val_acc: 0.8870\n",
            "Epoch 4/10\n",
            "100/100 [==============================] - 665s 7s/step - loss: 0.3706 - acc: 0.8441 - val_loss: 0.2629 - val_acc: 0.8920\n",
            "Epoch 5/10\n",
            "100/100 [==============================] - 668s 7s/step - loss: 0.3785 - acc: 0.8244 - val_loss: 0.2551 - val_acc: 0.8960\n",
            "Epoch 6/10\n",
            "100/100 [==============================] - 665s 7s/step - loss: 0.3404 - acc: 0.8462 - val_loss: 0.2361 - val_acc: 0.9170\n",
            "Epoch 7/10\n",
            "100/100 [==============================] - 664s 7s/step - loss: 0.3639 - acc: 0.8444 - val_loss: 0.2903 - val_acc: 0.8800\n",
            "Epoch 8/10\n",
            "100/100 [==============================] - 664s 7s/step - loss: 0.3305 - acc: 0.8576 - val_loss: 0.2735 - val_acc: 0.8930\n",
            "Epoch 9/10\n",
            "100/100 [==============================] - 664s 7s/step - loss: 0.3546 - acc: 0.8404 - val_loss: 0.2284 - val_acc: 0.9060\n",
            "Epoch 10/10\n",
            "100/100 [==============================] - 664s 7s/step - loss: 0.3323 - acc: 0.8575 - val_loss: 0.1700 - val_acc: 0.9370\n"
          ],
          "name": "stdout"
        },
        {
          "output_type": "execute_result",
          "data": {
            "text/plain": [
              "<tensorflow.python.keras.callbacks.History at 0x7fad352e9950>"
            ]
          },
          "metadata": {
            "tags": []
          },
          "execution_count": 23
        }
      ]
    },
    {
      "cell_type": "code",
      "metadata": {
        "id": "WUp9hzkB7Z73"
      },
      "source": [
        "model.save('/content/drive/MyDrive/jupyter_notebooks/deep_learning_fc/models/VGG2.h5')"
      ],
      "execution_count": null,
      "outputs": []
    },
    {
      "cell_type": "markdown",
      "metadata": {
        "id": "ftAI1EeT65Gc"
      },
      "source": [
        "# **Model Evaluation**"
      ]
    },
    {
      "cell_type": "code",
      "metadata": {
        "id": "1Ofr0VLP7FbG",
        "colab": {
          "base_uri": "https://localhost:8080/"
        },
        "outputId": "c95e388d-6cc5-4864-8502-5127768c0923"
      },
      "source": [
        "dict_ = model.history.history\n",
        "dict_.keys()"
      ],
      "execution_count": null,
      "outputs": [
        {
          "output_type": "execute_result",
          "data": {
            "text/plain": [
              "dict_keys(['loss', 'acc', 'val_loss', 'val_acc'])"
            ]
          },
          "metadata": {
            "tags": []
          },
          "execution_count": 25
        }
      ]
    },
    {
      "cell_type": "code",
      "metadata": {
        "id": "T8sw22CL7HxJ"
      },
      "source": [
        "train_acc = dict_['acc']\n",
        "train_loss = dict_['loss']\n",
        "val_acc = dict_['val_acc']\n",
        "val_loss = dict_['val_loss']\n",
        "epochs = range(1,len(train_acc)+1)"
      ],
      "execution_count": null,
      "outputs": []
    },
    {
      "cell_type": "markdown",
      "metadata": {
        "id": "VwAJqQiE69Li"
      },
      "source": [
        "**Training v/s Validation**"
      ]
    },
    {
      "cell_type": "code",
      "metadata": {
        "id": "ULWgjZyJ6rm2",
        "colab": {
          "base_uri": "https://localhost:8080/"
        },
        "outputId": "8e08177e-478c-4061-fdba-d9e65be20a3b"
      },
      "source": [
        "import matplotlib.pyplot as plt\n",
        "\n",
        "plt.plot(epochs,train_acc,ls=':',label='Training_acc')\n",
        "plt.plot(epochs,val_acc,ls='-.',color='green',label='Validation_acc')\n",
        "plt.xlabel('Epochs')\n",
        "plt.ylabel('Accuracy')\n",
        "plt.title('training v/s validation acc')\n",
        "plt.legend()"
      ],
      "execution_count": null,
      "outputs": [
        {
          "output_type": "execute_result",
          "data": {
            "text/plain": [
              "<matplotlib.legend.Legend at 0x7fad354d4d50>"
            ]
          },
          "metadata": {
            "tags": []
          },
          "execution_count": 27
        },
        {
          "output_type": "display_data",
          "data": {
            "image/png": "[encoded data removed]",
            "text/plain": [
              "<Figure size 432x288 with 1 Axes>"
            ]
          },
          "metadata": {
            "tags": [],
            "needs_background": "light"
          }
        }
      ]
    },
    {
      "cell_type": "code",
      "metadata": {
        "id": "8gA4O8YE7V6K",
        "colab": {
          "base_uri": "https://localhost:8080/",
          "height": 312
        },
        "outputId": "d88e34fd-981e-4f4d-e89b-6e053ac24f9d"
      },
      "source": [
        "plt.plot(epochs,train_loss,ls=':',label='Training_loss')\n",
        "plt.plot(epochs,val_loss,ls='-.',color='green',label='Validation_loss')\n",
        "plt.xlabel('Epochs')\n",
        "plt.ylabel('Accuracy')\n",
        "plt.title('training v/s validation loss')\n",
        "plt.legend()"
      ],
      "execution_count": null,
      "outputs": [
        {
          "output_type": "execute_result",
          "data": {
            "text/plain": [
              "<matplotlib.legend.Legend at 0x7fad31724c50>"
            ]
          },
          "metadata": {
            "tags": []
          },
          "execution_count": 28
        },
        {
          "output_type": "display_data",
          "data": {
            "image/png": "[encoded data removed]",
            "text/plain": [
              "<Figure size 432x288 with 1 Axes>"
            ]
          },
          "metadata": {
            "tags": [],
            "needs_background": "light"
          }
        }
      ]
    },
    {
      "cell_type": "markdown",
      "metadata": {
        "id": "cfysGLdzCMt0"
      },
      "source": [
        "# **Fine tuning**"
      ]
    },
    {
      "cell_type": "code",
      "metadata": {
        "id": "NLm3Fya87YoF"
      },
      "source": [
        "#Fine-tuning consists in unfreezing a few of the top layers of a frozen model base used for feature extraction, \n",
        "#and jointly training both the newly added part of the model (classifier) and these top layers. \n",
        "#This is called \"fine-tuning\" because it slightly adjusts the more abstract representations of the model being reused, \n",
        "#in order to make them more relevant for the problem at hand."
      ],
      "execution_count": null,
      "outputs": []
    },
    {
      "cell_type": "code",
      "metadata": {
        "id": "S4ecid_zDiwJ"
      },
      "source": [
        "#it is only possible to fine-tune the top layers of the convolutional base once the classifier on top has already\n",
        "# been trained. If the classified wasn't already trained, then the error signal propagating through the network during \n",
        "#training would be too large, and the representations previously learned by the layers being fine-tuned would be destroyed. \n",
        "#Thus the steps for fine-tuning a network are as follow:\n",
        "\n",
        "# 1) Add your custom network on top of an already trained base network.\n",
        "# 2) Freeze the base network.\n",
        "# 3) Train the part you added.\n",
        "# 4) Unfreeze some layers in the base network.\n",
        "# 5) Jointly train both these layers and the part you added."
      ],
      "execution_count": null,
      "outputs": []
    },
    {
      "cell_type": "code",
      "metadata": {
        "id": "h7_pmyGVFGQW",
        "colab": {
          "base_uri": "https://localhost:8080/"
        },
        "outputId": "777db9e3-5942-4e8e-937f-41ea5f07978e"
      },
      "source": [
        "base_model.summary()"
      ],
      "execution_count": null,
      "outputs": [
        {
          "output_type": "stream",
          "text": [
            "Model: \"vgg16\"\n",
            "_________________________________________________________________\n",
            "Layer (type)                 Output Shape              Param #   \n",
            "=================================================================\n",
            "input_1 (InputLayer)         [(None, 150, 150, 3)]     0         \n",
            "_________________________________________________________________\n",
            "block1_conv1 (Conv2D)        (None, 150, 150, 64)      1792      \n",
            "_________________________________________________________________\n",
            "block1_conv2 (Conv2D)        (None, 150, 150, 64)      36928     \n",
            "_________________________________________________________________\n",
            "block1_pool (MaxPooling2D)   (None, 75, 75, 64)        0         \n",
            "_________________________________________________________________\n",
            "block2_conv1 (Conv2D)        (None, 75, 75, 128)       73856     \n",
            "_________________________________________________________________\n",
            "block2_conv2 (Conv2D)        (None, 75, 75, 128)       147584    \n",
            "_________________________________________________________________\n",
            "block2_pool (MaxPooling2D)   (None, 37, 37, 128)       0         \n",
            "_________________________________________________________________\n",
            "block3_conv1 (Conv2D)        (None, 37, 37, 256)       295168    \n",
            "_________________________________________________________________\n",
            "block3_conv2 (Conv2D)        (None, 37, 37, 256)       590080    \n",
            "_________________________________________________________________\n",
            "block3_conv3 (Conv2D)        (None, 37, 37, 256)       590080    \n",
            "_________________________________________________________________\n",
            "block3_pool (MaxPooling2D)   (None, 18, 18, 256)       0         \n",
            "_________________________________________________________________\n",
            "block4_conv1 (Conv2D)        (None, 18, 18, 512)       1180160   \n",
            "_________________________________________________________________\n",
            "block4_conv2 (Conv2D)        (None, 18, 18, 512)       2359808   \n",
            "_________________________________________________________________\n",
            "block4_conv3 (Conv2D)        (None, 18, 18, 512)       2359808   \n",
            "_________________________________________________________________\n",
            "block4_pool (MaxPooling2D)   (None, 9, 9, 512)         0         \n",
            "_________________________________________________________________\n",
            "block5_conv1 (Conv2D)        (None, 9, 9, 512)         2359808   \n",
            "_________________________________________________________________\n",
            "block5_conv2 (Conv2D)        (None, 9, 9, 512)         2359808   \n",
            "_________________________________________________________________\n",
            "block5_conv3 (Conv2D)        (None, 9, 9, 512)         2359808   \n",
            "_________________________________________________________________\n",
            "block5_pool (MaxPooling2D)   (None, 4, 4, 512)         0         \n",
            "=================================================================\n",
            "Total params: 14,714,688\n",
            "Trainable params: 0\n",
            "Non-trainable params: 14,714,688\n",
            "_________________________________________________________________\n"
          ],
          "name": "stdout"
        }
      ]
    },
    {
      "cell_type": "code",
      "metadata": {
        "id": "wlcpBElCEpBO"
      },
      "source": [
        "#We have already completed the first 3 steps when doing feature extraction. Let's proceed with the 4th step: \n",
        "#We will fine-tune the last 3 convolutional layers, which means that all layers up until block4_pool should be \n",
        "#frozen, and the layers block5_conv1, block5_conv2 and block5_conv3 should be trainable."
      ],
      "execution_count": null,
      "outputs": []
    },
    {
      "cell_type": "code",
      "metadata": {
        "id": "syfR9LC8ExGs"
      },
      "source": [
        "set_flag =False\n",
        "for layer in base_model.layers:\n",
        "  if layer.name =='block5_conv1':\n",
        "    set_flag = True\n",
        "\n",
        "  if set_flag:\n",
        "    layer.trainable=True\n",
        "  else:\n",
        "    pass"
      ],
      "execution_count": null,
      "outputs": []
    },
    {
      "cell_type": "code",
      "metadata": {
        "id": "byDbGjphHxxD",
        "colab": {
          "base_uri": "https://localhost:8080/"
        },
        "outputId": "e109e1df-b3b7-4526-fc96-109b2a78b567"
      },
      "source": [
        "for layer in base_model.layers:\n",
        "  print(layer.name,layer.trainable)"
      ],
      "execution_count": null,
      "outputs": [
        {
          "output_type": "stream",
          "text": [
            "input_1 False\n",
            "block1_conv1 False\n",
            "block1_conv2 False\n",
            "block1_pool False\n",
            "block2_conv1 False\n",
            "block2_conv2 False\n",
            "block2_pool False\n",
            "block3_conv1 False\n",
            "block3_conv2 False\n",
            "block3_conv3 False\n",
            "block3_pool False\n",
            "block4_conv1 False\n",
            "block4_conv2 False\n",
            "block4_conv3 False\n",
            "block4_pool False\n",
            "block5_conv1 True\n",
            "block5_conv2 True\n",
            "block5_conv3 True\n",
            "block5_pool True\n"
          ],
          "name": "stdout"
        }
      ]
    },
    {
      "cell_type": "code",
      "metadata": {
        "id": "nZEwpokEH4GG",
        "colab": {
          "base_uri": "https://localhost:8080/"
        },
        "outputId": "0b4575cf-6da3-488e-c702-c685d7aff11e"
      },
      "source": [
        "from keras import optimizers\n",
        "model.compile(optimizer = optimizers.RMSprop(learning_rate=1e-4),loss='binary_crossentropy',metrics=['acc'])\n",
        "model.fit_generator(train_gen,epochs=10,steps_per_epoch=100,validation_data=test_gen,validation_steps=50)\n"
      ],
      "execution_count": 24,
      "outputs": [
        {
          "output_type": "stream",
          "text": [
            "/usr/local/lib/python3.7/dist-packages/tensorflow/python/keras/engine/training.py:1844: UserWarning: `Model.fit_generator` is deprecated and will be removed in a future version. Please use `Model.fit`, which supports generators.\n",
            "  warnings.warn('`Model.fit_generator` is deprecated and '\n"
          ],
          "name": "stderr"
        },
        {
          "output_type": "stream",
          "text": [
            "Epoch 1/10\n",
            "100/100 [==============================] - 1282s 13s/step - loss: 0.6355 - acc: 0.6642 - val_loss: 0.3362 - val_acc: 0.8580\n",
            "Epoch 2/10\n",
            "100/100 [==============================] - 661s 7s/step - loss: 0.4453 - acc: 0.8020 - val_loss: 0.2599 - val_acc: 0.8900\n",
            "Epoch 3/10\n",
            "100/100 [==============================] - 661s 7s/step - loss: 0.4183 - acc: 0.8071 - val_loss: 0.2579 - val_acc: 0.8990\n",
            "Epoch 4/10\n",
            "100/100 [==============================] - 661s 7s/step - loss: 0.3882 - acc: 0.8335 - val_loss: 0.2284 - val_acc: 0.9050\n",
            "Epoch 5/10\n",
            "100/100 [==============================] - 661s 7s/step - loss: 0.3908 - acc: 0.8319 - val_loss: 0.3920 - val_acc: 0.8100\n",
            "Epoch 6/10\n",
            "100/100 [==============================] - 661s 7s/step - loss: 0.3823 - acc: 0.8245 - val_loss: 0.2080 - val_acc: 0.9220\n",
            "Epoch 7/10\n",
            "100/100 [==============================] - 661s 7s/step - loss: 0.3678 - acc: 0.8385 - val_loss: 0.2140 - val_acc: 0.9240\n",
            "Epoch 8/10\n",
            "100/100 [==============================] - 661s 7s/step - loss: 0.3651 - acc: 0.8376 - val_loss: 0.3009 - val_acc: 0.8670\n",
            "Epoch 9/10\n",
            "100/100 [==============================] - 660s 7s/step - loss: 0.3559 - acc: 0.8377 - val_loss: 0.1911 - val_acc: 0.9230\n",
            "Epoch 10/10\n",
            "100/100 [==============================] - 664s 7s/step - loss: 0.3497 - acc: 0.8413 - val_loss: 0.1825 - val_acc: 0.9240\n"
          ],
          "name": "stdout"
        },
        {
          "output_type": "execute_result",
          "data": {
            "text/plain": [
              "<tensorflow.python.keras.callbacks.History at 0x7efe8f4eeb50>"
            ]
          },
          "metadata": {
            "tags": []
          },
          "execution_count": 24
        }
      ]
    },
    {
      "cell_type": "code",
      "metadata": {
        "id": "Duc9vTwbIhQ5"
      },
      "source": [
        "model.save('/content/drive/MyDrive/jupyter_notebooks/deep_learning_fc/models/VGG3_fine_tuned.h5')"
      ],
      "execution_count": 25,
      "outputs": []
    },
    {
      "cell_type": "markdown",
      "metadata": {
        "id": "2jr1tHUPI7IZ"
      },
      "source": [
        "# **Model Evaluation**"
      ]
    },
    {
      "cell_type": "code",
      "metadata": {
        "id": "0K2a48ZWvdkR",
        "colab": {
          "base_uri": "https://localhost:8080/"
        },
        "outputId": "44529ea7-d887-471c-c451-08948f2ec430"
      },
      "source": [
        "dict_ = model.history.history\n",
        "dict_.keys()"
      ],
      "execution_count": 26,
      "outputs": [
        {
          "output_type": "execute_result",
          "data": {
            "text/plain": [
              "dict_keys(['loss', 'acc', 'val_loss', 'val_acc'])"
            ]
          },
          "metadata": {
            "tags": []
          },
          "execution_count": 26
        }
      ]
    },
    {
      "cell_type": "code",
      "metadata": {
        "id": "kKMSPvM3vgZz"
      },
      "source": [
        "train_acc = dict_['acc']\n",
        "train_loss = dict_['loss']\n",
        "val_acc = dict_['val_acc']\n",
        "val_loss = dict_['val_loss']\n",
        "epochs = range(1,len(train_acc)+1)"
      ],
      "execution_count": 27,
      "outputs": []
    },
    {
      "cell_type": "markdown",
      "metadata": {
        "id": "mhkRbxQWJJiJ"
      },
      "source": [
        "**Training v/s Validation**"
      ]
    },
    {
      "cell_type": "code",
      "metadata": {
        "id": "9WOwiE4JI0wv",
        "colab": {
          "base_uri": "https://localhost:8080/",
          "height": 312
        },
        "outputId": "3855ef12-55d0-416f-91ba-48aaf4d13acc"
      },
      "source": [
        "import matplotlib.pyplot as plt\n",
        "\n",
        "plt.plot(epochs,train_acc,ls=':',label='Training_acc')\n",
        "plt.plot(epochs,val_acc,ls='-.',color='green',label='Validation_acc')\n",
        "plt.xlabel('Epochs')\n",
        "plt.ylabel('Accuracy')\n",
        "plt.title('training v/s validation acc')\n",
        "plt.legend()"
      ],
      "execution_count": 29,
      "outputs": [
        {
          "output_type": "execute_result",
          "data": {
            "text/plain": [
              "<matplotlib.legend.Legend at 0x7efe8a496810>"
            ]
          },
          "metadata": {
            "tags": []
          },
          "execution_count": 29
        },
        {
          "output_type": "display_data",
          "data": {
            "image/png": "[encoded data removed]",
            "text/plain": [
              "<Figure size 432x288 with 1 Axes>"
            ]
          },
          "metadata": {
            "tags": [],
            "needs_background": "light"
          }
        }
      ]
    },
    {
      "cell_type": "code",
      "metadata": {
        "id": "raS1mrE0JRyd",
        "colab": {
          "base_uri": "https://localhost:8080/",
          "height": 312
        },
        "outputId": "dcccbbd5-214e-452b-ddb0-13fa57ab3101"
      },
      "source": [
        "plt.plot(epochs,train_loss,ls=':',label='Training_loss')\n",
        "plt.plot(epochs,val_loss,ls='-.',color='green',label='Validation_loss')\n",
        "plt.xlabel('Epochs')\n",
        "plt.ylabel('Accuracy')\n",
        "plt.title('training v/s validation loss')\n",
        "plt.legend()"
      ],
      "execution_count": 30,
      "outputs": [
        {
          "output_type": "execute_result",
          "data": {
            "text/plain": [
              "<matplotlib.legend.Legend at 0x7efe8a369110>"
            ]
          },
          "metadata": {
            "tags": []
          },
          "execution_count": 30
        },
        {
          "output_type": "display_data",
          "data": {
            "image/png": "[encoded data removed]",
            "text/plain": [
              "<Figure size 432x288 with 1 Axes>"
            ]
          },
          "metadata": {
            "tags": [],
            "needs_background": "light"
          }
        }
      ]
    },
    {
      "cell_type": "code",
      "metadata": {
        "id": "Ai6-NSSZJUU8"
      },
      "source": [
        ""
      ],
      "execution_count": null,
      "outputs": []
    }
  ]
}