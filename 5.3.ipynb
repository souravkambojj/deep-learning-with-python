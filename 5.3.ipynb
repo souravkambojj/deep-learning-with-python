{
  "nbformat": 4,
  "nbformat_minor": 0,
  "metadata": {
    "colab": {
      "name": "5.3.ipynb",
      "provenance": [],
      "collapsed_sections": []
    },
    "kernelspec": {
      "name": "python3",
      "display_name": "Python 3"
    },
    "language_info": {
      "name": "python"
    }
  },
  "cells": [
    {
      "cell_type": "code",
      "metadata": {
        "id": "uqTAs170Phvl"
      },
      "source": [
        "#https://machinelearningmastery.com/return-sequences-and-return-states-for-lstms-in-keras/"
      ],
      "execution_count": 2,
      "outputs": []
    },
    {
      "cell_type": "code",
      "metadata": {
        "id": "0Q_f_wWUP9ir"
      },
      "source": [
        "import numpy as np\n",
        "from keras.layers import Input, LSTM\n",
        "from keras.models import Model"
      ],
      "execution_count": 3,
      "outputs": []
    },
    {
      "cell_type": "code",
      "metadata": {
        "id": "DsMRLey3Rm3p"
      },
      "source": [
        "input = Input(shape=(3,1)) #we will hv one sample with 3 time steps\n",
        "output = LSTM(1)(input)\n",
        "model = Model(inputs=input,outputs=output)"
      ],
      "execution_count": 4,
      "outputs": []
    },
    {
      "cell_type": "code",
      "metadata": {
        "id": "JWsSaRB-U8Z-"
      },
      "source": [
        "data = np.array([0.1,0.2,0.3]).reshape(-1,3,1)  #since, input_shape is (3,1)"
      ],
      "execution_count": 5,
      "outputs": []
    },
    {
      "cell_type": "code",
      "metadata": {
        "colab": {
          "base_uri": "https://localhost:8080/"
        },
        "id": "qW8GpIvIVHFQ",
        "outputId": "485e0896-d697-4778-e562-f3924d78dcbc"
      },
      "source": [
        "model.predict(data) #it outputs a single hidden state for an input with 3 time steps"
      ],
      "execution_count": 6,
      "outputs": [
        {
          "output_type": "execute_result",
          "data": {
            "text/plain": [
              "array([[0.00435828]], dtype=float32)"
            ]
          },
          "metadata": {
            "tags": []
          },
          "execution_count": 6
        }
      ]
    },
    {
      "cell_type": "markdown",
      "metadata": {
        "id": "UDTPcsGWVain"
      },
      "source": [
        "**Return Sequences**"
      ]
    },
    {
      "cell_type": "code",
      "metadata": {
        "colab": {
          "base_uri": "https://localhost:8080/"
        },
        "id": "N_F9RDX3VZS-",
        "outputId": "ea57b1a1-931b-4768-c4f9-3f36140c9dd2"
      },
      "source": [
        "input = Input(shape=(3,1))\n",
        "output = LSTM(1,return_sequences=True)(input)\n",
        "model = Model(inputs=input,outputs=output)\n",
        "\n",
        "model.predict(data) #it returns a sequence of 3 values, one hidden state output for each time-step of input"
      ],
      "execution_count": 7,
      "outputs": [
        {
          "output_type": "execute_result",
          "data": {
            "text/plain": [
              "array([[[-0.02294573],\n",
              "        [-0.06260297],\n",
              "        [-0.11298669]]], dtype=float32)"
            ]
          },
          "metadata": {
            "tags": []
          },
          "execution_count": 7
        }
      ]
    },
    {
      "cell_type": "markdown",
      "metadata": {
        "id": "N_0jVdfsWiG0"
      },
      "source": [
        "**Note**"
      ]
    },
    {
      "cell_type": "code",
      "metadata": {
        "id": "PGk35H5LWRzF"
      },
      "source": [
        "#you must set return_sequences = True when stacking LSTM layers so that\n",
        "#the second LSTM layer has an 3 time step input, otherwise second LSTM will have a single value input"
      ],
      "execution_count": 8,
      "outputs": []
    },
    {
      "cell_type": "markdown",
      "metadata": {
        "id": "Pa9xzIuvXT8-"
      },
      "source": [
        "**Return States**"
      ]
    },
    {
      "cell_type": "code",
      "metadata": {
        "colab": {
          "base_uri": "https://localhost:8080/"
        },
        "id": "U_Z3BCftXTC7",
        "outputId": "a2050027-4f81-4d20-e346-927f0eac73f3"
      },
      "source": [
        "input = Input(shape=(3,1))\n",
        "output,state_h,state_c = LSTM(1,return_state=True)(input)\n",
        "\n",
        "model = Model(inputs=input,outputs=[output,state_h,state_c])\n",
        "\n",
        "model.predict(data)"
      ],
      "execution_count": 13,
      "outputs": [
        {
          "output_type": "stream",
          "text": [
            "WARNING:tensorflow:5 out of the last 5 calls to <function Model.make_predict_function.<locals>.predict_function at 0x7f8b54f7f5f0> triggered tf.function retracing. Tracing is expensive and the excessive number of tracings could be due to (1) creating @tf.function repeatedly in a loop, (2) passing tensors with different shapes, (3) passing Python objects instead of tensors. For (1), please define your @tf.function outside of the loop. For (2), @tf.function has experimental_relax_shapes=True option that relaxes argument shapes that can avoid unnecessary retracing. For (3), please refer to https://www.tensorflow.org/guide/function#controlling_retracing and https://www.tensorflow.org/api_docs/python/tf/function for  more details.\n"
          ],
          "name": "stdout"
        },
        {
          "output_type": "execute_result",
          "data": {
            "text/plain": [
              "[array([[0.04164772]], dtype=float32),\n",
              " array([[0.04164772]], dtype=float32),\n",
              " array([[0.07780854]], dtype=float32)]"
            ]
          },
          "metadata": {
            "tags": []
          },
          "execution_count": 13
        }
      ]
    },
    {
      "cell_type": "code",
      "metadata": {
        "id": "8p_V9nRhXnjM"
      },
      "source": [
        "# The LSTM hidden state output for the last time step.\n",
        "# The LSTM hidden state output for the last time step (again).\n",
        "# The LSTM cell state for the last time step."
      ],
      "execution_count": 11,
      "outputs": []
    },
    {
      "cell_type": "markdown",
      "metadata": {
        "id": "6X7fALhaYiwU"
      },
      "source": [
        "**Return States and Sequences**"
      ]
    },
    {
      "cell_type": "code",
      "metadata": {
        "colab": {
          "base_uri": "https://localhost:8080/"
        },
        "id": "QrFiIsSjYhEM",
        "outputId": "59fbe7b9-8ead-43da-ae51-0f2393de3c6e"
      },
      "source": [
        "input = Input(shape=(3,1))\n",
        "output,state_h,state_c = LSTM(1,return_sequences=True,return_state=True)(input)\n",
        "model = Model(inputs=input,outputs=[output,state_h,state_c])\n",
        "model.predict(data)"
      ],
      "execution_count": 15,
      "outputs": [
        {
          "output_type": "stream",
          "text": [
            "WARNING:tensorflow:6 out of the last 6 calls to <function Model.make_predict_function.<locals>.predict_function at 0x7f8b43adc9e0> triggered tf.function retracing. Tracing is expensive and the excessive number of tracings could be due to (1) creating @tf.function repeatedly in a loop, (2) passing tensors with different shapes, (3) passing Python objects instead of tensors. For (1), please define your @tf.function outside of the loop. For (2), @tf.function has experimental_relax_shapes=True option that relaxes argument shapes that can avoid unnecessary retracing. For (3), please refer to https://www.tensorflow.org/guide/function#controlling_retracing and https://www.tensorflow.org/api_docs/python/tf/function for  more details.\n"
          ],
          "name": "stdout"
        },
        {
          "output_type": "execute_result",
          "data": {
            "text/plain": [
              "[array([[[0.01718909],\n",
              "         [0.04492081],\n",
              "         [0.07814135]]], dtype=float32),\n",
              " array([[0.07814135]], dtype=float32),\n",
              " array([[0.17401767]], dtype=float32)]"
            ]
          },
          "metadata": {
            "tags": []
          },
          "execution_count": 15
        }
      ]
    },
    {
      "cell_type": "code",
      "metadata": {
        "id": "qhfsVrY3ZagH"
      },
      "source": [
        "#The layer returns the hidden state for each input time step,\n",
        "# then separately, the hidden state output for the last time step and the cell state for the last input time step."
      ],
      "execution_count": 16,
      "outputs": []
    },
    {
      "cell_type": "code",
      "metadata": {
        "id": "ZyfTDgASZ2AS"
      },
      "source": [
        ""
      ],
      "execution_count": null,
      "outputs": []
    }
  ]
}
