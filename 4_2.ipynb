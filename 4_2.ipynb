{
  "nbformat": 4,
  "nbformat_minor": 0,
  "metadata": {
    "colab": {
      "name": "4.2.ipynb",
      "provenance": [],
      "collapsed_sections": []
    },
    "kernelspec": {
      "name": "python3",
      "display_name": "Python 3"
    },
    "language_info": {
      "name": "python"
    }
  },
  "cells": [
    {
      "cell_type": "code",
      "metadata": {
        "id": "xFu3BAG1Pqi2"
      },
      "source": [
        "import os,shutil"
      ],
      "execution_count": 1,
      "outputs": []
    },
    {
      "cell_type": "code",
      "metadata": {
        "id": "qsIWVNjPP2V8"
      },
      "source": [
        "base_dir = '/content/drive/MyDrive/jupyter_notebooks/deep_learning_fc/data/cats-dogs-dataset'"
      ],
      "execution_count": 2,
      "outputs": []
    },
    {
      "cell_type": "code",
      "metadata": {
        "id": "C2DoqgseREFE"
      },
      "source": [
        "#directories for our training, test and validation splits\n",
        "train_dir = os.path.join(base_dir,'train')\n",
        "os.mkdir(train_dir)\n",
        "test_dir = os.path.join(base_dir,'test')\n",
        "os.mkdir(test_dir)\n",
        "val_dir = os.path.join(base_dir,'validation')\n",
        "os.mkdir(val_dir)"
      ],
      "execution_count": 3,
      "outputs": []
    },
    {
      "cell_type": "code",
      "metadata": {
        "id": "ggzhCVmrRaTn"
      },
      "source": [
        "#directory with our training cat pictures\n",
        "train_cats_dir = os.path.join(train_dir,'cats')\n",
        "# os.mkdir(train_cats_dir)\n",
        "\n",
        "#directory with our training dog pictures\n",
        "train_dogs_dir = os.path.join(train_dir,'dogs')\n",
        "# os.mkdir(train_dogs_dir)\n",
        "\n",
        "#directory with our testing cat pictures\n",
        "test_cats_dir = os.path.join(test_dir,'cats')\n",
        "# os.mkdir(test_cats_dir)\n",
        "\n",
        "#directory with our testing dog pictures\n",
        "test_dogs_dir = os.path.join(test_dir,'dogs')\n",
        "# os.mkdir(test_dogs_dir)\n",
        "\n",
        "#directory with our validation cat pictures\n",
        "val_cats_dir = os.path.join(val_dir,'cats')\n",
        "# os.mkdir(val_cats_dir)\n",
        "\n",
        "#directory with our validation dog pictures\n",
        "val_dogs_dir = os.path.join(val_dir,'dogs')\n",
        "# os.mkdir(val_dogs_dir)"
      ],
      "execution_count": 4,
      "outputs": []
    },
    {
      "cell_type": "code",
      "metadata": {
        "colab": {
          "base_uri": "https://localhost:8080/"
        },
        "id": "ZxT0wLz0R7KU",
        "outputId": "ed1c1f70-9d32-4fea-e85e-e857bb8cf26d"
      },
      "source": [
        "src_path = os.path.join(base_dir,'train1')\n",
        "len(os.listdir(src_path))"
      ],
      "execution_count": null,
      "outputs": [
        {
          "output_type": "execute_result",
          "data": {
            "text/plain": [
              "25000"
            ]
          },
          "metadata": {
            "tags": []
          },
          "execution_count": 8
        }
      ]
    },
    {
      "cell_type": "code",
      "metadata": {
        "colab": {
          "base_uri": "https://localhost:8080/"
        },
        "id": "136Ny58LT3Ue",
        "outputId": "93b8115a-d07f-4df7-9b7a-bf1de19f6dcb"
      },
      "source": [
        "os.listdir(src_path)[:3]"
      ],
      "execution_count": 6,
      "outputs": [
        {
          "output_type": "execute_result",
          "data": {
            "text/plain": [
              "['dog.9000.jpg', 'dog.9001.jpg', 'dog.9002.jpg']"
            ]
          },
          "metadata": {
            "tags": []
          },
          "execution_count": 6
        }
      ]
    },
    {
      "cell_type": "code",
      "metadata": {
        "id": "NrP92xWtUeoo"
      },
      "source": [
        "#copy first 1000 cat images to train_cats_dir\n",
        "#mtd1                                                                #mtd2\n",
        "#if we don't want to update image name in destination directory      #if we want to update image image\n",
        "for i in range(1000):                                                # for i in range(1000):\n",
        "  img_name = 'cat.%d.jpg'%i                                          #   img_name = 'cat.%d.jpg'%i\n",
        "  src = os.path.join(src_path,img_name)                              #   new_img_name = 'abcd.%d.png'%i\n",
        "  shutil.move(src,train_cats_dir)                                    #   src = os.path.join(src_path,img_name)\n",
        "                                                                     #   des = os.path.join(train_cats_dir,new_img_name)\n",
        "                                                                     #   shutil.move(src,des)\n",
        "#copy next 500 cat images to test_cats_dir\n",
        "for i in range(1000,1500):\n",
        "  img_name = 'cat.%d.jpg'%i\n",
        "  src = os.path.join(src_path,img_name)\n",
        "  shutil.move(src,test_cats_dir)\n",
        "\n",
        "#copy next 500 cat images to val_cats_dir\n",
        "for i in range(1500,2000):\n",
        "  img_name = 'cat.{}.jpg'.format(i)\n",
        "  src = os.path.join(src_path,img_name)\n",
        "  shutil.move(src,val_cats_dir)"
      ],
      "execution_count": 7,
      "outputs": []
    },
    {
      "cell_type": "code",
      "metadata": {
        "id": "zBdxIWZQX37g"
      },
      "source": [
        "#copy first 1000 dog images to train_dogs_dir\n",
        "for i in range(302,1000):\n",
        "  img_name = 'dog.%d.jpg'%i\n",
        "  src = os.path.join(src_path,img_name)\n",
        "  shutil.move(src,train_dogs_dir)\n",
        "\n",
        "#copy next 500 dog images to test_dogs_dir\n",
        "for i in range(1000,1500):\n",
        "  img_name = 'dog.%d.jpg'%i\n",
        "  src = os.path.join(src_path,img_name)\n",
        "  shutil.move(src,test_dogs_dir)\n",
        "\n",
        "#copy next 500 dog images to val_dogs_dir\n",
        "for i in range(1500,2000):\n",
        "  img_name = 'dog.{}.jpg'.format(i)\n",
        "  src = os.path.join(src_path,img_name)\n",
        "  shutil.move(src,val_dogs_dir)"
      ],
      "execution_count": 8,
      "outputs": []
    },
    {
      "cell_type": "code",
      "metadata": {
        "colab": {
          "base_uri": "https://localhost:8080/"
        },
        "id": "EauDZ3cIYfZU",
        "outputId": "e27b991f-a25e-4107-bc30-7ef436d8f488"
      },
      "source": [
        "print(len(os.listdir(train_cats_dir)),len(os.listdir(train_dogs_dir)))\n",
        "print(len(os.listdir(test_cats_dir)),len(os.listdir(test_dogs_dir)))\n",
        "print(len(os.listdir(val_cats_dir)),len(os.listdir(val_dogs_dir)))"
      ],
      "execution_count": 9,
      "outputs": [
        {
          "output_type": "stream",
          "text": [
            "1000 1000\n",
            "500 500\n",
            "500 500\n"
          ],
          "name": "stdout"
        }
      ]
    },
    {
      "cell_type": "code",
      "metadata": {
        "colab": {
          "base_uri": "https://localhost:8080/"
        },
        "id": "hX7Pqv6CqsHf",
        "outputId": "d477c65b-eabd-45a8-de6a-a7a0a1abd3dc"
      },
      "source": [
        "src_path = os.path.join(base_dir,'train1')\n",
        "len(os.listdir(src_path))"
      ],
      "execution_count": 10,
      "outputs": [
        {
          "output_type": "execute_result",
          "data": {
            "text/plain": [
              "21000"
            ]
          },
          "metadata": {
            "tags": []
          },
          "execution_count": 10
        }
      ]
    },
    {
      "cell_type": "markdown",
      "metadata": {
        "id": "bLc7MD9QZMHP"
      },
      "source": [
        "## **Building our Network**"
      ]
    },
    {
      "cell_type": "code",
      "metadata": {
        "id": "HB_dtmfSZFy8"
      },
      "source": [
        "from keras.models import Sequential\n",
        "from keras.layers import Conv2D, MaxPool2D,Flatten,Dense\n",
        "model = Sequential()"
      ],
      "execution_count": 11,
      "outputs": []
    },
    {
      "cell_type": "code",
      "metadata": {
        "id": "UjXMIe_MZatC"
      },
      "source": [
        "model.add(Conv2D(32,(3,3),activation='relu',input_shape=(150,150,3) ))\n",
        "model.add( MaxPool2D( (2,2) ) )\n",
        "model.add(Conv2D(64,(3,3),activation='relu'))\n",
        "model.add( MaxPool2D( (2,2) ) )\n",
        "model.add(Conv2D(128,(3,3),activation='relu'))\n",
        "model.add( MaxPool2D( (2,2) ) )\n",
        "model.add(Conv2D(128,(3,3),activation='relu'))\n",
        "model.add( MaxPool2D( (2,2) ) )\n",
        "model.add(Flatten())\n",
        "model.add(Dense(128,activation ='relu'))\n",
        "model.add(Dense(32,activation='relu'))\n",
        "model.add(Dense(1,activation='sigmoid'))"
      ],
      "execution_count": 12,
      "outputs": []
    },
    {
      "cell_type": "code",
      "metadata": {
        "id": "rwWDP_iKaNWt"
      },
      "source": [
        "from keras import optimizers\n",
        "\n",
        "model.compile(optimizer=optimizers.RMSprop(learning_rate=1e-4),loss='binary_crossentropy',metrics=['acc'])"
      ],
      "execution_count": 13,
      "outputs": []
    },
    {
      "cell_type": "code",
      "metadata": {
        "colab": {
          "base_uri": "https://localhost:8080/"
        },
        "id": "e25SMNiHdvkn",
        "outputId": "35f83284-777e-48c2-f4fd-f073e4f5825a"
      },
      "source": [
        "model.summary()"
      ],
      "execution_count": 14,
      "outputs": [
        {
          "output_type": "stream",
          "text": [
            "Model: \"sequential\"\n",
            "_________________________________________________________________\n",
            "Layer (type)                 Output Shape              Param #   \n",
            "=================================================================\n",
            "conv2d (Conv2D)              (None, 148, 148, 32)      896       \n",
            "_________________________________________________________________\n",
            "max_pooling2d (MaxPooling2D) (None, 74, 74, 32)        0         \n",
            "_________________________________________________________________\n",
            "conv2d_1 (Conv2D)            (None, 72, 72, 64)        18496     \n",
            "_________________________________________________________________\n",
            "max_pooling2d_1 (MaxPooling2 (None, 36, 36, 64)        0         \n",
            "_________________________________________________________________\n",
            "conv2d_2 (Conv2D)            (None, 34, 34, 128)       73856     \n",
            "_________________________________________________________________\n",
            "max_pooling2d_2 (MaxPooling2 (None, 17, 17, 128)       0         \n",
            "_________________________________________________________________\n",
            "conv2d_3 (Conv2D)            (None, 15, 15, 128)       147584    \n",
            "_________________________________________________________________\n",
            "max_pooling2d_3 (MaxPooling2 (None, 7, 7, 128)         0         \n",
            "_________________________________________________________________\n",
            "flatten (Flatten)            (None, 6272)              0         \n",
            "_________________________________________________________________\n",
            "dense (Dense)                (None, 128)               802944    \n",
            "_________________________________________________________________\n",
            "dense_1 (Dense)              (None, 32)                4128      \n",
            "_________________________________________________________________\n",
            "dense_2 (Dense)              (None, 1)                 33        \n",
            "=================================================================\n",
            "Total params: 1,047,937\n",
            "Trainable params: 1,047,937\n",
            "Non-trainable params: 0\n",
            "_________________________________________________________________\n"
          ],
          "name": "stdout"
        }
      ]
    },
    {
      "cell_type": "code",
      "metadata": {
        "id": "mp9smEdWdyMW"
      },
      "source": [
        "from keras.preprocessing.image import ImageDataGenerator"
      ],
      "execution_count": 15,
      "outputs": []
    },
    {
      "cell_type": "code",
      "metadata": {
        "id": "YgHwI7tKPYlj"
      },
      "source": [
        "#All images will be rescaled by a factor of 255\n",
        "train_data_gen = ImageDataGenerator(rescale=1./255)\n",
        "test_data_gen = ImageDataGenerator(rescale=1./255)"
      ],
      "execution_count": 16,
      "outputs": []
    },
    {
      "cell_type": "code",
      "metadata": {
        "colab": {
          "base_uri": "https://localhost:8080/"
        },
        "id": "uIkeD8WlQ7eY",
        "outputId": "d59d5c6e-734d-437c-b052-0f00ab83b826"
      },
      "source": [
        "train_gen = train_data_gen.flow_from_directory(train_dir,batch_size=20,\n",
        "                                               target_size=(150,150), # All images will be resized to 150x150\n",
        "                                               class_mode='binary')#since we use binary_crossentropy loss, we need binary labels\n",
        "#while running this cell make sure it shows 2 classes\n",
        "#if it shows 3 then remove.ipynb_checkpoints/"
      ],
      "execution_count": 17,
      "outputs": [
        {
          "output_type": "stream",
          "text": [
            "Found 2000 images belonging to 2 classes.\n"
          ],
          "name": "stdout"
        }
      ]
    },
    {
      "cell_type": "code",
      "metadata": {
        "colab": {
          "base_uri": "https://localhost:8080/"
        },
        "id": "ukWs6-byTVs5",
        "outputId": "117b2e1d-c683-417b-acc9-da9b8abb8b3c"
      },
      "source": [
        "test_gen = test_data_gen.flow_from_directory(test_dir,target_size=(150,150),batch_size=20,class_mode='binary')"
      ],
      "execution_count": 18,
      "outputs": [
        {
          "output_type": "stream",
          "text": [
            "Found 1000 images belonging to 2 classes.\n"
          ],
          "name": "stdout"
        }
      ]
    },
    {
      "cell_type": "code",
      "metadata": {
        "id": "JBaxrC9sWTMc"
      },
      "source": [
        "#These generators yields batches of 150x150 RGB images (shape (20, 150, 150, 3)) and binary labels (shape (20,)). \n",
        "#20 is the number of samples in each batch (the batch size)"
      ],
      "execution_count": 21,
      "outputs": []
    },
    {
      "cell_type": "code",
      "metadata": {
        "colab": {
          "base_uri": "https://localhost:8080/"
        },
        "id": "TDzTJzxtXSpF",
        "outputId": "8ab1cfb4-fc61-4ebf-8369-5b86d9b37e54"
      },
      "source": [
        "#generators just loops endlessly over the images present in the target folder. \n",
        "#For this reason, we need to break the iteration loop at some point.\n",
        "\n",
        "for data_batch,label_batch in train_gen:\n",
        "  print('data batch shape: ',data_batch.shape)\n",
        "  print('label batch shape: ',label_batch.shape)\n",
        "  break"
      ],
      "execution_count": 20,
      "outputs": [
        {
          "output_type": "stream",
          "text": [
            "data batch shape:  (20, 150, 150, 3)\n",
            "label batch shape:  (20,)\n"
          ],
          "name": "stdout"
        }
      ]
    },
    {
      "cell_type": "code",
      "metadata": {
        "colab": {
          "base_uri": "https://localhost:8080/"
        },
        "id": "8x8hYc5jTs-8",
        "outputId": "8410a7b2-f5bb-43ef-a57f-4548697fe5ec"
      },
      "source": [
        " #train                              #batch_size * steps_per_epoch(or no of batches) = data_in_training_set\n",
        "                                     #20         *   100                             =  2000\n",
        "\n",
        "#validation                          #batch_size * validation_steps(or no of batches) = data_in_validation_set \n",
        "                                     #20         *   50                               =  1000\n",
        "                                     \n",
        "model.fit_generator(train_gen,epochs=30,steps_per_epoch=100,validation_data=test_gen,validation_steps=50)"
      ],
      "execution_count": 22,
      "outputs": [
        {
          "output_type": "stream",
          "text": [
            "/usr/local/lib/python3.7/dist-packages/tensorflow/python/keras/engine/training.py:1844: UserWarning: `Model.fit_generator` is deprecated and will be removed in a future version. Please use `Model.fit`, which supports generators.\n",
            "  warnings.warn('`Model.fit_generator` is deprecated and '\n"
          ],
          "name": "stderr"
        },
        {
          "output_type": "stream",
          "text": [
            "Epoch 1/30\n",
            "100/100 [==============================] - 1762s 18s/step - loss: 0.7010 - acc: 0.5114 - val_loss: 0.6915 - val_acc: 0.5000\n",
            "Epoch 2/30\n",
            "100/100 [==============================] - 95s 954ms/step - loss: 0.6922 - acc: 0.5072 - val_loss: 0.7182 - val_acc: 0.5070\n",
            "Epoch 3/30\n",
            "100/100 [==============================] - 96s 964ms/step - loss: 0.6748 - acc: 0.5744 - val_loss: 0.6535 - val_acc: 0.6230\n",
            "Epoch 4/30\n",
            "100/100 [==============================] - 96s 962ms/step - loss: 0.6510 - acc: 0.6061 - val_loss: 0.6763 - val_acc: 0.5660\n",
            "Epoch 5/30\n",
            "100/100 [==============================] - 97s 966ms/step - loss: 0.6303 - acc: 0.6525 - val_loss: 0.6230 - val_acc: 0.6550\n",
            "Epoch 6/30\n",
            "100/100 [==============================] - 97s 967ms/step - loss: 0.6035 - acc: 0.6996 - val_loss: 0.6198 - val_acc: 0.6560\n",
            "Epoch 7/30\n",
            "100/100 [==============================] - 97s 966ms/step - loss: 0.5647 - acc: 0.7037 - val_loss: 0.7296 - val_acc: 0.5930\n",
            "Epoch 8/30\n",
            "100/100 [==============================] - 96s 964ms/step - loss: 0.5585 - acc: 0.7250 - val_loss: 0.5943 - val_acc: 0.6790\n",
            "Epoch 9/30\n",
            "100/100 [==============================] - 96s 964ms/step - loss: 0.5245 - acc: 0.7429 - val_loss: 0.6236 - val_acc: 0.6760\n",
            "Epoch 10/30\n",
            "100/100 [==============================] - 97s 969ms/step - loss: 0.5109 - acc: 0.7495 - val_loss: 0.5626 - val_acc: 0.7060\n",
            "Epoch 11/30\n",
            "100/100 [==============================] - 96s 964ms/step - loss: 0.4950 - acc: 0.7570 - val_loss: 0.6287 - val_acc: 0.6640\n",
            "Epoch 12/30\n",
            "100/100 [==============================] - 97s 967ms/step - loss: 0.4657 - acc: 0.7788 - val_loss: 0.5398 - val_acc: 0.7170\n",
            "Epoch 13/30\n",
            "100/100 [==============================] - 97s 968ms/step - loss: 0.4547 - acc: 0.7783 - val_loss: 0.6495 - val_acc: 0.6730\n",
            "Epoch 14/30\n",
            "100/100 [==============================] - 97s 970ms/step - loss: 0.4223 - acc: 0.8002 - val_loss: 0.5390 - val_acc: 0.7180\n",
            "Epoch 15/30\n",
            "100/100 [==============================] - 96s 961ms/step - loss: 0.4299 - acc: 0.8052 - val_loss: 0.5766 - val_acc: 0.7040\n",
            "Epoch 16/30\n",
            "100/100 [==============================] - 96s 961ms/step - loss: 0.4059 - acc: 0.8196 - val_loss: 0.5468 - val_acc: 0.7350\n",
            "Epoch 17/30\n",
            "100/100 [==============================] - 96s 961ms/step - loss: 0.3567 - acc: 0.8472 - val_loss: 0.5277 - val_acc: 0.7500\n",
            "Epoch 18/30\n",
            "100/100 [==============================] - 96s 962ms/step - loss: 0.3864 - acc: 0.8218 - val_loss: 0.5499 - val_acc: 0.7330\n",
            "Epoch 19/30\n",
            "100/100 [==============================] - 96s 963ms/step - loss: 0.3639 - acc: 0.8268 - val_loss: 0.5488 - val_acc: 0.7310\n",
            "Epoch 20/30\n",
            "100/100 [==============================] - 96s 962ms/step - loss: 0.3222 - acc: 0.8522 - val_loss: 0.5588 - val_acc: 0.7340\n",
            "Epoch 21/30\n",
            "100/100 [==============================] - 96s 958ms/step - loss: 0.3097 - acc: 0.8672 - val_loss: 0.6162 - val_acc: 0.7230\n",
            "Epoch 22/30\n",
            "100/100 [==============================] - 96s 956ms/step - loss: 0.3194 - acc: 0.8521 - val_loss: 0.5582 - val_acc: 0.7400\n",
            "Epoch 23/30\n",
            "100/100 [==============================] - 95s 949ms/step - loss: 0.2903 - acc: 0.8816 - val_loss: 0.5507 - val_acc: 0.7420\n",
            "Epoch 24/30\n",
            "100/100 [==============================] - 95s 955ms/step - loss: 0.2585 - acc: 0.8946 - val_loss: 0.6095 - val_acc: 0.7230\n",
            "Epoch 25/30\n",
            "100/100 [==============================] - 96s 959ms/step - loss: 0.2640 - acc: 0.8969 - val_loss: 0.5808 - val_acc: 0.7320\n",
            "Epoch 26/30\n",
            "100/100 [==============================] - 95s 953ms/step - loss: 0.2413 - acc: 0.8945 - val_loss: 0.6497 - val_acc: 0.7300\n",
            "Epoch 27/30\n",
            "100/100 [==============================] - 96s 957ms/step - loss: 0.2173 - acc: 0.9135 - val_loss: 0.6780 - val_acc: 0.7200\n",
            "Epoch 28/30\n",
            "100/100 [==============================] - 96s 957ms/step - loss: 0.2218 - acc: 0.9120 - val_loss: 0.6326 - val_acc: 0.7310\n",
            "Epoch 29/30\n",
            "100/100 [==============================] - 95s 955ms/step - loss: 0.1833 - acc: 0.9291 - val_loss: 0.6171 - val_acc: 0.7450\n",
            "Epoch 30/30\n",
            "100/100 [==============================] - 95s 953ms/step - loss: 0.1832 - acc: 0.9257 - val_loss: 0.6445 - val_acc: 0.7480\n"
          ],
          "name": "stdout"
        },
        {
          "output_type": "execute_result",
          "data": {
            "text/plain": [
              "<tensorflow.python.keras.callbacks.History at 0x7f12cfa24b50>"
            ]
          },
          "metadata": {
            "tags": []
          },
          "execution_count": 22
        }
      ]
    },
    {
      "cell_type": "code",
      "metadata": {
        "id": "0tB2fMYxUlJB"
      },
      "source": [
        "model.save('/content/drive/MyDrive/jupyter_notebooks/deep_learning_fc/models/cats_dogs_1.h5')"
      ],
      "execution_count": 23,
      "outputs": []
    },
    {
      "cell_type": "markdown",
      "metadata": {
        "id": "p9M_S4_QjkKD"
      },
      "source": [
        "# **Model Evaluation**"
      ]
    },
    {
      "cell_type": "code",
      "metadata": {
        "colab": {
          "base_uri": "https://localhost:8080/"
        },
        "id": "skwOk1mdjFLr",
        "outputId": "50162df2-3760-433a-81d2-5d79f6090503"
      },
      "source": [
        "dict_ = model.history.history\n",
        "dict_.keys()"
      ],
      "execution_count": 24,
      "outputs": [
        {
          "output_type": "execute_result",
          "data": {
            "text/plain": [
              "dict_keys(['loss', 'acc', 'val_loss', 'val_acc'])"
            ]
          },
          "metadata": {
            "tags": []
          },
          "execution_count": 24
        }
      ]
    },
    {
      "cell_type": "code",
      "metadata": {
        "id": "fX3-_nqTjPYF"
      },
      "source": [
        "train_acc = dict_['acc']\n",
        "train_loss = dict_['loss']\n",
        "val_acc = dict_['val_acc']\n",
        "val_loss = dict_['val_loss']\n",
        "epochs = range(1,len(train_acc)+1)"
      ],
      "execution_count": 26,
      "outputs": []
    },
    {
      "cell_type": "markdown",
      "metadata": {
        "id": "oV2p-OKXjsRP"
      },
      "source": [
        "**Training v/s Validation**"
      ]
    },
    {
      "cell_type": "code",
      "metadata": {
        "colab": {
          "base_uri": "https://localhost:8080/",
          "height": 312
        },
        "id": "o_8JBQUnjSNg",
        "outputId": "6733cb9a-47b0-48da-bb16-20ff9bda841d"
      },
      "source": [
        "import matplotlib.pyplot as plt\n",
        "\n",
        "plt.plot(epochs,train_acc,ls=':',label='Training_acc')\n",
        "plt.plot(epochs,val_acc,ls='-.',color='green',label='Validation_acc')\n",
        "plt.xlabel('Epochs')\n",
        "plt.ylabel('Accuracy')\n",
        "plt.title('training v/s validation acc')\n",
        "plt.legend()"
      ],
      "execution_count": 27,
      "outputs": [
        {
          "output_type": "execute_result",
          "data": {
            "text/plain": [
              "<matplotlib.legend.Legend at 0x7f12cf013090>"
            ]
          },
          "metadata": {
            "tags": []
          },
          "execution_count": 27
        },
        {
          "output_type": "display_data",
          "data": {
            "image/png": "[encoded data removed]",
            "text/plain": [
              "<Figure size 432x288 with 1 Axes>"
            ]
          },
          "metadata": {
            "tags": [],
            "needs_background": "light"
          }
        }
      ]
    },
    {
      "cell_type": "code",
      "metadata": {
        "colab": {
          "base_uri": "https://localhost:8080/",
          "height": 312
        },
        "id": "gHU69VHojeDS",
        "outputId": "4d1a3df0-3cb3-4b23-f644-4b12244d27f1"
      },
      "source": [
        "plt.plot(epochs,train_loss,ls=':',label='Training_loss')\n",
        "plt.plot(epochs,val_loss,ls='-.',color='green',label='Validation_loss')\n",
        "plt.xlabel('Epochs')\n",
        "plt.ylabel('Accuracy')\n",
        "plt.title('training v/s validation loss')\n",
        "plt.legend()"
      ],
      "execution_count": 28,
      "outputs": [
        {
          "output_type": "execute_result",
          "data": {
            "text/plain": [
              "<matplotlib.legend.Legend at 0x7f12cd25db50>"
            ]
          },
          "metadata": {
            "tags": []
          },
          "execution_count": 28
        },
        {
          "output_type": "display_data",
          "data": {
            "image/png": "[encoded data removed]",
            "text/plain": [
              "<Figure size 432x288 with 1 Axes>"
            ]
          },
          "metadata": {
            "tags": [],
            "needs_background": "light"
          }
        }
      ]
    },
    {
      "cell_type": "code",
      "metadata": {
        "id": "Brc5ahrRjedg"
      },
      "source": [
        "#These plots are characteristic of overfitting. Our training accuracy increases linearly over time, until it reaches nearly 100%,\n",
        "#while our validation accuracy stalls at 70-75%. \n",
        "#Our validation loss reaches its minimum after only five epochs then stalls, while the training loss keeps decreasing linearly until it reaches nearly 0."
      ],
      "execution_count": 29,
      "outputs": []
    },
    {
      "cell_type": "code",
      "metadata": {
        "id": "HqRUuyDbkXnH"
      },
      "source": [
        "#Because we only have relatively few training samples (2000), overfitting is going to be our number one concern. \n",
        "#Let's mitigate overfitting using data augmentation."
      ],
      "execution_count": 30,
      "outputs": []
    },
    {
      "cell_type": "markdown",
      "metadata": {
        "id": "W9rVNp1mlK79"
      },
      "source": [
        "# **Data Augmentation**"
      ]
    },
    {
      "cell_type": "code",
      "metadata": {
        "id": "XMlpVBFGlOZs"
      },
      "source": [
        "train_datagen = ImageDataGenerator(rescale=1./255, \n",
        "                                    height_shift_range=0.2,\n",
        "                                    width_shift_range=0.2,\n",
        "                                    rotation_range=40,\n",
        "                                    shear_range=0.2,\n",
        "                                    zoom_range = 0.2,\n",
        "                                    horizontal_flip=True,\n",
        "                                    fill_mode='nearest',)\n",
        "\n",
        "#Note that the validation data shouldn't be augmented..!\n",
        "test_datagen = ImageDataGenerator(rescale=1./255)"
      ],
      "execution_count": 39,
      "outputs": []
    },
    {
      "cell_type": "code",
      "metadata": {
        "colab": {
          "base_uri": "https://localhost:8080/"
        },
        "id": "eELSxJRK37G6",
        "outputId": "523e94b1-1398-40fa-f07b-18fa26987d16"
      },
      "source": [
        "train_gen = train_datagen.flow_from_directory(train_dir,target_size=(150,150),batch_size=20,class_mode='binary')\n",
        "val_gen   = test_datagen.flow_from_directory(test_dir,target_size=(150,150),batch_size=20,class_mode='binary')"
      ],
      "execution_count": 45,
      "outputs": [
        {
          "output_type": "stream",
          "text": [
            "Found 2000 images belonging to 2 classes.\n",
            "Found 1000 images belonging to 2 classes.\n"
          ],
          "name": "stdout"
        }
      ]
    },
    {
      "cell_type": "markdown",
      "metadata": {
        "id": "yzzMCXR5st8R"
      },
      "source": [
        "# **Network Building**"
      ]
    },
    {
      "cell_type": "code",
      "metadata": {
        "id": "oM45qPXnsFlU"
      },
      "source": [
        "from keras.models import Sequential\n",
        "from keras.layers import Dropout\n",
        "model2 = Sequential()"
      ],
      "execution_count": 31,
      "outputs": []
    },
    {
      "cell_type": "code",
      "metadata": {
        "id": "fsAL38yFsRpB"
      },
      "source": [
        "model2.add(Conv2D(32,(3,3),activation='relu',input_shape=(150,150,3) ))\n",
        "model2.add(MaxPool2D((2,2)))\n",
        "model2.add(Conv2D(64,(3,3),activation='relu'))\n",
        "model2.add(MaxPool2D((2,2)))\n",
        "model2.add(Conv2D(64,(3,3),activation='relu'))\n",
        "model2.add(MaxPool2D((2,2)))\n",
        "model2.add(Conv2D(128,(3,3),activation='relu'))\n",
        "model2.add(MaxPool2D((2,2)))\n",
        "model2.add(Flatten())\n",
        "model2.add(Dropout(0.4))\n",
        "model2.add(Dense(128,activation ='relu'))\n",
        "model2.add(Dense(32,activation='relu'))\n",
        "model.add(Dense(1,activation='sigmoid'))"
      ],
      "execution_count": 35,
      "outputs": []
    },
    {
      "cell_type": "code",
      "metadata": {
        "colab": {
          "base_uri": "https://localhost:8080/"
        },
        "id": "YXkZ1QRbtXvS",
        "outputId": "6fe07f74-d298-4858-8901-5e866e108576"
      },
      "source": [
        "model2.summary()"
      ],
      "execution_count": 36,
      "outputs": [
        {
          "output_type": "stream",
          "text": [
            "Model: \"sequential_1\"\n",
            "_________________________________________________________________\n",
            "Layer (type)                 Output Shape              Param #   \n",
            "=================================================================\n",
            "conv2d_4 (Conv2D)            (None, 148, 148, 32)      896       \n",
            "_________________________________________________________________\n",
            "max_pooling2d_4 (MaxPooling2 (None, 74, 74, 32)        0         \n",
            "_________________________________________________________________\n",
            "conv2d_5 (Conv2D)            (None, 72, 72, 64)        18496     \n",
            "_________________________________________________________________\n",
            "max_pooling2d_5 (MaxPooling2 (None, 36, 36, 64)        0         \n",
            "_________________________________________________________________\n",
            "conv2d_6 (Conv2D)            (None, 34, 34, 64)        36928     \n",
            "_________________________________________________________________\n",
            "max_pooling2d_6 (MaxPooling2 (None, 17, 17, 64)        0         \n",
            "_________________________________________________________________\n",
            "conv2d_7 (Conv2D)            (None, 15, 15, 128)       73856     \n",
            "_________________________________________________________________\n",
            "max_pooling2d_7 (MaxPooling2 (None, 7, 7, 128)         0         \n",
            "_________________________________________________________________\n",
            "flatten_1 (Flatten)          (None, 6272)              0         \n",
            "_________________________________________________________________\n",
            "dropout (Dropout)            (None, 6272)              0         \n",
            "_________________________________________________________________\n",
            "dense_3 (Dense)              (None, 128)               802944    \n",
            "_________________________________________________________________\n",
            "dense_4 (Dense)              (None, 32)                4128      \n",
            "=================================================================\n",
            "Total params: 937,248\n",
            "Trainable params: 937,248\n",
            "Non-trainable params: 0\n",
            "_________________________________________________________________\n"
          ],
          "name": "stdout"
        }
      ]
    },
    {
      "cell_type": "code",
      "metadata": {
        "id": "FEEtxCQctaTq"
      },
      "source": [
        "model2.compile(optimizer=optimizers.RMSprop(learning_rate=1e-4),loss='binary_crossentropy',metrics=['acc'])"
      ],
      "execution_count": 37,
      "outputs": []
    },
    {
      "cell_type": "code",
      "metadata": {
        "colab": {
          "base_uri": "https://localhost:8080/"
        },
        "id": "Bac6mR3OuhPF",
        "outputId": "f7ac4783-21a4-4339-e8dc-a9306d949790"
      },
      "source": [
        "model2.fit_generator(train_gen,epochs=40,steps_per_epoch=100,validation_data=val_gen,validation_steps=50)"
      ],
      "execution_count": 46,
      "outputs": [
        {
          "output_type": "stream",
          "text": [
            "/usr/local/lib/python3.7/dist-packages/tensorflow/python/keras/engine/training.py:1844: UserWarning: `Model.fit_generator` is deprecated and will be removed in a future version. Please use `Model.fit`, which supports generators.\n",
            "  warnings.warn('`Model.fit_generator` is deprecated and '\n"
          ],
          "name": "stderr"
        },
        {
          "output_type": "stream",
          "text": [
            "Epoch 1/40\n",
            "100/100 [==============================] - 91s 906ms/step - loss: 1.3491 - acc: 0.0190 - val_loss: 1.3169 - val_acc: 0.0130\n",
            "Epoch 2/40\n",
            "100/100 [==============================] - 90s 903ms/step - loss: 1.3418 - acc: 0.0250 - val_loss: 1.3498 - val_acc: 0.0510\n",
            "Epoch 3/40\n",
            "100/100 [==============================] - 91s 907ms/step - loss: 1.3311 - acc: 0.0230 - val_loss: 1.3058 - val_acc: 0.0120\n",
            "Epoch 4/40\n",
            "100/100 [==============================] - 90s 903ms/step - loss: 1.3321 - acc: 0.0350 - val_loss: 1.3063 - val_acc: 0.1050\n",
            "Epoch 5/40\n",
            "100/100 [==============================] - 91s 907ms/step - loss: 1.3173 - acc: 0.0355 - val_loss: 1.2933 - val_acc: 0.0320\n",
            "Epoch 6/40\n",
            "100/100 [==============================] - 91s 905ms/step - loss: 1.3266 - acc: 0.0210 - val_loss: 1.2864 - val_acc: 0.0130\n",
            "Epoch 7/40\n",
            "100/100 [==============================] - 91s 909ms/step - loss: 1.3175 - acc: 0.0230 - val_loss: 1.3233 - val_acc: 0.0050\n",
            "Epoch 8/40\n",
            "100/100 [==============================] - 91s 907ms/step - loss: 1.3202 - acc: 0.0275 - val_loss: 1.2859 - val_acc: 0.0060\n",
            "Epoch 9/40\n",
            "100/100 [==============================] - 91s 904ms/step - loss: 1.3199 - acc: 0.0215 - val_loss: 1.2741 - val_acc: 0.0070\n",
            "Epoch 10/40\n",
            "100/100 [==============================] - 91s 906ms/step - loss: 1.3143 - acc: 0.0235 - val_loss: 1.2724 - val_acc: 0.0090\n",
            "Epoch 11/40\n",
            "100/100 [==============================] - 90s 901ms/step - loss: 1.3103 - acc: 0.0215 - val_loss: 1.2880 - val_acc: 0.0010\n",
            "Epoch 12/40\n",
            "100/100 [==============================] - 90s 900ms/step - loss: 1.2930 - acc: 0.0110 - val_loss: 1.2840 - val_acc: 0.0130\n",
            "Epoch 13/40\n",
            "100/100 [==============================] - 95s 946ms/step - loss: 1.2836 - acc: 0.0245 - val_loss: 1.2705 - val_acc: 0.0580\n",
            "Epoch 14/40\n",
            "100/100 [==============================] - 91s 907ms/step - loss: 1.2878 - acc: 0.0360 - val_loss: 1.2638 - val_acc: 0.0350\n",
            "Epoch 15/40\n",
            "100/100 [==============================] - 91s 912ms/step - loss: 1.2992 - acc: 0.0170 - val_loss: 1.2838 - val_acc: 0.0070\n",
            "Epoch 16/40\n",
            "100/100 [==============================] - 91s 912ms/step - loss: 1.2917 - acc: 0.0220 - val_loss: 1.2542 - val_acc: 0.0090\n",
            "Epoch 17/40\n",
            "100/100 [==============================] - 92s 915ms/step - loss: 1.2874 - acc: 0.0465 - val_loss: 1.2845 - val_acc: 0.0060\n",
            "Epoch 18/40\n",
            "100/100 [==============================] - 92s 917ms/step - loss: 1.2961 - acc: 0.0125 - val_loss: 1.2540 - val_acc: 0.0120\n",
            "Epoch 19/40\n",
            "100/100 [==============================] - 91s 912ms/step - loss: 1.2957 - acc: 0.0305 - val_loss: 1.2650 - val_acc: 0.0330\n",
            "Epoch 20/40\n",
            "100/100 [==============================] - 91s 910ms/step - loss: 1.2842 - acc: 0.0380 - val_loss: 1.2768 - val_acc: 0.0410\n",
            "Epoch 21/40\n",
            "100/100 [==============================] - 91s 906ms/step - loss: 1.2942 - acc: 0.0280 - val_loss: 1.2495 - val_acc: 0.0020\n",
            "Epoch 22/40\n",
            "100/100 [==============================] - 91s 910ms/step - loss: 1.3228 - acc: 0.0275 - val_loss: 1.3114 - val_acc: 0.0650\n",
            "Epoch 23/40\n",
            "100/100 [==============================] - 92s 918ms/step - loss: 1.2876 - acc: 0.0365 - val_loss: 1.2801 - val_acc: 0.0090\n",
            "Epoch 24/40\n",
            "100/100 [==============================] - 91s 907ms/step - loss: 1.2792 - acc: 0.0265 - val_loss: 1.2856 - val_acc: 0.0260\n",
            "Epoch 25/40\n",
            "100/100 [==============================] - 91s 909ms/step - loss: 1.2766 - acc: 0.0260 - val_loss: 1.2537 - val_acc: 0.0260\n",
            "Epoch 26/40\n",
            "100/100 [==============================] - 91s 907ms/step - loss: 1.2575 - acc: 0.0165 - val_loss: 1.3454 - val_acc: 0.0080\n",
            "Epoch 27/40\n",
            "100/100 [==============================] - 91s 910ms/step - loss: 1.2650 - acc: 0.0315 - val_loss: 1.2605 - val_acc: 0.0200\n",
            "Epoch 28/40\n",
            "100/100 [==============================] - 91s 908ms/step - loss: 1.2496 - acc: 0.0365 - val_loss: 1.2691 - val_acc: 0.0270\n",
            "Epoch 29/40\n",
            "100/100 [==============================] - 91s 906ms/step - loss: 1.2656 - acc: 0.0690 - val_loss: 1.2497 - val_acc: 0.0320\n",
            "Epoch 30/40\n",
            "100/100 [==============================] - 90s 903ms/step - loss: 1.2711 - acc: 0.0485 - val_loss: 1.2405 - val_acc: 0.0150\n",
            "Epoch 31/40\n",
            "100/100 [==============================] - 90s 900ms/step - loss: 1.2750 - acc: 0.0435 - val_loss: 1.2365 - val_acc: 0.0640\n",
            "Epoch 32/40\n",
            "100/100 [==============================] - 90s 897ms/step - loss: 1.2735 - acc: 0.0505 - val_loss: 1.2369 - val_acc: 0.0680\n",
            "Epoch 33/40\n",
            "100/100 [==============================] - 91s 909ms/step - loss: 1.2632 - acc: 0.0520 - val_loss: 1.2798 - val_acc: 0.0660\n",
            "Epoch 34/40\n",
            "100/100 [==============================] - 90s 901ms/step - loss: 1.2720 - acc: 0.0400 - val_loss: 1.3380 - val_acc: 0.0110\n",
            "Epoch 35/40\n",
            "100/100 [==============================] - 90s 899ms/step - loss: 1.2647 - acc: 0.0365 - val_loss: 1.2698 - val_acc: 0.0090\n",
            "Epoch 36/40\n",
            "100/100 [==============================] - 90s 900ms/step - loss: 1.2681 - acc: 0.0370 - val_loss: 1.2448 - val_acc: 0.0260\n",
            "Epoch 37/40\n",
            "100/100 [==============================] - 90s 899ms/step - loss: 1.2419 - acc: 0.0635 - val_loss: 1.3632 - val_acc: 0.0990\n",
            "Epoch 38/40\n",
            "100/100 [==============================] - 90s 899ms/step - loss: 1.2612 - acc: 0.0475 - val_loss: 1.2665 - val_acc: 0.0570\n",
            "Epoch 39/40\n",
            "100/100 [==============================] - 90s 901ms/step - loss: 1.2647 - acc: 0.0370 - val_loss: 1.2743 - val_acc: 0.0690\n",
            "Epoch 40/40\n",
            "100/100 [==============================] - 90s 899ms/step - loss: 1.2724 - acc: 0.0515 - val_loss: 1.2345 - val_acc: 0.0540\n"
          ],
          "name": "stdout"
        },
        {
          "output_type": "execute_result",
          "data": {
            "text/plain": [
              "<tensorflow.python.keras.callbacks.History at 0x7f12ce2e7050>"
            ]
          },
          "metadata": {
            "tags": []
          },
          "execution_count": 46
        }
      ]
    },
    {
      "cell_type": "code",
      "metadata": {
        "id": "ztCiMcMEuE5d"
      },
      "source": [
        "model2.save('/content/drive/MyDrive/jupyter_notebooks/deep_learning_fc/models/cats_dogs_2_with_data_augmentation.h5')"
      ],
      "execution_count": 49,
      "outputs": []
    },
    {
      "cell_type": "markdown",
      "metadata": {
        "id": "bwlQ6_0wuN69"
      },
      "source": [
        "# **Model Evaluation**"
      ]
    },
    {
      "cell_type": "markdown",
      "metadata": {
        "id": "bBvqJL9PuUzj"
      },
      "source": [
        "**Training v/s Validation**"
      ]
    },
    {
      "cell_type": "code",
      "metadata": {
        "colab": {
          "base_uri": "https://localhost:8080/",
          "height": 312
        },
        "id": "fyAcP3MxuNRo",
        "outputId": "dfe727e0-a3cf-49b3-d467-1eda0b9ecc9b"
      },
      "source": [
        "plt.plot(epochs,train_acc,ls=':',label='Training_acc')\n",
        "plt.plot(epochs,val_acc,ls='-.',color='green',label='Validation_acc')\n",
        "plt.xlabel('Epochs')\n",
        "plt.ylabel('Accuracy')\n",
        "plt.title('training v/s validation acc')\n",
        "plt.legend()"
      ],
      "execution_count": 50,
      "outputs": [
        {
          "output_type": "execute_result",
          "data": {
            "text/plain": [
              "<matplotlib.legend.Legend at 0x7f12ce22f890>"
            ]
          },
          "metadata": {
            "tags": []
          },
          "execution_count": 50
        },
        {
          "output_type": "display_data",
          "data": {
            "image/png": "[encoded data removed]",
            "text/plain": [
              "<Figure size 432x288 with 1 Axes>"
            ]
          },
          "metadata": {
            "tags": [],
            "needs_background": "light"
          }
        }
      ]
    },
    {
      "cell_type": "code",
      "metadata": {
        "colab": {
          "base_uri": "https://localhost:8080/",
          "height": 312
        },
        "id": "n9mqUj1QublG",
        "outputId": "157c8ea0-a48f-49a4-f800-75f4b156905a"
      },
      "source": [
        "plt.plot(epochs,train_loss,ls=':',label='Training_loss')\n",
        "plt.plot(epochs,val_loss,ls='-.',color='green',label='Validation_loss')\n",
        "plt.xlabel('Epochs')\n",
        "plt.ylabel('Accuracy')\n",
        "plt.title('training v/s validation loss')\n",
        "plt.legend()"
      ],
      "execution_count": 51,
      "outputs": [
        {
          "output_type": "execute_result",
          "data": {
            "text/plain": [
              "<matplotlib.legend.Legend at 0x7f12ce16a690>"
            ]
          },
          "metadata": {
            "tags": []
          },
          "execution_count": 51
        },
        {
          "output_type": "display_data",
          "data": {
            "image/png": "[encoded data removed]",
            "text/plain": [
              "<Figure size 432x288 with 1 Axes>"
            ]
          },
          "metadata": {
            "tags": [],
            "needs_background": "light"
          }
        }
      ]
    },
    {
      "cell_type": "code",
      "metadata": {
        "id": "g3hLxk7h7OTc"
      },
      "source": [
        ""
      ],
      "execution_count": null,
      "outputs": []
    }
  ]
}