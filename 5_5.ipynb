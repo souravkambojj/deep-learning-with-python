{
  "nbformat": 4,
  "nbformat_minor": 0,
  "metadata": {
    "colab": {
      "name": "5.5.ipynb",
      "provenance": [],
      "collapsed_sections": []
    },
    "kernelspec": {
      "display_name": "Python 3",
      "name": "python3"
    },
    "language_info": {
      "name": "python"
    }
  },
  "cells": [
    {
      "cell_type": "code",
      "metadata": {
        "id": "CrAj_UK73kyQ"
      },
      "source": [
        "#https://www.bgc-jena.mpg.de/wetter/weather_data.html\n",
        "\n",
        "#download the   data under   WS Beutenberg   column   "
      ],
      "execution_count": null,
      "outputs": []
    },
    {
      "cell_type": "code",
      "metadata": {
        "id": "jbj_jFdd32IH"
      },
      "source": [
        "import pandas as pd\n",
        "import numpy as np\n",
        "import matplotlib.pyplot as plt\n",
        "import os\n",
        "import glob\n",
        "from keras.models import Model\n",
        "from keras.layers import Dense,Input,Flatten\n",
        "from keras.optimizers import RMSprop"
      ],
      "execution_count": null,
      "outputs": []
    },
    {
      "cell_type": "code",
      "metadata": {
        "colab": {
          "base_uri": "https://localhost:8080/"
        },
        "id": "qqOo3zD37rw_",
        "outputId": "c8e9e43c-df89-4356-833a-6339c4743d0d"
      },
      "source": [
        "base_path = '/content/drive/MyDrive/jupyter_notebooks/deep_learning_fc/data/time_series_data/'\n",
        "files = glob.glob(os.path.join(base_path,'*.csv'))\n",
        "files"
      ],
      "execution_count": null,
      "outputs": [
        {
          "output_type": "execute_result",
          "data": {
            "text/plain": [
              "['/content/drive/MyDrive/jupyter_notebooks/deep_learning_fc/data/time_series_data/mpi_roof_2009a.csv',\n",
              " '/content/drive/MyDrive/jupyter_notebooks/deep_learning_fc/data/time_series_data/mpi_roof_2009b.csv',\n",
              " '/content/drive/MyDrive/jupyter_notebooks/deep_learning_fc/data/time_series_data/mpi_roof_2010a.csv',\n",
              " '/content/drive/MyDrive/jupyter_notebooks/deep_learning_fc/data/time_series_data/mpi_roof_2010b.csv',\n",
              " '/content/drive/MyDrive/jupyter_notebooks/deep_learning_fc/data/time_series_data/mpi_roof_2011a.csv',\n",
              " '/content/drive/MyDrive/jupyter_notebooks/deep_learning_fc/data/time_series_data/mpi_roof_2011b.csv',\n",
              " '/content/drive/MyDrive/jupyter_notebooks/deep_learning_fc/data/time_series_data/mpi_roof_2012a.csv',\n",
              " '/content/drive/MyDrive/jupyter_notebooks/deep_learning_fc/data/time_series_data/mpi_roof_2012b.csv',\n",
              " '/content/drive/MyDrive/jupyter_notebooks/deep_learning_fc/data/time_series_data/mpi_roof_2013a.csv',\n",
              " '/content/drive/MyDrive/jupyter_notebooks/deep_learning_fc/data/time_series_data/mpi_roof_2013b.csv',\n",
              " '/content/drive/MyDrive/jupyter_notebooks/deep_learning_fc/data/time_series_data/mpi_roof_2014a.csv',\n",
              " '/content/drive/MyDrive/jupyter_notebooks/deep_learning_fc/data/time_series_data/mpi_roof_2014b.csv',\n",
              " '/content/drive/MyDrive/jupyter_notebooks/deep_learning_fc/data/time_series_data/mpi_roof_2015a.csv',\n",
              " '/content/drive/MyDrive/jupyter_notebooks/deep_learning_fc/data/time_series_data/mpi_roof_2015b.csv',\n",
              " '/content/drive/MyDrive/jupyter_notebooks/deep_learning_fc/data/time_series_data/mpi_roof_2016a.csv',\n",
              " '/content/drive/MyDrive/jupyter_notebooks/deep_learning_fc/data/time_series_data/mpi_roof_2016b.csv']"
            ]
          },
          "metadata": {
            "tags": []
          },
          "execution_count": 3
        }
      ]
    },
    {
      "cell_type": "code",
      "metadata": {
        "colab": {
          "base_uri": "https://localhost:8080/"
        },
        "id": "d8R3RY5J7u45",
        "outputId": "94d41630-6fb0-4389-9ad0-86e3647be371"
      },
      "source": [
        "dfs = []\n",
        "for file in files:\n",
        "  df = pd.read_csv(file,encoding='latin1')\n",
        "  dfs.append(df)\n",
        "data = pd.concat(dfs,axis=0,ignore_index=True)\n",
        "data.shape"
      ],
      "execution_count": null,
      "outputs": [
        {
          "output_type": "execute_result",
          "data": {
            "text/plain": [
              "(420551, 22)"
            ]
          },
          "metadata": {
            "tags": []
          },
          "execution_count": 4
        }
      ]
    },
    {
      "cell_type": "code",
      "metadata": {
        "colab": {
          "base_uri": "https://localhost:8080/"
        },
        "id": "2F_6kk3x73U7",
        "outputId": "bf69ff9d-3cf9-4a54-bff1-7487329a9b1e"
      },
      "source": [
        "data.columns"
      ],
      "execution_count": null,
      "outputs": [
        {
          "output_type": "execute_result",
          "data": {
            "text/plain": [
              "Index(['Date Time', 'p (mbar)', 'T (degC)', 'Tpot (K)', 'Tdew (degC)',\n",
              "       'rh (%)', 'VPmax (mbar)', 'VPact (mbar)', 'VPdef (mbar)', 'sh (g/kg)',\n",
              "       'H2OC (mmol/mol)', 'rho (g/m**3)', 'wv (m/s)', 'max. wv (m/s)',\n",
              "       'wd (deg)', 'rain (mm)', 'raining (s)', 'SWDR (W/m²)',\n",
              "       'PAR (µmol/m²/s)', 'max. PAR (µmol/m²/s)', 'Tlog (degC)', 'CO2 (ppm)'],\n",
              "      dtype='object')"
            ]
          },
          "metadata": {
            "tags": []
          },
          "execution_count": 5
        }
      ]
    },
    {
      "cell_type": "code",
      "metadata": {
        "id": "aFU6hYin9D6U"
      },
      "source": [
        "data_n = data[['Date Time', 'p (mbar)', 'T (degC)', 'Tpot (K)', 'Tdew (degC)',\n",
        "       'rh (%)', 'VPmax (mbar)', 'VPact (mbar)', 'VPdef (mbar)', 'sh (g/kg)',\n",
        "       'H2OC (mmol/mol)', 'rho (g/m**3)', 'wv (m/s)', 'max. wv (m/s)',\n",
        "       'wd (deg)']]"
      ],
      "execution_count": null,
      "outputs": []
    },
    {
      "cell_type": "code",
      "metadata": {
        "colab": {
          "base_uri": "https://localhost:8080/",
          "height": 162
        },
        "id": "6zkagyqT9Mt0",
        "outputId": "cd24d099-ee67-4f74-c80f-6e2b2316dbdd"
      },
      "source": [
        "data_n.head(2)"
      ],
      "execution_count": null,
      "outputs": [
        {
          "output_type": "execute_result",
          "data": {
            "text/html": [
              "<div>\n",
              "<style scoped>\n",
              "    .dataframe tbody tr th:only-of-type {\n",
              "        vertical-align: middle;\n",
              "    }\n",
              "\n",
              "    .dataframe tbody tr th {\n",
              "        vertical-align: top;\n",
              "    }\n",
              "\n",
              "    .dataframe thead th {\n",
              "        text-align: right;\n",
              "    }\n",
              "</style>\n",
              "<table border=\"1\" class=\"dataframe\">\n",
              "  <thead>\n",
              "    <tr style=\"text-align: right;\">\n",
              "      <th></th>\n",
              "      <th>Date Time</th>\n",
              "      <th>p (mbar)</th>\n",
              "      <th>T (degC)</th>\n",
              "      <th>Tpot (K)</th>\n",
              "      <th>Tdew (degC)</th>\n",
              "      <th>rh (%)</th>\n",
              "      <th>VPmax (mbar)</th>\n",
              "      <th>VPact (mbar)</th>\n",
              "      <th>VPdef (mbar)</th>\n",
              "      <th>sh (g/kg)</th>\n",
              "      <th>H2OC (mmol/mol)</th>\n",
              "      <th>rho (g/m**3)</th>\n",
              "      <th>wv (m/s)</th>\n",
              "      <th>max. wv (m/s)</th>\n",
              "      <th>wd (deg)</th>\n",
              "    </tr>\n",
              "  </thead>\n",
              "  <tbody>\n",
              "    <tr>\n",
              "      <th>0</th>\n",
              "      <td>01.01.2009 00:10:00</td>\n",
              "      <td>996.52</td>\n",
              "      <td>-8.02</td>\n",
              "      <td>265.40</td>\n",
              "      <td>-8.90</td>\n",
              "      <td>93.3</td>\n",
              "      <td>3.33</td>\n",
              "      <td>3.11</td>\n",
              "      <td>0.22</td>\n",
              "      <td>1.94</td>\n",
              "      <td>3.12</td>\n",
              "      <td>1307.75</td>\n",
              "      <td>1.03</td>\n",
              "      <td>1.75</td>\n",
              "      <td>152.3</td>\n",
              "    </tr>\n",
              "    <tr>\n",
              "      <th>1</th>\n",
              "      <td>01.01.2009 00:20:00</td>\n",
              "      <td>996.57</td>\n",
              "      <td>-8.41</td>\n",
              "      <td>265.01</td>\n",
              "      <td>-9.28</td>\n",
              "      <td>93.4</td>\n",
              "      <td>3.23</td>\n",
              "      <td>3.02</td>\n",
              "      <td>0.21</td>\n",
              "      <td>1.89</td>\n",
              "      <td>3.03</td>\n",
              "      <td>1309.80</td>\n",
              "      <td>0.72</td>\n",
              "      <td>1.50</td>\n",
              "      <td>136.1</td>\n",
              "    </tr>\n",
              "  </tbody>\n",
              "</table>\n",
              "</div>"
            ],
            "text/plain": [
              "             Date Time  p (mbar)  T (degC)  ...  wv (m/s)  max. wv (m/s)  wd (deg)\n",
              "0  01.01.2009 00:10:00    996.52     -8.02  ...      1.03           1.75     152.3\n",
              "1  01.01.2009 00:20:00    996.57     -8.41  ...      0.72           1.50     136.1\n",
              "\n",
              "[2 rows x 15 columns]"
            ]
          },
          "metadata": {
            "tags": []
          },
          "execution_count": 7
        }
      ]
    },
    {
      "cell_type": "markdown",
      "metadata": {
        "id": "ML0rB3kdHNZW"
      },
      "source": [
        "**converting data to numpy array**"
      ]
    },
    {
      "cell_type": "code",
      "metadata": {
        "colab": {
          "base_uri": "https://localhost:8080/",
          "height": 128
        },
        "id": "PCMb6YqJG0KY",
        "outputId": "43fee37c-5cce-450a-b770-3570db5aaca4"
      },
      "source": [
        "#selecting numeric columns only\n",
        "cols = data_n.select_dtypes(np.number).columns\n",
        "data_n = data_n[cols]\n",
        "data_n.head(2)"
      ],
      "execution_count": null,
      "outputs": [
        {
          "output_type": "execute_result",
          "data": {
            "text/html": [
              "<div>\n",
              "<style scoped>\n",
              "    .dataframe tbody tr th:only-of-type {\n",
              "        vertical-align: middle;\n",
              "    }\n",
              "\n",
              "    .dataframe tbody tr th {\n",
              "        vertical-align: top;\n",
              "    }\n",
              "\n",
              "    .dataframe thead th {\n",
              "        text-align: right;\n",
              "    }\n",
              "</style>\n",
              "<table border=\"1\" class=\"dataframe\">\n",
              "  <thead>\n",
              "    <tr style=\"text-align: right;\">\n",
              "      <th></th>\n",
              "      <th>p (mbar)</th>\n",
              "      <th>T (degC)</th>\n",
              "      <th>Tpot (K)</th>\n",
              "      <th>Tdew (degC)</th>\n",
              "      <th>rh (%)</th>\n",
              "      <th>VPmax (mbar)</th>\n",
              "      <th>VPact (mbar)</th>\n",
              "      <th>VPdef (mbar)</th>\n",
              "      <th>sh (g/kg)</th>\n",
              "      <th>H2OC (mmol/mol)</th>\n",
              "      <th>rho (g/m**3)</th>\n",
              "      <th>wv (m/s)</th>\n",
              "      <th>max. wv (m/s)</th>\n",
              "      <th>wd (deg)</th>\n",
              "    </tr>\n",
              "  </thead>\n",
              "  <tbody>\n",
              "    <tr>\n",
              "      <th>0</th>\n",
              "      <td>996.52</td>\n",
              "      <td>-8.02</td>\n",
              "      <td>265.40</td>\n",
              "      <td>-8.90</td>\n",
              "      <td>93.3</td>\n",
              "      <td>3.33</td>\n",
              "      <td>3.11</td>\n",
              "      <td>0.22</td>\n",
              "      <td>1.94</td>\n",
              "      <td>3.12</td>\n",
              "      <td>1307.75</td>\n",
              "      <td>1.03</td>\n",
              "      <td>1.75</td>\n",
              "      <td>152.3</td>\n",
              "    </tr>\n",
              "    <tr>\n",
              "      <th>1</th>\n",
              "      <td>996.57</td>\n",
              "      <td>-8.41</td>\n",
              "      <td>265.01</td>\n",
              "      <td>-9.28</td>\n",
              "      <td>93.4</td>\n",
              "      <td>3.23</td>\n",
              "      <td>3.02</td>\n",
              "      <td>0.21</td>\n",
              "      <td>1.89</td>\n",
              "      <td>3.03</td>\n",
              "      <td>1309.80</td>\n",
              "      <td>0.72</td>\n",
              "      <td>1.50</td>\n",
              "      <td>136.1</td>\n",
              "    </tr>\n",
              "  </tbody>\n",
              "</table>\n",
              "</div>"
            ],
            "text/plain": [
              "   p (mbar)  T (degC)  Tpot (K)  ...  wv (m/s)  max. wv (m/s)  wd (deg)\n",
              "0    996.52     -8.02    265.40  ...      1.03           1.75     152.3\n",
              "1    996.57     -8.41    265.01  ...      0.72           1.50     136.1\n",
              "\n",
              "[2 rows x 14 columns]"
            ]
          },
          "metadata": {
            "tags": []
          },
          "execution_count": 8
        }
      ]
    },
    {
      "cell_type": "code",
      "metadata": {
        "colab": {
          "base_uri": "https://localhost:8080/"
        },
        "id": "KoWQ1dLPHmHg",
        "outputId": "5c3b9a11-8a29-4fa7-b362-62f44b905dee"
      },
      "source": [
        "float_data = data_n.to_numpy(dtype='float32')\n",
        "float_data"
      ],
      "execution_count": null,
      "outputs": [
        {
          "output_type": "execute_result",
          "data": {
            "text/plain": [
              "array([[ 9.9652e+02, -8.0200e+00,  2.6540e+02, ...,  1.0300e+00,\n",
              "         1.7500e+00,  1.5230e+02],\n",
              "       [ 9.9657e+02, -8.4100e+00,  2.6501e+02, ...,  7.2000e-01,\n",
              "         1.5000e+00,  1.3610e+02],\n",
              "       [ 9.9653e+02, -8.5100e+00,  2.6491e+02, ...,  1.9000e-01,\n",
              "         6.3000e-01,  1.7160e+02],\n",
              "       ...,\n",
              "       [ 9.9982e+02, -3.1600e+00,  2.7001e+02, ...,  1.0800e+00,\n",
              "         2.0000e+00,  2.1520e+02],\n",
              "       [ 9.9981e+02, -4.2300e+00,  2.6894e+02, ...,  1.4900e+00,\n",
              "         2.1600e+00,  2.2580e+02],\n",
              "       [ 9.9982e+02, -4.8200e+00,  2.6836e+02, ...,  1.2300e+00,\n",
              "         1.9600e+00,  1.8490e+02]], dtype=float32)"
            ]
          },
          "metadata": {
            "tags": []
          },
          "execution_count": 9
        }
      ]
    },
    {
      "cell_type": "code",
      "metadata": {
        "colab": {
          "base_uri": "https://localhost:8080/"
        },
        "id": "TlwVbru5H-Zg",
        "outputId": "cee1051d-0b40-4df2-8253-0a5f7d06d5d8"
      },
      "source": [
        "temp = float_data[:,1]\n",
        "temp"
      ],
      "execution_count": null,
      "outputs": [
        {
          "output_type": "execute_result",
          "data": {
            "text/plain": [
              "array([-8.02, -8.41, -8.51, ..., -3.16, -4.23, -4.82], dtype=float32)"
            ]
          },
          "metadata": {
            "tags": []
          },
          "execution_count": 10
        }
      ]
    },
    {
      "cell_type": "code",
      "metadata": {
        "colab": {
          "base_uri": "https://localhost:8080/",
          "height": 285
        },
        "id": "gMpcKuJ7H7Ha",
        "outputId": "00048f32-c156-473b-ce49-f17d0c25b111"
      },
      "source": [
        "plt.plot(range(1,len(temp)+1),temp)"
      ],
      "execution_count": null,
      "outputs": [
        {
          "output_type": "execute_result",
          "data": {
            "text/plain": [
              "[<matplotlib.lines.Line2D at 0x7fe306aa4050>]"
            ]
          },
          "metadata": {
            "tags": []
          },
          "execution_count": 11
        },
        {
          "output_type": "display_data",
          "data": {
            "image/png": "[encoded data removed]",
            "text/plain": [
              "<Figure size 432x288 with 1 Axes>"
            ]
          },
          "metadata": {
            "tags": []
          }
        }
      ]
    },
    {
      "cell_type": "code",
      "metadata": {
        "colab": {
          "base_uri": "https://localhost:8080/",
          "height": 282
        },
        "id": "tPtTvtNjIM9C",
        "outputId": "0b0e2cb8-2865-44f3-a44c-fd286e909a3e"
      },
      "source": [
        "#since, data is recorded every 10 mins\n",
        "#so, per day we get  total_min_per_day/10   =  24*60/10  = 144\n",
        "#in 10 days we get 1440 samples\n",
        "\n",
        "plt.plot(range(1440),temp[800:2240])"
      ],
      "execution_count": null,
      "outputs": [
        {
          "output_type": "execute_result",
          "data": {
            "text/plain": [
              "[<matplotlib.lines.Line2D at 0x7fe30e6e1810>]"
            ]
          },
          "metadata": {
            "tags": []
          },
          "execution_count": 12
        },
        {
          "output_type": "display_data",
          "data": {
            "image/png": "[encoded data removed]",
            "text/plain": [
              "<Figure size 432x288 with 1 Axes>"
            ]
          },
          "metadata": {
            "tags": []
          }
        }
      ]
    },
    {
      "cell_type": "markdown",
      "metadata": {
        "id": "UiO9A1tbKPpH"
      },
      "source": [
        "# **Preparing Data**"
      ]
    },
    {
      "cell_type": "markdown",
      "metadata": {
        "id": "5xdDvAa-Kmkt"
      },
      "source": [
        "**data normalization**"
      ]
    },
    {
      "cell_type": "code",
      "metadata": {
        "id": "mlNG0y3aJQeS"
      },
      "source": [
        "#we plan on using first 200000 timesteps as training data\n",
        "#so we compute the mean nd std dev only on this fraction data:\n",
        "\n",
        "mean = float_data[:200000].mean(axis=0)\n",
        "std = float_data[:200000].std(axis=0)\n",
        "\n",
        "float_data-=mean    #but we  normalize the entire data using mean nd std calculated on training data\n",
        "float_data/=std"
      ],
      "execution_count": null,
      "outputs": []
    },
    {
      "cell_type": "markdown",
      "metadata": {
        "id": "dR1cb6c2TahP"
      },
      "source": [
        "**python generator that takes our current array of float data and yields batches of data from the recent past alongside with a target temp in future**"
      ]
    },
    {
      "cell_type": "code",
      "metadata": {
        "id": "bgX_RgAILexa"
      },
      "source": [
        "#lookback = 720 i.e. our input data will go back 5 days\n",
        "#delay= 288 i.e. our targets will be 2 days in future\n",
        "#steps=6  data sampling rate i.e. 6*10=60 mins = 1hr i.e. sampling one data point per hour"
      ],
      "execution_count": null,
      "outputs": []
    },
    {
      "cell_type": "code",
      "metadata": {
        "id": "r2BvXQQpU-rv"
      },
      "source": [
        "def  generator(data,  lookback,  delay,  min_index,  max_index,  shuffle=False,  batch_size=128,  step=6):\n",
        "  if max_index is None:\n",
        "    max_index = len(data) - delay -1\n",
        "  \n",
        "  i = min_index + lookback\n",
        "\n",
        "  while 1:\n",
        "    \n",
        "    if shuffle:\n",
        "      rows = np.random.randint(min_index + lookback, max_index, batch_size)\n",
        "\n",
        "    else:\n",
        "      if i+batch_size>= max_index:\n",
        "        i = min_index + lookback\n",
        "\n",
        "      rows = np.arange(i,min(i+batch_size,max_index))\n",
        "      i+= len(rows)\n",
        "                               #samples in batch  #data pts in single sample   #columns in a data pt\n",
        "    samples_in_batch = np.zeros((   len(rows),      lookback//step,             data.shape[-1]  )) \n",
        "    targets = np.zeros((len(rows),))\n",
        "\n",
        "    for j , row in enumerate(rows):\n",
        "      indices = np.arange(rows[j]-lookback,rows[j], step)\n",
        "      samples_in_batch[j] = data[indices]\n",
        "      targets[j] = data[rows[j] + delay][1]   #here target is temp only\n",
        "\n",
        "    yield samples_in_batch, targets"
      ],
      "execution_count": null,
      "outputs": []
    },
    {
      "cell_type": "code",
      "metadata": {
        "id": "tE2z4gw21_9E"
      },
      "source": [
        "lookback = 1440\n",
        "delay = 144\n",
        "step = 6 \n",
        "batch_size = 128\n",
        "\n",
        "train_gen = generator(float_data, lookback, delay, min_index=0, max_index=200000, shuffle=True)\n",
        "val_gen =  generator(float_data, lookback, delay, min_index=200001, max_index=300000)\n",
        "test_gen = generator(float_data, lookback, delay, min_index=300001, max_index=None)\n",
        "\n",
        "#this is how many steps to draw from 'val_gen' in order to see the whole validation set:\n",
        "val_steps = (300000-200001)//batch_size\n",
        "#this is how many steps to draw from 'test_gen' in order to see the whole test set:\n",
        "test_steps = (len(float_data)-300001)//batch_size"
      ],
      "execution_count": null,
      "outputs": []
    },
    {
      "cell_type": "markdown",
      "metadata": {
        "id": "djNiA34V6kyC"
      },
      "source": [
        "# **Fully Connected Model**"
      ]
    },
    {
      "cell_type": "code",
      "metadata": {
        "colab": {
          "base_uri": "https://localhost:8080/"
        },
        "id": "Wq7vkEVJaMVK",
        "outputId": "04a0fd33-3a55-4ce4-b112-64b777b456c2"
      },
      "source": [
        "input = Input(shape=(lookback//step,float_data.shape[-1]))\n",
        "\n",
        "flat = Flatten()(input)\n",
        "output = Dense(32,activation='relu')(flat)\n",
        "output = Dense(1)(output)\n",
        "\n",
        "model = Model(inputs=input,outputs=output)\n",
        "model.compile(optimizer=RMSprop(learning_rate=1e-4),loss='mse',metrics=['mae'])\n",
        "model.fit_generator(train_gen,steps_per_epoch=500,epochs=20, validation_data=val_gen,validation_steps=val_steps)"
      ],
      "execution_count": null,
      "outputs": [
        {
          "output_type": "stream",
          "text": [
            "/usr/local/lib/python3.7/dist-packages/tensorflow/python/keras/engine/training.py:1844: UserWarning: `Model.fit_generator` is deprecated and will be removed in a future version. Please use `Model.fit`, which supports generators.\n",
            "  warnings.warn('`Model.fit_generator` is deprecated and '\n"
          ],
          "name": "stderr"
        },
        {
          "output_type": "stream",
          "text": [
            "Epoch 1/20\n",
            "500/500 [==============================] - 16s 31ms/step - loss: 0.5070 - mae: 0.5512 - val_loss: 0.2565 - val_mae: 0.3989\n",
            "Epoch 2/20\n",
            "500/500 [==============================] - 15s 31ms/step - loss: 0.2541 - mae: 0.3966 - val_loss: 0.4432 - val_mae: 0.5409\n",
            "Epoch 3/20\n",
            "500/500 [==============================] - 15s 30ms/step - loss: 0.2078 - mae: 0.3590 - val_loss: 0.2493 - val_mae: 0.3986\n",
            "Epoch 4/20\n",
            "500/500 [==============================] - 15s 30ms/step - loss: 0.1810 - mae: 0.3351 - val_loss: 0.2339 - val_mae: 0.3864\n",
            "Epoch 5/20\n",
            "500/500 [==============================] - 15s 30ms/step - loss: 0.1684 - mae: 0.3222 - val_loss: 0.4192 - val_mae: 0.5310\n",
            "Epoch 6/20\n",
            "500/500 [==============================] - 15s 30ms/step - loss: 0.1490 - mae: 0.3036 - val_loss: 0.1981 - val_mae: 0.3520\n",
            "Epoch 7/20\n",
            "500/500 [==============================] - 15s 31ms/step - loss: 0.1405 - mae: 0.2935 - val_loss: 0.2002 - val_mae: 0.3565\n",
            "Epoch 8/20\n",
            "500/500 [==============================] - 16s 32ms/step - loss: 0.1321 - mae: 0.2843 - val_loss: 0.1979 - val_mae: 0.3526\n",
            "Epoch 9/20\n",
            "500/500 [==============================] - 15s 31ms/step - loss: 0.1272 - mae: 0.2788 - val_loss: 0.2199 - val_mae: 0.3737\n",
            "Epoch 10/20\n",
            "500/500 [==============================] - 15s 31ms/step - loss: 0.1231 - mae: 0.2753 - val_loss: 0.2953 - val_mae: 0.4404\n",
            "Epoch 11/20\n",
            "500/500 [==============================] - 15s 31ms/step - loss: 0.1146 - mae: 0.2647 - val_loss: 0.1900 - val_mae: 0.3450\n",
            "Epoch 12/20\n",
            "500/500 [==============================] - 15s 30ms/step - loss: 0.1124 - mae: 0.2622 - val_loss: 0.2270 - val_mae: 0.3800\n",
            "Epoch 13/20\n",
            "500/500 [==============================] - 15s 30ms/step - loss: 0.1053 - mae: 0.2540 - val_loss: 0.2556 - val_mae: 0.4077\n",
            "Epoch 14/20\n",
            "500/500 [==============================] - 15s 31ms/step - loss: 0.0990 - mae: 0.2472 - val_loss: 0.2178 - val_mae: 0.3709\n",
            "Epoch 15/20\n",
            "500/500 [==============================] - 15s 30ms/step - loss: 0.0975 - mae: 0.2441 - val_loss: 0.1832 - val_mae: 0.3395\n",
            "Epoch 16/20\n",
            "500/500 [==============================] - 15s 31ms/step - loss: 0.0934 - mae: 0.2396 - val_loss: 0.1928 - val_mae: 0.3489\n",
            "Epoch 17/20\n",
            "500/500 [==============================] - 15s 31ms/step - loss: 0.0911 - mae: 0.2363 - val_loss: 0.2305 - val_mae: 0.3853\n",
            "Epoch 18/20\n",
            "500/500 [==============================] - 16s 31ms/step - loss: 0.0861 - mae: 0.2301 - val_loss: 0.2560 - val_mae: 0.4069\n",
            "Epoch 19/20\n",
            "500/500 [==============================] - 16s 31ms/step - loss: 0.0850 - mae: 0.2279 - val_loss: 0.2190 - val_mae: 0.3739\n",
            "Epoch 20/20\n",
            "500/500 [==============================] - 15s 31ms/step - loss: 0.0830 - mae: 0.2263 - val_loss: 0.2412 - val_mae: 0.3924\n"
          ],
          "name": "stdout"
        },
        {
          "output_type": "execute_result",
          "data": {
            "text/plain": [
              "<tensorflow.python.keras.callbacks.History at 0x7fb5adac2750>"
            ]
          },
          "metadata": {
            "tags": []
          },
          "execution_count": 30
        }
      ]
    },
    {
      "cell_type": "markdown",
      "metadata": {
        "id": "aaF8hAzxAgR9"
      },
      "source": [
        "**Loss curves for validation and training**"
      ]
    },
    {
      "cell_type": "code",
      "metadata": {
        "colab": {
          "base_uri": "https://localhost:8080/"
        },
        "id": "9bO1A69F8dMn",
        "outputId": "f24998ae-d13a-4ac3-8543-44673a7f96c5"
      },
      "source": [
        "dict_ = model.history.history\n",
        "dict_.keys()"
      ],
      "execution_count": null,
      "outputs": [
        {
          "output_type": "execute_result",
          "data": {
            "text/plain": [
              "dict_keys(['loss', 'mae', 'val_loss', 'val_mae'])"
            ]
          },
          "metadata": {
            "tags": []
          },
          "execution_count": 31
        }
      ]
    },
    {
      "cell_type": "code",
      "metadata": {
        "id": "4iQ0zk1GAotL"
      },
      "source": [
        "train_loss = dict_['loss']\n",
        "val_loss = dict_['val_loss']\n",
        "epochs = range(1,len(train_loss)+1)"
      ],
      "execution_count": null,
      "outputs": []
    },
    {
      "cell_type": "code",
      "metadata": {
        "colab": {
          "base_uri": "https://localhost:8080/",
          "height": 312
        },
        "id": "31iSJvL7A_iO",
        "outputId": "ccad9e53-5f83-446e-df65-cbddf6d2d5a8"
      },
      "source": [
        "import matplotlib.pyplot as plt\n",
        "\n",
        "plt.plot(epochs,train_loss,ls=':',label='Training_loss')\n",
        "plt.plot(epochs,val_loss,ls='-.',color='green',label='Validation_loss')\n",
        "plt.xlabel('Epochs')\n",
        "plt.ylabel('Loss')\n",
        "plt.title('training v/s validation loss')\n",
        "plt.legend()"
      ],
      "execution_count": null,
      "outputs": [
        {
          "output_type": "execute_result",
          "data": {
            "text/plain": [
              "<matplotlib.legend.Legend at 0x7fb5a5816ad0>"
            ]
          },
          "metadata": {
            "tags": []
          },
          "execution_count": 33
        },
        {
          "output_type": "display_data",
          "data": {
            "image/png": "[encoded data removed]",
            "text/plain": [
              "<Figure size 432x288 with 1 Axes>"
            ]
          },
          "metadata": {
            "tags": []
          }
        }
      ]
    },
    {
      "cell_type": "markdown",
      "metadata": {
        "id": "XhpRBnMaENAf"
      },
      "source": [
        "# **Recurrent baseline Model**"
      ]
    },
    {
      "cell_type": "code",
      "metadata": {
        "id": "uUm0VX90BM-m"
      },
      "source": [
        "from keras.layers import GRU"
      ],
      "execution_count": null,
      "outputs": []
    },
    {
      "cell_type": "code",
      "metadata": {
        "colab": {
          "base_uri": "https://localhost:8080/"
        },
        "id": "1AAVxMFTEUk-",
        "outputId": "ce8fe8b5-cc42-49df-e4ad-23e33070e045"
      },
      "source": [
        "input = Input(shape=(lookback//step,float_data.shape[-1]))\n",
        "\n",
        "output = GRU(32)(input)\n",
        "output = Dense(1)(output)\n",
        "\n",
        "model = Model(inputs = input, outputs=output)\n",
        "model.compile(optimizer=RMSprop(),loss='mae')\n",
        "model.fit_generator(train_gen,steps_per_epoch=500, epochs=20, validation_data=val_gen,validation_steps=val_steps)"
      ],
      "execution_count": null,
      "outputs": [
        {
          "output_type": "stream",
          "text": [
            "/usr/local/lib/python3.7/dist-packages/tensorflow/python/keras/engine/training.py:1844: UserWarning: `Model.fit_generator` is deprecated and will be removed in a future version. Please use `Model.fit`, which supports generators.\n",
            "  warnings.warn('`Model.fit_generator` is deprecated and '\n"
          ],
          "name": "stderr"
        },
        {
          "output_type": "stream",
          "text": [
            "Epoch 1/20\n",
            "500/500 [==============================] - 96s 188ms/step - loss: 0.3504 - val_loss: 0.2730\n",
            "Epoch 2/20\n",
            "500/500 [==============================] - 94s 189ms/step - loss: 0.2866 - val_loss: 0.2754\n",
            "Epoch 3/20\n",
            "500/500 [==============================] - 94s 189ms/step - loss: 0.2796 - val_loss: 0.2677\n",
            "Epoch 4/20\n",
            "500/500 [==============================] - 95s 191ms/step - loss: 0.2738 - val_loss: 0.2649\n",
            "Epoch 5/20\n",
            "500/500 [==============================] - 96s 192ms/step - loss: 0.2677 - val_loss: 0.2717\n",
            "Epoch 6/20\n",
            "500/500 [==============================] - 96s 193ms/step - loss: 0.2627 - val_loss: 0.2602\n",
            "Epoch 7/20\n",
            "500/500 [==============================] - 94s 189ms/step - loss: 0.2568 - val_loss: 0.2634\n",
            "Epoch 8/20\n",
            "500/500 [==============================] - 96s 192ms/step - loss: 0.2540 - val_loss: 0.2632\n",
            "Epoch 9/20\n",
            "500/500 [==============================] - 95s 190ms/step - loss: 0.2498 - val_loss: 0.2666\n",
            "Epoch 10/20\n",
            "500/500 [==============================] - 95s 190ms/step - loss: 0.2453 - val_loss: 0.2676\n",
            "Epoch 11/20\n",
            "500/500 [==============================] - 95s 190ms/step - loss: 0.2411 - val_loss: 0.2692\n",
            "Epoch 12/20\n",
            "500/500 [==============================] - 94s 189ms/step - loss: 0.2378 - val_loss: 0.2735\n",
            "Epoch 13/20\n",
            "500/500 [==============================] - 96s 193ms/step - loss: 0.2349 - val_loss: 0.2714\n",
            "Epoch 14/20\n",
            "500/500 [==============================] - 95s 191ms/step - loss: 0.2307 - val_loss: 0.2792\n",
            "Epoch 15/20\n",
            "500/500 [==============================] - 96s 192ms/step - loss: 0.2266 - val_loss: 0.2800\n",
            "Epoch 16/20\n",
            "500/500 [==============================] - 94s 188ms/step - loss: 0.2248 - val_loss: 0.2831\n",
            "Epoch 17/20\n",
            "500/500 [==============================] - 94s 188ms/step - loss: 0.2202 - val_loss: 0.2816\n",
            "Epoch 18/20\n",
            "500/500 [==============================] - 94s 188ms/step - loss: 0.2165 - val_loss: 0.2878\n",
            "Epoch 19/20\n",
            "500/500 [==============================] - 94s 188ms/step - loss: 0.2132 - val_loss: 0.2949\n",
            "Epoch 20/20\n",
            "500/500 [==============================] - 94s 188ms/step - loss: 0.2104 - val_loss: 0.2979\n"
          ],
          "name": "stdout"
        },
        {
          "output_type": "execute_result",
          "data": {
            "text/plain": [
              "<tensorflow.python.keras.callbacks.History at 0x7fb59cc23e50>"
            ]
          },
          "metadata": {
            "tags": []
          },
          "execution_count": 39
        }
      ]
    },
    {
      "cell_type": "markdown",
      "metadata": {
        "id": "yoVXj8bvKNmT"
      },
      "source": [
        "**Loss curves for training and validation**"
      ]
    },
    {
      "cell_type": "code",
      "metadata": {
        "id": "TexjjJBXKJc2"
      },
      "source": [
        "dict_ = model.history.history\n",
        "dict_.keys()\n",
        "\n",
        "train_loss = dict_['loss']\n",
        "val_loss = dict_['val_loss']\n",
        "epochs = range(1,len(train_loss)+1)"
      ],
      "execution_count": null,
      "outputs": []
    },
    {
      "cell_type": "code",
      "metadata": {
        "colab": {
          "base_uri": "https://localhost:8080/",
          "height": 312
        },
        "id": "l4bfTc6aKaVH",
        "outputId": "6863ff9e-3841-47b2-ab3e-ad1e960da62d"
      },
      "source": [
        "import matplotlib.pyplot as plt\n",
        "\n",
        "plt.plot(epochs,train_loss,ls=':',label='Training_loss')\n",
        "plt.plot(epochs,val_loss,ls='-.',color='green',label='Validation_loss')\n",
        "plt.xlabel('Epochs')\n",
        "plt.ylabel('Loss')\n",
        "plt.title('training v/s validation loss')\n",
        "plt.legend()"
      ],
      "execution_count": null,
      "outputs": [
        {
          "output_type": "execute_result",
          "data": {
            "text/plain": [
              "<matplotlib.legend.Legend at 0x7fb59d2a0f90>"
            ]
          },
          "metadata": {
            "tags": []
          },
          "execution_count": 41
        },
        {
          "output_type": "display_data",
          "data": {
            "image/png": "[encoded data removed]",
            "text/plain": [
              "<Figure size 432x288 with 1 Axes>"
            ]
          },
          "metadata": {
            "tags": []
          }
        }
      ]
    },
    {
      "cell_type": "markdown",
      "metadata": {
        "id": "3eahOXWAOXKV"
      },
      "source": [
        "# **Using Recurrent Dropout  AND  Slower Learning Rate to fight overfitting**"
      ]
    },
    {
      "cell_type": "code",
      "metadata": {
        "colab": {
          "base_uri": "https://localhost:8080/"
        },
        "id": "_luXNg00KeXj",
        "outputId": "6969e98c-1442-4026-9a67-2f38bd2c13d7"
      },
      "source": [
        "#it is evident from our training and validation curves that our model is overfitting:\n",
        "#The training and validation losses starts diverging considerably after a few epochs.\n",
        "\n",
        "#Every recurrent layer in keras has two dropout-related aruments:\n",
        "#dropout: a float specifying the dropout rate for input units of the layer\n",
        "#recurrent_dropout: specifying dropout rate of the recurrent units\n",
        "\n",
        "#Because network being regularized with dropout always take longer to fully converge, we will train our network for twice as many epochs.\n",
        "\n",
        "input = Input(shape=(lookback//step,float_data.shape[-1]))\n",
        "\n",
        "output = GRU(32,dropout=0.2, recurrent_dropout=0.5)(input)\n",
        "output = Dense(1)(output)\n",
        "\n",
        "model = Model(inputs = input, outputs=output)\n",
        "model.compile(optimizer=RMSprop(learning_rate=1e-4),loss='mae')\n",
        "model.fit_generator(train_gen,steps_per_epoch=500, epochs=40, validation_data=val_gen,validation_steps=val_steps)"
      ],
      "execution_count": null,
      "outputs": [
        {
          "output_type": "stream",
          "text": [
            "/usr/local/lib/python3.7/dist-packages/tensorflow/python/keras/engine/training.py:1844: UserWarning: `Model.fit_generator` is deprecated and will be removed in a future version. Please use `Model.fit`, which supports generators.\n",
            "  warnings.warn('`Model.fit_generator` is deprecated and '\n"
          ],
          "name": "stderr"
        },
        {
          "output_type": "stream",
          "text": [
            "Epoch 1/40\n",
            "500/500 [==============================] - 155s 305ms/step - loss: 0.7410 - val_loss: 0.2990\n",
            "Epoch 2/40\n",
            "500/500 [==============================] - 153s 306ms/step - loss: 0.3492 - val_loss: 0.2871\n",
            "Epoch 3/40\n",
            "500/500 [==============================] - 153s 307ms/step - loss: 0.3284 - val_loss: 0.2854\n",
            "Epoch 4/40\n",
            "500/500 [==============================] - 154s 308ms/step - loss: 0.3225 - val_loss: 0.2851\n",
            "Epoch 5/40\n",
            "500/500 [==============================] - 155s 310ms/step - loss: 0.3194 - val_loss: 0.2831\n",
            "Epoch 6/40\n",
            "500/500 [==============================] - 154s 308ms/step - loss: 0.3158 - val_loss: 0.2828\n",
            "Epoch 7/40\n",
            "500/500 [==============================] - 153s 305ms/step - loss: 0.3153 - val_loss: 0.2791\n",
            "Epoch 8/40\n",
            "500/500 [==============================] - 154s 308ms/step - loss: 0.3141 - val_loss: 0.2835\n",
            "Epoch 9/40\n",
            "500/500 [==============================] - 154s 309ms/step - loss: 0.3118 - val_loss: 0.2806\n",
            "Epoch 10/40\n",
            "500/500 [==============================] - 153s 307ms/step - loss: 0.3095 - val_loss: 0.2773\n",
            "Epoch 11/40\n",
            "500/500 [==============================] - 154s 308ms/step - loss: 0.3088 - val_loss: 0.2777\n",
            "Epoch 12/40\n",
            "500/500 [==============================] - 154s 308ms/step - loss: 0.3067 - val_loss: 0.2790\n",
            "Epoch 13/40\n",
            "500/500 [==============================] - 154s 309ms/step - loss: 0.3071 - val_loss: 0.2800\n",
            "Epoch 14/40\n",
            "500/500 [==============================] - 155s 311ms/step - loss: 0.3065 - val_loss: 0.2759\n",
            "Epoch 15/40\n",
            "500/500 [==============================] - 155s 310ms/step - loss: 0.3045 - val_loss: 0.2814\n",
            "Epoch 16/40\n",
            "500/500 [==============================] - 154s 309ms/step - loss: 0.3071 - val_loss: 0.2788\n",
            "Epoch 17/40\n",
            "500/500 [==============================] - 154s 308ms/step - loss: 0.3019 - val_loss: 0.2753\n",
            "Epoch 18/40\n",
            "500/500 [==============================] - 155s 310ms/step - loss: 0.3045 - val_loss: 0.2777\n",
            "Epoch 19/40\n",
            "500/500 [==============================] - 154s 308ms/step - loss: 0.3001 - val_loss: 0.2771\n",
            "Epoch 20/40\n",
            "500/500 [==============================] - 155s 310ms/step - loss: 0.2999 - val_loss: 0.2735\n",
            "Epoch 21/40\n",
            "500/500 [==============================] - 155s 309ms/step - loss: 0.3010 - val_loss: 0.2797\n",
            "Epoch 22/40\n",
            "500/500 [==============================] - 155s 310ms/step - loss: 0.3002 - val_loss: 0.2781\n",
            "Epoch 23/40\n",
            "500/500 [==============================] - 155s 310ms/step - loss: 0.2995 - val_loss: 0.2739\n",
            "Epoch 24/40\n",
            "500/500 [==============================] - 155s 310ms/step - loss: 0.2973 - val_loss: 0.2773\n",
            "Epoch 25/40\n",
            "500/500 [==============================] - 155s 309ms/step - loss: 0.3003 - val_loss: 0.2763\n",
            "Epoch 26/40\n",
            "500/500 [==============================] - 155s 310ms/step - loss: 0.2983 - val_loss: 0.2726\n",
            "Epoch 27/40\n",
            "500/500 [==============================] - 155s 310ms/step - loss: 0.2986 - val_loss: 0.2742\n",
            "Epoch 28/40\n",
            "500/500 [==============================] - 153s 306ms/step - loss: 0.2995 - val_loss: 0.2739\n",
            "Epoch 29/40\n",
            "500/500 [==============================] - 153s 307ms/step - loss: 0.2972 - val_loss: 0.2747\n",
            "Epoch 30/40\n",
            "500/500 [==============================] - 153s 305ms/step - loss: 0.2997 - val_loss: 0.2747\n",
            "Epoch 31/40\n",
            "500/500 [==============================] - 153s 306ms/step - loss: 0.2972 - val_loss: 0.2753\n",
            "Epoch 32/40\n",
            "500/500 [==============================] - 155s 309ms/step - loss: 0.2967 - val_loss: 0.2760\n",
            "Epoch 33/40\n",
            "500/500 [==============================] - 154s 308ms/step - loss: 0.2978 - val_loss: 0.2744\n",
            "Epoch 34/40\n",
            "500/500 [==============================] - 153s 307ms/step - loss: 0.2951 - val_loss: 0.2732\n",
            "Epoch 35/40\n",
            "500/500 [==============================] - 155s 309ms/step - loss: 0.2961 - val_loss: 0.2741\n",
            "Epoch 36/40\n",
            "500/500 [==============================] - 154s 309ms/step - loss: 0.2961 - val_loss: 0.2760\n",
            "Epoch 37/40\n",
            "500/500 [==============================] - 153s 305ms/step - loss: 0.2962 - val_loss: 0.2716\n",
            "Epoch 38/40\n",
            "500/500 [==============================] - 154s 309ms/step - loss: 0.2928 - val_loss: 0.2734\n",
            "Epoch 39/40\n",
            "500/500 [==============================] - 154s 308ms/step - loss: 0.2958 - val_loss: 0.2740\n",
            "Epoch 40/40\n",
            "500/500 [==============================] - 154s 308ms/step - loss: 0.2936 - val_loss: 0.2751\n"
          ],
          "name": "stdout"
        },
        {
          "output_type": "execute_result",
          "data": {
            "text/plain": [
              "<tensorflow.python.keras.callbacks.History at 0x7fb598ce5a90>"
            ]
          },
          "metadata": {
            "tags": []
          },
          "execution_count": 63
        }
      ]
    },
    {
      "cell_type": "code",
      "metadata": {
        "id": "uQcnGaZwQjQp"
      },
      "source": [
        "dict_ = model.history.history\n",
        "dict_.keys()\n",
        "\n",
        "train_loss = dict_['loss']\n",
        "val_loss = dict_['val_loss']\n",
        "epochs = range(1,len(train_loss)+1)"
      ],
      "execution_count": null,
      "outputs": []
    },
    {
      "cell_type": "code",
      "metadata": {
        "colab": {
          "base_uri": "https://localhost:8080/",
          "height": 312
        },
        "id": "XISDSYk3QnMK",
        "outputId": "4b6e8fd6-fe36-4039-bd16-fe83e06007f7"
      },
      "source": [
        "plt.plot(epochs,train_loss,ls=':',label='Training_loss')\n",
        "plt.plot(epochs,val_loss,ls='-.',color='green',label='Validation_loss')\n",
        "plt.xlabel('Epochs')\n",
        "plt.ylabel('Loss')\n",
        "plt.title('training v/s validation loss')\n",
        "plt.legend()"
      ],
      "execution_count": null,
      "outputs": [
        {
          "output_type": "execute_result",
          "data": {
            "text/plain": [
              "<matplotlib.legend.Legend at 0x7fb59e32ca10>"
            ]
          },
          "metadata": {
            "tags": []
          },
          "execution_count": 65
        },
        {
          "output_type": "display_data",
          "data": {
            "image/png": "[encoded data removed]",
            "text/plain": [
              "<Figure size 432x288 with 1 Axes>"
            ]
          },
          "metadata": {
            "tags": []
          }
        }
      ]
    },
    {
      "cell_type": "code",
      "metadata": {
        "id": "ZI9OYwj3QvhP"
      },
      "source": [
        "#Great success: we are no longer ovverfitting. However, our best scores has not improved significantly from the previous one."
      ],
      "execution_count": null,
      "outputs": []
    },
    {
      "cell_type": "markdown",
      "metadata": {
        "id": "urwukdHEUbH9"
      },
      "source": [
        "# **Stacking Recurrent Layers**"
      ]
    },
    {
      "cell_type": "code",
      "metadata": {
        "colab": {
          "base_uri": "https://localhost:8080/"
        },
        "id": "0gUJErQsUZaF",
        "outputId": "91c9fd36-6926-47fb-892e-f38d433f64d2"
      },
      "source": [
        "#since we are no longer overfitting yet we seem to have hit a performance bottlenack\n",
        "#we should start considering increasing the capacity of our network\n",
        "\n",
        "input = Input(shape=(lookback//step,float_data.shape[-1]))\n",
        "\n",
        "output = GRU(32,dropout=0.2, recurrent_dropout=0.5,return_sequences=True)(input)\n",
        "output = GRU(64,dropout=0.2, recurrent_dropout=0.5,activation='relu')(output)\n",
        "output = Dense(1)(output)\n",
        "\n",
        "model = Model(inputs = input, outputs=output)\n",
        "model.compile(optimizer=RMSprop(learning_rate=1e-4),loss='mae')\n",
        "model.fit_generator(train_gen,steps_per_epoch=500, epochs=40, validation_data=val_gen,validation_steps=val_steps)"
      ],
      "execution_count": null,
      "outputs": [
        {
          "output_type": "stream",
          "text": [
            "/usr/local/lib/python3.7/dist-packages/tensorflow/python/keras/engine/training.py:1844: UserWarning: `Model.fit_generator` is deprecated and will be removed in a future version. Please use `Model.fit`, which supports generators.\n",
            "  warnings.warn('`Model.fit_generator` is deprecated and '\n"
          ],
          "name": "stderr"
        },
        {
          "output_type": "stream",
          "text": [
            "Epoch 1/40\n",
            "500/500 [==============================] - 409s 808ms/step - loss: 0.5182 - val_loss: 0.3027\n",
            "Epoch 2/40\n",
            "500/500 [==============================] - 407s 815ms/step - loss: 0.3309 - val_loss: 0.2934\n",
            "Epoch 3/40\n",
            "500/500 [==============================] - 408s 817ms/step - loss: 0.3254 - val_loss: 0.2898\n",
            "Epoch 4/40\n",
            "500/500 [==============================] - 407s 814ms/step - loss: 0.3202 - val_loss: 0.2859\n",
            "Epoch 5/40\n",
            "500/500 [==============================] - 406s 813ms/step - loss: 0.3186 - val_loss: 0.2852\n",
            "Epoch 6/40\n",
            "500/500 [==============================] - 405s 811ms/step - loss: 0.3160 - val_loss: 0.2855\n",
            "Epoch 7/40\n",
            "500/500 [==============================] - 406s 812ms/step - loss: 0.3149 - val_loss: 0.2811\n",
            "Epoch 8/40\n",
            "500/500 [==============================] - 406s 812ms/step - loss: 0.3130 - val_loss: 0.2861\n",
            "Epoch 9/40\n",
            "500/500 [==============================] - 404s 808ms/step - loss: 0.3116 - val_loss: 0.2802\n",
            "Epoch 10/40\n",
            "500/500 [==============================] - 399s 799ms/step - loss: 0.3080 - val_loss: 0.2789\n",
            "Epoch 11/40\n",
            "500/500 [==============================] - 398s 796ms/step - loss: 0.3057 - val_loss: 0.2793\n",
            "Epoch 12/40\n",
            "500/500 [==============================] - 398s 797ms/step - loss: 0.3068 - val_loss: 0.2814\n",
            "Epoch 13/40\n",
            "500/500 [==============================] - 401s 803ms/step - loss: 0.3044 - val_loss: 0.2777\n",
            "Epoch 14/40\n",
            "500/500 [==============================] - 403s 805ms/step - loss: 0.3029 - val_loss: 0.2763\n",
            "Epoch 15/40\n",
            "500/500 [==============================] - 406s 813ms/step - loss: 0.3020 - val_loss: 0.2755\n",
            "Epoch 16/40\n",
            "500/500 [==============================] - 404s 808ms/step - loss: 0.3025 - val_loss: 0.2764\n",
            "Epoch 17/40\n",
            "500/500 [==============================] - 403s 806ms/step - loss: 0.3029 - val_loss: 0.2761\n",
            "Epoch 18/40\n",
            "500/500 [==============================] - 404s 809ms/step - loss: 0.2998 - val_loss: 0.2744\n",
            "Epoch 19/40\n",
            "500/500 [==============================] - 406s 812ms/step - loss: 0.3001 - val_loss: 0.2775\n",
            "Epoch 20/40\n",
            "500/500 [==============================] - 405s 810ms/step - loss: 0.3009 - val_loss: 0.2748\n",
            "Epoch 21/40\n",
            "500/500 [==============================] - 401s 802ms/step - loss: 0.3000 - val_loss: 0.2733\n",
            "Epoch 22/40\n",
            "500/500 [==============================] - 397s 795ms/step - loss: 0.2981 - val_loss: 0.2732\n",
            "Epoch 23/40\n",
            "500/500 [==============================] - 398s 795ms/step - loss: 0.2980 - val_loss: 0.2726\n",
            "Epoch 24/40\n",
            "500/500 [==============================] - 397s 794ms/step - loss: 0.2960 - val_loss: 0.2768\n",
            "Epoch 25/40\n",
            "500/500 [==============================] - 398s 796ms/step - loss: 0.2946 - val_loss: 0.2736\n",
            "Epoch 26/40\n",
            "500/500 [==============================] - 399s 798ms/step - loss: 0.2956 - val_loss: 0.2723\n",
            "Epoch 27/40\n",
            "500/500 [==============================] - 399s 798ms/step - loss: 0.2917 - val_loss: 0.2707\n",
            "Epoch 28/40\n",
            "500/500 [==============================] - 398s 797ms/step - loss: 0.2931 - val_loss: 0.2738\n",
            "Epoch 29/40\n",
            "500/500 [==============================] - 399s 798ms/step - loss: 0.2914 - val_loss: 0.2704\n",
            "Epoch 30/40\n",
            "500/500 [==============================] - 400s 801ms/step - loss: 0.2913 - val_loss: 0.2677\n",
            "Epoch 31/40\n",
            "500/500 [==============================] - 400s 801ms/step - loss: 0.2895 - val_loss: 0.2726\n",
            "Epoch 32/40\n",
            "500/500 [==============================] - 401s 802ms/step - loss: 0.2879 - val_loss: 0.2710\n",
            "Epoch 33/40\n",
            "500/500 [==============================] - 404s 809ms/step - loss: 0.2899 - val_loss: 0.2707\n",
            "Epoch 34/40\n",
            "500/500 [==============================] - 406s 812ms/step - loss: 0.2887 - val_loss: 0.2685\n",
            "Epoch 35/40\n",
            "500/500 [==============================] - 407s 815ms/step - loss: 0.2865 - val_loss: 0.2688\n",
            "Epoch 36/40\n",
            "500/500 [==============================] - 408s 816ms/step - loss: 0.2829 - val_loss: 0.2678\n",
            "Epoch 37/40\n",
            "500/500 [==============================] - 404s 808ms/step - loss: 0.2857 - val_loss: 0.2696\n",
            "Epoch 38/40\n",
            "500/500 [==============================] - 402s 805ms/step - loss: 0.2834 - val_loss: 0.2703\n",
            "Epoch 39/40\n",
            "500/500 [==============================] - 400s 801ms/step - loss: 0.2839 - val_loss: 0.2708\n",
            "Epoch 40/40\n",
            "500/500 [==============================] - 402s 804ms/step - loss: 0.2829 - val_loss: 0.2714\n"
          ],
          "name": "stdout"
        },
        {
          "output_type": "execute_result",
          "data": {
            "text/plain": [
              "<tensorflow.python.keras.callbacks.History at 0x7fe2c66ca910>"
            ]
          },
          "metadata": {
            "tags": []
          },
          "execution_count": 24
        }
      ]
    },
    {
      "cell_type": "markdown",
      "metadata": {
        "id": "XUFf-aziWMnj"
      },
      "source": [
        "**Training v/s Validation Results**"
      ]
    },
    {
      "cell_type": "code",
      "metadata": {
        "id": "863CuWd5WByw"
      },
      "source": [
        "dict_ = model.history.history\n",
        "dict_.keys()\n",
        "\n",
        "train_loss = dict_['loss']\n",
        "val_loss = dict_['val_loss']\n",
        "epochs = range(1,len(train_loss)+1)"
      ],
      "execution_count": null,
      "outputs": []
    },
    {
      "cell_type": "code",
      "metadata": {
        "colab": {
          "base_uri": "https://localhost:8080/",
          "height": 312
        },
        "id": "zEyndVYpWKN3",
        "outputId": "d1c9b6a8-51e2-481c-92d4-4d22fa43ff1b"
      },
      "source": [
        "plt.plot(epochs,train_loss,ls=':',label='Training_loss')\n",
        "plt.plot(epochs,val_loss,ls='-.',color='green',label='Validation_loss')\n",
        "plt.xlabel('Epochs')\n",
        "plt.ylabel('Loss')\n",
        "plt.title('training v/s validation loss')\n",
        "plt.legend()"
      ],
      "execution_count": null,
      "outputs": [
        {
          "output_type": "execute_result",
          "data": {
            "text/plain": [
              "<matplotlib.legend.Legend at 0x7fe2c53a9f10>"
            ]
          },
          "metadata": {
            "tags": []
          },
          "execution_count": 26
        },
        {
          "output_type": "display_data",
          "data": {
            "image/png": "[encoded data removed]",
            "text/plain": [
              "<Figure size 432x288 with 1 Axes>"
            ]
          },
          "metadata": {
            "tags": []
          }
        }
      ]
    },
    {
      "cell_type": "markdown",
      "metadata": {
        "id": "PoKkBp7IaUAI"
      },
      "source": [
        "**adding layers does improve ours results by a bit, albeit not very significantly.**"
      ]
    },
    {
      "cell_type": "markdown",
      "metadata": {
        "id": "gCBh-g6PlBKx"
      },
      "source": [
        "# **Processing input sequences in antichronological order with  RNN's**"
      ]
    },
    {
      "cell_type": "code",
      "metadata": {
        "id": "I14wZYYNl9xl"
      },
      "source": [
        "#RNN layers in this section have so far processed sequences in chronological order (older timesteps first)\n",
        "#Could it be that our RNNs could have performed well enough if it were processing input sequences in antichronological order(newer timesteps first)?\n",
        "#Let's try this in practice and see what we get."
      ],
      "execution_count": null,
      "outputs": []
    },
    {
      "cell_type": "code",
      "metadata": {
        "id": "uE1r5OmYWdEH"
      },
      "source": [
        "def reverse_order_generator(data, lookback, delay, min_index, max_index,shuffle=False, batch_size=128, step=6):\n",
        "\n",
        "  if max_index is None:\n",
        "    max_index = len(data) - delay - 1\n",
        "\n",
        "  i = min_index + lookback\n",
        "\n",
        "  while 1:\n",
        "    \n",
        "    if shuffle:\n",
        "      rows = np.random.randint(min_index + lookback, max_index, batch_size)\n",
        "\n",
        "    else:\n",
        "      if i+batch_size>=max_index:\n",
        "        i = min_index + lookback\n",
        "      \n",
        "      rows = np.arange(i,min(i+batch_size,max_index))\n",
        "      i+= len(rows)\n",
        "\n",
        "\n",
        "\n",
        "    samples_in_batch = np.zeros((len(rows),  lookback//step,  data.shape[-1]))\n",
        "    targets = np.zeros((len(rows),))\n",
        "\n",
        "\n",
        "    for j, row in enumerate(rows):\n",
        "      indices = np.arange(rows[j]-lookback,rows[j], step)\n",
        "      samples_in_batch[j] = data[indices]\n",
        "      targets[j] = data[rows[j]+delay][1]\n",
        "\n",
        "    yield samples_in_batch[:,::-1,:], targets\n"
      ],
      "execution_count": null,
      "outputs": []
    },
    {
      "cell_type": "code",
      "metadata": {
        "id": "rzUN2bBnebF2"
      },
      "source": [
        "train_gen_rev = reverse_order_generator(float_data, lookback, delay, min_index=0, max_index=200000,shuffle=True)\n",
        "val_gen_rev = reverse_order_generator(float_data, lookback, delay, min_index=200001, max_index=300000)\n",
        "test_gen_rev = reverse_order_generator(float_data, lookback, delay, min_index=300001, max_index=None)"
      ],
      "execution_count": null,
      "outputs": []
    },
    {
      "cell_type": "code",
      "metadata": {
        "colab": {
          "base_uri": "https://localhost:8080/"
        },
        "id": "k3BVAlCCfV-c",
        "outputId": "5ccd41ae-7cd3-4ce5-904b-adf4ba3d397f"
      },
      "source": [
        "input = Input(shape=(lookback//step,float_data.shape[-1]))\n",
        "\n",
        "output = GRU(32)(input)\n",
        "output = Dense(1)(output)\n",
        "\n",
        "model = Model(inputs = input, outputs=output)\n",
        "model.compile(optimizer=RMSprop(),loss='mae')\n",
        "model.fit_generator(train_gen_rev,steps_per_epoch=500, epochs=20, validation_data=val_gen_rev, validation_steps=val_steps)"
      ],
      "execution_count": null,
      "outputs": [
        {
          "output_type": "stream",
          "text": [
            "/usr/local/lib/python3.7/dist-packages/tensorflow/python/keras/engine/training.py:1844: UserWarning: `Model.fit_generator` is deprecated and will be removed in a future version. Please use `Model.fit`, which supports generators.\n",
            "  warnings.warn('`Model.fit_generator` is deprecated and '\n"
          ],
          "name": "stderr"
        },
        {
          "output_type": "stream",
          "text": [
            "Epoch 1/20\n",
            "500/500 [==============================] - 85s 166ms/step - loss: 0.4923 - val_loss: 0.4843\n",
            "Epoch 2/20\n",
            "500/500 [==============================] - 83s 166ms/step - loss: 0.4576 - val_loss: 0.4865\n",
            "Epoch 3/20\n",
            "500/500 [==============================] - 82s 165ms/step - loss: 0.4168 - val_loss: 0.4451\n",
            "Epoch 4/20\n",
            "500/500 [==============================] - 83s 165ms/step - loss: 0.3649 - val_loss: 0.4168\n",
            "Epoch 5/20\n",
            "500/500 [==============================] - 83s 166ms/step - loss: 0.3337 - val_loss: 0.3962\n",
            "Epoch 6/20\n",
            "500/500 [==============================] - 85s 171ms/step - loss: 0.3090 - val_loss: 0.3643\n",
            "Epoch 7/20\n",
            "500/500 [==============================] - 87s 174ms/step - loss: 0.2901 - val_loss: 0.3615\n",
            "Epoch 8/20\n",
            "500/500 [==============================] - 85s 171ms/step - loss: 0.2805 - val_loss: 0.3701\n",
            "Epoch 9/20\n",
            "500/500 [==============================] - 84s 169ms/step - loss: 0.2705 - val_loss: 0.3589\n",
            "Epoch 10/20\n",
            "500/500 [==============================] - 85s 170ms/step - loss: 0.2646 - val_loss: 0.3819\n",
            "Epoch 11/20\n",
            "500/500 [==============================] - 83s 165ms/step - loss: 0.2597 - val_loss: 0.3775\n",
            "Epoch 12/20\n",
            "500/500 [==============================] - 83s 165ms/step - loss: 0.2523 - val_loss: 0.3804\n",
            "Epoch 13/20\n",
            "500/500 [==============================] - 83s 165ms/step - loss: 0.2495 - val_loss: 0.3780\n",
            "Epoch 14/20\n",
            "500/500 [==============================] - 82s 164ms/step - loss: 0.2454 - val_loss: 0.3706\n",
            "Epoch 15/20\n",
            "500/500 [==============================] - 82s 164ms/step - loss: 0.2417 - val_loss: 0.3821\n",
            "Epoch 16/20\n",
            "500/500 [==============================] - 83s 167ms/step - loss: 0.2372 - val_loss: 0.3746\n",
            "Epoch 17/20\n",
            "500/500 [==============================] - 84s 167ms/step - loss: 0.2338 - val_loss: 0.3696\n",
            "Epoch 18/20\n",
            "500/500 [==============================] - 83s 165ms/step - loss: 0.2319 - val_loss: 0.3840\n",
            "Epoch 19/20\n",
            "500/500 [==============================] - 84s 168ms/step - loss: 0.2286 - val_loss: 0.3925\n",
            "Epoch 20/20\n",
            "500/500 [==============================] - 83s 165ms/step - loss: 0.2237 - val_loss: 0.3764\n"
          ],
          "name": "stdout"
        },
        {
          "output_type": "execute_result",
          "data": {
            "text/plain": [
              "<tensorflow.python.keras.callbacks.History at 0x7fe2c23801d0>"
            ]
          },
          "metadata": {
            "tags": []
          },
          "execution_count": 30
        }
      ]
    },
    {
      "cell_type": "code",
      "metadata": {
        "id": "78J_WM_TALfU"
      },
      "source": [
        "dict_ = model.history.history\n",
        "dict_.keys()\n",
        "\n",
        "train_loss = dict_['loss']\n",
        "val_loss = dict_['val_loss']\n",
        "epochs = range(1,len(train_loss)+1)"
      ],
      "execution_count": null,
      "outputs": []
    },
    {
      "cell_type": "code",
      "metadata": {
        "id": "gBLWqrTknWmt",
        "colab": {
          "base_uri": "https://localhost:8080/",
          "height": 312
        },
        "outputId": "54dbc02b-eab4-4470-c5fe-ff7973d7a904"
      },
      "source": [
        "plt.plot(epochs,train_loss,ls=':',label='Training_loss')\n",
        "plt.plot(epochs,val_loss,ls='-.',color='green',label='Validation_loss')\n",
        "plt.xlabel('Epochs')\n",
        "plt.ylabel('Loss')\n",
        "plt.title('training v/s validation loss')\n",
        "plt.legend()"
      ],
      "execution_count": 37,
      "outputs": [
        {
          "output_type": "execute_result",
          "data": {
            "text/plain": [
              "<matplotlib.legend.Legend at 0x7fe2bf2c35d0>"
            ]
          },
          "metadata": {
            "tags": []
          },
          "execution_count": 37
        },
        {
          "output_type": "display_data",
          "data": {
            "image/png": "[encoded data removed]",
            "text/plain": [
              "<Figure size 432x288 with 1 Axes>"
            ]
          },
          "metadata": {
            "tags": [],
            "needs_background": "light"
          }
        }
      ]
    },
    {
      "cell_type": "code",
      "metadata": {
        "id": "CzHsmUhrnZO_"
      },
      "source": [
        "#So the reversed-order GRU strongly underperforms even the common-sense baseline, indicating that the in our case chronological processing is very important to \n",
        "#the success of our approach. This makes perfect sense: the underlying GRU layer will typically be better at remembering the recent past than the distant past,\n",
        "#and naturally the more recent weather data points are more predictive than older data points in our problem.\n",
        "#Thus the chronological version of the layer is bound to outperform the reversed-order version.\n",
        "\n",
        "# Importantly, this is generally not true for many other problems, including natural language: intuitively, the importance of a word in\n",
        "# understanding a sentence is not usually dependent on its position in the sentence."
      ],
      "execution_count": null,
      "outputs": []
    },
    {
      "cell_type": "markdown",
      "metadata": {
        "id": "y2PmMrK4pfrs"
      },
      "source": [
        "# **Using bidirectional RNNs**"
      ]
    },
    {
      "cell_type": "code",
      "metadata": {
        "id": "ibruKzlFpKuu"
      },
      "source": [
        "from keras import backend as K\n",
        "from keras.layers import Bidirectional\n",
        "\n",
        "K.clear_session()"
      ],
      "execution_count": null,
      "outputs": []
    },
    {
      "cell_type": "code",
      "metadata": {
        "colab": {
          "base_uri": "https://localhost:8080/"
        },
        "id": "0vs-ZyGEpvDc",
        "outputId": "35f1fabf-3173-47ef-c65f-6c655473c8a0"
      },
      "source": [
        "input = Input(shape=(lookback//step,float_data.shape[-1]))\n",
        "\n",
        "output = Bidirectional(GRU(32))(input)\n",
        "output = Dense(1)(output)\n",
        "\n",
        "model = Model(inputs = input, outputs=output)\n",
        "model.compile(optimizer=RMSprop(),loss='mae')\n",
        "model.fit_generator(train_gen_rev,steps_per_epoch=500, epochs=40, validation_data=val_gen_rev, validation_steps=val_steps)"
      ],
      "execution_count": 39,
      "outputs": [
        {
          "output_type": "stream",
          "text": [
            "/usr/local/lib/python3.7/dist-packages/tensorflow/python/keras/engine/training.py:1844: UserWarning: `Model.fit_generator` is deprecated and will be removed in a future version. Please use `Model.fit`, which supports generators.\n",
            "  warnings.warn('`Model.fit_generator` is deprecated and '\n"
          ],
          "name": "stderr"
        },
        {
          "output_type": "stream",
          "text": [
            "Epoch 1/40\n",
            "500/500 [==============================] - 149s 292ms/step - loss: 0.3244 - val_loss: 0.2715\n",
            "Epoch 2/40\n",
            "500/500 [==============================] - 146s 291ms/step - loss: 0.2782 - val_loss: 0.2701\n",
            "Epoch 3/40\n",
            "500/500 [==============================] - 145s 290ms/step - loss: 0.2686 - val_loss: 0.2683\n",
            "Epoch 4/40\n",
            "500/500 [==============================] - 147s 294ms/step - loss: 0.2623 - val_loss: 0.2651\n",
            "Epoch 5/40\n",
            "500/500 [==============================] - 146s 292ms/step - loss: 0.2593 - val_loss: 0.2686\n",
            "Epoch 6/40\n",
            "500/500 [==============================] - 145s 291ms/step - loss: 0.2523 - val_loss: 0.2709\n",
            "Epoch 7/40\n",
            "500/500 [==============================] - 146s 293ms/step - loss: 0.2474 - val_loss: 0.2822\n",
            "Epoch 8/40\n",
            "500/500 [==============================] - 146s 291ms/step - loss: 0.2420 - val_loss: 0.2811\n",
            "Epoch 9/40\n",
            "500/500 [==============================] - 145s 291ms/step - loss: 0.2345 - val_loss: 0.2815\n",
            "Epoch 10/40\n",
            "500/500 [==============================] - 145s 290ms/step - loss: 0.2285 - val_loss: 0.2869\n",
            "Epoch 11/40\n",
            "500/500 [==============================] - 144s 288ms/step - loss: 0.2201 - val_loss: 0.2922\n",
            "Epoch 12/40\n",
            "500/500 [==============================] - 146s 291ms/step - loss: 0.2147 - val_loss: 0.2912\n",
            "Epoch 13/40\n",
            "500/500 [==============================] - 145s 290ms/step - loss: 0.2077 - val_loss: 0.2949\n",
            "Epoch 14/40\n",
            "500/500 [==============================] - 145s 291ms/step - loss: 0.2011 - val_loss: 0.3106\n",
            "Epoch 15/40\n",
            "500/500 [==============================] - 144s 289ms/step - loss: 0.1953 - val_loss: 0.3020\n",
            "Epoch 16/40\n",
            "500/500 [==============================] - 145s 290ms/step - loss: 0.1903 - val_loss: 0.3088\n",
            "Epoch 17/40\n",
            "500/500 [==============================] - 145s 290ms/step - loss: 0.1849 - val_loss: 0.3140\n",
            "Epoch 18/40\n",
            "500/500 [==============================] - 145s 290ms/step - loss: 0.1818 - val_loss: 0.3138\n",
            "Epoch 19/40\n",
            "500/500 [==============================] - 144s 288ms/step - loss: 0.1772 - val_loss: 0.3176\n",
            "Epoch 20/40\n",
            "500/500 [==============================] - 146s 292ms/step - loss: 0.1723 - val_loss: 0.3181\n",
            "Epoch 21/40\n",
            "500/500 [==============================] - 145s 290ms/step - loss: 0.1695 - val_loss: 0.3247\n",
            "Epoch 22/40\n",
            "500/500 [==============================] - 145s 290ms/step - loss: 0.1657 - val_loss: 0.3239\n",
            "Epoch 23/40\n",
            "500/500 [==============================] - 146s 292ms/step - loss: 0.1636 - val_loss: 0.3297\n",
            "Epoch 24/40\n",
            "500/500 [==============================] - 145s 290ms/step - loss: 0.1591 - val_loss: 0.3302\n",
            "Epoch 25/40\n",
            "500/500 [==============================] - 146s 292ms/step - loss: 0.1573 - val_loss: 0.3340\n",
            "Epoch 26/40\n",
            "500/500 [==============================] - 145s 290ms/step - loss: 0.1557 - val_loss: 0.3352\n",
            "Epoch 27/40\n",
            "500/500 [==============================] - 145s 290ms/step - loss: 0.1523 - val_loss: 0.3340\n",
            "Epoch 28/40\n",
            "500/500 [==============================] - 145s 290ms/step - loss: 0.1521 - val_loss: 0.3303\n",
            "Epoch 29/40\n",
            "500/500 [==============================] - 145s 291ms/step - loss: 0.1484 - val_loss: 0.3461\n",
            "Epoch 30/40\n",
            "500/500 [==============================] - 145s 291ms/step - loss: 0.1447 - val_loss: 0.3391\n",
            "Epoch 31/40\n",
            "500/500 [==============================] - 145s 291ms/step - loss: 0.1442 - val_loss: 0.3421\n",
            "Epoch 32/40\n",
            "500/500 [==============================] - 146s 293ms/step - loss: 0.1438 - val_loss: 0.3461\n",
            "Epoch 33/40\n",
            "500/500 [==============================] - 145s 289ms/step - loss: 0.1418 - val_loss: 0.3423\n",
            "Epoch 34/40\n",
            "500/500 [==============================] - 146s 292ms/step - loss: 0.1392 - val_loss: 0.3386\n",
            "Epoch 35/40\n",
            "500/500 [==============================] - 145s 290ms/step - loss: 0.1378 - val_loss: 0.3353\n",
            "Epoch 36/40\n",
            "500/500 [==============================] - 146s 292ms/step - loss: 0.1368 - val_loss: 0.3382\n",
            "Epoch 37/40\n",
            "500/500 [==============================] - 146s 293ms/step - loss: 0.1347 - val_loss: 0.3411\n",
            "Epoch 38/40\n",
            "500/500 [==============================] - 146s 291ms/step - loss: 0.1342 - val_loss: 0.3431\n",
            "Epoch 39/40\n",
            "500/500 [==============================] - 144s 288ms/step - loss: 0.1331 - val_loss: 0.3430\n",
            "Epoch 40/40\n",
            "500/500 [==============================] - 145s 290ms/step - loss: 0.1315 - val_loss: 0.3408\n"
          ],
          "name": "stdout"
        },
        {
          "output_type": "execute_result",
          "data": {
            "text/plain": [
              "<tensorflow.python.keras.callbacks.History at 0x7fe2bf098a90>"
            ]
          },
          "metadata": {
            "tags": []
          },
          "execution_count": 39
        }
      ]
    },
    {
      "cell_type": "code",
      "metadata": {
        "id": "x5TwNER0qIye"
      },
      "source": [
        "dict_ = model.history.history\n",
        "dict_.keys()\n",
        "\n",
        "train_loss = dict_['loss']\n",
        "val_loss = dict_['val_loss']\n",
        "epochs = range(1,len(train_loss)+1)"
      ],
      "execution_count": 40,
      "outputs": []
    },
    {
      "cell_type": "code",
      "metadata": {
        "id": "pZXLKITDqQfh",
        "colab": {
          "base_uri": "https://localhost:8080/",
          "height": 312
        },
        "outputId": "07d4200f-7755-409f-f2f2-c116325fa3e5"
      },
      "source": [
        "plt.plot(epochs,train_loss,ls=':',label='Training_loss')\n",
        "plt.plot(epochs,val_loss,ls='-.',color='green',label='Validation_loss')\n",
        "plt.xlabel('Epochs')\n",
        "plt.ylabel('Loss')\n",
        "plt.title('training v/s validation loss')\n",
        "plt.legend()"
      ],
      "execution_count": 41,
      "outputs": [
        {
          "output_type": "execute_result",
          "data": {
            "text/plain": [
              "<matplotlib.legend.Legend at 0x7fe2be7d8f50>"
            ]
          },
          "metadata": {
            "tags": []
          },
          "execution_count": 41
        },
        {
          "output_type": "display_data",
          "data": {
            "image/png": "[encoded data removed]",
            "text/plain": [
              "<Figure size 432x288 with 1 Axes>"
            ]
          },
          "metadata": {
            "tags": [],
            "needs_background": "light"
          }
        }
      ]
    },
    {
      "cell_type": "code",
      "metadata": {
        "id": "ONyTDAumqULU"
      },
      "source": [
        "# It performs about as well as the regular GRU layer. It's easy to understand why: all of the predictive capacity must be coming from the chronological half \n",
        "# of the network, since the anti-chronological half is known to be severely underperforming on this task (again, because the recent past matters much more \n",
        "#than the distant past in this case)."
      ],
      "execution_count": 42,
      "outputs": []
    },
    {
      "cell_type": "code",
      "metadata": {
        "id": "nyMC4vhAqmsp"
      },
      "source": [
        "#Bidirectional RNNs, which look at a sequence both ways, are very useful on natural language processing problems.\n",
        "# However, they will not be strong performers on sequence data where the recent past is much more informative than the beginning of the sequence."
      ],
      "execution_count": 43,
      "outputs": []
    }
  ]
}