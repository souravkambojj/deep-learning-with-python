{
  "nbformat": 4,
  "nbformat_minor": 0,
  "metadata": {
    "colab": {
      "name": "2.2.ipynb",
      "provenance": [],
      "collapsed_sections": []
    },
    "kernelspec": {
      "name": "python3",
      "display_name": "Python 3"
    },
    "language_info": {
      "name": "python"
    }
  },
  "cells": [
    {
      "cell_type": "markdown",
      "metadata": {
        "id": "TGQEzRqWQz33"
      },
      "source": [
        "## **Classify newswires: Multiclass Classification Problem**"
      ]
    },
    {
      "cell_type": "markdown",
      "metadata": {
        "id": "ARxvvTE-RAka"
      },
      "source": [
        "**Reuters-data**"
      ]
    },
    {
      "cell_type": "code",
      "metadata": {
        "colab": {
          "base_uri": "https://localhost:8080/"
        },
        "id": "J9zTXQV7Olh4",
        "outputId": "7c0408c6-d335-4918-ffe9-ec496e689eb2"
      },
      "source": [
        "from keras.datasets import reuters\n",
        "(train_data,train_lab),(test_data,test_lab) = reuters.load_data(num_words=10000)"
      ],
      "execution_count": 3,
      "outputs": [
        {
          "output_type": "stream",
          "text": [
            "/usr/local/lib/python3.7/dist-packages/tensorflow/python/keras/datasets/reuters.py:148: VisibleDeprecationWarning: Creating an ndarray from ragged nested sequences (which is a list-or-tuple of lists-or-tuples-or ndarrays with different lengths or shapes) is deprecated. If you meant to do this, you must specify 'dtype=object' when creating the ndarray\n",
            "  x_train, y_train = np.array(xs[:idx]), np.array(labels[:idx])\n",
            "/usr/local/lib/python3.7/dist-packages/tensorflow/python/keras/datasets/reuters.py:149: VisibleDeprecationWarning: Creating an ndarray from ragged nested sequences (which is a list-or-tuple of lists-or-tuples-or ndarrays with different lengths or shapes) is deprecated. If you meant to do this, you must specify 'dtype=object' when creating the ndarray\n",
            "  x_test, y_test = np.array(xs[idx:]), np.array(labels[idx:])\n"
          ],
          "name": "stderr"
        }
      ]
    },
    {
      "cell_type": "code",
      "metadata": {
        "colab": {
          "base_uri": "https://localhost:8080/"
        },
        "id": "OcO_dzFLRQIQ",
        "outputId": "38afc036-ceeb-46b6-88e1-589ef6fa28b9"
      },
      "source": [
        "train_data.shape,test_data.shape"
      ],
      "execution_count": 6,
      "outputs": [
        {
          "output_type": "execute_result",
          "data": {
            "text/plain": [
              "((8982,), (2246,))"
            ]
          },
          "metadata": {
            "tags": []
          },
          "execution_count": 6
        }
      ]
    },
    {
      "cell_type": "code",
      "metadata": {
        "id": "ZludzBfdRYlt"
      },
      "source": [
        "word_index = reuters.get_word_index()\n",
        "index_word = {v:k for k,v in word_index.items()}"
      ],
      "execution_count": 8,
      "outputs": []
    },
    {
      "cell_type": "code",
      "metadata": {
        "colab": {
          "base_uri": "https://localhost:8080/"
        },
        "id": "GHEK5qULSUkc",
        "outputId": "a917b96a-0372-47d7-e071-3567b04eccf6"
      },
      "source": [
        "print(train_data[0])"
      ],
      "execution_count": 9,
      "outputs": [
        {
          "output_type": "stream",
          "text": [
            "[1, 2, 2, 8, 43, 10, 447, 5, 25, 207, 270, 5, 3095, 111, 16, 369, 186, 90, 67, 7, 89, 5, 19, 102, 6, 19, 124, 15, 90, 67, 84, 22, 482, 26, 7, 48, 4, 49, 8, 864, 39, 209, 154, 6, 151, 6, 83, 11, 15, 22, 155, 11, 15, 7, 48, 9, 4579, 1005, 504, 6, 258, 6, 272, 11, 15, 22, 134, 44, 11, 15, 16, 8, 197, 1245, 90, 67, 52, 29, 209, 30, 32, 132, 6, 109, 15, 17, 12]\n"
          ],
          "name": "stdout"
        }
      ]
    },
    {
      "cell_type": "code",
      "metadata": {
        "colab": {
          "base_uri": "https://localhost:8080/"
        },
        "id": "EChUiOQNShiC",
        "outputId": "975274c9-5af3-48f7-adaf-5a2bd42edca8"
      },
      "source": [
        "print(' '.join([index_word.get(i-3,'?') for i in train_data[0]]))"
      ],
      "execution_count": 10,
      "outputs": [
        {
          "output_type": "stream",
          "text": [
            "? ? ? said as a result of its december acquisition of space co it expects earnings per share in 1987 of 1 15 to 1 30 dlrs per share up from 70 cts in 1986 the company said pretax net should rise to nine to 10 mln dlrs from six mln dlrs in 1986 and rental operation revenues to 19 to 22 mln dlrs from 12 5 mln dlrs it said cash flow per share this year should be 2 50 to three dlrs reuter 3\n"
          ],
          "name": "stdout"
        }
      ]
    },
    {
      "cell_type": "markdown",
      "metadata": {
        "id": "cYscuNNRS13U"
      },
      "source": [
        "## **Preparing Data**"
      ]
    },
    {
      "cell_type": "code",
      "metadata": {
        "id": "-t1dhXoSSxXz"
      },
      "source": [
        "import numpy as np\n",
        "def encode_data(data,dim=10000): #since, max_index = 9999\n",
        "  results = np.zeros((data.shape[0],dim))\n",
        "\n",
        "  for i,x in enumerate(data):\n",
        "    results[i,x] = 1\n",
        "\n",
        "  return results"
      ],
      "execution_count": 15,
      "outputs": []
    },
    {
      "cell_type": "code",
      "metadata": {
        "id": "NuF6ZGfKTkus"
      },
      "source": [
        "x_train = encode_data(train_data)\n",
        "x_test = encode_data(test_data)"
      ],
      "execution_count": 16,
      "outputs": []
    },
    {
      "cell_type": "code",
      "metadata": {
        "id": "qzdLP3r-TuB6"
      },
      "source": [
        "from keras.utils import to_categorical"
      ],
      "execution_count": 17,
      "outputs": []
    },
    {
      "cell_type": "code",
      "metadata": {
        "id": "QJw9jAc8UfPV"
      },
      "source": [
        "y_train = to_categorical(train_lab)\n",
        "y_test = to_categorical(test_lab)"
      ],
      "execution_count": 18,
      "outputs": []
    },
    {
      "cell_type": "markdown",
      "metadata": {
        "id": "e1_Emyx6Ut8Y"
      },
      "source": [
        "## **Network Building**"
      ]
    },
    {
      "cell_type": "code",
      "metadata": {
        "id": "SK2fS1e_UpoM"
      },
      "source": [
        "from keras.models import Sequential\n",
        "from keras.layers import Dense"
      ],
      "execution_count": 22,
      "outputs": []
    },
    {
      "cell_type": "code",
      "metadata": {
        "colab": {
          "base_uri": "https://localhost:8080/"
        },
        "id": "Ssa8iEBbVdja",
        "outputId": "4cbed659-891e-443d-859a-d1b9f7ccf34c"
      },
      "source": [
        "len(np.unique(test_lab))"
      ],
      "execution_count": 24,
      "outputs": [
        {
          "output_type": "execute_result",
          "data": {
            "text/plain": [
              "46"
            ]
          },
          "metadata": {
            "tags": []
          },
          "execution_count": 24
        }
      ]
    },
    {
      "cell_type": "code",
      "metadata": {
        "id": "YXSHcnisVPSE"
      },
      "source": [
        "model = Sequential()\n",
        "model.add(Dense(128,activation='relu',input_shape=(10000,))) #since, size of each vector is 10000\n",
        "model.add(Dense(64,activation='relu'))\n",
        "model.add(Dense(46,activation='softmax'))"
      ],
      "execution_count": 26,
      "outputs": []
    },
    {
      "cell_type": "code",
      "metadata": {
        "id": "G8yenMuvVSYm"
      },
      "source": [
        "model.compile(optimizer='rmsprop',loss='categorical_crossentropy',metrics=['acc'])"
      ],
      "execution_count": 27,
      "outputs": []
    },
    {
      "cell_type": "code",
      "metadata": {
        "colab": {
          "base_uri": "https://localhost:8080/"
        },
        "id": "cieF5-JjWKvh",
        "outputId": "778603cf-302b-4e7b-8a7b-dfe2eb0b71b9"
      },
      "source": [
        "model.fit(x_train,y_train,epochs=20,batch_size=500,validation_split=0.2, verbose=1)"
      ],
      "execution_count": 28,
      "outputs": [
        {
          "output_type": "stream",
          "text": [
            "Epoch 1/20\n",
            "15/15 [==============================] - 2s 92ms/step - loss: 3.0133 - acc: 0.4093 - val_loss: 1.5248 - val_acc: 0.6895\n",
            "Epoch 2/20\n",
            "15/15 [==============================] - 1s 75ms/step - loss: 1.2822 - acc: 0.7314 - val_loss: 1.1722 - val_acc: 0.7563\n",
            "Epoch 3/20\n",
            "15/15 [==============================] - 1s 75ms/step - loss: 0.8649 - acc: 0.8175 - val_loss: 1.0408 - val_acc: 0.7730\n",
            "Epoch 4/20\n",
            "15/15 [==============================] - 1s 76ms/step - loss: 0.6491 - acc: 0.8684 - val_loss: 0.9885 - val_acc: 0.7874\n",
            "Epoch 5/20\n",
            "15/15 [==============================] - 1s 75ms/step - loss: 0.4868 - acc: 0.9029 - val_loss: 0.9858 - val_acc: 0.7741\n",
            "Epoch 6/20\n",
            "15/15 [==============================] - 1s 75ms/step - loss: 0.3598 - acc: 0.9198 - val_loss: 0.9141 - val_acc: 0.8075\n",
            "Epoch 7/20\n",
            "15/15 [==============================] - 1s 75ms/step - loss: 0.2709 - acc: 0.9438 - val_loss: 0.9335 - val_acc: 0.7974\n",
            "Epoch 8/20\n",
            "15/15 [==============================] - 1s 75ms/step - loss: 0.2196 - acc: 0.9527 - val_loss: 0.9940 - val_acc: 0.7841\n",
            "Epoch 9/20\n",
            "15/15 [==============================] - 1s 76ms/step - loss: 0.2039 - acc: 0.9534 - val_loss: 0.9540 - val_acc: 0.7997\n",
            "Epoch 10/20\n",
            "15/15 [==============================] - 1s 75ms/step - loss: 0.1592 - acc: 0.9589 - val_loss: 1.0220 - val_acc: 0.7863\n",
            "Epoch 11/20\n",
            "15/15 [==============================] - 1s 77ms/step - loss: 0.1463 - acc: 0.9602 - val_loss: 1.0068 - val_acc: 0.7952\n",
            "Epoch 12/20\n",
            "15/15 [==============================] - 1s 78ms/step - loss: 0.1257 - acc: 0.9651 - val_loss: 1.1034 - val_acc: 0.7869\n",
            "Epoch 13/20\n",
            "15/15 [==============================] - 1s 77ms/step - loss: 0.1271 - acc: 0.9617 - val_loss: 1.1005 - val_acc: 0.7880\n",
            "Epoch 14/20\n",
            "15/15 [==============================] - 1s 76ms/step - loss: 0.0996 - acc: 0.9667 - val_loss: 1.0586 - val_acc: 0.7952\n",
            "Epoch 15/20\n",
            "15/15 [==============================] - 1s 77ms/step - loss: 0.0928 - acc: 0.9682 - val_loss: 1.1444 - val_acc: 0.7958\n",
            "Epoch 16/20\n",
            "15/15 [==============================] - 1s 76ms/step - loss: 0.1003 - acc: 0.9632 - val_loss: 1.1246 - val_acc: 0.7930\n",
            "Epoch 17/20\n",
            "15/15 [==============================] - 1s 76ms/step - loss: 0.0930 - acc: 0.9667 - val_loss: 1.1012 - val_acc: 0.7935\n",
            "Epoch 18/20\n",
            "15/15 [==============================] - 1s 77ms/step - loss: 0.0925 - acc: 0.9688 - val_loss: 1.1734 - val_acc: 0.7891\n",
            "Epoch 19/20\n",
            "15/15 [==============================] - 1s 76ms/step - loss: 0.0923 - acc: 0.9636 - val_loss: 1.1964 - val_acc: 0.7858\n",
            "Epoch 20/20\n",
            "15/15 [==============================] - 1s 75ms/step - loss: 0.0808 - acc: 0.9693 - val_loss: 1.2370 - val_acc: 0.7863\n"
          ],
          "name": "stdout"
        },
        {
          "output_type": "execute_result",
          "data": {
            "text/plain": [
              "<tensorflow.python.keras.callbacks.History at 0x7f0a1e7c56d0>"
            ]
          },
          "metadata": {
            "tags": []
          },
          "execution_count": 28
        }
      ]
    },
    {
      "cell_type": "code",
      "metadata": {
        "colab": {
          "base_uri": "https://localhost:8080/"
        },
        "id": "vplRxlGAYgsF",
        "outputId": "3144f57c-4417-4339-ecd5-ac1b1bedf6cc"
      },
      "source": [
        "model.summary()"
      ],
      "execution_count": 38,
      "outputs": [
        {
          "output_type": "stream",
          "text": [
            "Model: \"sequential_4\"\n",
            "_________________________________________________________________\n",
            "Layer (type)                 Output Shape              Param #   \n",
            "=================================================================\n",
            "dense_1 (Dense)              (None, 128)               1280128   \n",
            "_________________________________________________________________\n",
            "dense_2 (Dense)              (None, 64)                8256      \n",
            "_________________________________________________________________\n",
            "dense_3 (Dense)              (None, 46)                2990      \n",
            "=================================================================\n",
            "Total params: 1,291,374\n",
            "Trainable params: 1,291,374\n",
            "Non-trainable params: 0\n",
            "_________________________________________________________________\n"
          ],
          "name": "stdout"
        }
      ]
    },
    {
      "cell_type": "code",
      "metadata": {
        "id": "wBB9CShyWdhO"
      },
      "source": [
        "model.save('/content/drive/MyDrive/jupyter_notebooks/deep_learning_fc/models/model3.h5')"
      ],
      "execution_count": 29,
      "outputs": []
    },
    {
      "cell_type": "markdown",
      "metadata": {
        "id": "0MOXYwJfWmz0"
      },
      "source": [
        "## **Model Evaluation**"
      ]
    },
    {
      "cell_type": "code",
      "metadata": {
        "colab": {
          "base_uri": "https://localhost:8080/"
        },
        "id": "Y1CUPhmLWiwc",
        "outputId": "2030bc06-24c3-4423-f637-65a920db5298"
      },
      "source": [
        "dict_ = model.history.history\n",
        "dict_.keys()"
      ],
      "execution_count": 30,
      "outputs": [
        {
          "output_type": "execute_result",
          "data": {
            "text/plain": [
              "dict_keys(['loss', 'acc', 'val_loss', 'val_acc'])"
            ]
          },
          "metadata": {
            "tags": []
          },
          "execution_count": 30
        }
      ]
    },
    {
      "cell_type": "code",
      "metadata": {
        "id": "TajxdsKjWwVB"
      },
      "source": [
        "train_acc = dict_['acc']\n",
        "train_loss = dict_['loss']\n",
        "val_acc = dict_['val_acc']\n",
        "val_loss = dict_['val_loss']\n",
        "epochs = range(1,len(train_acc)+1)"
      ],
      "execution_count": 32,
      "outputs": []
    },
    {
      "cell_type": "markdown",
      "metadata": {
        "id": "5EkI9HMPW0fI"
      },
      "source": [
        "**Training v/s validation**"
      ]
    },
    {
      "cell_type": "code",
      "metadata": {
        "colab": {
          "base_uri": "https://localhost:8080/",
          "height": 312
        },
        "id": "x4JzxJTcW_ap",
        "outputId": "2894bea7-9fb4-4450-ac59-c2a5097f7d59"
      },
      "source": [
        "import matplotlib.pyplot as plt\n",
        "\n",
        "plt.plot(epochs,train_acc,ls=':',label='Training_acc')\n",
        "plt.plot(epochs,val_acc,ls='-.',color='green',label='Validation_acc')\n",
        "plt.xlabel('Epochs')\n",
        "plt.ylabel('Accuracy')\n",
        "plt.title('training v/s validation acc')\n",
        "plt.legend()\n"
      ],
      "execution_count": 34,
      "outputs": [
        {
          "output_type": "execute_result",
          "data": {
            "text/plain": [
              "<matplotlib.legend.Legend at 0x7f0a282a0650>"
            ]
          },
          "metadata": {
            "tags": []
          },
          "execution_count": 34
        },
        {
          "output_type": "display_data",
          "data": {
            "image/png": "[encoded data removed]",
            "text/plain": [
              "<Figure size 432x288 with 1 Axes>"
            ]
          },
          "metadata": {
            "tags": [],
            "needs_background": "light"
          }
        }
      ]
    },
    {
      "cell_type": "code",
      "metadata": {
        "colab": {
          "base_uri": "https://localhost:8080/",
          "height": 312
        },
        "id": "5QQCD7L7XENY",
        "outputId": "795252bc-45b9-43aa-82e3-20d993f307be"
      },
      "source": [
        "plt.plot(epochs,train_loss,ls=':',label='Training_loss')\n",
        "plt.plot(epochs,val_loss,ls='-.',color='green',label='Validation_loss')\n",
        "plt.xlabel('Epochs')\n",
        "plt.ylabel('Accuracy')\n",
        "plt.title('training v/s validation loss')\n",
        "plt.legend()"
      ],
      "execution_count": 35,
      "outputs": [
        {
          "output_type": "execute_result",
          "data": {
            "text/plain": [
              "<matplotlib.legend.Legend at 0x7f0a1e2caf90>"
            ]
          },
          "metadata": {
            "tags": []
          },
          "execution_count": 35
        },
        {
          "output_type": "display_data",
          "data": {
            "image/png": "[encoded data removed]",
            "text/plain": [
              "<Figure size 432x288 with 1 Axes>"
            ]
          },
          "metadata": {
            "tags": [],
            "needs_background": "light"
          }
        }
      ]
    },
    {
      "cell_type": "markdown",
      "metadata": {
        "id": "FI1pAB-8YFOI"
      },
      "source": [
        "**Results on test data**"
      ]
    },
    {
      "cell_type": "markdown",
      "metadata": {
        "id": "BzJifh52YJX8"
      },
      "source": [
        "**overall loss nd accuracy**"
      ]
    },
    {
      "cell_type": "code",
      "metadata": {
        "colab": {
          "base_uri": "https://localhost:8080/"
        },
        "id": "mnt0VtfPYB3X",
        "outputId": "20850bfe-6738-40a2-a8fa-5a90051f21b6"
      },
      "source": [
        "loss,acc = model.evaluate(x_test,y_test)"
      ],
      "execution_count": 36,
      "outputs": [
        {
          "output_type": "stream",
          "text": [
            "71/71 [==============================] - 0s 4ms/step - loss: 1.3063 - acc: 0.7774\n"
          ],
          "name": "stdout"
        }
      ]
    },
    {
      "cell_type": "code",
      "metadata": {
        "colab": {
          "base_uri": "https://localhost:8080/"
        },
        "id": "IXbWTAoMYZx9",
        "outputId": "8542de56-98ae-43c1-e371-ad5b3090bad0"
      },
      "source": [
        "print('Loss: ',loss)\n",
        "print('Acc: ',acc)"
      ],
      "execution_count": 37,
      "outputs": [
        {
          "output_type": "stream",
          "text": [
            "Loss:  1.3063421249389648\n",
            "Acc:  0.7773820161819458\n"
          ],
          "name": "stdout"
        }
      ]
    },
    {
      "cell_type": "markdown",
      "metadata": {
        "id": "Ros8WMUzY1U3"
      },
      "source": [
        "**precision, recall and f1-score on a per-class basis**"
      ]
    },
    {
      "cell_type": "code",
      "metadata": {
        "id": "Nb7PAy9HYax9"
      },
      "source": [
        "from sklearn.metrics import classification_report,accuracy_score"
      ],
      "execution_count": 39,
      "outputs": []
    },
    {
      "cell_type": "code",
      "metadata": {
        "colab": {
          "base_uri": "https://localhost:8080/"
        },
        "id": "_Hv0SZJsY-bK",
        "outputId": "6d56a5d1-f2f3-45ac-bbac-ba1c5eb0a40b"
      },
      "source": [
        "preds = model.predict(x_test)\n",
        "preds.shape"
      ],
      "execution_count": 42,
      "outputs": [
        {
          "output_type": "execute_result",
          "data": {
            "text/plain": [
              "(2246, 46)"
            ]
          },
          "metadata": {
            "tags": []
          },
          "execution_count": 42
        }
      ]
    },
    {
      "cell_type": "code",
      "metadata": {
        "colab": {
          "base_uri": "https://localhost:8080/"
        },
        "id": "85X9hxOnZF72",
        "outputId": "c8473caa-f821-4c4f-eb89-4ca5c29dd3e1"
      },
      "source": [
        "pred_lab = preds.argmax(axis=1)\n",
        "pred_lab.shape,test_lab.shape"
      ],
      "execution_count": 47,
      "outputs": [
        {
          "output_type": "execute_result",
          "data": {
            "text/plain": [
              "((2246,), (2246,))"
            ]
          },
          "metadata": {
            "tags": []
          },
          "execution_count": 47
        }
      ]
    },
    {
      "cell_type": "code",
      "metadata": {
        "colab": {
          "base_uri": "https://localhost:8080/"
        },
        "id": "q7PrvZnPZZIW",
        "outputId": "8eb2bc6f-3534-4a3f-ead9-47033ae7fac8"
      },
      "source": [
        "print(classification_report(pred_lab,test_lab))"
      ],
      "execution_count": 48,
      "outputs": [
        {
          "output_type": "stream",
          "text": [
            "              precision    recall  f1-score   support\n",
            "\n",
            "           0       0.50      0.86      0.63         7\n",
            "           1       0.74      0.74      0.74       106\n",
            "           2       0.40      0.62      0.48        13\n",
            "           3       0.90      0.92      0.91       794\n",
            "           4       0.90      0.75      0.82       567\n",
            "           5       0.20      1.00      0.33         1\n",
            "           6       0.71      0.91      0.80        11\n",
            "           7       0.33      1.00      0.50         1\n",
            "           8       0.71      0.64      0.67        42\n",
            "           9       0.80      0.80      0.80        25\n",
            "          10       0.83      0.93      0.88        27\n",
            "          11       0.76      0.61      0.67       104\n",
            "          12       0.23      0.60      0.33         5\n",
            "          13       0.62      0.66      0.64        35\n",
            "          14       0.50      1.00      0.67         1\n",
            "          15       0.11      0.50      0.18         2\n",
            "          16       0.78      0.57      0.66       136\n",
            "          17       0.08      1.00      0.15         1\n",
            "          18       0.60      0.92      0.73        13\n",
            "          19       0.75      0.60      0.67       166\n",
            "          20       0.49      0.67      0.56        51\n",
            "          21       0.59      0.84      0.70        19\n",
            "          22       0.00      0.00      0.00         0\n",
            "          23       0.33      0.57      0.42         7\n",
            "          24       0.42      0.53      0.47        15\n",
            "          25       0.39      1.00      0.56        12\n",
            "          26       0.50      1.00      0.67         4\n",
            "          27       0.25      1.00      0.40         1\n",
            "          28       0.40      0.50      0.44         8\n",
            "          29       0.50      0.33      0.40         6\n",
            "          30       0.42      1.00      0.59         5\n",
            "          31       0.46      0.75      0.57         8\n",
            "          32       0.70      1.00      0.82         7\n",
            "          33       0.80      1.00      0.89         4\n",
            "          34       0.29      1.00      0.44         2\n",
            "          35       0.50      1.00      0.67         3\n",
            "          36       0.55      0.43      0.48        14\n",
            "          37       0.00      0.00      0.00         2\n",
            "          38       0.33      1.00      0.50         1\n",
            "          39       0.00      0.00      0.00         0\n",
            "          40       0.20      0.67      0.31         3\n",
            "          41       0.25      0.50      0.33         4\n",
            "          42       0.67      0.67      0.67         3\n",
            "          43       0.67      0.80      0.73         5\n",
            "          44       0.80      1.00      0.89         4\n",
            "          45       1.00      1.00      1.00         1\n",
            "\n",
            "    accuracy                           0.78      2246\n",
            "   macro avg       0.50      0.74      0.56      2246\n",
            "weighted avg       0.81      0.78      0.79      2246\n",
            "\n"
          ],
          "name": "stdout"
        },
        {
          "output_type": "stream",
          "text": [
            "/usr/local/lib/python3.7/dist-packages/sklearn/metrics/_classification.py:1272: UndefinedMetricWarning: Recall and F-score are ill-defined and being set to 0.0 in labels with no true samples. Use `zero_division` parameter to control this behavior.\n",
            "  _warn_prf(average, modifier, msg_start, len(result))\n"
          ],
          "name": "stderr"
        }
      ]
    },
    {
      "cell_type": "code",
      "metadata": {
        "colab": {
          "base_uri": "https://localhost:8080/"
        },
        "id": "E_1HZQFwZr6A",
        "outputId": "10a5ca1f-6710-4d14-d690-402175c12c93"
      },
      "source": [
        "accuracy_score(pred_lab,test_lab) #same as we got usinh model.evaluate"
      ],
      "execution_count": 49,
      "outputs": [
        {
          "output_type": "execute_result",
          "data": {
            "text/plain": [
              "0.7773820124666073"
            ]
          },
          "metadata": {
            "tags": []
          },
          "execution_count": 49
        }
      ]
    },
    {
      "cell_type": "code",
      "metadata": {
        "id": "zcMvKDtbZxVs"
      },
      "source": [
        ""
      ],
      "execution_count": null,
      "outputs": []
    }
  ]
}