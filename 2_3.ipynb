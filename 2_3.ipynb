{
  "nbformat": 4,
  "nbformat_minor": 0,
  "metadata": {
    "colab": {
      "name": "2.3.ipynb",
      "provenance": [],
      "collapsed_sections": []
    },
    "kernelspec": {
      "name": "python3",
      "display_name": "Python 3"
    },
    "language_info": {
      "name": "python"
    }
  },
  "cells": [
    {
      "cell_type": "markdown",
      "metadata": {
        "id": "3tUb6GK9aL7O"
      },
      "source": [
        "### **Predicting House Prices: Regression Problem**"
      ]
    },
    {
      "cell_type": "code",
      "metadata": {
        "id": "EpHVFpurcSs0"
      },
      "source": [
        "#\"regression\": predicting a continuous value\n",
        "#\"classification\": predicting a discrete label"
      ],
      "execution_count": 1,
      "outputs": []
    },
    {
      "cell_type": "markdown",
      "metadata": {
        "id": "7T54hZwracak"
      },
      "source": [
        "**Boston-Housing-Price-data**"
      ]
    },
    {
      "cell_type": "code",
      "metadata": {
        "id": "7g0cMqL7aBcr"
      },
      "source": [
        "from keras.datasets import boston_housing\n",
        "(train_data,train_targets),(test_data,test_targets) = boston_housing.load_data()"
      ],
      "execution_count": 2,
      "outputs": []
    },
    {
      "cell_type": "code",
      "metadata": {
        "colab": {
          "base_uri": "https://localhost:8080/"
        },
        "id": "C1eYbtryaVk0",
        "outputId": "7781ff64-3f64-4720-87bc-c8ba350b46f8"
      },
      "source": [
        "train_data.shape,test_data.shape"
      ],
      "execution_count": 3,
      "outputs": [
        {
          "output_type": "execute_result",
          "data": {
            "text/plain": [
              "((404, 13), (102, 13))"
            ]
          },
          "metadata": {
            "tags": []
          },
          "execution_count": 3
        }
      ]
    },
    {
      "cell_type": "markdown",
      "metadata": {
        "id": "qhB8mPx6fzAl"
      },
      "source": [
        "## **Preparing Data**"
      ]
    },
    {
      "cell_type": "code",
      "metadata": {
        "id": "wEC2Olha-a84"
      },
      "source": [
        "import numpy as np"
      ],
      "execution_count": 11,
      "outputs": []
    },
    {
      "cell_type": "markdown",
      "metadata": {
        "id": "ezn939hLf9hs"
      },
      "source": [
        "**mtd-1**"
      ]
    },
    {
      "cell_type": "code",
      "metadata": {
        "id": "3wQGj8ONbLoy"
      },
      "source": [
        "mean = np.mean(train_data,axis=0)\n",
        "std = np.std(train_data,axis=0)\n",
        "\n",
        "train_data -=mean\n",
        "train_data/=std\n",
        "\n",
        "test_data -=mean\n",
        "test_data/=std\n"
      ],
      "execution_count": 4,
      "outputs": []
    },
    {
      "cell_type": "markdown",
      "metadata": {
        "id": "-xqtXFc8g0P1"
      },
      "source": [
        "**mtd-2**"
      ]
    },
    {
      "cell_type": "code",
      "metadata": {
        "id": "iY8nnVfLgC45"
      },
      "source": [
        "from sklearn.preprocessing import StandardScaler\n",
        "Ss = StandardScaler()"
      ],
      "execution_count": 4,
      "outputs": []
    },
    {
      "cell_type": "code",
      "metadata": {
        "id": "EEfhQKTchZHS"
      },
      "source": [
        "Ss.fit(train_data)\n",
        "train_data_new = Ss.transform(train_data)\n",
        "test_data_new = Ss.transform(test_data)"
      ],
      "execution_count": 5,
      "outputs": []
    },
    {
      "cell_type": "markdown",
      "metadata": {
        "id": "kN3x-hK-mrOM"
      },
      "source": [
        "**or**"
      ]
    },
    {
      "cell_type": "code",
      "metadata": {
        "id": "9kAKft5XmvH5"
      },
      "source": [
        "train_data_new = Ss.fit_transform(train_data)\n",
        "test_data_new = Ss.transform(test_data)"
      ],
      "execution_count": null,
      "outputs": []
    },
    {
      "cell_type": "markdown",
      "metadata": {
        "id": "nf1fhXc0iLV-"
      },
      "source": [
        "## **Network Building**"
      ]
    },
    {
      "cell_type": "code",
      "metadata": {
        "id": "xrGgVIbCiENC"
      },
      "source": [
        "from keras.models import Sequential\n",
        "from keras.layers import Dense"
      ],
      "execution_count": 6,
      "outputs": []
    },
    {
      "cell_type": "code",
      "metadata": {
        "id": "UotC1b_QnV4n"
      },
      "source": [
        "def build_model():\n",
        "  model = Sequential()\n",
        "  model.add(Dense(64,activation='relu',input_shape=(train_data.shape[1],)))\n",
        "  model.add(Dense(32,activation='relu'))\n",
        "  model.add(Dense(16,activation='relu'))\n",
        "  model.add(Dense(1))\n",
        "\n",
        "  model.compile(optimizer='rmsprop',loss='mse',metrics=['mae'])\n",
        "\n",
        "  return model"
      ],
      "execution_count": 7,
      "outputs": []
    },
    {
      "cell_type": "code",
      "metadata": {
        "id": "37ISqujZoMaK"
      },
      "source": [
        "#since, last layer is purely linear, the network is free to learn to predict values in any range.\n",
        "#if we apply a sigmoid activation function to our last layer, the network could only learn to predict values between 0 and 1."
      ],
      "execution_count": 8,
      "outputs": []
    },
    {
      "cell_type": "markdown",
      "metadata": {
        "id": "t6O57ypnosQa"
      },
      "source": [
        "## **K-fold**"
      ]
    },
    {
      "cell_type": "code",
      "metadata": {
        "id": "cP15BaGQorTi"
      },
      "source": [
        "#when data available is very small then K-fold validation is a great way to reliably evaluate a model."
      ],
      "execution_count": 9,
      "outputs": []
    },
    {
      "cell_type": "code",
      "metadata": {
        "colab": {
          "base_uri": "https://localhost:8080/"
        },
        "id": "2LKcjI_D0EvL",
        "outputId": "7f792947-f6ee-41fe-f413-9da3ed25d932"
      },
      "source": [
        "k = 4\n",
        "n = train_data_new.shape[0]//k\n",
        "train_scores = []\n",
        "val_scores = []\n",
        "test_scores = []\n",
        "\n",
        "for i in range(k):\n",
        "  print('processing fold %d'%i)\n",
        "\n",
        "  test_data = train_data_new[i*n:(i+1)*n]\n",
        "  test_tar = train_targets[i*n:(i+1)*n]\n",
        "\n",
        "  partial_train_data = np.concatenate([train_data_new[:i*n],train_data_new[(i+1)*n:]],axis=0)\n",
        "  partial_train_tar = np.concatenate([train_targets[:i*n],train_targets[(i+1)*n:]],axis=0)\n",
        "\n",
        "  model = build_model()\n",
        "  model.fit(partial_train_data,partial_train_tar,epochs=500,verbose=0,batch_size=1,validation_split=0.2)\n",
        "\n",
        "  \n",
        "  #training v/s validation\n",
        "  train_abs_error = model.history.history['mae']\n",
        "  val_abs_error = model.history.history['val_mae']\n",
        "\n",
        "  train_scores.append(train_abs_error)\n",
        "  val_scores.append(val_abs_error)\n",
        "  \n",
        "  #test\n",
        "  mse,mae = model.evaluate(test_data,test_tar)\n",
        "  test_scores.append(mae)"
      ],
      "execution_count": 12,
      "outputs": [
        {
          "output_type": "stream",
          "text": [
            "processing fold 0\n",
            "4/4 [==============================] - 0s 4ms/step - loss: 11.4256 - mae: 2.4600\n",
            "processing fold 1\n",
            "4/4 [==============================] - 0s 4ms/step - loss: 17.4848 - mae: 2.9522\n",
            "processing fold 2\n",
            "4/4 [==============================] - 0s 3ms/step - loss: 19.0463 - mae: 3.0601\n",
            "processing fold 3\n",
            "4/4 [==============================] - 0s 3ms/step - loss: 12.8638 - mae: 2.5800\n"
          ],
          "name": "stdout"
        }
      ]
    },
    {
      "cell_type": "markdown",
      "metadata": {
        "id": "4QsLtFbE8IX9"
      },
      "source": [
        " **Overall MAE on test data**"
      ]
    },
    {
      "cell_type": "code",
      "metadata": {
        "colab": {
          "base_uri": "https://localhost:8080/"
        },
        "id": "J9BsKcWU75qO",
        "outputId": "001344a3-d44a-4a0e-f059-350dc978b76f"
      },
      "source": [
        "print(np.mean(test_scores))"
      ],
      "execution_count": 16,
      "outputs": [
        {
          "output_type": "stream",
          "text": [
            "2.7630890607833862\n"
          ],
          "name": "stdout"
        }
      ]
    },
    {
      "cell_type": "markdown",
      "metadata": {
        "id": "gV-PEvxR65i9"
      },
      "source": [
        "**Train v/s validation**"
      ]
    },
    {
      "cell_type": "code",
      "metadata": {
        "colab": {
          "base_uri": "https://localhost:8080/"
        },
        "id": "144YDDGBz753",
        "outputId": "e68cf519-4a28-4bd0-9e36-e7a7d0e63b75"
      },
      "source": [
        "len(train_scores),len(train_scores[0])"
      ],
      "execution_count": 13,
      "outputs": [
        {
          "output_type": "execute_result",
          "data": {
            "text/plain": [
              "(4, 500)"
            ]
          },
          "metadata": {
            "tags": []
          },
          "execution_count": 13
        }
      ]
    },
    {
      "cell_type": "code",
      "metadata": {
        "id": "hPpQH28X65CS"
      },
      "source": [
        "avg_train_mae = np.mean(train_scores,axis=0)\n",
        "avg_val_mae = np.mean(val_scores,axis=0)"
      ],
      "execution_count": 14,
      "outputs": []
    },
    {
      "cell_type": "code",
      "metadata": {
        "colab": {
          "base_uri": "https://localhost:8080/",
          "height": 298
        },
        "id": "2Qjb8JHT5XgS",
        "outputId": "81ecdebd-9287-4f3c-d3f5-a1ba3589350c"
      },
      "source": [
        "import matplotlib.pyplot as plt\n",
        "epochs = range(1,len(train_scores[0])+1)\n",
        "plt.figure(figsize=(10,4))\n",
        "\n",
        "plt.subplot(1,2,1)\n",
        "plt.plot(epochs,avg_train_mae)\n",
        "plt.xlabel('Epochs')\n",
        "plt.ylabel('training MAE')\n",
        "\n",
        "\n",
        "plt.subplot(1,2,2)\n",
        "plt.plot(epochs,avg_val_mae)\n",
        "plt.xlabel('Epochs')\n",
        "plt.ylabel('validation MAE')"
      ],
      "execution_count": 40,
      "outputs": [
        {
          "output_type": "execute_result",
          "data": {
            "text/plain": [
              "Text(0, 0.5, 'validation MAE')"
            ]
          },
          "metadata": {
            "tags": []
          },
          "execution_count": 40
        },
        {
          "output_type": "display_data",
          "data": {
            "image/png": "[encoded data removed]",
            "text/plain": [
              "<Figure size 720x288 with 2 Axes>"
            ]
          },
          "metadata": {
            "tags": [],
            "needs_background": "light"
          }
        }
      ]
    },
    {
      "cell_type": "code",
      "metadata": {
        "id": "K8jTIQhYL4vU"
      },
      "source": [
        "#Due to scaling issues and relatively high variance, its a bit hard to see the plot\n",
        "#lets plot smooth curve"
      ],
      "execution_count": null,
      "outputs": []
    },
    {
      "cell_type": "code",
      "metadata": {
        "id": "smpiE4H38ZgP"
      },
      "source": [
        "def smooth_curve(points,beta=0.9):    #beta =0.9 --->> avg over(1/(1-beta)) = 10 points\n",
        "  exp_weighted_moving_avg_pts = []\n",
        "\n",
        "  for current in points:\n",
        "    if exp_weighted_moving_avg_pts:\n",
        "      prev = exp_weighted_moving_avg_pts[-1]\n",
        "      exp_weighted_moving_avg_pts.append(beta*prev + (1-beta)*current) #Exponentially moving weighted avg\n",
        "    else:\n",
        "      exp_weighted_moving_avg_pts.append(current)\n",
        "\n",
        "                                          #since, beta=0.9  means we are considering avg of last 10 data pts\n",
        "  return exp_weighted_moving_avg_pts[10:] #Hence, omitting the first 10 data pts which are on different scale from rest of the curve"
      ],
      "execution_count": 34,
      "outputs": []
    },
    {
      "cell_type": "code",
      "metadata": {
        "id": "UdvsqOpJLknW"
      },
      "source": [
        "smooth_MAE = smooth_curve(avg_val_mae)"
      ],
      "execution_count": 35,
      "outputs": []
    },
    {
      "cell_type": "code",
      "metadata": {
        "colab": {
          "base_uri": "https://localhost:8080/",
          "height": 296
        },
        "id": "rC58rdx7QeGv",
        "outputId": "38137785-715d-4e2f-bcfb-c067921073af"
      },
      "source": [
        "epochs = range(1,len(avg_val_mae)+1-10)\n",
        "plt.plot(epochs,smooth_MAE)\n",
        "plt.xlabel('Epochs')\n",
        "plt.ylabel('validation MAE')"
      ],
      "execution_count": 39,
      "outputs": [
        {
          "output_type": "execute_result",
          "data": {
            "text/plain": [
              "Text(0, 0.5, 'validation MAE')"
            ]
          },
          "metadata": {
            "tags": []
          },
          "execution_count": 39
        },
        {
          "output_type": "display_data",
          "data": {
            "image/png": "[encoded data removed]",
            "text/plain": [
              "<Figure size 432x288 with 1 Axes>"
            ]
          },
          "metadata": {
            "tags": [],
            "needs_background": "light"
          }
        }
      ]
    },
    {
      "cell_type": "code",
      "metadata": {
        "id": "x-2ZlTpgQ8fH"
      },
      "source": [
        "#According to this plot, it seems that validation MAE stops improving significantly after 80 epochs. Past that point, we start overfitting."
      ],
      "execution_count": 41,
      "outputs": []
    },
    {
      "cell_type": "code",
      "metadata": {
        "id": "clEzDwpZR-9P"
      },
      "source": [
        "from keras import backend as k\n",
        "k.clear_session()"
      ],
      "execution_count": 46,
      "outputs": []
    },
    {
      "cell_type": "code",
      "metadata": {
        "colab": {
          "base_uri": "https://localhost:8080/"
        },
        "id": "Lof2fi1JSE_2",
        "outputId": "8e50f142-e527-4f02-f2e9-9a1bf9f89fda"
      },
      "source": [
        "model = build_model()\n",
        "model.fit(train_data_new,train_targets,epochs=80,verbose=0,batch_size=16,validation_split=0.2)\n",
        "test_mse_score,test_mae_score = model.evaluate(test_data_new,test_targets)"
      ],
      "execution_count": 45,
      "outputs": [
        {
          "output_type": "stream",
          "text": [
            "4/4 [==============================] - 0s 3ms/step - loss: 24.0808 - mae: 3.1612\n"
          ],
          "name": "stdout"
        }
      ]
    },
    {
      "cell_type": "code",
      "metadata": {
        "colab": {
          "base_uri": "https://localhost:8080/"
        },
        "id": "AR_jVNUnSr7W",
        "outputId": "4089c286-e427-47a8-b1f2-5e2263380486"
      },
      "source": [
        "test_mae_score"
      ],
      "execution_count": 47,
      "outputs": [
        {
          "output_type": "execute_result",
          "data": {
            "text/plain": [
              "3.1612040996551514"
            ]
          },
          "metadata": {
            "tags": []
          },
          "execution_count": 47
        }
      ]
    },
    {
      "cell_type": "code",
      "metadata": {
        "id": "y2Fx_s8zS3Wq"
      },
      "source": [
        ""
      ],
      "execution_count": null,
      "outputs": []
    }
  ]
}