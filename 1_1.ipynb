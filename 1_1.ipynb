{
  "nbformat": 4,
  "nbformat_minor": 0,
  "metadata": {
    "colab": {
      "name": "1.1.ipynb",
      "provenance": [],
      "collapsed_sections": [],
      "toc_visible": true
    },
    "kernelspec": {
      "name": "python3",
      "display_name": "Python 3"
    },
    "language_info": {
      "name": "python"
    }
  },
  "cells": [
    {
      "cell_type": "markdown",
      "metadata": {
        "id": "lqPYBl1f4bZM"
      },
      "source": [
        "# **Save and Load Models**"
      ]
    },
    {
      "cell_type": "code",
      "metadata": {
        "id": "t34UbvA8nXoP"
      },
      "source": [
        "#https://www.tensorflow.org/tutorials/keras/save_and_load"
      ],
      "execution_count": 37,
      "outputs": []
    },
    {
      "cell_type": "markdown",
      "metadata": {
        "id": "wYrM6lv6n3yC"
      },
      "source": [
        "## **Mnist-data**"
      ]
    },
    {
      "cell_type": "code",
      "metadata": {
        "id": "kyvzg_LqmEk4"
      },
      "source": [
        "import numpy as np\n",
        "import matplotlib.pyplot as plt\n",
        "from keras.datasets import mnist"
      ],
      "execution_count": 38,
      "outputs": []
    },
    {
      "cell_type": "code",
      "metadata": {
        "id": "0wWXS2SLmNot"
      },
      "source": [
        "(train_img,train_lab),(test_img,test_lab) = mnist.load_data()"
      ],
      "execution_count": 39,
      "outputs": []
    },
    {
      "cell_type": "code",
      "metadata": {
        "colab": {
          "base_uri": "https://localhost:8080/"
        },
        "id": "X7jk9FKbmf10",
        "outputId": "1bf82b93-c92a-46fd-972e-1ac9ca011a2b"
      },
      "source": [
        "train_img.shape,train_lab.shape,test_img.shape,test_lab.shape"
      ],
      "execution_count": 40,
      "outputs": [
        {
          "output_type": "execute_result",
          "data": {
            "text/plain": [
              "((60000, 28, 28), (60000,), (10000, 28, 28), (10000,))"
            ]
          },
          "metadata": {
            "tags": []
          },
          "execution_count": 40
        }
      ]
    },
    {
      "cell_type": "markdown",
      "metadata": {
        "id": "D7EqRUYmUWd_"
      },
      "source": [
        "## **Preparing Data**"
      ]
    },
    {
      "cell_type": "code",
      "metadata": {
        "id": "1XTwH8MLVlaq"
      },
      "source": [
        "from keras.utils import to_categorical"
      ],
      "execution_count": 41,
      "outputs": []
    },
    {
      "cell_type": "code",
      "metadata": {
        "id": "m1-IE_MsUbcA"
      },
      "source": [
        "flat_train_img = train_img.reshape(-1,train_img.shape[1]*train_img.shape[2])/255\n",
        "flat_test_img = test_img.reshape(-1,test_img.shape[1]*test_img.shape[2])/255"
      ],
      "execution_count": 42,
      "outputs": []
    },
    {
      "cell_type": "code",
      "metadata": {
        "id": "768wfsaqVrPV"
      },
      "source": [
        "en_train_lab = to_categorical(train_lab)\n",
        "en_test_lab = to_categorical(test_lab)"
      ],
      "execution_count": 43,
      "outputs": []
    },
    {
      "cell_type": "markdown",
      "metadata": {
        "id": "3UroXIk8T_D0"
      },
      "source": [
        "# **Network Building**"
      ]
    },
    {
      "cell_type": "code",
      "metadata": {
        "id": "QOhlI-g8nMYB"
      },
      "source": [
        "from keras.models import Sequential, load_model\n",
        "from keras.layers import Dense"
      ],
      "execution_count": 44,
      "outputs": []
    },
    {
      "cell_type": "code",
      "metadata": {
        "id": "ofAv7QxZURyQ"
      },
      "source": [
        "model = Sequential()\n",
        "model.add(Dense(64,activation='relu',input_shape=(28*28,)))\n",
        "model.add(Dense(10,activation='softmax'))"
      ],
      "execution_count": 45,
      "outputs": []
    },
    {
      "cell_type": "code",
      "metadata": {
        "id": "AzRcDha0V9WB"
      },
      "source": [
        "model.compile(optimizer='rmsprop',loss='categorical_crossentropy',metrics=['acc'])"
      ],
      "execution_count": 46,
      "outputs": []
    },
    {
      "cell_type": "code",
      "metadata": {
        "colab": {
          "base_uri": "https://localhost:8080/"
        },
        "id": "tXxKNs9kWzXH",
        "outputId": "f35e0830-a891-4db8-99df-5bb20628ebf0"
      },
      "source": [
        "model.fit(flat_train_img,en_train_lab,epochs=5,batch_size=32,verbose=1,validation_split=0.1)"
      ],
      "execution_count": 47,
      "outputs": [
        {
          "output_type": "stream",
          "text": [
            "Epoch 1/5\n",
            "1688/1688 [==============================] - 4s 2ms/step - loss: 0.5014 - acc: 0.8619 - val_loss: 0.1535 - val_acc: 0.9557\n",
            "Epoch 2/5\n",
            "1688/1688 [==============================] - 3s 2ms/step - loss: 0.1731 - acc: 0.9487 - val_loss: 0.1169 - val_acc: 0.9647\n",
            "Epoch 3/5\n",
            "1688/1688 [==============================] - 3s 2ms/step - loss: 0.1281 - acc: 0.9621 - val_loss: 0.1072 - val_acc: 0.9710\n",
            "Epoch 4/5\n",
            "1688/1688 [==============================] - 3s 2ms/step - loss: 0.1054 - acc: 0.9692 - val_loss: 0.1074 - val_acc: 0.9713\n",
            "Epoch 5/5\n",
            "1688/1688 [==============================] - 3s 2ms/step - loss: 0.0895 - acc: 0.9736 - val_loss: 0.1088 - val_acc: 0.9693\n"
          ],
          "name": "stdout"
        },
        {
          "output_type": "execute_result",
          "data": {
            "text/plain": [
              "<tensorflow.python.keras.callbacks.History at 0x7f3318dfe310>"
            ]
          },
          "metadata": {
            "tags": []
          },
          "execution_count": 47
        }
      ]
    },
    {
      "cell_type": "markdown",
      "metadata": {
        "id": "wfLEFGJjn_LD"
      },
      "source": [
        "# **1. Saving the Entire model**"
      ]
    },
    {
      "cell_type": "code",
      "metadata": {
        "id": "ECW15awSXLTV"
      },
      "source": [
        "model.save('/content/drive/MyDrive/jupyter_notebooks/deep_learning_fc/models/model1.h5')"
      ],
      "execution_count": 48,
      "outputs": []
    },
    {
      "cell_type": "markdown",
      "metadata": {
        "id": "mw2t2GpcjJIb"
      },
      "source": [
        "**Loading the model**"
      ]
    },
    {
      "cell_type": "code",
      "metadata": {
        "id": "rZF_t6yyoT66"
      },
      "source": [
        "from keras.models import load_model\n",
        "\n",
        "model1 = load_model('/content/drive/MyDrive/jupyter_notebooks/deep_learning_fc/models/model1.h5')"
      ],
      "execution_count": 49,
      "outputs": []
    },
    {
      "cell_type": "code",
      "metadata": {
        "colab": {
          "base_uri": "https://localhost:8080/"
        },
        "id": "HQQQ8MKJjFu_",
        "outputId": "c4dc1280-74ff-47da-9800-5c21489642db"
      },
      "source": [
        "loss,acc = model1.evaluate(flat_test_img,en_test_lab)"
      ],
      "execution_count": 50,
      "outputs": [
        {
          "output_type": "stream",
          "text": [
            "313/313 [==============================] - 0s 1ms/step - loss: 0.1278 - acc: 0.9651\n"
          ],
          "name": "stdout"
        }
      ]
    },
    {
      "cell_type": "code",
      "metadata": {
        "colab": {
          "base_uri": "https://localhost:8080/"
        },
        "id": "RSstCuGAjZRV",
        "outputId": "7ef04a60-3229-4713-9147-6ef34f5572a8"
      },
      "source": [
        "print('Loss: ',loss)\n",
        "print('Acc: ',acc)"
      ],
      "execution_count": 51,
      "outputs": [
        {
          "output_type": "stream",
          "text": [
            "Loss:  0.12778913974761963\n",
            "Acc:  0.9650999903678894\n"
          ],
          "name": "stdout"
        }
      ]
    },
    {
      "cell_type": "markdown",
      "metadata": {
        "id": "KJT_Esi9o14X"
      },
      "source": [
        "# **2. Save checkpoints during training**"
      ]
    },
    {
      "cell_type": "code",
      "metadata": {
        "id": "WYKtMjDusDUA"
      },
      "source": [
        "#You can use a trained model without having to retrain it, or pick-up training where you left off in case the training process was interrupted.\n",
        "#The tf.keras.callbacks.ModelCheckpoint callback allows you to continually save the model both during and at the end of training."
      ],
      "execution_count": 52,
      "outputs": []
    },
    {
      "cell_type": "markdown",
      "metadata": {
        "id": "FKW-He4tpCTb"
      },
      "source": [
        "**saving weights only**"
      ]
    },
    {
      "cell_type": "code",
      "metadata": {
        "id": "-9ISSHF8pRDY"
      },
      "source": [
        "from keras.callbacks import Callback, ModelCheckpoint,TensorBoard, EarlyStopping"
      ],
      "execution_count": 53,
      "outputs": []
    },
    {
      "cell_type": "code",
      "metadata": {
        "id": "kCmfoXXhoogc"
      },
      "source": [
        "model = Sequential()\n",
        "model.add(Dense(64,activation='relu',input_shape=(28*28,)))\n",
        "model.add(Dense(10,activation='softmax'))\n",
        "model.compile(optimizer='rmsprop',loss='categorical_crossentropy',metrics=['acc'])"
      ],
      "execution_count": 54,
      "outputs": []
    },
    {
      "cell_type": "code",
      "metadata": {
        "id": "-a2TOa5WpgSZ"
      },
      "source": [
        "checkpoint = ModelCheckpoint('/content/drive/MyDrive/jupyter_notebooks/deep_learning_fc/models/model2.h5',monitor='val_loss',verbose=1,save_weights_only=True)\n",
        "tensorboard = TensorBoard(log_dir='/content/drive/MyDrive/jupyter_notebooks/deep_learning_fc/logs')\n",
        "earlystopping = EarlyStopping(monitor='val_loss',patience=5)"
      ],
      "execution_count": 55,
      "outputs": []
    },
    {
      "cell_type": "code",
      "metadata": {
        "colab": {
          "base_uri": "https://localhost:8080/"
        },
        "id": "T-0iPVw1qGam",
        "outputId": "6b513422-bd35-4a38-d679-25592a58c83a"
      },
      "source": [
        "model.fit(flat_train_img,en_train_lab,epochs=15,batch_size=32,verbose=1,validation_split=0.1,\n",
        "          callbacks=[checkpoint,tensorboard,earlystopping])"
      ],
      "execution_count": 58,
      "outputs": [
        {
          "output_type": "stream",
          "text": [
            "Epoch 1/15\n",
            "1688/1688 [==============================] - 3s 2ms/step - loss: 0.0373 - acc: 0.9900 - val_loss: 0.1262 - val_acc: 0.9742\n",
            "\n",
            "Epoch 00001: saving model to /content/drive/MyDrive/jupyter_notebooks/deep_learning_fc/models/model2.h5\n",
            "Epoch 2/15\n",
            "1688/1688 [==============================] - 3s 2ms/step - loss: 0.0348 - acc: 0.9908 - val_loss: 0.1261 - val_acc: 0.9747\n",
            "\n",
            "Epoch 00002: saving model to /content/drive/MyDrive/jupyter_notebooks/deep_learning_fc/models/model2.h5\n",
            "Epoch 3/15\n",
            "1688/1688 [==============================] - 3s 2ms/step - loss: 0.0326 - acc: 0.9914 - val_loss: 0.1268 - val_acc: 0.9720\n",
            "\n",
            "Epoch 00003: saving model to /content/drive/MyDrive/jupyter_notebooks/deep_learning_fc/models/model2.h5\n",
            "Epoch 4/15\n",
            "1688/1688 [==============================] - 3s 2ms/step - loss: 0.0310 - acc: 0.9923 - val_loss: 0.1366 - val_acc: 0.9730\n",
            "\n",
            "Epoch 00004: saving model to /content/drive/MyDrive/jupyter_notebooks/deep_learning_fc/models/model2.h5\n",
            "Epoch 5/15\n",
            "1688/1688 [==============================] - 3s 2ms/step - loss: 0.0288 - acc: 0.9926 - val_loss: 0.1345 - val_acc: 0.9747\n",
            "\n",
            "Epoch 00005: saving model to /content/drive/MyDrive/jupyter_notebooks/deep_learning_fc/models/model2.h5\n",
            "Epoch 6/15\n",
            "1688/1688 [==============================] - 3s 2ms/step - loss: 0.0283 - acc: 0.9926 - val_loss: 0.1368 - val_acc: 0.9725\n",
            "\n",
            "Epoch 00006: saving model to /content/drive/MyDrive/jupyter_notebooks/deep_learning_fc/models/model2.h5\n",
            "Epoch 7/15\n",
            "1688/1688 [==============================] - 3s 2ms/step - loss: 0.0258 - acc: 0.9936 - val_loss: 0.1407 - val_acc: 0.9737\n",
            "\n",
            "Epoch 00007: saving model to /content/drive/MyDrive/jupyter_notebooks/deep_learning_fc/models/model2.h5\n"
          ],
          "name": "stdout"
        },
        {
          "output_type": "execute_result",
          "data": {
            "text/plain": [
              "<tensorflow.python.keras.callbacks.History at 0x7f331a3d27d0>"
            ]
          },
          "metadata": {
            "tags": []
          },
          "execution_count": 58
        }
      ]
    },
    {
      "cell_type": "markdown",
      "metadata": {
        "id": "b2o_7dUXsU4p"
      },
      "source": [
        "**loading model**"
      ]
    },
    {
      "cell_type": "code",
      "metadata": {
        "id": "R24xsF-Tqoab"
      },
      "source": [
        "#model2 = load_model('/content/drive/MyDrive/jupyter_notebooks/deep_learning_fc/models/model2.h5')\n",
        "\n",
        "#this will thrown an error, since we have saved the weights only and not the achitecture\n",
        "#so before loading the weights we need to create a model with the same architecture as the original model"
      ],
      "execution_count": 61,
      "outputs": []
    },
    {
      "cell_type": "code",
      "metadata": {
        "id": "rgSAkYJvstw9"
      },
      "source": [
        "model2 = Sequential()\n",
        "model2.add(Dense(64,activation='relu',input_shape=(28*28,)))\n",
        "model2.add(Dense(10,activation='softmax'))\n",
        "model2.compile(optimizer='rmsprop',loss='categorical_crossentropy',metrics=['acc'])"
      ],
      "execution_count": 68,
      "outputs": []
    },
    {
      "cell_type": "code",
      "metadata": {
        "id": "sV1oRqmcth2B"
      },
      "source": [
        "model2.load_weights('/content/drive/MyDrive/jupyter_notebooks/deep_learning_fc/models/model2.h5')"
      ],
      "execution_count": 69,
      "outputs": []
    },
    {
      "cell_type": "code",
      "metadata": {
        "id": "PwEcHUOTvk6E",
        "colab": {
          "base_uri": "https://localhost:8080/"
        },
        "outputId": "9f7e2d0e-115e-4c48-840d-eb7fb183f56d"
      },
      "source": [
        "loss,acc = model2.evaluate(flat_test_img,en_test_lab)"
      ],
      "execution_count": 70,
      "outputs": [
        {
          "output_type": "stream",
          "text": [
            "313/313 [==============================] - 1s 1ms/step - loss: 0.1632 - acc: 0.9678\n"
          ],
          "name": "stdout"
        }
      ]
    },
    {
      "cell_type": "markdown",
      "metadata": {
        "id": "ZNQWVoBE475i"
      },
      "source": [
        "**Saving the architecture also**"
      ]
    },
    {
      "cell_type": "code",
      "metadata": {
        "id": "sqi9-FJE4eHu"
      },
      "source": [
        "model = Sequential()\n",
        "model.add(Dense(64,activation='relu',input_shape=(28*28,)))\n",
        "model.add(Dense(10,activation='softmax'))\n",
        "model.compile(optimizer='rmsprop',loss='categorical_crossentropy',metrics=['acc'])"
      ],
      "execution_count": 71,
      "outputs": []
    },
    {
      "cell_type": "code",
      "metadata": {
        "id": "m8SY6KID5EI0"
      },
      "source": [
        "checkpoint = ModelCheckpoint('/content/drive/MyDrive/jupyter_notebooks/deep_learning_fc/models/model2.1.h5',monitor='val_loss',verbose=1,save_weights_only=False)\n",
        "tensorboard = TensorBoard(log_dir='/content/drive/MyDrive/jupyter_notebooks/deep_learning_fc/logs')\n",
        "earlystopping = EarlyStopping(monitor='val_loss',patience=5)"
      ],
      "execution_count": 72,
      "outputs": []
    },
    {
      "cell_type": "code",
      "metadata": {
        "colab": {
          "base_uri": "https://localhost:8080/"
        },
        "id": "9mVLe5385NGi",
        "outputId": "602df132-6b61-4cbd-870e-d19a5324c5ac"
      },
      "source": [
        "model.fit(flat_train_img,en_train_lab,epochs=15,batch_size=32,verbose=1,validation_split=0.1,\n",
        "          callbacks=[checkpoint,tensorboard,earlystopping])"
      ],
      "execution_count": 73,
      "outputs": [
        {
          "output_type": "stream",
          "text": [
            "Epoch 1/15\n",
            "1688/1688 [==============================] - 4s 2ms/step - loss: 0.5146 - acc: 0.8583 - val_loss: 0.1564 - val_acc: 0.9562\n",
            "\n",
            "Epoch 00001: saving model to /content/drive/MyDrive/jupyter_notebooks/deep_learning_fc/models/model2.1.h5\n",
            "Epoch 2/15\n",
            "1688/1688 [==============================] - 3s 2ms/step - loss: 0.1705 - acc: 0.9492 - val_loss: 0.1200 - val_acc: 0.9658\n",
            "\n",
            "Epoch 00002: saving model to /content/drive/MyDrive/jupyter_notebooks/deep_learning_fc/models/model2.1.h5\n",
            "Epoch 3/15\n",
            "1688/1688 [==============================] - 3s 2ms/step - loss: 0.1252 - acc: 0.9631 - val_loss: 0.1077 - val_acc: 0.9702\n",
            "\n",
            "Epoch 00003: saving model to /content/drive/MyDrive/jupyter_notebooks/deep_learning_fc/models/model2.1.h5\n",
            "Epoch 4/15\n",
            "1688/1688 [==============================] - 3s 2ms/step - loss: 0.1039 - acc: 0.9699 - val_loss: 0.1009 - val_acc: 0.9720\n",
            "\n",
            "Epoch 00004: saving model to /content/drive/MyDrive/jupyter_notebooks/deep_learning_fc/models/model2.1.h5\n",
            "Epoch 5/15\n",
            "1688/1688 [==============================] - 3s 2ms/step - loss: 0.0916 - acc: 0.9740 - val_loss: 0.1045 - val_acc: 0.9717\n",
            "\n",
            "Epoch 00005: saving model to /content/drive/MyDrive/jupyter_notebooks/deep_learning_fc/models/model2.1.h5\n",
            "Epoch 6/15\n",
            "1688/1688 [==============================] - 3s 2ms/step - loss: 0.0765 - acc: 0.9783 - val_loss: 0.0988 - val_acc: 0.9733\n",
            "\n",
            "Epoch 00006: saving model to /content/drive/MyDrive/jupyter_notebooks/deep_learning_fc/models/model2.1.h5\n",
            "Epoch 7/15\n",
            "1688/1688 [==============================] - 3s 2ms/step - loss: 0.0675 - acc: 0.9807 - val_loss: 0.0973 - val_acc: 0.9745\n",
            "\n",
            "Epoch 00007: saving model to /content/drive/MyDrive/jupyter_notebooks/deep_learning_fc/models/model2.1.h5\n",
            "Epoch 8/15\n",
            "1688/1688 [==============================] - 3s 2ms/step - loss: 0.0635 - acc: 0.9820 - val_loss: 0.1014 - val_acc: 0.9740\n",
            "\n",
            "Epoch 00008: saving model to /content/drive/MyDrive/jupyter_notebooks/deep_learning_fc/models/model2.1.h5\n",
            "Epoch 9/15\n",
            "1688/1688 [==============================] - 3s 2ms/step - loss: 0.0566 - acc: 0.9841 - val_loss: 0.1028 - val_acc: 0.9732\n",
            "\n",
            "Epoch 00009: saving model to /content/drive/MyDrive/jupyter_notebooks/deep_learning_fc/models/model2.1.h5\n",
            "Epoch 10/15\n",
            "1688/1688 [==============================] - 3s 2ms/step - loss: 0.0558 - acc: 0.9845 - val_loss: 0.1037 - val_acc: 0.9727\n",
            "\n",
            "Epoch 00010: saving model to /content/drive/MyDrive/jupyter_notebooks/deep_learning_fc/models/model2.1.h5\n",
            "Epoch 11/15\n",
            "1688/1688 [==============================] - 3s 2ms/step - loss: 0.0494 - acc: 0.9855 - val_loss: 0.0986 - val_acc: 0.9753\n",
            "\n",
            "Epoch 00011: saving model to /content/drive/MyDrive/jupyter_notebooks/deep_learning_fc/models/model2.1.h5\n",
            "Epoch 12/15\n",
            "1688/1688 [==============================] - 3s 2ms/step - loss: 0.0469 - acc: 0.9870 - val_loss: 0.1068 - val_acc: 0.9753\n",
            "\n",
            "Epoch 00012: saving model to /content/drive/MyDrive/jupyter_notebooks/deep_learning_fc/models/model2.1.h5\n"
          ],
          "name": "stdout"
        },
        {
          "output_type": "execute_result",
          "data": {
            "text/plain": [
              "<tensorflow.python.keras.callbacks.History at 0x7f3310812710>"
            ]
          },
          "metadata": {
            "tags": []
          },
          "execution_count": 73
        }
      ]
    },
    {
      "cell_type": "markdown",
      "metadata": {
        "id": "e8QT2liH5g13"
      },
      "source": [
        "**Loading Model**"
      ]
    },
    {
      "cell_type": "code",
      "metadata": {
        "id": "jpW-Jv9n5TQM"
      },
      "source": [
        "model2_1 = load_model('/content/drive/MyDrive/jupyter_notebooks/deep_learning_fc/models/model2.1.h5')"
      ],
      "execution_count": 74,
      "outputs": []
    },
    {
      "cell_type": "code",
      "metadata": {
        "colab": {
          "base_uri": "https://localhost:8080/"
        },
        "id": "5IBKYHbr5vFs",
        "outputId": "25a3ce0f-244f-4c14-9e87-32ce7d48083f"
      },
      "source": [
        "loss,acc = model2.evaluate(flat_test_img,en_test_lab)"
      ],
      "execution_count": 75,
      "outputs": [
        {
          "output_type": "stream",
          "text": [
            "313/313 [==============================] - 0s 1ms/step - loss: 0.1392 - acc: 0.9720\n"
          ],
          "name": "stdout"
        }
      ]
    },
    {
      "cell_type": "code",
      "metadata": {
        "id": "xwhX5fej52T2"
      },
      "source": [
        ""
      ],
      "execution_count": null,
      "outputs": []
    }
  ]
}