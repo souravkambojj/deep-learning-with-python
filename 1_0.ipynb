{
  "nbformat": 4,
  "nbformat_minor": 0,
  "metadata": {
    "colab": {
      "name": "1.0.ipynb",
      "provenance": [],
      "collapsed_sections": []
    },
    "kernelspec": {
      "name": "python3",
      "display_name": "Python 3"
    },
    "language_info": {
      "name": "python"
    }
  },
  "cells": [
    {
      "cell_type": "code",
      "metadata": {
        "id": "kyvzg_LqmEk4"
      },
      "source": [
        "import numpy as np\n",
        "import matplotlib.pyplot as plt\n",
        "from keras.datasets import mnist"
      ],
      "execution_count": 2,
      "outputs": []
    },
    {
      "cell_type": "markdown",
      "metadata": {
        "id": "wYrM6lv6n3yC"
      },
      "source": [
        "## **Mnist-data**"
      ]
    },
    {
      "cell_type": "code",
      "metadata": {
        "colab": {
          "base_uri": "https://localhost:8080/"
        },
        "id": "0wWXS2SLmNot",
        "outputId": "ac5cbdd1-6ed6-40e9-a240-fe91debf1297"
      },
      "source": [
        "(train_img,train_lab),(test_img,test_lab) = mnist.load_data()"
      ],
      "execution_count": 3,
      "outputs": [
        {
          "output_type": "stream",
          "text": [
            "Downloading data from https://storage.googleapis.com/tensorflow/tf-keras-datasets/mnist.npz\n",
            "11493376/11490434 [==============================] - 0s 0us/step\n"
          ],
          "name": "stdout"
        }
      ]
    },
    {
      "cell_type": "code",
      "metadata": {
        "colab": {
          "base_uri": "https://localhost:8080/"
        },
        "id": "X7jk9FKbmf10",
        "outputId": "4151d34c-c7ef-4c7e-a9af-29e4387b6fc9"
      },
      "source": [
        "train_img.shape,train_lab.shape,test_img.shape,test_lab.shape"
      ],
      "execution_count": 4,
      "outputs": [
        {
          "output_type": "execute_result",
          "data": {
            "text/plain": [
              "((60000, 28, 28), (60000,), (10000, 28, 28), (10000,))"
            ]
          },
          "metadata": {
            "tags": []
          },
          "execution_count": 4
        }
      ]
    },
    {
      "cell_type": "code",
      "metadata": {
        "colab": {
          "base_uri": "https://localhost:8080/",
          "height": 282
        },
        "id": "Ok4V__x6mrlh",
        "outputId": "c003cff3-7e65-4347-8f60-3e4cd1023ceb"
      },
      "source": [
        "plt.figure(figsize=(6,4))\n",
        "plt.imshow(train_img[9],cmap='gray')"
      ],
      "execution_count": 5,
      "outputs": [
        {
          "output_type": "execute_result",
          "data": {
            "text/plain": [
              "<matplotlib.image.AxesImage at 0x7f268928aa10>"
            ]
          },
          "metadata": {
            "tags": []
          },
          "execution_count": 5
        },
        {
          "output_type": "display_data",
          "data": {
            "image/png": "[encoded data removed]",
            "text/plain": [
              "<Figure size 432x288 with 1 Axes>"
            ]
          },
          "metadata": {
            "tags": [],
            "needs_background": "light"
          }
        }
      ]
    },
    {
      "cell_type": "code",
      "metadata": {
        "colab": {
          "base_uri": "https://localhost:8080/"
        },
        "id": "L9n2KGHAnEiT",
        "outputId": "86e73f4f-5dc5-4fcb-aa59-b82dd859a37f"
      },
      "source": [
        "train_lab[9]"
      ],
      "execution_count": 6,
      "outputs": [
        {
          "output_type": "execute_result",
          "data": {
            "text/plain": [
              "4"
            ]
          },
          "metadata": {
            "tags": []
          },
          "execution_count": 6
        }
      ]
    },
    {
      "cell_type": "markdown",
      "metadata": {
        "id": "D7EqRUYmUWd_"
      },
      "source": [
        "## **Preparing Data**"
      ]
    },
    {
      "cell_type": "code",
      "metadata": {
        "id": "1XTwH8MLVlaq"
      },
      "source": [
        "from keras.utils import to_categorical"
      ],
      "execution_count": 13,
      "outputs": []
    },
    {
      "cell_type": "code",
      "metadata": {
        "id": "m1-IE_MsUbcA"
      },
      "source": [
        "flat_train_img = train_img.reshape(-1,train_img.shape[1]*train_img.shape[2])/255\n",
        "flat_test_img = test_img.reshape(-1,test_img.shape[1]*test_img.shape[2])/255"
      ],
      "execution_count": 12,
      "outputs": []
    },
    {
      "cell_type": "code",
      "metadata": {
        "id": "768wfsaqVrPV"
      },
      "source": [
        "en_train_lab = to_categorical(train_lab)\n",
        "en_test_lab = to_categorical(test_lab)"
      ],
      "execution_count": 14,
      "outputs": []
    },
    {
      "cell_type": "markdown",
      "metadata": {
        "id": "3UroXIk8T_D0"
      },
      "source": [
        "# **Network Building**"
      ]
    },
    {
      "cell_type": "code",
      "metadata": {
        "id": "QOhlI-g8nMYB"
      },
      "source": [
        "from keras.models import Sequential, load_model\n",
        "from keras.layers import Dense"
      ],
      "execution_count": 22,
      "outputs": []
    },
    {
      "cell_type": "code",
      "metadata": {
        "id": "ofAv7QxZURyQ"
      },
      "source": [
        "model = Sequential()\n",
        "model.add(Dense(64,activation='relu',input_shape=(28*28,)))\n",
        "model.add(Dense(10,activation='softmax'))"
      ],
      "execution_count": 17,
      "outputs": []
    },
    {
      "cell_type": "code",
      "metadata": {
        "id": "AzRcDha0V9WB"
      },
      "source": [
        "model.compile(optimizer='rmsprop',loss='categorical_crossentropy',metrics=['acc'])"
      ],
      "execution_count": 18,
      "outputs": []
    },
    {
      "cell_type": "code",
      "metadata": {
        "colab": {
          "base_uri": "https://localhost:8080/"
        },
        "id": "tXxKNs9kWzXH",
        "outputId": "253e6bc1-f846-4e89-c568-af5b84eef4b5"
      },
      "source": [
        "model.fit(flat_train_img,en_train_lab,epochs=5,batch_size=32,verbose=1,validation_split=0.1)"
      ],
      "execution_count": 71,
      "outputs": [
        {
          "output_type": "stream",
          "text": [
            "Epoch 1/5\n",
            "1688/1688 [==============================] - 3s 2ms/step - loss: 0.0799 - acc: 0.9768 - val_loss: 0.0972 - val_acc: 0.9728\n",
            "Epoch 2/5\n",
            "1688/1688 [==============================] - 2s 1ms/step - loss: 0.0721 - acc: 0.9791 - val_loss: 0.0951 - val_acc: 0.9737\n",
            "Epoch 3/5\n",
            "1688/1688 [==============================] - 3s 1ms/step - loss: 0.0663 - acc: 0.9820 - val_loss: 0.1013 - val_acc: 0.9732\n",
            "Epoch 4/5\n",
            "1688/1688 [==============================] - 3s 1ms/step - loss: 0.0611 - acc: 0.9830 - val_loss: 0.1079 - val_acc: 0.9725\n",
            "Epoch 5/5\n",
            "1688/1688 [==============================] - 3s 1ms/step - loss: 0.0562 - acc: 0.9845 - val_loss: 0.0964 - val_acc: 0.9747\n"
          ],
          "name": "stdout"
        },
        {
          "output_type": "execute_result",
          "data": {
            "text/plain": [
              "<tensorflow.python.keras.callbacks.History at 0x7f26758a0d50>"
            ]
          },
          "metadata": {
            "tags": []
          },
          "execution_count": 71
        }
      ]
    },
    {
      "cell_type": "code",
      "metadata": {
        "id": "ECW15awSXLTV"
      },
      "source": [
        "model.save('/content/drive/MyDrive/jupyter_notebooks/deep_learning_fc/models/model1.h5')"
      ],
      "execution_count": 72,
      "outputs": []
    },
    {
      "cell_type": "markdown",
      "metadata": {
        "id": "cga8oZWAczsQ"
      },
      "source": [
        "# **Model Evaluation**"
      ]
    },
    {
      "cell_type": "code",
      "metadata": {
        "colab": {
          "base_uri": "https://localhost:8080/"
        },
        "id": "1DL_d8zVcs5k",
        "outputId": "31be7cb5-0218-42e7-aee4-ae4b8ac6905d"
      },
      "source": [
        "dict_ = model.history.history\n",
        "dict_.keys()"
      ],
      "execution_count": 73,
      "outputs": [
        {
          "output_type": "execute_result",
          "data": {
            "text/plain": [
              "dict_keys(['loss', 'acc', 'val_loss', 'val_acc'])"
            ]
          },
          "metadata": {
            "tags": []
          },
          "execution_count": 73
        }
      ]
    },
    {
      "cell_type": "markdown",
      "metadata": {
        "id": "25GROWgzgJmn"
      },
      "source": [
        "**Training v/s Validation**"
      ]
    },
    {
      "cell_type": "code",
      "metadata": {
        "id": "m4II13YwdDGG"
      },
      "source": [
        "train_acc = dict_['acc']\n",
        "val_acc = dict_['val_acc']\n",
        "train_loss = dict_['loss']\n",
        "val_loss = dict_['val_loss']\n",
        "epochs = range(len(train_acc))"
      ],
      "execution_count": 74,
      "outputs": []
    },
    {
      "cell_type": "code",
      "metadata": {
        "colab": {
          "base_uri": "https://localhost:8080/",
          "height": 295
        },
        "id": "PuGBHKn5hTqW",
        "outputId": "fd08aedc-d1a0-428c-d8d6-4488841b370d"
      },
      "source": [
        "plt.plot(epochs,val_acc,ls='-.',color='green',label='val_acc')\n",
        "plt.plot(epochs,train_acc,ls=':',color='blue',label='train_acc')\n",
        "plt.legend()\n",
        "plt.title('Train v/s validation Accuracy')\n",
        "plt.xlabel('Epochs')\n",
        "plt.ylabel(\"Accuracy\")\n",
        "plt.show()"
      ],
      "execution_count": 75,
      "outputs": [
        {
          "output_type": "display_data",
          "data": {
            "image/png": "[encoded data removed]",
            "text/plain": [
              "<Figure size 432x288 with 1 Axes>"
            ]
          },
          "metadata": {
            "tags": [],
            "needs_background": "light"
          }
        }
      ]
    },
    {
      "cell_type": "code",
      "metadata": {
        "colab": {
          "base_uri": "https://localhost:8080/",
          "height": 295
        },
        "id": "Cqv8xVLDhaUD",
        "outputId": "7724ad98-f062-4752-b24a-79e501a81e11"
      },
      "source": [
        "plt.plot(epochs,val_loss,ls='-.',color='green',label='val_loss')\n",
        "plt.plot(epochs,train_loss,ls=':',color='blue',label='train_loss')\n",
        "plt.legend()\n",
        "plt.title('Train v/s validation Loss')\n",
        "plt.xlabel('Epochs')\n",
        "plt.ylabel(\"Loss\")\n",
        "plt.show()"
      ],
      "execution_count": 76,
      "outputs": [
        {
          "output_type": "display_data",
          "data": {
            "image/png": "[encoded data removed]",
            "text/plain": [
              "<Figure size 432x288 with 1 Axes>"
            ]
          },
          "metadata": {
            "tags": [],
            "needs_background": "light"
          }
        }
      ]
    },
    {
      "cell_type": "markdown",
      "metadata": {
        "id": "mw2t2GpcjJIb"
      },
      "source": [
        "**Results on test data**"
      ]
    },
    {
      "cell_type": "markdown",
      "metadata": {
        "id": "OE9hTwaWjl2d"
      },
      "source": [
        "**Overall loss nd accuracy**"
      ]
    },
    {
      "cell_type": "code",
      "metadata": {
        "colab": {
          "base_uri": "https://localhost:8080/"
        },
        "id": "HQQQ8MKJjFu_",
        "outputId": "be202188-ef51-49ad-d346-f8793b5aca5c"
      },
      "source": [
        "loss,acc = model.evaluate(flat_test_img,en_test_lab)"
      ],
      "execution_count": 77,
      "outputs": [
        {
          "output_type": "stream",
          "text": [
            "313/313 [==============================] - 0s 1ms/step - loss: 0.1070 - acc: 0.9734\n"
          ],
          "name": "stdout"
        }
      ]
    },
    {
      "cell_type": "code",
      "metadata": {
        "colab": {
          "base_uri": "https://localhost:8080/"
        },
        "id": "RSstCuGAjZRV",
        "outputId": "52cdd865-fda1-4fd1-da9d-4e6f6ca48bfb"
      },
      "source": [
        "print('Loss: ',loss)\n",
        "print('Acc: ',acc)"
      ],
      "execution_count": 78,
      "outputs": [
        {
          "output_type": "stream",
          "text": [
            "Loss:  0.10703728348016739\n",
            "Acc:  0.9733999967575073\n"
          ],
          "name": "stdout"
        }
      ]
    },
    {
      "cell_type": "markdown",
      "metadata": {
        "id": "DtRZlZ8Ktodq"
      },
      "source": [
        "**precision, recall and f1-score on a per-class basis**"
      ]
    },
    {
      "cell_type": "code",
      "metadata": {
        "id": "GtS7aNQuz2G3"
      },
      "source": [
        "from sklearn.metrics import classification_report, confusion_matrix, accuracy_score"
      ],
      "execution_count": 79,
      "outputs": []
    },
    {
      "cell_type": "code",
      "metadata": {
        "id": "RhxeTax0qGGB"
      },
      "source": [
        "preds = model.predict(flat_test_img)"
      ],
      "execution_count": 80,
      "outputs": []
    },
    {
      "cell_type": "code",
      "metadata": {
        "colab": {
          "base_uri": "https://localhost:8080/"
        },
        "id": "rNEK9au1umHu",
        "outputId": "c01eca00-5368-4f02-8596-1fa640c2d4b0"
      },
      "source": [
        "pred_lab = preds.argmax(axis=1)\n",
        "pred_lab.shape, en_test_lab.shape, test_lab.shape"
      ],
      "execution_count": 81,
      "outputs": [
        {
          "output_type": "execute_result",
          "data": {
            "text/plain": [
              "((10000,), (10000, 10), (10000,))"
            ]
          },
          "metadata": {
            "tags": []
          },
          "execution_count": 81
        }
      ]
    },
    {
      "cell_type": "code",
      "metadata": {
        "colab": {
          "base_uri": "https://localhost:8080/"
        },
        "id": "H9OA_fJJvtW5",
        "outputId": "01a02750-7ddb-449e-d7ba-f0455e3571d2"
      },
      "source": [
        "print(classification_report(pred_lab,test_lab))"
      ],
      "execution_count": 82,
      "outputs": [
        {
          "output_type": "stream",
          "text": [
            "              precision    recall  f1-score   support\n",
            "\n",
            "           0       0.99      0.97      0.98       995\n",
            "           1       0.99      0.99      0.99      1138\n",
            "           2       0.98      0.96      0.97      1046\n",
            "           3       0.98      0.97      0.97      1023\n",
            "           4       0.98      0.98      0.98       976\n",
            "           5       0.96      0.98      0.97       882\n",
            "           6       0.98      0.96      0.97       980\n",
            "           7       0.97      0.96      0.96      1033\n",
            "           8       0.94      0.98      0.96       933\n",
            "           9       0.96      0.98      0.97       994\n",
            "\n",
            "    accuracy                           0.97     10000\n",
            "   macro avg       0.97      0.97      0.97     10000\n",
            "weighted avg       0.97      0.97      0.97     10000\n",
            "\n"
          ],
          "name": "stdout"
        }
      ]
    },
    {
      "cell_type": "code",
      "metadata": {
        "colab": {
          "base_uri": "https://localhost:8080/"
        },
        "id": "8kN_PeZI0ru5",
        "outputId": "ef395092-0096-47fc-c65d-17faec912ae0"
      },
      "source": [
        "accuracy_score(pred_lab,test_lab) #same as we got usinh model.evaluate"
      ],
      "execution_count": 83,
      "outputs": [
        {
          "output_type": "execute_result",
          "data": {
            "text/plain": [
              "0.9734"
            ]
          },
          "metadata": {
            "tags": []
          },
          "execution_count": 83
        }
      ]
    },
    {
      "cell_type": "code",
      "metadata": {
        "id": "aJDfYc-z0z4w"
      },
      "source": [
        ""
      ],
      "execution_count": null,
      "outputs": []
    }
  ]
}