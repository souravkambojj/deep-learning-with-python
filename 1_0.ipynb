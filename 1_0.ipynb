{
  "nbformat": 4,
  "nbformat_minor": 0,
  "metadata": {
    "colab": {
      "name": "1.0.ipynb",
      "provenance": [],
      "collapsed_sections": []
    },
    "kernelspec": {
      "name": "python3",
      "display_name": "Python 3"
    },
    "language_info": {
      "name": "python"
    }
  },
  "cells": [
    {
      "cell_type": "markdown",
      "metadata": {
        "id": "lqPYBl1f4bZM"
      },
      "source": [
        "# **Classify Handwritten digits: Multiclass Classification Problem**"
      ]
    },
    {
      "cell_type": "markdown",
      "metadata": {
        "id": "wYrM6lv6n3yC"
      },
      "source": [
        "## **Mnist-data**"
      ]
    },
    {
      "cell_type": "code",
      "metadata": {
        "id": "kyvzg_LqmEk4"
      },
      "source": [
        "import numpy as np\n",
        "import matplotlib.pyplot as plt\n",
        "from keras.datasets import mnist"
      ],
      "execution_count": 2,
      "outputs": []
    },
    {
      "cell_type": "code",
      "metadata": {
        "colab": {
          "base_uri": "https://localhost:8080/"
        },
        "id": "0wWXS2SLmNot",
        "outputId": "41bbe1fa-47ad-49db-f924-6e51d05752f5"
      },
      "source": [
        "(train_img,train_lab),(test_img,test_lab) = mnist.load_data()"
      ],
      "execution_count": 3,
      "outputs": [
        {
          "output_type": "stream",
          "text": [
            "Downloading data from https://storage.googleapis.com/tensorflow/tf-keras-datasets/mnist.npz\n",
            "11493376/11490434 [==============================] - 0s 0us/step\n"
          ],
          "name": "stdout"
        }
      ]
    },
    {
      "cell_type": "code",
      "metadata": {
        "colab": {
          "base_uri": "https://localhost:8080/"
        },
        "id": "X7jk9FKbmf10",
        "outputId": "d9dcc117-63d3-4507-cbd8-4628a5ad1181"
      },
      "source": [
        "train_img.shape,train_lab.shape,test_img.shape,test_lab.shape"
      ],
      "execution_count": 4,
      "outputs": [
        {
          "output_type": "execute_result",
          "data": {
            "text/plain": [
              "((60000, 28, 28), (60000,), (10000, 28, 28), (10000,))"
            ]
          },
          "metadata": {
            "tags": []
          },
          "execution_count": 4
        }
      ]
    },
    {
      "cell_type": "code",
      "metadata": {
        "colab": {
          "base_uri": "https://localhost:8080/",
          "height": 282
        },
        "id": "Ok4V__x6mrlh",
        "outputId": "7939f873-2e1e-4c8c-9a26-123dd3344519"
      },
      "source": [
        "plt.figure(figsize=(6,4))\n",
        "plt.imshow(train_img[9],cmap='gray')"
      ],
      "execution_count": 5,
      "outputs": [
        {
          "output_type": "execute_result",
          "data": {
            "text/plain": [
              "<matplotlib.image.AxesImage at 0x7fcab2d88b90>"
            ]
          },
          "metadata": {
            "tags": []
          },
          "execution_count": 5
        },
        {
          "output_type": "display_data",
          "data": {
            "image/png": "[encoded data removed]",
            "text/plain": [
              "<Figure size 432x288 with 1 Axes>"
            ]
          },
          "metadata": {
            "tags": [],
            "needs_background": "light"
          }
        }
      ]
    },
    {
      "cell_type": "code",
      "metadata": {
        "colab": {
          "base_uri": "https://localhost:8080/"
        },
        "id": "L9n2KGHAnEiT",
        "outputId": "56a65a50-f86f-42ef-c027-34728472e63c"
      },
      "source": [
        "train_lab[9]"
      ],
      "execution_count": 6,
      "outputs": [
        {
          "output_type": "execute_result",
          "data": {
            "text/plain": [
              "4"
            ]
          },
          "metadata": {
            "tags": []
          },
          "execution_count": 6
        }
      ]
    },
    {
      "cell_type": "markdown",
      "metadata": {
        "id": "D7EqRUYmUWd_"
      },
      "source": [
        "## **Preparing Data**"
      ]
    },
    {
      "cell_type": "code",
      "metadata": {
        "id": "1XTwH8MLVlaq"
      },
      "source": [
        "from keras.utils import to_categorical"
      ],
      "execution_count": 7,
      "outputs": []
    },
    {
      "cell_type": "code",
      "metadata": {
        "id": "m1-IE_MsUbcA"
      },
      "source": [
        "flat_train_img = train_img.reshape(-1,train_img.shape[1]*train_img.shape[2])/255\n",
        "flat_test_img = test_img.reshape(-1,test_img.shape[1]*test_img.shape[2])/255"
      ],
      "execution_count": 8,
      "outputs": []
    },
    {
      "cell_type": "code",
      "metadata": {
        "id": "768wfsaqVrPV"
      },
      "source": [
        "en_train_lab = to_categorical(train_lab)\n",
        "en_test_lab = to_categorical(test_lab)"
      ],
      "execution_count": 9,
      "outputs": []
    },
    {
      "cell_type": "markdown",
      "metadata": {
        "id": "3UroXIk8T_D0"
      },
      "source": [
        "# **Network Building**"
      ]
    },
    {
      "cell_type": "code",
      "metadata": {
        "id": "QOhlI-g8nMYB"
      },
      "source": [
        "from keras.models import Sequential, load_model\n",
        "from keras.layers import Dense"
      ],
      "execution_count": 10,
      "outputs": []
    },
    {
      "cell_type": "code",
      "metadata": {
        "id": "ofAv7QxZURyQ"
      },
      "source": [
        "model = Sequential()\n",
        "model.add(Dense(64,activation='relu',input_shape=(28*28,)))\n",
        "model.add(Dense(10,activation='softmax'))"
      ],
      "execution_count": 11,
      "outputs": []
    },
    {
      "cell_type": "code",
      "metadata": {
        "id": "AzRcDha0V9WB"
      },
      "source": [
        "model.compile(optimizer='rmsprop',loss='categorical_crossentropy',metrics=['acc'])"
      ],
      "execution_count": 12,
      "outputs": []
    },
    {
      "cell_type": "code",
      "metadata": {
        "colab": {
          "base_uri": "https://localhost:8080/"
        },
        "id": "tXxKNs9kWzXH",
        "outputId": "0dccd8bc-c15e-4918-dd36-a378956e97af"
      },
      "source": [
        "model.fit(flat_train_img,en_train_lab,epochs=5,batch_size=32,verbose=1,validation_split=0.1)"
      ],
      "execution_count": 13,
      "outputs": [
        {
          "output_type": "stream",
          "text": [
            "Epoch 1/5\n",
            "1688/1688 [==============================] - 4s 2ms/step - loss: 0.5193 - acc: 0.8497 - val_loss: 0.1463 - val_acc: 0.9582\n",
            "Epoch 2/5\n",
            "1688/1688 [==============================] - 3s 2ms/step - loss: 0.1730 - acc: 0.9498 - val_loss: 0.1184 - val_acc: 0.9665\n",
            "Epoch 3/5\n",
            "1688/1688 [==============================] - 3s 2ms/step - loss: 0.1239 - acc: 0.9645 - val_loss: 0.1066 - val_acc: 0.9693\n",
            "Epoch 4/5\n",
            "1688/1688 [==============================] - 3s 2ms/step - loss: 0.1026 - acc: 0.9699 - val_loss: 0.1016 - val_acc: 0.9745\n",
            "Epoch 5/5\n",
            "1688/1688 [==============================] - 3s 2ms/step - loss: 0.0895 - acc: 0.9745 - val_loss: 0.0991 - val_acc: 0.9753\n"
          ],
          "name": "stdout"
        },
        {
          "output_type": "execute_result",
          "data": {
            "text/plain": [
              "<tensorflow.python.keras.callbacks.History at 0x7fcaba193e10>"
            ]
          },
          "metadata": {
            "tags": []
          },
          "execution_count": 13
        }
      ]
    },
    {
      "cell_type": "code",
      "metadata": {
        "id": "ECW15awSXLTV"
      },
      "source": [
        "model.save('/content/drive/MyDrive/jupyter_notebooks/deep_learning_fc/models/model1.h5')"
      ],
      "execution_count": 14,
      "outputs": []
    },
    {
      "cell_type": "markdown",
      "metadata": {
        "id": "cga8oZWAczsQ"
      },
      "source": [
        "# **Model Evaluation**"
      ]
    },
    {
      "cell_type": "code",
      "metadata": {
        "colab": {
          "base_uri": "https://localhost:8080/"
        },
        "id": "1DL_d8zVcs5k",
        "outputId": "04603267-57d9-4aca-dadf-d5e8834c0bff"
      },
      "source": [
        "dict_ = model.history.history\n",
        "dict_.keys()"
      ],
      "execution_count": 15,
      "outputs": [
        {
          "output_type": "execute_result",
          "data": {
            "text/plain": [
              "dict_keys(['loss', 'acc', 'val_loss', 'val_acc'])"
            ]
          },
          "metadata": {
            "tags": []
          },
          "execution_count": 15
        }
      ]
    },
    {
      "cell_type": "code",
      "metadata": {
        "id": "m4II13YwdDGG"
      },
      "source": [
        "train_acc = dict_['acc']\n",
        "val_acc = dict_['val_acc']\n",
        "train_loss = dict_['loss']\n",
        "val_loss = dict_['val_loss']\n",
        "epochs = range(1,len(train_acc)+1)"
      ],
      "execution_count": 16,
      "outputs": []
    },
    {
      "cell_type": "markdown",
      "metadata": {
        "id": "25GROWgzgJmn"
      },
      "source": [
        "**Training v/s Validation**"
      ]
    },
    {
      "cell_type": "code",
      "metadata": {
        "colab": {
          "base_uri": "https://localhost:8080/",
          "height": 295
        },
        "id": "PuGBHKn5hTqW",
        "outputId": "b98bdd6e-fac9-4a67-df20-eca7990ee513"
      },
      "source": [
        "plt.plot(epochs,val_acc,ls='-.',color='green',label='val_acc')\n",
        "plt.plot(epochs,train_acc,ls=':',color='blue',label='train_acc')\n",
        "plt.legend()\n",
        "plt.title('Train v/s validation Accuracy')\n",
        "plt.xlabel('Epochs')\n",
        "plt.ylabel(\"Accuracy\")\n",
        "plt.show()"
      ],
      "execution_count": 17,
      "outputs": [
        {
          "output_type": "display_data",
          "data": {
            "image/png": "[encoded data removed]",
            "text/plain": [
              "<Figure size 432x288 with 1 Axes>"
            ]
          },
          "metadata": {
            "tags": [],
            "needs_background": "light"
          }
        }
      ]
    },
    {
      "cell_type": "code",
      "metadata": {
        "colab": {
          "base_uri": "https://localhost:8080/",
          "height": 295
        },
        "id": "Cqv8xVLDhaUD",
        "outputId": "9a5d2140-083b-4d53-c98a-6b02b662c90a"
      },
      "source": [
        "plt.plot(epochs,val_loss,ls='-.',color='green',label='val_loss')\n",
        "plt.plot(epochs,train_loss,ls=':',color='blue',label='train_loss')\n",
        "plt.legend()\n",
        "plt.title('Train v/s validation Loss')\n",
        "plt.xlabel('Epochs')\n",
        "plt.ylabel(\"Loss\")\n",
        "plt.show()"
      ],
      "execution_count": 18,
      "outputs": [
        {
          "output_type": "display_data",
          "data": {
            "image/png": "[encoded data removed]",
            "text/plain": [
              "<Figure size 432x288 with 1 Axes>"
            ]
          },
          "metadata": {
            "tags": [],
            "needs_background": "light"
          }
        }
      ]
    },
    {
      "cell_type": "markdown",
      "metadata": {
        "id": "mw2t2GpcjJIb"
      },
      "source": [
        "**Results on test data**"
      ]
    },
    {
      "cell_type": "markdown",
      "metadata": {
        "id": "OE9hTwaWjl2d"
      },
      "source": [
        "**Overall loss nd accuracy**"
      ]
    },
    {
      "cell_type": "code",
      "metadata": {
        "colab": {
          "base_uri": "https://localhost:8080/"
        },
        "id": "HQQQ8MKJjFu_",
        "outputId": "52ba03d5-9c37-4154-8bc1-1acce82a534b"
      },
      "source": [
        "loss,acc = model.evaluate(flat_test_img,en_test_lab)"
      ],
      "execution_count": 19,
      "outputs": [
        {
          "output_type": "stream",
          "text": [
            "313/313 [==============================] - 0s 1ms/step - loss: 0.1048 - acc: 0.9718\n"
          ],
          "name": "stdout"
        }
      ]
    },
    {
      "cell_type": "code",
      "metadata": {
        "colab": {
          "base_uri": "https://localhost:8080/"
        },
        "id": "RSstCuGAjZRV",
        "outputId": "0f148bf3-c767-4fb5-faa1-19e0f19e0526"
      },
      "source": [
        "print('Loss: ',loss)\n",
        "print('Acc: ',acc)"
      ],
      "execution_count": 20,
      "outputs": [
        {
          "output_type": "stream",
          "text": [
            "Loss:  0.10480837523937225\n",
            "Acc:  0.9718000292778015\n"
          ],
          "name": "stdout"
        }
      ]
    },
    {
      "cell_type": "markdown",
      "metadata": {
        "id": "DtRZlZ8Ktodq"
      },
      "source": [
        "**precision, recall and f1-score on a per-class basis**"
      ]
    },
    {
      "cell_type": "code",
      "metadata": {
        "id": "GtS7aNQuz2G3"
      },
      "source": [
        "from sklearn.metrics import classification_report, confusion_matrix, accuracy_score"
      ],
      "execution_count": 21,
      "outputs": []
    },
    {
      "cell_type": "code",
      "metadata": {
        "id": "RhxeTax0qGGB"
      },
      "source": [
        "preds = model.predict(flat_test_img)"
      ],
      "execution_count": 22,
      "outputs": []
    },
    {
      "cell_type": "code",
      "metadata": {
        "colab": {
          "base_uri": "https://localhost:8080/"
        },
        "id": "rNEK9au1umHu",
        "outputId": "f555d2fb-8cc7-4a5b-a4b0-aa8bb77e74b0"
      },
      "source": [
        "pred_lab = preds.argmax(axis=1)\n",
        "pred_lab.shape, en_test_lab.shape, test_lab.shape"
      ],
      "execution_count": 23,
      "outputs": [
        {
          "output_type": "execute_result",
          "data": {
            "text/plain": [
              "((10000,), (10000, 10), (10000,))"
            ]
          },
          "metadata": {
            "tags": []
          },
          "execution_count": 23
        }
      ]
    },
    {
      "cell_type": "code",
      "metadata": {
        "colab": {
          "base_uri": "https://localhost:8080/"
        },
        "id": "H9OA_fJJvtW5",
        "outputId": "366fff30-1cc9-42b9-a7a5-a2314ef55c28"
      },
      "source": [
        "print(classification_report(pred_lab,test_lab))"
      ],
      "execution_count": 24,
      "outputs": [
        {
          "output_type": "stream",
          "text": [
            "              precision    recall  f1-score   support\n",
            "\n",
            "           0       0.99      0.97      0.98       994\n",
            "           1       0.99      0.98      0.99      1142\n",
            "           2       0.98      0.96      0.97      1048\n",
            "           3       0.97      0.97      0.97      1014\n",
            "           4       0.97      0.98      0.97       973\n",
            "           5       0.96      0.97      0.97       880\n",
            "           6       0.98      0.97      0.97       973\n",
            "           7       0.97      0.97      0.97      1034\n",
            "           8       0.95      0.97      0.96       954\n",
            "           9       0.96      0.98      0.97       988\n",
            "\n",
            "    accuracy                           0.97     10000\n",
            "   macro avg       0.97      0.97      0.97     10000\n",
            "weighted avg       0.97      0.97      0.97     10000\n",
            "\n"
          ],
          "name": "stdout"
        }
      ]
    },
    {
      "cell_type": "code",
      "metadata": {
        "colab": {
          "base_uri": "https://localhost:8080/"
        },
        "id": "8kN_PeZI0ru5",
        "outputId": "883a11d5-ed85-44cc-ce67-e81ef684238e"
      },
      "source": [
        "accuracy_score(pred_lab,test_lab) #same as we got usinh model.evaluate"
      ],
      "execution_count": 25,
      "outputs": [
        {
          "output_type": "execute_result",
          "data": {
            "text/plain": [
              "0.9718"
            ]
          },
          "metadata": {
            "tags": []
          },
          "execution_count": 25
        }
      ]
    },
    {
      "cell_type": "code",
      "metadata": {
        "id": "aJDfYc-z0z4w"
      },
      "source": [
        ""
      ],
      "execution_count": null,
      "outputs": []
    }
  ]
}